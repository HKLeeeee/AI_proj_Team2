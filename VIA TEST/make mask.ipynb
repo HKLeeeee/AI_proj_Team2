{
 "cells": [
  {
   "cell_type": "markdown",
   "source": [
    "### before\n",
    "├── images\n",
    "│   └── test_image.png\n",
    "│   └── test_image2.png\n",
    "├── maskGen_json.json\n",
    "└── maskGen.py\n",
    "\n",
    "### after\n",
    "├── images\n",
    "│   └── test_image.png\n",
    "│   └── test_image2.png\n",
    "├── masks\n",
    "│   └── test_image\n",
    "│         └── test_image-1.png\n",
    "│         └── test_image-2.png\n",
    "│   └── test_image2\n",
    "│         └── test_image2-1.png\n",
    "│         └── test_image2-2.png\n",
    "├── maskGen_json.json\n",
    "└── maskGen.py"
   ],
   "metadata": {
    "collapsed": false
   }
  },
  {
   "cell_type": "code",
   "execution_count": 61,
   "metadata": {
    "collapsed": true
   },
   "outputs": [],
   "source": [
    "import os\n",
    "import cv2\n",
    "import json\n",
    "import matplotlib.pyplot as plt\n",
    "import numpy as np\n",
    "\n",
    "def create_seperate_mask_img(json_file_name) :\n",
    "    # 현재 디렉토리에서 가능!\n",
    "    # 위의 before 구조에 맞게 저장되어있어야함.\n",
    "    ## 구조는 마크다운 셀 더블클릭해야 제대로 보임\n",
    "    source_folder = os.path.join(os.getcwd(), \"train_images\")\n",
    "    json_path = json_file_name                     # Relative to root directory\n",
    "    count = 0                                           # Count of total images saved\n",
    "    file_bbs = {}                                       # Dictionary containing polygon coordinates for mask\n",
    "    file_names_dict = {}\n",
    "    file_names = []\n",
    "    # Read JSON file\n",
    "    with open(json_path) as f:\n",
    "      data = json.load(f)\n",
    "\n",
    "    # Extract X and Y coordinates if available and update dictionary\n",
    "    # json 딕셔너리에서 x, y 좌표 추출\n",
    "    def add_to_dict(data, itr, key, count, file_name):\n",
    "        # data : json, itr : 이미지 이름, key : mask 이름, count : mask index\n",
    "        try:\n",
    "            x_points = data[itr][\"regions\"][str(count)][\"shape_attributes\"][\"all_points_x\"]\n",
    "            y_points = data[itr][\"regions\"][str(count)][\"shape_attributes\"][\"all_points_y\"]\n",
    "        except:\n",
    "            print(\"No BB. Skipping\", key)\n",
    "            return\n",
    "\n",
    "        all_points = []\n",
    "        for i, x in enumerate(x_points):\n",
    "            all_points.append([x, y_points[i]])\n",
    "\n",
    "        file_bbs[key] = all_points\n",
    "        file_names_dict[key] = file_name\n",
    "        # file_bbs = {image이름-mask이름 : [x points, y points]}\n",
    "\n",
    "    ## Json 파일에서 x,y points를 뽑아 file_bbs 에 저장.\n",
    "    for itr in data:\n",
    "        file_name_json = data[itr][\"filename\"]\n",
    "        file_names.append(file_name_json)\n",
    "        sub_count = 0\n",
    "        # Contains count of masks for a single ground truth image\n",
    "\n",
    "        if len(data[itr][\"regions\"]) > 1: # 마스크의 개수가 여러개\n",
    "            for _ in range(len(data[itr][\"regions\"])):\n",
    "                key = file_name_json[:-4] + \"-\" + str(sub_count+1)\n",
    "                add_to_dict(data, itr, key, sub_count, file_name_json)\n",
    "                sub_count += 1\n",
    "        else: # 마스크 개수가 1개\n",
    "            add_to_dict(data, itr, file_name_json[:-4], 0, file_name_json)\n",
    "\n",
    "    print(\"\\nDict size: \", len(file_bbs))\n",
    "\n",
    "    ########## 경로 생성\n",
    "    mask_folder = os.path.join(os.getcwd(), \"masks\")\n",
    "    try :\n",
    "        os.mkdir(mask_folder)\n",
    "    except :\n",
    "        print('mask folder already exist')\n",
    "    for f in file_names :\n",
    "        try :\n",
    "            os.mkdir(os.path.join(mask_folder, f[:-4]))\n",
    "        except :\n",
    "            print('folder already exist')\n",
    "\n",
    "    ######### 마스크 저장\n",
    "    for itr in file_bbs:\n",
    "        num_masks = itr.split(\"-\")\n",
    "        save_directory = os.path.join(mask_folder, file_names_dict[itr][:-4])\n",
    "         # Dimensions should match those of ground truth image\n",
    "        img = cv2.imread(source_folder+'/'+file_names_dict[itr])\n",
    "        MASK_WIDTH = img.shape[0]\n",
    "        MASK_HEIGHT =  img.shape[1]\n",
    "        mask = np.zeros((MASK_WIDTH, MASK_HEIGHT))\n",
    "        try:\n",
    "            arr = np.array(file_bbs[itr])\n",
    "        except:\n",
    "            print(\"Not found:\", itr)\n",
    "            continue\n",
    "        count += 1\n",
    "\n",
    "        cv2.fillPoly(mask, [arr], color=(255))\n",
    "\n",
    "        if len(num_masks) > 1:\n",
    "            cv2.imwrite(os.path.join(save_directory, itr + \".png\") , mask)\n",
    "        else:\n",
    "            cv2.imwrite(os.path.join(save_directory, itr + \".png\") , mask)\n",
    "\n",
    "    print(\"Images saved:\", count)"
   ]
  },
  {
   "cell_type": "code",
   "execution_count": 17,
   "outputs": [],
   "source": [
    "# 마스크들 하나로 합치기\n",
    "import os\n",
    "import cv2\n",
    "import json\n",
    "import matplotlib.pyplot as plt\n",
    "import numpy as np\n",
    "import shutil\n",
    "\n",
    "def merge_masks() :\n",
    "    # 현재 경로에서 실행\n",
    "    source_folder = os.path.join(os.getcwd(), \"masks\")\n",
    "    mask_folder_list = os.listdir(source_folder)\n",
    "\n",
    "    for case in mask_folder_list :\n",
    "        curr_directory = os.path.join(source_folder, case)\n",
    "        mask = None\n",
    "        try :\n",
    "            for i, img in enumerate(os.listdir(curr_directory)) :\n",
    "                img_directory = os.path.join(curr_directory, img)\n",
    "                if i == 0 :\n",
    "                    mask = plt.imread(img_directory)\n",
    "                else :\n",
    "                    other_mask = plt.imread(img_directory)\n",
    "                    mask = np.logical_or(mask, other_mask)\n",
    "            plt.imsave(os.path.join(source_folder, case+'-mask.png'), mask)\n",
    "            print('Image Saved')\n",
    "            if os.path.exists(curr_directory):\n",
    "                shutil.rmtree(curr_directory)\n",
    "        except :\n",
    "            print('Mask Image Not Found')"
   ],
   "metadata": {
    "collapsed": false,
    "pycharm": {
     "name": "#%%\n"
    }
   }
  },
  {
   "cell_type": "code",
   "execution_count": 62,
   "outputs": [
    {
     "name": "stdout",
     "output_type": "stream",
     "text": [
      "No BB. Skipping CASE14_01-1\n",
      "No BB. Skipping CASE14_01-2\n",
      "No BB. Skipping CASE14_01-3\n",
      "No BB. Skipping CASE14_01-4\n",
      "No BB. Skipping CASE14_01-5\n",
      "\n",
      "Dict size:  6\n",
      "Images saved: 6\n"
     ]
    }
   ],
   "source": [
    "create_seperate_mask_img('via_region_data.json')"
   ],
   "metadata": {
    "collapsed": false,
    "pycharm": {
     "name": "#%%\n"
    }
   }
  },
  {
   "cell_type": "code",
   "execution_count": 18,
   "outputs": [
    {
     "name": "stdout",
     "output_type": "stream",
     "text": [
      "Image Saved\n",
      "Mask Image Not Found\n",
      "Image Saved\n",
      "Mask Image Not Found\n",
      "Mask Image Not Found\n"
     ]
    }
   ],
   "source": [
    "merge_masks()"
   ],
   "metadata": {
    "collapsed": false,
    "pycharm": {
     "name": "#%%\n"
    }
   }
  },
  {
   "cell_type": "code",
   "execution_count": null,
   "outputs": [],
   "source": [],
   "metadata": {
    "collapsed": false,
    "pycharm": {
     "name": "#%%\n"
    }
   }
  }
 ],
 "metadata": {
  "kernelspec": {
   "display_name": "Python 3",
   "language": "python",
   "name": "python3"
  },
  "language_info": {
   "codemirror_mode": {
    "name": "ipython",
    "version": 2
   },
   "file_extension": ".py",
   "mimetype": "text/x-python",
   "name": "python",
   "nbconvert_exporter": "python",
   "pygments_lexer": "ipython2",
   "version": "2.7.6"
  }
 },
 "nbformat": 4,
 "nbformat_minor": 0
}
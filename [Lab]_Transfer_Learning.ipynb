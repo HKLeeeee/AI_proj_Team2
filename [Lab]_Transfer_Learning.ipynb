{
  "cells": [
    {
      "cell_type": "markdown",
      "metadata": {
        "id": "view-in-github",
        "colab_type": "text"
      },
      "source": [
        "<a href=\"https://colab.research.google.com/github/HKLeeeee/AI_proj_Team2/blob/main/%5BLab%5D_Transfer_Learning.ipynb\" target=\"_parent\"><img src=\"https://colab.research.google.com/assets/colab-badge.svg\" alt=\"Open In Colab\"/></a>"
      ]
    },
    {
      "cell_type": "markdown",
      "source": [
        "# Prepare"
      ],
      "metadata": {
        "id": "ZA-UMjE3ZQat"
      }
    },
    {
      "cell_type": "code",
      "execution_count": null,
      "metadata": {
        "id": "ywgPoXqez8kf"
      },
      "outputs": [],
      "source": [
        "import os \n",
        "import numpy as np\n",
        "import pandas as pd\n",
        "import matplotlib.pyplot as plt\n",
        "from glob import glob\n",
        "from tqdm.auto import tqdm\n",
        "import cv2\n",
        "\n",
        "# from tensorflow.keras.applications import Densnet\n",
        "import tensorflow as tf\n",
        "from tensorflow.keras.models import Sequential, Model\n",
        "from tensorflow.keras.layers import Flatten, Dense, Dropout, GlobalAveragePooling2D, Input\n",
        "import tensorflow.keras as keras\n",
        "from tensorflow.data import Dataset\n",
        "\n",
        "from tensorflow.keras.optimizers import Adam, RMSprop, SGD\n",
        "from tensorflow.keras.callbacks import ModelCheckpoint, EarlyStopping"
      ]
    },
    {
      "cell_type": "code",
      "source": [
        "from tensorflow.keras.applications import *"
      ],
      "metadata": {
        "id": "S2BK-0SKoPE-"
      },
      "execution_count": null,
      "outputs": []
    },
    {
      "cell_type": "code",
      "execution_count": null,
      "metadata": {
        "colab": {
          "base_uri": "https://localhost:8080/"
        },
        "id": "D0VkwNeM1dMn",
        "outputId": "08831f31-23e3-4bc8-d379-ebc0dac1d9d0"
      },
      "outputs": [
        {
          "output_type": "stream",
          "name": "stdout",
          "text": [
            "Mounted at /content/drive\n"
          ]
        }
      ],
      "source": [
        "from google.colab import drive\n",
        "drive.mount('/content/drive')"
      ]
    },
    {
      "cell_type": "markdown",
      "source": [
        "# Functions"
      ],
      "metadata": {
        "id": "RUyYPWZgZMWc"
      }
    },
    {
      "cell_type": "code",
      "execution_count": null,
      "metadata": {
        "id": "_riHunWZx35Y"
      },
      "outputs": [],
      "source": [
        "def get_train_data(data_dir):\n",
        "    img_path_list = []\n",
        "    label_list = []\n",
        "    for case_name in os.listdir(data_dir):\n",
        "        current_path = os.path.join(data_dir, case_name)\n",
        "        if os.path.isdir(current_path):\n",
        "            # get image path\n",
        "            img_path_list.extend(glob(os.path.join(current_path, 'image', '*.jpg')))\n",
        "            img_path_list.extend(glob(os.path.join(current_path, 'image', '*.png')))\n",
        "            \n",
        "            # get label\n",
        "            label_df = pd.read_csv(current_path+'/label.csv')\n",
        "            label_list.extend(label_df['leaf_weight'])\n",
        "                \n",
        "    return img_path_list, label_list\n",
        "\n",
        "def get_test_data(data_dir):\n",
        "    # get image path\n",
        "    img_path_list = glob(os.path.join(data_dir, 'image', '*.jpg'))\n",
        "    img_path_list.extend(glob(os.path.join(data_dir, 'image', '*.png')))\n",
        "    img_path_list.sort(key=lambda x:int(x.split('/')[-1].split('.')[0]))\n",
        "    return img_path_list"
      ]
    },
    {
      "cell_type": "code",
      "execution_count": null,
      "metadata": {
        "id": "YvVuBY6g0o6D"
      },
      "outputs": [],
      "source": [
        "def load_img_numpy(img_dir, target_size) :\n",
        "    img = cv2.imread(img_dir)\n",
        "    img = cv2.resize(img, dsize=target_size)\n",
        "    img = img.astype(np.float32) / 255.0 # normalize \n",
        "    return img"
      ]
    },
    {
      "cell_type": "code",
      "execution_count": null,
      "metadata": {
        "id": "J_IifmSiztPB"
      },
      "outputs": [],
      "source": [
        "def create_dataset(img_dir, label, target_size, batch_size=None) :    \n",
        "    img = [] # 원본이미지\n",
        "    \n",
        "    ## 최적화가 필요한 부분\n",
        "    for i in img_dir:\n",
        "        image = load_img_numpy(i, target_size)\n",
        "        img.append(image)\n",
        "        \n",
        "    x = Dataset.from_tensor_slices(img)\n",
        "    y = Dataset.from_tensor_slices(label)\n",
        "    dataset = Dataset.zip((x, y))\n",
        "    \n",
        "    if batch_size is not None:\n",
        "        dataset = dataset.batch(batch_size, drop_remainder=True).repeat()\n",
        "   \n",
        "    return dataset"
      ]
    },
    {
      "cell_type": "code",
      "source": [
        "def load_test_img_numpy(img_dir, target_size) :\n",
        "    img = cv2.imread(img_dir)\n",
        "    img = cv2.resize(img, dsize=target_size)\n",
        "    img = img.astype(np.float32) / 255.0\n",
        "    return img\n",
        "\n",
        "def create_test_dataset(img_dir, target_size, batch_size=None) :\n",
        "    file_name = [x.split('/')[-1][:-4] for x in img_dir]\n",
        "    x_img = []\n",
        "\n",
        "    for i in tqdm(img_dir,\n",
        "                total=len(img_dir),\n",
        "                position=0,\n",
        "                leave=True):\n",
        "        img = load_test_img_numpy(i, target_size)\n",
        "        x_img.append(img)\n",
        "\n",
        "    dataset = Dataset.from_tensor_slices(x_img)\n",
        "    \n",
        "    if batch_size is not None :\n",
        "        dataset = dataset.batch(batch_size, drop_remainder=True).repeat()\n",
        "       \n",
        "    return dataset, file_name"
      ],
      "metadata": {
        "id": "TxVyfiCqjwEW"
      },
      "execution_count": null,
      "outputs": []
    },
    {
      "cell_type": "markdown",
      "source": [
        "# Load Data Set"
      ],
      "metadata": {
        "id": "-dppQBFMwvQj"
      }
    },
    {
      "cell_type": "code",
      "execution_count": null,
      "metadata": {
        "id": "cO1ZpGUGyJ3R"
      },
      "outputs": [],
      "source": [
        "IMAGE_SIZE = 256\n",
        "BATCH_SIZE = 8\n",
        "\n",
        "all_img_path, all_label = get_train_data('/content/drive/MyDrive/AI_proj/data/train')\n",
        "test_img_path = get_test_data('/content/drive/MyDrive/AI_proj/data/test')"
      ]
    },
    {
      "cell_type": "code",
      "execution_count": null,
      "metadata": {
        "id": "3jnHF8H2zMlf"
      },
      "outputs": [],
      "source": [
        "# Train : Validation = 0.8 : 0.2 Split\n",
        "train_len = int(len(all_img_path)*0.8)\n",
        "\n",
        "train_img_path = all_img_path[:train_len]\n",
        "train_label = all_label[:train_len]\n",
        "\n",
        "vali_img_path = all_img_path[train_len:]\n",
        "vali_label = all_label[train_len:]"
      ]
    },
    {
      "cell_type": "code",
      "execution_count": null,
      "metadata": {
        "id": "ht9QqLsJ0bG2"
      },
      "outputs": [],
      "source": [
        "train_dataset = create_dataset(train_img_path, train_label, (IMAGE_SIZE, IMAGE_SIZE), BATCH_SIZE)\n",
        "valid_dataset = create_dataset(vali_img_path, vali_label, (IMAGE_SIZE, IMAGE_SIZE), BATCH_SIZE )"
      ]
    },
    {
      "cell_type": "code",
      "execution_count": null,
      "metadata": {
        "colab": {
          "base_uri": "https://localhost:8080/"
        },
        "id": "n-og-9kx11Bh",
        "outputId": "58afa6eb-73a5-4492-ffc3-979c50b9ea43"
      },
      "outputs": [
        {
          "output_type": "execute_result",
          "data": {
            "text/plain": [
              "<RepeatDataset element_spec=(TensorSpec(shape=(8, 256, 256, 3), dtype=tf.float32, name=None), TensorSpec(shape=(8,), dtype=tf.float32, name=None))>"
            ]
          },
          "metadata": {},
          "execution_count": 12
        }
      ],
      "source": [
        "train_dataset"
      ]
    },
    {
      "cell_type": "code",
      "execution_count": null,
      "metadata": {
        "colab": {
          "base_uri": "https://localhost:8080/"
        },
        "id": "Grm_U7z312tE",
        "outputId": "f19b8c7e-893f-43d4-9833-1a67958d662f"
      },
      "outputs": [
        {
          "output_type": "execute_result",
          "data": {
            "text/plain": [
              "<RepeatDataset element_spec=(TensorSpec(shape=(8, 256, 256, 3), dtype=tf.float32, name=None), TensorSpec(shape=(8,), dtype=tf.float32, name=None))>"
            ]
          },
          "metadata": {},
          "execution_count": 13
        }
      ],
      "source": [
        "valid_dataset"
      ]
    },
    {
      "cell_type": "markdown",
      "metadata": {
        "id": "DZCkQmwu14YU"
      },
      "source": [
        "# ResNet50 Model : epoch 30, learning rate 1e-4, augmentation, no dropout"
      ]
    },
    {
      "cell_type": "markdown",
      "source": [
        "## Optimizer : Adam"
      ],
      "metadata": {
        "id": "jqx5h4Mox_fl"
      }
    },
    {
      "cell_type": "code",
      "execution_count": null,
      "metadata": {
        "id": "lmrxzqVGtj3M"
      },
      "outputs": [],
      "source": [
        "base_model = resnet50.ResNet50(\n",
        "    weights='imagenet',\n",
        "    include_top = False,\n",
        "    input_shape = (MODEL_IMAGE_SIZE, MODEL_IMAGE_SIZE,3)\n",
        ")"
      ]
    },
    {
      "cell_type": "code",
      "source": [
        "MODEL_IMAGE_SIZE = 224\n",
        "input_data_s = Input((IMAGE_SIZE, IMAGE_SIZE, 3))\n",
        "x = tf.keras.layers.experimental.preprocessing.Resizing(MODEL_IMAGE_SIZE, MODEL_IMAGE_SIZE)(input_data_s)\n",
        "x = tf.keras.layers.experimental.preprocessing.RandomFlip('horizontal_and_vertical')(x)\n",
        "output_data_s = tf.keras.layers.experimental.preprocessing.RandomRotation(0.2)(x)\n",
        "augmentation = Model(inputs=input_data_s, outputs=output_data_s)"
      ],
      "metadata": {
        "id": "zBdmzaIgqypM"
      },
      "execution_count": null,
      "outputs": []
    },
    {
      "cell_type": "code",
      "execution_count": null,
      "metadata": {
        "id": "RtrTG2Cs1LrI",
        "colab": {
          "base_uri": "https://localhost:8080/"
        },
        "outputId": "1c6fde99-b861-4a75-89f7-2dce0c570b2e"
      },
      "outputs": [
        {
          "output_type": "stream",
          "name": "stdout",
          "text": [
            "Model: \"sequential_2\"\n",
            "_________________________________________________________________\n",
            " Layer (type)                Output Shape              Param #   \n",
            "=================================================================\n",
            " model (Functional)          (None, 224, 224, 3)       0         \n",
            "                                                                 \n",
            " resnet50 (Functional)       (None, 7, 7, 2048)        23587712  \n",
            "                                                                 \n",
            " global_average_pooling2d_2   (None, 2048)             0         \n",
            " (GlobalAveragePooling2D)                                        \n",
            "                                                                 \n",
            " dense_4 (Dense)             (None, 1024)              2098176   \n",
            "                                                                 \n",
            " dense_5 (Dense)             (None, 1)                 1025      \n",
            "                                                                 \n",
            "=================================================================\n",
            "Total params: 25,686,913\n",
            "Trainable params: 2,099,201\n",
            "Non-trainable params: 23,587,712\n",
            "_________________________________________________________________\n"
          ]
        }
      ],
      "source": [
        "base_model.trainable = False\n",
        "model = Sequential()\n",
        "model.add(augmentation)\n",
        "model.add(base_model)\n",
        "model.add(GlobalAveragePooling2D())\n",
        "model.add(Dense(1024, activation='relu'))\n",
        "model.add(Dense(1, activation='linear'))\n",
        "\n",
        "model.summary()"
      ]
    },
    {
      "cell_type": "code",
      "execution_count": null,
      "metadata": {
        "id": "vE1qYBhe6t2T",
        "colab": {
          "base_uri": "https://localhost:8080/"
        },
        "outputId": "e473278d-999a-4432-80e0-3a71e67de45f"
      },
      "outputs": [
        {
          "output_type": "stream",
          "name": "stdout",
          "text": [
            "Epoch 1/30\n",
            "159/159 [==============================] - ETA: 0s - loss: 76.4793 - mae: 76.4793\n",
            "Epoch 1: val_mae improved from inf to 59.11314, saving model to /content/drive/MyDrive/AI_proj/data/resnet50.ckpt\n",
            "159/159 [==============================] - 14s 70ms/step - loss: 76.4793 - mae: 76.4793 - val_loss: 59.1131 - val_mae: 59.1131\n",
            "Epoch 2/30\n",
            "158/159 [============================>.] - ETA: 0s - loss: 74.2870 - mae: 74.2870\n",
            "Epoch 2: val_mae improved from 59.11314 to 57.39779, saving model to /content/drive/MyDrive/AI_proj/data/resnet50.ckpt\n",
            "159/159 [==============================] - 8s 51ms/step - loss: 73.9445 - mae: 73.9445 - val_loss: 57.3978 - val_mae: 57.3978\n",
            "Epoch 3/30\n",
            "159/159 [==============================] - ETA: 0s - loss: 73.4783 - mae: 73.4783\n",
            "Epoch 3: val_mae improved from 57.39779 to 57.02380, saving model to /content/drive/MyDrive/AI_proj/data/resnet50.ckpt\n",
            "159/159 [==============================] - 9s 58ms/step - loss: 73.4783 - mae: 73.4783 - val_loss: 57.0238 - val_mae: 57.0238\n",
            "Epoch 4/30\n",
            "158/159 [============================>.] - ETA: 0s - loss: 73.5464 - mae: 73.5464\n",
            "Epoch 4: val_mae improved from 57.02380 to 56.93351, saving model to /content/drive/MyDrive/AI_proj/data/resnet50.ckpt\n",
            "159/159 [==============================] - 8s 53ms/step - loss: 73.2267 - mae: 73.2267 - val_loss: 56.9335 - val_mae: 56.9335\n",
            "Epoch 5/30\n",
            "159/159 [==============================] - ETA: 0s - loss: 73.0515 - mae: 73.0515\n",
            "Epoch 5: val_mae improved from 56.93351 to 56.73761, saving model to /content/drive/MyDrive/AI_proj/data/resnet50.ckpt\n",
            "159/159 [==============================] - 8s 51ms/step - loss: 73.0515 - mae: 73.0515 - val_loss: 56.7376 - val_mae: 56.7376\n",
            "Epoch 6/30\n",
            "159/159 [==============================] - ETA: 0s - loss: 72.9218 - mae: 72.9218\n",
            "Epoch 6: val_mae improved from 56.73761 to 56.55344, saving model to /content/drive/MyDrive/AI_proj/data/resnet50.ckpt\n",
            "159/159 [==============================] - 9s 56ms/step - loss: 72.9218 - mae: 72.9218 - val_loss: 56.5534 - val_mae: 56.5534\n",
            "Epoch 7/30\n",
            "159/159 [==============================] - ETA: 0s - loss: 72.7836 - mae: 72.7836\n",
            "Epoch 7: val_mae improved from 56.55344 to 56.35866, saving model to /content/drive/MyDrive/AI_proj/data/resnet50.ckpt\n",
            "159/159 [==============================] - 9s 57ms/step - loss: 72.7836 - mae: 72.7836 - val_loss: 56.3587 - val_mae: 56.3587\n",
            "Epoch 8/30\n",
            "158/159 [============================>.] - ETA: 0s - loss: 72.9718 - mae: 72.9718\n",
            "Epoch 8: val_mae improved from 56.35866 to 56.18828, saving model to /content/drive/MyDrive/AI_proj/data/resnet50.ckpt\n",
            "159/159 [==============================] - 9s 55ms/step - loss: 72.6517 - mae: 72.6517 - val_loss: 56.1883 - val_mae: 56.1883\n",
            "Epoch 9/30\n",
            "159/159 [==============================] - ETA: 0s - loss: 72.5105 - mae: 72.5105\n",
            "Epoch 9: val_mae improved from 56.18828 to 55.96938, saving model to /content/drive/MyDrive/AI_proj/data/resnet50.ckpt\n",
            "159/159 [==============================] - 8s 52ms/step - loss: 72.5105 - mae: 72.5105 - val_loss: 55.9694 - val_mae: 55.9694\n",
            "Epoch 10/30\n",
            "159/159 [==============================] - ETA: 0s - loss: 72.3698 - mae: 72.3698\n",
            "Epoch 10: val_mae improved from 55.96938 to 55.78574, saving model to /content/drive/MyDrive/AI_proj/data/resnet50.ckpt\n",
            "159/159 [==============================] - 9s 58ms/step - loss: 72.3698 - mae: 72.3698 - val_loss: 55.7857 - val_mae: 55.7857\n",
            "Epoch 11/30\n",
            "159/159 [==============================] - ETA: 0s - loss: 72.2399 - mae: 72.2399\n",
            "Epoch 11: val_mae improved from 55.78574 to 55.60603, saving model to /content/drive/MyDrive/AI_proj/data/resnet50.ckpt\n",
            "159/159 [==============================] - 9s 60ms/step - loss: 72.2399 - mae: 72.2399 - val_loss: 55.6060 - val_mae: 55.6060\n",
            "Epoch 12/30\n",
            "159/159 [==============================] - ETA: 0s - loss: 72.0861 - mae: 72.0861\n",
            "Epoch 12: val_mae improved from 55.60603 to 55.46098, saving model to /content/drive/MyDrive/AI_proj/data/resnet50.ckpt\n",
            "159/159 [==============================] - 9s 54ms/step - loss: 72.0861 - mae: 72.0861 - val_loss: 55.4610 - val_mae: 55.4610\n",
            "Epoch 13/30\n",
            "159/159 [==============================] - ETA: 0s - loss: 71.9824 - mae: 71.9824\n",
            "Epoch 13: val_mae improved from 55.46098 to 55.28609, saving model to /content/drive/MyDrive/AI_proj/data/resnet50.ckpt\n",
            "159/159 [==============================] - 10s 64ms/step - loss: 71.9824 - mae: 71.9824 - val_loss: 55.2861 - val_mae: 55.2861\n",
            "Epoch 14/30\n",
            "159/159 [==============================] - ETA: 0s - loss: 71.8636 - mae: 71.8636\n",
            "Epoch 14: val_mae improved from 55.28609 to 55.13214, saving model to /content/drive/MyDrive/AI_proj/data/resnet50.ckpt\n",
            "159/159 [==============================] - 8s 52ms/step - loss: 71.8636 - mae: 71.8636 - val_loss: 55.1321 - val_mae: 55.1321\n",
            "Epoch 15/30\n",
            "158/159 [============================>.] - ETA: 0s - loss: 72.1305 - mae: 72.1305\n",
            "Epoch 15: val_mae improved from 55.13214 to 54.98376, saving model to /content/drive/MyDrive/AI_proj/data/resnet50.ckpt\n",
            "159/159 [==============================] - 8s 53ms/step - loss: 71.7956 - mae: 71.7956 - val_loss: 54.9838 - val_mae: 54.9838\n",
            "Epoch 16/30\n",
            "159/159 [==============================] - ETA: 0s - loss: 71.5594 - mae: 71.5594\n",
            "Epoch 16: val_mae improved from 54.98376 to 54.83797, saving model to /content/drive/MyDrive/AI_proj/data/resnet50.ckpt\n",
            "159/159 [==============================] - 9s 54ms/step - loss: 71.5594 - mae: 71.5594 - val_loss: 54.8380 - val_mae: 54.8380\n",
            "Epoch 17/30\n",
            "159/159 [==============================] - ETA: 0s - loss: 71.4989 - mae: 71.4989\n",
            "Epoch 17: val_mae improved from 54.83797 to 54.71469, saving model to /content/drive/MyDrive/AI_proj/data/resnet50.ckpt\n",
            "159/159 [==============================] - 8s 52ms/step - loss: 71.4989 - mae: 71.4989 - val_loss: 54.7147 - val_mae: 54.7147\n",
            "Epoch 18/30\n",
            "159/159 [==============================] - ETA: 0s - loss: 71.3781 - mae: 71.3781\n",
            "Epoch 18: val_mae improved from 54.71469 to 54.59540, saving model to /content/drive/MyDrive/AI_proj/data/resnet50.ckpt\n",
            "159/159 [==============================] - 8s 51ms/step - loss: 71.3781 - mae: 71.3781 - val_loss: 54.5954 - val_mae: 54.5954\n",
            "Epoch 19/30\n",
            "159/159 [==============================] - ETA: 0s - loss: 71.2075 - mae: 71.2075\n",
            "Epoch 19: val_mae improved from 54.59540 to 54.46244, saving model to /content/drive/MyDrive/AI_proj/data/resnet50.ckpt\n",
            "159/159 [==============================] - 9s 55ms/step - loss: 71.2075 - mae: 71.2075 - val_loss: 54.4624 - val_mae: 54.4624\n",
            "Epoch 20/30\n",
            "159/159 [==============================] - ETA: 0s - loss: 71.0887 - mae: 71.0887\n",
            "Epoch 20: val_mae improved from 54.46244 to 54.35522, saving model to /content/drive/MyDrive/AI_proj/data/resnet50.ckpt\n",
            "159/159 [==============================] - 8s 52ms/step - loss: 71.0887 - mae: 71.0887 - val_loss: 54.3552 - val_mae: 54.3552\n",
            "Epoch 21/30\n",
            "159/159 [==============================] - ETA: 0s - loss: 71.0245 - mae: 71.0245\n",
            "Epoch 21: val_mae improved from 54.35522 to 54.26444, saving model to /content/drive/MyDrive/AI_proj/data/resnet50.ckpt\n",
            "159/159 [==============================] - 9s 55ms/step - loss: 71.0245 - mae: 71.0245 - val_loss: 54.2644 - val_mae: 54.2644\n",
            "Epoch 22/30\n",
            "159/159 [==============================] - ETA: 0s - loss: 70.9485 - mae: 70.9485\n",
            "Epoch 22: val_mae improved from 54.26444 to 54.17169, saving model to /content/drive/MyDrive/AI_proj/data/resnet50.ckpt\n",
            "159/159 [==============================] - 8s 51ms/step - loss: 70.9485 - mae: 70.9485 - val_loss: 54.1717 - val_mae: 54.1717\n",
            "Epoch 23/30\n",
            "159/159 [==============================] - ETA: 0s - loss: 70.7733 - mae: 70.7733\n",
            "Epoch 23: val_mae improved from 54.17169 to 53.97462, saving model to /content/drive/MyDrive/AI_proj/data/resnet50.ckpt\n",
            "159/159 [==============================] - 8s 52ms/step - loss: 70.7733 - mae: 70.7733 - val_loss: 53.9746 - val_mae: 53.9746\n",
            "Epoch 24/30\n",
            "159/159 [==============================] - ETA: 0s - loss: 70.7626 - mae: 70.7626\n",
            "Epoch 24: val_mae improved from 53.97462 to 53.87733, saving model to /content/drive/MyDrive/AI_proj/data/resnet50.ckpt\n",
            "159/159 [==============================] - 9s 54ms/step - loss: 70.7626 - mae: 70.7626 - val_loss: 53.8773 - val_mae: 53.8773\n",
            "Epoch 25/30\n",
            "159/159 [==============================] - ETA: 0s - loss: 70.6876 - mae: 70.6876\n",
            "Epoch 25: val_mae improved from 53.87733 to 53.85850, saving model to /content/drive/MyDrive/AI_proj/data/resnet50.ckpt\n",
            "159/159 [==============================] - 8s 52ms/step - loss: 70.6876 - mae: 70.6876 - val_loss: 53.8585 - val_mae: 53.8585\n",
            "Epoch 26/30\n",
            "159/159 [==============================] - ETA: 0s - loss: 70.6472 - mae: 70.6472\n",
            "Epoch 26: val_mae improved from 53.85850 to 53.73569, saving model to /content/drive/MyDrive/AI_proj/data/resnet50.ckpt\n",
            "159/159 [==============================] - 9s 54ms/step - loss: 70.6472 - mae: 70.6472 - val_loss: 53.7357 - val_mae: 53.7357\n",
            "Epoch 27/30\n",
            "159/159 [==============================] - ETA: 0s - loss: 70.5023 - mae: 70.5023\n",
            "Epoch 27: val_mae improved from 53.73569 to 53.65826, saving model to /content/drive/MyDrive/AI_proj/data/resnet50.ckpt\n",
            "159/159 [==============================] - 8s 52ms/step - loss: 70.5023 - mae: 70.5023 - val_loss: 53.6583 - val_mae: 53.6583\n",
            "Epoch 28/30\n",
            "159/159 [==============================] - ETA: 0s - loss: 70.5805 - mae: 70.5805\n",
            "Epoch 28: val_mae improved from 53.65826 to 53.58466, saving model to /content/drive/MyDrive/AI_proj/data/resnet50.ckpt\n",
            "159/159 [==============================] - 8s 51ms/step - loss: 70.5805 - mae: 70.5805 - val_loss: 53.5847 - val_mae: 53.5847\n",
            "Epoch 29/30\n",
            "159/159 [==============================] - ETA: 0s - loss: 70.4344 - mae: 70.4344\n",
            "Epoch 29: val_mae improved from 53.58466 to 53.52313, saving model to /content/drive/MyDrive/AI_proj/data/resnet50.ckpt\n",
            "159/159 [==============================] - 9s 55ms/step - loss: 70.4344 - mae: 70.4344 - val_loss: 53.5231 - val_mae: 53.5231\n",
            "Epoch 30/30\n",
            "159/159 [==============================] - ETA: 0s - loss: 70.4843 - mae: 70.4843\n",
            "Epoch 30: val_mae improved from 53.52313 to 53.51155, saving model to /content/drive/MyDrive/AI_proj/data/resnet50.ckpt\n",
            "159/159 [==============================] - 8s 52ms/step - loss: 70.4843 - mae: 70.4843 - val_loss: 53.5116 - val_mae: 53.5116\n"
          ]
        }
      ],
      "source": [
        "LEARNING_RATE = 1e-4\n",
        "model.compile(optimizer=Adam(learning_rate=LEARNING_RATE),\n",
        "              loss='mae',\n",
        "              metrics=['mae'])\n",
        "\n",
        "checkpoint_filepath = '/content/drive/MyDrive/AI_proj/data/resnet50.ckpt'\n",
        "checkpointer = ModelCheckpoint(\n",
        "    filepath=checkpoint_filepath,\n",
        "    monitor='val_mae',\n",
        "    save_best_only=True,\n",
        "    save_weights_only=True,\n",
        "    verbose=1\n",
        ")\n",
        "\n",
        "\n",
        "EPOCHS = 30\n",
        "STEPS_PER_EPOCH = len(train_img_path) // BATCH_SIZE\n",
        "VAL_STEPS = len(vali_img_path) // BATCH_SIZE\n",
        "\n",
        "history = model.fit(train_dataset, epochs=EPOCHS,\n",
        "                    steps_per_epoch=STEPS_PER_EPOCH,\n",
        "                    validation_data=valid_dataset,\n",
        "                    validation_steps = VAL_STEPS,\n",
        "                    callbacks=[checkpointer],\n",
        "                    verbose=1)"
      ]
    },
    {
      "cell_type": "markdown",
      "source": [
        "### graph"
      ],
      "metadata": {
        "id": "X_bguzJs2FGb"
      }
    },
    {
      "cell_type": "code",
      "source": [
        "plt.figure(figsize=(8, 8))\n",
        "plt.plot(history.history['mae'], label='Training MAE')\n",
        "plt.plot(history.history['val_mae'], label='Validation MAE')\n",
        "plt.legend(loc='lower right')\n",
        "plt.title('Training and Validation MAE')"
      ],
      "metadata": {
        "colab": {
          "base_uri": "https://localhost:8080/",
          "height": 517
        },
        "id": "h6XHAc7WY2sk",
        "outputId": "d0b585c2-4670-47ca-da4d-fd44e0e6707f"
      },
      "execution_count": null,
      "outputs": [
        {
          "output_type": "execute_result",
          "data": {
            "text/plain": [
              "Text(0.5, 1.0, 'Training and Validation MAE')"
            ]
          },
          "metadata": {},
          "execution_count": 38
        },
        {
          "output_type": "display_data",
          "data": {
            "text/plain": [
              "<Figure size 576x576 with 1 Axes>"
            ],
            "image/png": "[encoded data removed]"
          },
          "metadata": {
            "needs_background": "light"
          }
        }
      ]
    },
    {
      "cell_type": "markdown",
      "source": [
        "## Optimizer : SGD"
      ],
      "metadata": {
        "id": "ZH24P54rx77e"
      }
    },
    {
      "cell_type": "code",
      "source": [
        "tf.keras.backend.clear_session()\n",
        "base_model = resnet50.ResNet50(\n",
        "    weights='imagenet',\n",
        "    include_top = False,\n",
        "    input_shape = (MODEL_IMAGE_SIZE, MODEL_IMAGE_SIZE,3)\n",
        ")\n",
        "\n",
        "base_model.trainable = False\n",
        "model = Sequential()\n",
        "model.add(augmentation)\n",
        "model.add(base_model)\n",
        "model.add(GlobalAveragePooling2D())\n",
        "model.add(Dense(1024, activation='relu'))\n",
        "model.add(Dense(1, activation='linear'))\n",
        "\n",
        "\n",
        "model.compile(optimizer=SGD(learning_rate=LEARNING_RATE),\n",
        "              loss='mae',\n",
        "              metrics=['mae'])\n",
        "\n",
        "checkpoint_filepath = '/content/drive/MyDrive/AI_proj/data/resnet50_SGD.ckpt'\n",
        "checkpointer = ModelCheckpoint(\n",
        "    filepath=checkpoint_filepath,\n",
        "    monitor='val_mae',\n",
        "    save_best_only=True,\n",
        "    save_weights_only=True,\n",
        "    verbose=1\n",
        ")\n",
        "\n",
        "\n",
        "EPOCHS = 30\n",
        "STEPS_PER_EPOCH = len(train_img_path) // BATCH_SIZE\n",
        "VAL_STEPS = len(vali_img_path) // BATCH_SIZE\n",
        "\n",
        "history = model.fit(train_dataset, epochs=EPOCHS,\n",
        "                    steps_per_epoch=STEPS_PER_EPOCH,\n",
        "                    validation_data=valid_dataset,\n",
        "                    validation_steps = VAL_STEPS,\n",
        "                    callbacks=[checkpointer],\n",
        "                    verbose=1)"
      ],
      "metadata": {
        "colab": {
          "base_uri": "https://localhost:8080/"
        },
        "id": "ShVgsH2Fxh8R",
        "outputId": "fdf1df89-6309-4242-cbbe-16e7ee0a8c5c"
      },
      "execution_count": null,
      "outputs": [
        {
          "output_type": "stream",
          "name": "stdout",
          "text": [
            "Epoch 1/30\n",
            "159/159 [==============================] - ETA: 0s - loss: 79.5539 - mae: 79.5539\n",
            "Epoch 1: val_mae improved from inf to 63.97320, saving model to /content/drive/MyDrive/AI_proj/data/resnet50_SGD.ckpt\n",
            "159/159 [==============================] - 11s 54ms/step - loss: 79.5539 - mae: 79.5539 - val_loss: 63.9732 - val_mae: 63.9732\n",
            "Epoch 2/30\n",
            "159/159 [==============================] - ETA: 0s - loss: 76.6202 - mae: 76.6202\n",
            "Epoch 2: val_mae improved from 63.97320 to 61.71394, saving model to /content/drive/MyDrive/AI_proj/data/resnet50_SGD.ckpt\n",
            "159/159 [==============================] - 7s 45ms/step - loss: 76.6202 - mae: 76.6202 - val_loss: 61.7139 - val_mae: 61.7139\n",
            "Epoch 3/30\n",
            "159/159 [==============================] - ETA: 0s - loss: 75.3867 - mae: 75.3867\n",
            "Epoch 3: val_mae improved from 61.71394 to 60.33280, saving model to /content/drive/MyDrive/AI_proj/data/resnet50_SGD.ckpt\n",
            "159/159 [==============================] - 7s 46ms/step - loss: 75.3867 - mae: 75.3867 - val_loss: 60.3328 - val_mae: 60.3328\n",
            "Epoch 4/30\n",
            "159/159 [==============================] - ETA: 0s - loss: 74.7180 - mae: 74.7180\n",
            "Epoch 4: val_mae improved from 60.33280 to 59.42878, saving model to /content/drive/MyDrive/AI_proj/data/resnet50_SGD.ckpt\n",
            "159/159 [==============================] - 7s 46ms/step - loss: 74.7180 - mae: 74.7180 - val_loss: 59.4288 - val_mae: 59.4288\n",
            "Epoch 5/30\n",
            "159/159 [==============================] - ETA: 0s - loss: 74.3493 - mae: 74.3493\n",
            "Epoch 5: val_mae improved from 59.42878 to 58.71114, saving model to /content/drive/MyDrive/AI_proj/data/resnet50_SGD.ckpt\n",
            "159/159 [==============================] - 8s 48ms/step - loss: 74.3493 - mae: 74.3493 - val_loss: 58.7111 - val_mae: 58.7111\n",
            "Epoch 6/30\n",
            "159/159 [==============================] - ETA: 0s - loss: 74.0998 - mae: 74.0998\n",
            "Epoch 6: val_mae improved from 58.71114 to 58.17892, saving model to /content/drive/MyDrive/AI_proj/data/resnet50_SGD.ckpt\n",
            "159/159 [==============================] - 7s 47ms/step - loss: 74.0998 - mae: 74.0998 - val_loss: 58.1789 - val_mae: 58.1789\n",
            "Epoch 7/30\n",
            "158/159 [============================>.] - ETA: 0s - loss: 74.2868 - mae: 74.2868\n",
            "Epoch 7: val_mae improved from 58.17892 to 57.89960, saving model to /content/drive/MyDrive/AI_proj/data/resnet50_SGD.ckpt\n",
            "159/159 [==============================] - 8s 49ms/step - loss: 73.9474 - mae: 73.9474 - val_loss: 57.8996 - val_mae: 57.8996\n",
            "Epoch 8/30\n",
            "158/159 [============================>.] - ETA: 0s - loss: 74.2161 - mae: 74.2161\n",
            "Epoch 8: val_mae improved from 57.89960 to 57.74540, saving model to /content/drive/MyDrive/AI_proj/data/resnet50_SGD.ckpt\n",
            "159/159 [==============================] - 8s 48ms/step - loss: 73.8843 - mae: 73.8843 - val_loss: 57.7454 - val_mae: 57.7454\n",
            "Epoch 9/30\n",
            "159/159 [==============================] - ETA: 0s - loss: 73.8442 - mae: 73.8442\n",
            "Epoch 9: val_mae improved from 57.74540 to 57.67099, saving model to /content/drive/MyDrive/AI_proj/data/resnet50_SGD.ckpt\n",
            "159/159 [==============================] - 7s 45ms/step - loss: 73.8442 - mae: 73.8442 - val_loss: 57.6710 - val_mae: 57.6710\n",
            "Epoch 10/30\n",
            "159/159 [==============================] - ETA: 0s - loss: 73.8054 - mae: 73.8054\n",
            "Epoch 10: val_mae improved from 57.67099 to 57.64319, saving model to /content/drive/MyDrive/AI_proj/data/resnet50_SGD.ckpt\n",
            "159/159 [==============================] - 7s 47ms/step - loss: 73.8054 - mae: 73.8054 - val_loss: 57.6432 - val_mae: 57.6432\n",
            "Epoch 11/30\n",
            "159/159 [==============================] - ETA: 0s - loss: 73.7780 - mae: 73.7780\n",
            "Epoch 11: val_mae improved from 57.64319 to 57.63470, saving model to /content/drive/MyDrive/AI_proj/data/resnet50_SGD.ckpt\n",
            "159/159 [==============================] - 7s 45ms/step - loss: 73.7780 - mae: 73.7780 - val_loss: 57.6347 - val_mae: 57.6347\n",
            "Epoch 12/30\n",
            "159/159 [==============================] - ETA: 0s - loss: 73.7660 - mae: 73.7660\n",
            "Epoch 12: val_mae did not improve from 57.63470\n",
            "159/159 [==============================] - 7s 42ms/step - loss: 73.7660 - mae: 73.7660 - val_loss: 57.6389 - val_mae: 57.6389\n",
            "Epoch 13/30\n",
            "159/159 [==============================] - ETA: 0s - loss: 73.7417 - mae: 73.7417\n",
            "Epoch 13: val_mae did not improve from 57.63470\n",
            "159/159 [==============================] - 7s 42ms/step - loss: 73.7417 - mae: 73.7417 - val_loss: 57.6467 - val_mae: 57.6467\n",
            "Epoch 14/30\n",
            "159/159 [==============================] - ETA: 0s - loss: 73.7521 - mae: 73.7521\n",
            "Epoch 14: val_mae did not improve from 57.63470\n",
            "159/159 [==============================] - 7s 42ms/step - loss: 73.7521 - mae: 73.7521 - val_loss: 57.6454 - val_mae: 57.6454\n",
            "Epoch 15/30\n",
            "159/159 [==============================] - ETA: 0s - loss: 73.7277 - mae: 73.7277\n",
            "Epoch 15: val_mae did not improve from 57.63470\n",
            "159/159 [==============================] - 7s 42ms/step - loss: 73.7277 - mae: 73.7277 - val_loss: 57.6419 - val_mae: 57.6419\n",
            "Epoch 16/30\n",
            "159/159 [==============================] - ETA: 0s - loss: 73.7111 - mae: 73.7111\n",
            "Epoch 16: val_mae did not improve from 57.63470\n",
            "159/159 [==============================] - 7s 42ms/step - loss: 73.7111 - mae: 73.7111 - val_loss: 57.6409 - val_mae: 57.6409\n",
            "Epoch 17/30\n",
            "159/159 [==============================] - ETA: 0s - loss: 73.7143 - mae: 73.7143\n",
            "Epoch 17: val_mae improved from 57.63470 to 57.63343, saving model to /content/drive/MyDrive/AI_proj/data/resnet50_SGD.ckpt\n",
            "159/159 [==============================] - 7s 45ms/step - loss: 73.7143 - mae: 73.7143 - val_loss: 57.6334 - val_mae: 57.6334\n",
            "Epoch 18/30\n",
            "159/159 [==============================] - ETA: 0s - loss: 73.6845 - mae: 73.6845\n",
            "Epoch 18: val_mae improved from 57.63343 to 57.62783, saving model to /content/drive/MyDrive/AI_proj/data/resnet50_SGD.ckpt\n",
            "159/159 [==============================] - 8s 49ms/step - loss: 73.6845 - mae: 73.6845 - val_loss: 57.6278 - val_mae: 57.6278\n",
            "Epoch 19/30\n",
            "159/159 [==============================] - ETA: 0s - loss: 73.6839 - mae: 73.6839\n",
            "Epoch 19: val_mae improved from 57.62783 to 57.61390, saving model to /content/drive/MyDrive/AI_proj/data/resnet50_SGD.ckpt\n",
            "159/159 [==============================] - 7s 45ms/step - loss: 73.6839 - mae: 73.6839 - val_loss: 57.6139 - val_mae: 57.6139\n",
            "Epoch 20/30\n",
            "159/159 [==============================] - ETA: 0s - loss: 73.6669 - mae: 73.6669\n",
            "Epoch 20: val_mae improved from 57.61390 to 57.60082, saving model to /content/drive/MyDrive/AI_proj/data/resnet50_SGD.ckpt\n",
            "159/159 [==============================] - 8s 48ms/step - loss: 73.6669 - mae: 73.6669 - val_loss: 57.6008 - val_mae: 57.6008\n",
            "Epoch 21/30\n",
            "159/159 [==============================] - ETA: 0s - loss: 73.6590 - mae: 73.6590\n",
            "Epoch 21: val_mae improved from 57.60082 to 57.59013, saving model to /content/drive/MyDrive/AI_proj/data/resnet50_SGD.ckpt\n",
            "159/159 [==============================] - 7s 46ms/step - loss: 73.6590 - mae: 73.6590 - val_loss: 57.5901 - val_mae: 57.5901\n",
            "Epoch 22/30\n",
            "159/159 [==============================] - ETA: 0s - loss: 73.6519 - mae: 73.6519\n",
            "Epoch 22: val_mae improved from 57.59013 to 57.57827, saving model to /content/drive/MyDrive/AI_proj/data/resnet50_SGD.ckpt\n",
            "159/159 [==============================] - 7s 46ms/step - loss: 73.6519 - mae: 73.6519 - val_loss: 57.5783 - val_mae: 57.5783\n",
            "Epoch 23/30\n",
            "159/159 [==============================] - ETA: 0s - loss: 73.6302 - mae: 73.6302\n",
            "Epoch 23: val_mae improved from 57.57827 to 57.56782, saving model to /content/drive/MyDrive/AI_proj/data/resnet50_SGD.ckpt\n",
            "159/159 [==============================] - 8s 48ms/step - loss: 73.6302 - mae: 73.6302 - val_loss: 57.5678 - val_mae: 57.5678\n",
            "Epoch 24/30\n",
            "159/159 [==============================] - ETA: 0s - loss: 73.6118 - mae: 73.6118\n",
            "Epoch 24: val_mae improved from 57.56782 to 57.55632, saving model to /content/drive/MyDrive/AI_proj/data/resnet50_SGD.ckpt\n",
            "159/159 [==============================] - 7s 46ms/step - loss: 73.6118 - mae: 73.6118 - val_loss: 57.5563 - val_mae: 57.5563\n",
            "Epoch 25/30\n",
            "159/159 [==============================] - ETA: 0s - loss: 73.6127 - mae: 73.6127\n",
            "Epoch 25: val_mae improved from 57.55632 to 57.52929, saving model to /content/drive/MyDrive/AI_proj/data/resnet50_SGD.ckpt\n",
            "159/159 [==============================] - 8s 48ms/step - loss: 73.6127 - mae: 73.6127 - val_loss: 57.5293 - val_mae: 57.5293\n",
            "Epoch 26/30\n",
            "159/159 [==============================] - ETA: 0s - loss: 73.6165 - mae: 73.6165\n",
            "Epoch 26: val_mae improved from 57.52929 to 57.51801, saving model to /content/drive/MyDrive/AI_proj/data/resnet50_SGD.ckpt\n",
            "159/159 [==============================] - 7s 46ms/step - loss: 73.6165 - mae: 73.6165 - val_loss: 57.5180 - val_mae: 57.5180\n",
            "Epoch 27/30\n",
            "158/159 [============================>.] - ETA: 0s - loss: 73.9197 - mae: 73.9197\n",
            "Epoch 27: val_mae did not improve from 57.51801\n",
            "159/159 [==============================] - 7s 43ms/step - loss: 73.6082 - mae: 73.6082 - val_loss: 57.5220 - val_mae: 57.5220\n",
            "Epoch 28/30\n",
            "159/159 [==============================] - ETA: 0s - loss: 73.5816 - mae: 73.5816\n",
            "Epoch 28: val_mae did not improve from 57.51801\n",
            "159/159 [==============================] - 7s 46ms/step - loss: 73.5816 - mae: 73.5816 - val_loss: 57.5266 - val_mae: 57.5266\n",
            "Epoch 29/30\n",
            "159/159 [==============================] - ETA: 0s - loss: 73.5686 - mae: 73.5686\n",
            "Epoch 29: val_mae improved from 57.51801 to 57.50111, saving model to /content/drive/MyDrive/AI_proj/data/resnet50_SGD.ckpt\n",
            "159/159 [==============================] - 7s 47ms/step - loss: 73.5686 - mae: 73.5686 - val_loss: 57.5011 - val_mae: 57.5011\n",
            "Epoch 30/30\n",
            "159/159 [==============================] - ETA: 0s - loss: 73.5616 - mae: 73.5616\n",
            "Epoch 30: val_mae improved from 57.50111 to 57.49172, saving model to /content/drive/MyDrive/AI_proj/data/resnet50_SGD.ckpt\n",
            "159/159 [==============================] - 8s 48ms/step - loss: 73.5616 - mae: 73.5616 - val_loss: 57.4917 - val_mae: 57.4917\n"
          ]
        }
      ]
    },
    {
      "cell_type": "markdown",
      "source": [
        "### graph"
      ],
      "metadata": {
        "id": "Beev2GLV2IKv"
      }
    },
    {
      "cell_type": "code",
      "source": [
        "plt.figure(figsize=(8, 8))\n",
        "plt.plot(history.history['mae'], label='Training MAE')\n",
        "plt.plot(history.history['val_mae'], label='Validation MAE')\n",
        "plt.legend(loc='lower right')\n",
        "plt.title('Training and Validation MAE')"
      ],
      "metadata": {
        "colab": {
          "base_uri": "https://localhost:8080/",
          "height": 517
        },
        "id": "gAxTzz3gywvw",
        "outputId": "6995f56e-df53-4c5c-b1d0-e6bd8d51163f"
      },
      "execution_count": null,
      "outputs": [
        {
          "output_type": "execute_result",
          "data": {
            "text/plain": [
              "Text(0.5, 1.0, 'Training and Validation MAE')"
            ]
          },
          "metadata": {},
          "execution_count": 45
        },
        {
          "output_type": "display_data",
          "data": {
            "text/plain": [
              "<Figure size 576x576 with 1 Axes>"
            ],
            "image/png": "[encoded data removed]"
          },
          "metadata": {
            "needs_background": "light"
          }
        }
      ]
    },
    {
      "cell_type": "markdown",
      "source": [
        "## Optimizer : RMS Prop"
      ],
      "metadata": {
        "id": "UGdQ_pUuzydn"
      }
    },
    {
      "cell_type": "code",
      "source": [
        "tf.keras.backend.clear_session()\n",
        "base_model = resnet50.ResNet50(\n",
        "    weights='imagenet',\n",
        "    include_top = False,\n",
        "    input_shape = (MODEL_IMAGE_SIZE, MODEL_IMAGE_SIZE,3)\n",
        ")\n",
        "\n",
        "base_model.trainable = False\n",
        "model = Sequential()\n",
        "model.add(augmentation)\n",
        "model.add(base_model)\n",
        "model.add(GlobalAveragePooling2D())\n",
        "model.add(Dense(1024, activation='relu'))\n",
        "model.add(Dense(1, activation='linear'))\n",
        "\n",
        "\n",
        "model.compile(optimizer=RMSprop(learning_rate=LEARNING_RATE),\n",
        "              loss='mae',\n",
        "              metrics=['mae'])\n",
        "\n",
        "checkpoint_filepath = '/content/drive/MyDrive/AI_proj/data/resnet50_SGD.ckpt'\n",
        "checkpointer = ModelCheckpoint(\n",
        "    filepath=checkpoint_filepath,\n",
        "    monitor='val_mae',\n",
        "    save_best_only=True,\n",
        "    save_weights_only=True,\n",
        "    verbose=1\n",
        ")\n",
        "\n",
        "\n",
        "EPOCHS = 30\n",
        "STEPS_PER_EPOCH = len(train_img_path) // BATCH_SIZE\n",
        "VAL_STEPS = len(vali_img_path) // BATCH_SIZE\n",
        "\n",
        "history = model.fit(train_dataset, epochs=EPOCHS,\n",
        "                    steps_per_epoch=STEPS_PER_EPOCH,\n",
        "                    validation_data=valid_dataset,\n",
        "                    validation_steps = VAL_STEPS,\n",
        "                    callbacks=[checkpointer],\n",
        "                    verbose=1)"
      ],
      "metadata": {
        "colab": {
          "base_uri": "https://localhost:8080/"
        },
        "id": "ByNe5vphzx99",
        "outputId": "ee8e3ce9-ca43-4a4f-ebc7-b28ebdffbe3e"
      },
      "execution_count": null,
      "outputs": [
        {
          "output_type": "stream",
          "name": "stdout",
          "text": [
            "Epoch 1/30\n",
            "158/159 [============================>.] - ETA: 0s - loss: 77.0011 - mae: 77.0011\n",
            "Epoch 1: val_mae improved from inf to 59.94216, saving model to /content/drive/MyDrive/AI_proj/data/resnet50_SGD.ckpt\n",
            "159/159 [==============================] - 13s 59ms/step - loss: 76.5824 - mae: 76.5824 - val_loss: 59.9422 - val_mae: 59.9422\n",
            "Epoch 2/30\n",
            "159/159 [==============================] - ETA: 0s - loss: 74.1860 - mae: 74.1860\n",
            "Epoch 2: val_mae improved from 59.94216 to 57.96511, saving model to /content/drive/MyDrive/AI_proj/data/resnet50_SGD.ckpt\n",
            "159/159 [==============================] - 7s 46ms/step - loss: 74.1860 - mae: 74.1860 - val_loss: 57.9651 - val_mae: 57.9651\n",
            "Epoch 3/30\n",
            "159/159 [==============================] - ETA: 0s - loss: 73.5477 - mae: 73.5477\n",
            "Epoch 3: val_mae improved from 57.96511 to 57.18687, saving model to /content/drive/MyDrive/AI_proj/data/resnet50_SGD.ckpt\n",
            "159/159 [==============================] - 8s 48ms/step - loss: 73.5477 - mae: 73.5477 - val_loss: 57.1869 - val_mae: 57.1869\n",
            "Epoch 4/30\n",
            "159/159 [==============================] - ETA: 0s - loss: 73.3505 - mae: 73.3505\n",
            "Epoch 4: val_mae improved from 57.18687 to 56.90461, saving model to /content/drive/MyDrive/AI_proj/data/resnet50_SGD.ckpt\n",
            "159/159 [==============================] - 7s 47ms/step - loss: 73.3505 - mae: 73.3505 - val_loss: 56.9046 - val_mae: 56.9046\n",
            "Epoch 5/30\n",
            "159/159 [==============================] - ETA: 0s - loss: 73.1725 - mae: 73.1725\n",
            "Epoch 5: val_mae improved from 56.90461 to 56.74816, saving model to /content/drive/MyDrive/AI_proj/data/resnet50_SGD.ckpt\n",
            "159/159 [==============================] - 8s 49ms/step - loss: 73.1725 - mae: 73.1725 - val_loss: 56.7482 - val_mae: 56.7482\n",
            "Epoch 6/30\n",
            "159/159 [==============================] - ETA: 0s - loss: 73.0552 - mae: 73.0552\n",
            "Epoch 6: val_mae improved from 56.74816 to 56.59306, saving model to /content/drive/MyDrive/AI_proj/data/resnet50_SGD.ckpt\n",
            "159/159 [==============================] - 8s 49ms/step - loss: 73.0552 - mae: 73.0552 - val_loss: 56.5931 - val_mae: 56.5931\n",
            "Epoch 7/30\n",
            "159/159 [==============================] - ETA: 0s - loss: 72.9051 - mae: 72.9051\n",
            "Epoch 7: val_mae improved from 56.59306 to 56.45066, saving model to /content/drive/MyDrive/AI_proj/data/resnet50_SGD.ckpt\n",
            "159/159 [==============================] - 7s 47ms/step - loss: 72.9051 - mae: 72.9051 - val_loss: 56.4507 - val_mae: 56.4507\n",
            "Epoch 8/30\n",
            "159/159 [==============================] - ETA: 0s - loss: 72.8189 - mae: 72.8189\n",
            "Epoch 8: val_mae improved from 56.45066 to 56.29912, saving model to /content/drive/MyDrive/AI_proj/data/resnet50_SGD.ckpt\n",
            "159/159 [==============================] - 8s 49ms/step - loss: 72.8189 - mae: 72.8189 - val_loss: 56.2991 - val_mae: 56.2991\n",
            "Epoch 9/30\n",
            "159/159 [==============================] - ETA: 0s - loss: 72.7128 - mae: 72.7128\n",
            "Epoch 9: val_mae improved from 56.29912 to 56.16093, saving model to /content/drive/MyDrive/AI_proj/data/resnet50_SGD.ckpt\n",
            "159/159 [==============================] - 7s 46ms/step - loss: 72.7128 - mae: 72.7128 - val_loss: 56.1609 - val_mae: 56.1609\n",
            "Epoch 10/30\n",
            "159/159 [==============================] - ETA: 0s - loss: 72.6122 - mae: 72.6122\n",
            "Epoch 10: val_mae improved from 56.16093 to 56.02888, saving model to /content/drive/MyDrive/AI_proj/data/resnet50_SGD.ckpt\n",
            "159/159 [==============================] - 8s 48ms/step - loss: 72.6122 - mae: 72.6122 - val_loss: 56.0289 - val_mae: 56.0289\n",
            "Epoch 11/30\n",
            "159/159 [==============================] - ETA: 0s - loss: 72.5057 - mae: 72.5057\n",
            "Epoch 11: val_mae improved from 56.02888 to 55.89213, saving model to /content/drive/MyDrive/AI_proj/data/resnet50_SGD.ckpt\n",
            "159/159 [==============================] - 7s 46ms/step - loss: 72.5057 - mae: 72.5057 - val_loss: 55.8921 - val_mae: 55.8921\n",
            "Epoch 12/30\n",
            "159/159 [==============================] - ETA: 0s - loss: 72.4087 - mae: 72.4087\n",
            "Epoch 12: val_mae improved from 55.89213 to 55.76093, saving model to /content/drive/MyDrive/AI_proj/data/resnet50_SGD.ckpt\n",
            "159/159 [==============================] - 7s 46ms/step - loss: 72.4087 - mae: 72.4087 - val_loss: 55.7609 - val_mae: 55.7609\n",
            "Epoch 13/30\n",
            "159/159 [==============================] - ETA: 0s - loss: 72.2946 - mae: 72.2946\n",
            "Epoch 13: val_mae improved from 55.76093 to 55.61911, saving model to /content/drive/MyDrive/AI_proj/data/resnet50_SGD.ckpt\n",
            "159/159 [==============================] - 8s 48ms/step - loss: 72.2946 - mae: 72.2946 - val_loss: 55.6191 - val_mae: 55.6191\n",
            "Epoch 14/30\n",
            "159/159 [==============================] - ETA: 0s - loss: 72.1492 - mae: 72.1492\n",
            "Epoch 14: val_mae improved from 55.61911 to 55.47815, saving model to /content/drive/MyDrive/AI_proj/data/resnet50_SGD.ckpt\n",
            "159/159 [==============================] - 7s 46ms/step - loss: 72.1492 - mae: 72.1492 - val_loss: 55.4781 - val_mae: 55.4781\n",
            "Epoch 15/30\n",
            "159/159 [==============================] - ETA: 0s - loss: 72.0945 - mae: 72.0945\n",
            "Epoch 15: val_mae improved from 55.47815 to 55.34985, saving model to /content/drive/MyDrive/AI_proj/data/resnet50_SGD.ckpt\n",
            "159/159 [==============================] - 8s 49ms/step - loss: 72.0945 - mae: 72.0945 - val_loss: 55.3499 - val_mae: 55.3499\n",
            "Epoch 16/30\n",
            "159/159 [==============================] - ETA: 0s - loss: 71.9894 - mae: 71.9894\n",
            "Epoch 16: val_mae improved from 55.34985 to 55.22549, saving model to /content/drive/MyDrive/AI_proj/data/resnet50_SGD.ckpt\n",
            "159/159 [==============================] - 7s 47ms/step - loss: 71.9894 - mae: 71.9894 - val_loss: 55.2255 - val_mae: 55.2255\n",
            "Epoch 17/30\n",
            "159/159 [==============================] - ETA: 0s - loss: 71.8678 - mae: 71.8678\n",
            "Epoch 17: val_mae improved from 55.22549 to 55.10474, saving model to /content/drive/MyDrive/AI_proj/data/resnet50_SGD.ckpt\n",
            "159/159 [==============================] - 7s 46ms/step - loss: 71.8678 - mae: 71.8678 - val_loss: 55.1047 - val_mae: 55.1047\n",
            "Epoch 18/30\n",
            "159/159 [==============================] - ETA: 0s - loss: 71.8034 - mae: 71.8034\n",
            "Epoch 18: val_mae improved from 55.10474 to 54.98565, saving model to /content/drive/MyDrive/AI_proj/data/resnet50_SGD.ckpt\n",
            "159/159 [==============================] - 8s 49ms/step - loss: 71.8034 - mae: 71.8034 - val_loss: 54.9856 - val_mae: 54.9856\n",
            "Epoch 19/30\n",
            "159/159 [==============================] - ETA: 0s - loss: 71.7312 - mae: 71.7312\n",
            "Epoch 19: val_mae improved from 54.98565 to 54.88351, saving model to /content/drive/MyDrive/AI_proj/data/resnet50_SGD.ckpt\n",
            "159/159 [==============================] - 7s 46ms/step - loss: 71.7312 - mae: 71.7312 - val_loss: 54.8835 - val_mae: 54.8835\n",
            "Epoch 20/30\n",
            "159/159 [==============================] - ETA: 0s - loss: 71.5869 - mae: 71.5869\n",
            "Epoch 20: val_mae improved from 54.88351 to 54.77713, saving model to /content/drive/MyDrive/AI_proj/data/resnet50_SGD.ckpt\n",
            "159/159 [==============================] - 8s 49ms/step - loss: 71.5869 - mae: 71.5869 - val_loss: 54.7771 - val_mae: 54.7771\n",
            "Epoch 21/30\n",
            "159/159 [==============================] - ETA: 0s - loss: 71.5126 - mae: 71.5126\n",
            "Epoch 21: val_mae improved from 54.77713 to 54.65399, saving model to /content/drive/MyDrive/AI_proj/data/resnet50_SGD.ckpt\n",
            "159/159 [==============================] - 8s 47ms/step - loss: 71.5126 - mae: 71.5126 - val_loss: 54.6540 - val_mae: 54.6540\n",
            "Epoch 22/30\n",
            "159/159 [==============================] - ETA: 0s - loss: 71.3887 - mae: 71.3887\n",
            "Epoch 22: val_mae improved from 54.65399 to 54.52671, saving model to /content/drive/MyDrive/AI_proj/data/resnet50_SGD.ckpt\n",
            "159/159 [==============================] - 7s 47ms/step - loss: 71.3887 - mae: 71.3887 - val_loss: 54.5267 - val_mae: 54.5267\n",
            "Epoch 23/30\n",
            "159/159 [==============================] - ETA: 0s - loss: 71.2118 - mae: 71.2118\n",
            "Epoch 23: val_mae improved from 54.52671 to 54.41886, saving model to /content/drive/MyDrive/AI_proj/data/resnet50_SGD.ckpt\n",
            "159/159 [==============================] - 8s 49ms/step - loss: 71.2118 - mae: 71.2118 - val_loss: 54.4189 - val_mae: 54.4189\n",
            "Epoch 24/30\n",
            "159/159 [==============================] - ETA: 0s - loss: 71.1750 - mae: 71.1750\n",
            "Epoch 24: val_mae improved from 54.41886 to 54.32316, saving model to /content/drive/MyDrive/AI_proj/data/resnet50_SGD.ckpt\n",
            "159/159 [==============================] - 7s 46ms/step - loss: 71.1750 - mae: 71.1750 - val_loss: 54.3232 - val_mae: 54.3232\n",
            "Epoch 25/30\n",
            "159/159 [==============================] - ETA: 0s - loss: 71.1806 - mae: 71.1806\n",
            "Epoch 25: val_mae improved from 54.32316 to 54.22411, saving model to /content/drive/MyDrive/AI_proj/data/resnet50_SGD.ckpt\n",
            "159/159 [==============================] - 8s 50ms/step - loss: 71.1806 - mae: 71.1806 - val_loss: 54.2241 - val_mae: 54.2241\n",
            "Epoch 26/30\n",
            "159/159 [==============================] - ETA: 0s - loss: 71.0744 - mae: 71.0744\n",
            "Epoch 26: val_mae improved from 54.22411 to 54.13164, saving model to /content/drive/MyDrive/AI_proj/data/resnet50_SGD.ckpt\n",
            "159/159 [==============================] - 7s 47ms/step - loss: 71.0744 - mae: 71.0744 - val_loss: 54.1316 - val_mae: 54.1316\n",
            "Epoch 27/30\n",
            "159/159 [==============================] - ETA: 0s - loss: 71.0003 - mae: 71.0003\n",
            "Epoch 27: val_mae improved from 54.13164 to 54.02431, saving model to /content/drive/MyDrive/AI_proj/data/resnet50_SGD.ckpt\n",
            "159/159 [==============================] - 7s 47ms/step - loss: 71.0003 - mae: 71.0003 - val_loss: 54.0243 - val_mae: 54.0243\n",
            "Epoch 28/30\n",
            "159/159 [==============================] - ETA: 0s - loss: 70.9298 - mae: 70.9298\n",
            "Epoch 28: val_mae improved from 54.02431 to 53.95100, saving model to /content/drive/MyDrive/AI_proj/data/resnet50_SGD.ckpt\n",
            "159/159 [==============================] - 7s 46ms/step - loss: 70.9298 - mae: 70.9298 - val_loss: 53.9510 - val_mae: 53.9510\n",
            "Epoch 29/30\n",
            "159/159 [==============================] - ETA: 0s - loss: 70.8460 - mae: 70.8460\n",
            "Epoch 29: val_mae improved from 53.95100 to 53.87984, saving model to /content/drive/MyDrive/AI_proj/data/resnet50_SGD.ckpt\n",
            "159/159 [==============================] - 8s 47ms/step - loss: 70.8460 - mae: 70.8460 - val_loss: 53.8798 - val_mae: 53.8798\n",
            "Epoch 30/30\n",
            "159/159 [==============================] - ETA: 0s - loss: 70.8161 - mae: 70.8161\n",
            "Epoch 30: val_mae improved from 53.87984 to 53.79602, saving model to /content/drive/MyDrive/AI_proj/data/resnet50_SGD.ckpt\n",
            "159/159 [==============================] - 8s 49ms/step - loss: 70.8161 - mae: 70.8161 - val_loss: 53.7960 - val_mae: 53.7960\n"
          ]
        }
      ]
    },
    {
      "cell_type": "markdown",
      "source": [
        "### graph"
      ],
      "metadata": {
        "id": "AGbveQsa2KeQ"
      }
    },
    {
      "cell_type": "code",
      "source": [
        "plt.figure(figsize=(8, 8))\n",
        "plt.plot(history.history['mae'], label='Training MAE')\n",
        "plt.plot(history.history['val_mae'], label='Validation MAE')\n",
        "plt.legend(loc='lower right')\n",
        "plt.title('Training and Validation MAE')"
      ],
      "metadata": {
        "colab": {
          "base_uri": "https://localhost:8080/",
          "height": 517
        },
        "id": "bYnYQJ-e1ElM",
        "outputId": "0907d223-f2fc-4408-dd73-34e68b2c8d51"
      },
      "execution_count": null,
      "outputs": [
        {
          "output_type": "execute_result",
          "data": {
            "text/plain": [
              "Text(0.5, 1.0, 'Training and Validation MAE')"
            ]
          },
          "metadata": {},
          "execution_count": 43
        },
        {
          "output_type": "display_data",
          "data": {
            "text/plain": [
              "<Figure size 576x576 with 1 Axes>"
            ],
            "image/png": "[encoded data removed]"
          },
          "metadata": {
            "needs_background": "light"
          }
        }
      ]
    },
    {
      "cell_type": "markdown",
      "source": [
        "# MobileNetV3Small : epoch30, learning rate 1e-4, no dropout, augmentation"
      ],
      "metadata": {
        "id": "6s9aX0a7wRjq"
      }
    },
    {
      "cell_type": "markdown",
      "source": [
        "## Optimizer : Adam"
      ],
      "metadata": {
        "id": "JGZ64Jzn7blX"
      }
    },
    {
      "cell_type": "code",
      "source": [
        "tf.keras.backend.clear_session()\n",
        "MODEL_IMAGE_SIZE = 244\n",
        "base_model = MobileNetV3Small(\n",
        "    weights='imagenet',\n",
        "    include_top = False,\n",
        "    input_shape = (MODEL_IMAGE_SIZE, MODEL_IMAGE_SIZE,3)\n",
        ")"
      ],
      "metadata": {
        "colab": {
          "base_uri": "https://localhost:8080/"
        },
        "id": "3WNuGjTWwRY0",
        "outputId": "496a0c2a-dda0-48f9-9b59-e2519ec2725d"
      },
      "execution_count": null,
      "outputs": [
        {
          "output_type": "stream",
          "name": "stdout",
          "text": [
            "WARNING:tensorflow:`input_shape` is undefined or non-square, or `rows` is not 224. Weights for input shape (224, 224) will be loaded as the default.\n",
            "Downloading data from https://storage.googleapis.com/tensorflow/keras-applications/mobilenet_v3/weights_mobilenet_v3_small_224_1.0_float_no_top_v2.h5\n",
            "4341760/4334752 [==============================] - 0s 0us/step\n",
            "4349952/4334752 [==============================] - 0s 0us/step\n"
          ]
        }
      ]
    },
    {
      "cell_type": "code",
      "source": [
        "input_data_s = Input((IMAGE_SIZE, IMAGE_SIZE, 3))\n",
        "x = tf.keras.layers.experimental.preprocessing.Resizing(MODEL_IMAGE_SIZE, MODEL_IMAGE_SIZE)(input_data_s)\n",
        "x = tf.keras.layers.experimental.preprocessing.RandomFlip('horizontal_and_vertical')(x)\n",
        "output_data_s = tf.keras.layers.experimental.preprocessing.RandomRotation(0.2)(x)\n",
        "augmentation = Model(inputs=input_data_s, outputs=output_data_s)"
      ],
      "metadata": {
        "id": "HTislehUweOg"
      },
      "execution_count": null,
      "outputs": []
    },
    {
      "cell_type": "code",
      "source": [
        "base_model.trainable = False\n",
        "model = Sequential()\n",
        "model.add(augmentation)\n",
        "model.add(base_model)\n",
        "model.add(GlobalAveragePooling2D())\n",
        "model.add(Dense(1024, activation='relu'))\n",
        "model.add(Dense(1, activation='linear'))\n",
        "\n",
        "model.summary()"
      ],
      "metadata": {
        "colab": {
          "base_uri": "https://localhost:8080/"
        },
        "id": "sRq_UvUTwkI4",
        "outputId": "75644612-5e88-42b7-f8eb-c2d4105ec200"
      },
      "execution_count": null,
      "outputs": [
        {
          "output_type": "stream",
          "name": "stdout",
          "text": [
            "Model: \"sequential_1\"\n",
            "_________________________________________________________________\n",
            " Layer (type)                Output Shape              Param #   \n",
            "=================================================================\n",
            " model (Functional)          (None, 244, 244, 3)       0         \n",
            "                                                                 \n",
            " MobilenetV3small (Functiona  (None, 8, 8, 576)        939120    \n",
            " l)                                                              \n",
            "                                                                 \n",
            " global_average_pooling2d_1   (None, 576)              0         \n",
            " (GlobalAveragePooling2D)                                        \n",
            "                                                                 \n",
            " dense_2 (Dense)             (None, 1024)              590848    \n",
            "                                                                 \n",
            " dense_3 (Dense)             (None, 1)                 1025      \n",
            "                                                                 \n",
            "=================================================================\n",
            "Total params: 1,530,993\n",
            "Trainable params: 591,873\n",
            "Non-trainable params: 939,120\n",
            "_________________________________________________________________\n"
          ]
        }
      ]
    },
    {
      "cell_type": "code",
      "source": [
        "LEARNING_RATE = 1e-4\n",
        "model.compile(optimizer=Adam(learning_rate=LEARNING_RATE),\n",
        "              loss='mae',\n",
        "              metrics=['mae'])\n",
        "\n",
        "checkpoint_filepath = '/content/drive/MyDrive/AI_proj/data/moblie.ckpt'\n",
        "checkpointer = ModelCheckpoint(\n",
        "    filepath=checkpoint_filepath,\n",
        "    monitor='val_mae',\n",
        "    save_best_only=True,\n",
        "    save_weights_only=True,\n",
        "    verbose=1\n",
        ")\n",
        "\n",
        "\n",
        "EPOCHS = 30\n",
        "STEPS_PER_EPOCH = len(train_img_path) // BATCH_SIZE\n",
        "VAL_STEPS = len(vali_img_path) // BATCH_SIZE\n",
        "\n",
        "history = model.fit(train_dataset, epochs=EPOCHS,\n",
        "                    steps_per_epoch=STEPS_PER_EPOCH,\n",
        "                    validation_data=valid_dataset,\n",
        "                    validation_steps = VAL_STEPS,\n",
        "                    callbacks=[checkpointer],\n",
        "                    verbose=1)"
      ],
      "metadata": {
        "colab": {
          "base_uri": "https://localhost:8080/"
        },
        "id": "fsAT3hUN5gaE",
        "outputId": "e81b9725-62f5-476a-d5ac-667e32cb77e6"
      },
      "execution_count": null,
      "outputs": [
        {
          "output_type": "stream",
          "name": "stdout",
          "text": [
            "Epoch 1/30\n",
            "159/159 [==============================] - ETA: 0s - loss: 78.1208 - mae: 78.1208\n",
            "Epoch 1: val_mae improved from inf to 61.73845, saving model to /content/drive/MyDrive/AI_proj/data/moblie.ckpt\n",
            "159/159 [==============================] - 7s 22ms/step - loss: 78.1208 - mae: 78.1208 - val_loss: 61.7384 - val_mae: 61.7384\n",
            "Epoch 2/30\n",
            "159/159 [==============================] - ETA: 0s - loss: 75.3319 - mae: 75.3319\n",
            "Epoch 2: val_mae improved from 61.73845 to 59.69302, saving model to /content/drive/MyDrive/AI_proj/data/moblie.ckpt\n",
            "159/159 [==============================] - 2s 16ms/step - loss: 75.3319 - mae: 75.3319 - val_loss: 59.6930 - val_mae: 59.6930\n",
            "Epoch 3/30\n",
            "157/159 [============================>.] - ETA: 0s - loss: 75.2335 - mae: 75.2335\n",
            "Epoch 3: val_mae improved from 59.69302 to 58.64133, saving model to /content/drive/MyDrive/AI_proj/data/moblie.ckpt\n",
            "159/159 [==============================] - 3s 16ms/step - loss: 74.5805 - mae: 74.5805 - val_loss: 58.6413 - val_mae: 58.6413\n",
            "Epoch 4/30\n",
            "158/159 [============================>.] - ETA: 0s - loss: 74.6196 - mae: 74.6196\n",
            "Epoch 4: val_mae improved from 58.64133 to 58.19305, saving model to /content/drive/MyDrive/AI_proj/data/moblie.ckpt\n",
            "159/159 [==============================] - 3s 16ms/step - loss: 74.2822 - mae: 74.2822 - val_loss: 58.1931 - val_mae: 58.1931\n",
            "Epoch 5/30\n",
            "157/159 [============================>.] - ETA: 0s - loss: 74.7795 - mae: 74.7795\n",
            "Epoch 5: val_mae improved from 58.19305 to 58.09360, saving model to /content/drive/MyDrive/AI_proj/data/moblie.ckpt\n",
            "159/159 [==============================] - 3s 16ms/step - loss: 74.1869 - mae: 74.1869 - val_loss: 58.0936 - val_mae: 58.0936\n",
            "Epoch 6/30\n",
            "159/159 [==============================] - ETA: 0s - loss: 74.1354 - mae: 74.1354\n",
            "Epoch 6: val_mae improved from 58.09360 to 58.09270, saving model to /content/drive/MyDrive/AI_proj/data/moblie.ckpt\n",
            "159/159 [==============================] - 3s 16ms/step - loss: 74.1354 - mae: 74.1354 - val_loss: 58.0927 - val_mae: 58.0927\n",
            "Epoch 7/30\n",
            "157/159 [============================>.] - ETA: 0s - loss: 74.6930 - mae: 74.6930\n",
            "Epoch 7: val_mae did not improve from 58.09270\n",
            "159/159 [==============================] - 2s 15ms/step - loss: 74.1250 - mae: 74.1250 - val_loss: 58.1223 - val_mae: 58.1223\n",
            "Epoch 8/30\n",
            "155/159 [============================>.] - ETA: 0s - loss: 75.3013 - mae: 75.3013\n",
            "Epoch 8: val_mae did not improve from 58.09270\n",
            "159/159 [==============================] - 2s 15ms/step - loss: 74.1161 - mae: 74.1161 - val_loss: 58.1360 - val_mae: 58.1360\n",
            "Epoch 9/30\n",
            "155/159 [============================>.] - ETA: 0s - loss: 75.2917 - mae: 75.2917\n",
            "Epoch 9: val_mae did not improve from 58.09270\n",
            "159/159 [==============================] - 2s 14ms/step - loss: 74.1064 - mae: 74.1064 - val_loss: 58.1337 - val_mae: 58.1337\n",
            "Epoch 10/30\n",
            "157/159 [============================>.] - ETA: 0s - loss: 74.6685 - mae: 74.6685\n",
            "Epoch 10: val_mae did not improve from 58.09270\n",
            "159/159 [==============================] - 2s 14ms/step - loss: 74.1050 - mae: 74.1050 - val_loss: 58.1483 - val_mae: 58.1483\n",
            "Epoch 11/30\n",
            "156/159 [============================>.] - ETA: 0s - loss: 74.9790 - mae: 74.9790\n",
            "Epoch 11: val_mae did not improve from 58.09270\n",
            "159/159 [==============================] - 2s 14ms/step - loss: 74.1050 - mae: 74.1050 - val_loss: 58.1448 - val_mae: 58.1448\n",
            "Epoch 12/30\n",
            "156/159 [============================>.] - ETA: 0s - loss: 74.9739 - mae: 74.9739\n",
            "Epoch 12: val_mae did not improve from 58.09270\n",
            "159/159 [==============================] - 2s 14ms/step - loss: 74.0983 - mae: 74.0983 - val_loss: 58.1419 - val_mae: 58.1419\n",
            "Epoch 13/30\n",
            "155/159 [============================>.] - ETA: 0s - loss: 75.2746 - mae: 75.2746\n",
            "Epoch 13: val_mae did not improve from 58.09270\n",
            "159/159 [==============================] - 2s 13ms/step - loss: 74.0914 - mae: 74.0914 - val_loss: 58.1502 - val_mae: 58.1502\n",
            "Epoch 14/30\n",
            "159/159 [==============================] - ETA: 0s - loss: 74.0848 - mae: 74.0848\n",
            "Epoch 14: val_mae did not improve from 58.09270\n",
            "159/159 [==============================] - 2s 14ms/step - loss: 74.0848 - mae: 74.0848 - val_loss: 58.1407 - val_mae: 58.1407\n",
            "Epoch 15/30\n",
            "156/159 [============================>.] - ETA: 0s - loss: 74.9621 - mae: 74.9621\n",
            "Epoch 15: val_mae did not improve from 58.09270\n",
            "159/159 [==============================] - 2s 14ms/step - loss: 74.0872 - mae: 74.0872 - val_loss: 58.1372 - val_mae: 58.1372\n",
            "Epoch 16/30\n",
            "158/159 [============================>.] - ETA: 0s - loss: 74.3936 - mae: 74.3936\n",
            "Epoch 16: val_mae did not improve from 58.09270\n",
            "159/159 [==============================] - 2s 14ms/step - loss: 74.0819 - mae: 74.0819 - val_loss: 58.1368 - val_mae: 58.1368\n",
            "Epoch 17/30\n",
            "155/159 [============================>.] - ETA: 0s - loss: 75.2585 - mae: 75.2585\n",
            "Epoch 17: val_mae did not improve from 58.09270\n",
            "159/159 [==============================] - 2s 14ms/step - loss: 74.0755 - mae: 74.0755 - val_loss: 58.1271 - val_mae: 58.1271\n",
            "Epoch 18/30\n",
            "155/159 [============================>.] - ETA: 0s - loss: 75.2566 - mae: 75.2566\n",
            "Epoch 18: val_mae did not improve from 58.09270\n",
            "159/159 [==============================] - 2s 14ms/step - loss: 74.0741 - mae: 74.0741 - val_loss: 58.1165 - val_mae: 58.1165\n",
            "Epoch 19/30\n",
            "159/159 [==============================] - ETA: 0s - loss: 74.0734 - mae: 74.0734\n",
            "Epoch 19: val_mae did not improve from 58.09270\n",
            "159/159 [==============================] - 2s 14ms/step - loss: 74.0734 - mae: 74.0734 - val_loss: 58.1155 - val_mae: 58.1155\n",
            "Epoch 20/30\n",
            "158/159 [============================>.] - ETA: 0s - loss: 74.3848 - mae: 74.3848\n",
            "Epoch 20: val_mae did not improve from 58.09270\n",
            "159/159 [==============================] - 2s 14ms/step - loss: 74.0723 - mae: 74.0723 - val_loss: 58.1049 - val_mae: 58.1049\n",
            "Epoch 21/30\n",
            "159/159 [==============================] - ETA: 0s - loss: 74.0648 - mae: 74.0648\n",
            "Epoch 21: val_mae did not improve from 58.09270\n",
            "159/159 [==============================] - 2s 14ms/step - loss: 74.0648 - mae: 74.0648 - val_loss: 58.0957 - val_mae: 58.0957\n",
            "Epoch 22/30\n",
            "159/159 [==============================] - ETA: 0s - loss: 74.0657 - mae: 74.0657\n",
            "Epoch 22: val_mae did not improve from 58.09270\n",
            "159/159 [==============================] - 3s 16ms/step - loss: 74.0657 - mae: 74.0657 - val_loss: 58.0939 - val_mae: 58.0939\n",
            "Epoch 23/30\n",
            "159/159 [==============================] - ETA: 0s - loss: 74.0653 - mae: 74.0653\n",
            "Epoch 23: val_mae did not improve from 58.09270\n",
            "159/159 [==============================] - 3s 16ms/step - loss: 74.0653 - mae: 74.0653 - val_loss: 58.0929 - val_mae: 58.0929\n",
            "Epoch 24/30\n",
            "159/159 [==============================] - ETA: 0s - loss: 74.0560 - mae: 74.0560\n",
            "Epoch 24: val_mae improved from 58.09270 to 58.09256, saving model to /content/drive/MyDrive/AI_proj/data/moblie.ckpt\n",
            "159/159 [==============================] - 2s 15ms/step - loss: 74.0560 - mae: 74.0560 - val_loss: 58.0926 - val_mae: 58.0926\n",
            "Epoch 25/30\n",
            "156/159 [============================>.] - ETA: 0s - loss: 74.9340 - mae: 74.9340\n",
            "Epoch 25: val_mae improved from 58.09256 to 58.09227, saving model to /content/drive/MyDrive/AI_proj/data/moblie.ckpt\n",
            "159/159 [==============================] - 2s 15ms/step - loss: 74.0600 - mae: 74.0600 - val_loss: 58.0923 - val_mae: 58.0923\n",
            "Epoch 26/30\n",
            "159/159 [==============================] - ETA: 0s - loss: 74.0539 - mae: 74.0539\n",
            "Epoch 26: val_mae did not improve from 58.09227\n",
            "159/159 [==============================] - 2s 14ms/step - loss: 74.0539 - mae: 74.0539 - val_loss: 58.0928 - val_mae: 58.0928\n",
            "Epoch 27/30\n",
            "157/159 [============================>.] - ETA: 0s - loss: 74.6116 - mae: 74.6116\n",
            "Epoch 27: val_mae did not improve from 58.09227\n",
            "159/159 [==============================] - 2s 14ms/step - loss: 74.0500 - mae: 74.0500 - val_loss: 58.0935 - val_mae: 58.0935\n",
            "Epoch 28/30\n",
            "157/159 [============================>.] - ETA: 0s - loss: 74.6094 - mae: 74.6094\n",
            "Epoch 28: val_mae improved from 58.09227 to 58.08559, saving model to /content/drive/MyDrive/AI_proj/data/moblie.ckpt\n",
            "159/159 [==============================] - 4s 23ms/step - loss: 74.0471 - mae: 74.0471 - val_loss: 58.0856 - val_mae: 58.0856\n",
            "Epoch 29/30\n",
            "155/159 [============================>.] - ETA: 0s - loss: 75.2316 - mae: 75.2316\n",
            "Epoch 29: val_mae improved from 58.08559 to 58.07568, saving model to /content/drive/MyDrive/AI_proj/data/moblie.ckpt\n",
            "159/159 [==============================] - 2s 15ms/step - loss: 74.0489 - mae: 74.0489 - val_loss: 58.0757 - val_mae: 58.0757\n",
            "Epoch 30/30\n",
            "155/159 [============================>.] - ETA: 0s - loss: 75.2329 - mae: 75.2329\n",
            "Epoch 30: val_mae improved from 58.07568 to 58.07368, saving model to /content/drive/MyDrive/AI_proj/data/moblie.ckpt\n",
            "159/159 [==============================] - 2s 15ms/step - loss: 74.0515 - mae: 74.0515 - val_loss: 58.0737 - val_mae: 58.0737\n"
          ]
        }
      ]
    },
    {
      "cell_type": "markdown",
      "source": [
        "### graph"
      ],
      "metadata": {
        "id": "q2C7dEum6SKZ"
      }
    },
    {
      "cell_type": "code",
      "source": [
        "plt.figure(figsize=(8, 8))\n",
        "plt.plot(history.history['mae'], label='Training MAE')\n",
        "plt.plot(history.history['val_mae'], label='Validation MAE')\n",
        "plt.legend(loc='lower right')\n",
        "plt.title('Training and Validation MAE')"
      ],
      "metadata": {
        "colab": {
          "base_uri": "https://localhost:8080/",
          "height": 517
        },
        "id": "zUzu-swa6P91",
        "outputId": "68ecf8ae-4725-444e-8962-a5ab461a24b2"
      },
      "execution_count": null,
      "outputs": [
        {
          "output_type": "execute_result",
          "data": {
            "text/plain": [
              "Text(0.5, 1.0, 'Training and Validation MAE')"
            ]
          },
          "metadata": {},
          "execution_count": 52
        },
        {
          "output_type": "display_data",
          "data": {
            "text/plain": [
              "<Figure size 576x576 with 1 Axes>"
            ],
            "image/png": "[encoded data removed]"
          },
          "metadata": {
            "needs_background": "light"
          }
        }
      ]
    },
    {
      "cell_type": "markdown",
      "source": [
        "# Inception V2 resnet : epoch 30, 0.2 dropout, lr = 1e-4, augmentation "
      ],
      "metadata": {
        "id": "KMN-7_zd56uf"
      }
    },
    {
      "cell_type": "markdown",
      "source": [
        "## Optimizer : Adam"
      ],
      "metadata": {
        "id": "F4_T2w7M7Tm5"
      }
    },
    {
      "cell_type": "code",
      "source": [
        "tf.keras.backend.clear_session()\n",
        "MODEL_IMAGE_SIZE = 299\n",
        "base_model = inception_resnet_v2.InceptionResNetV2(\n",
        "    weights='imagenet',\n",
        "    include_top = False,\n",
        "    input_shape = (MODEL_IMAGE_SIZE, MODEL_IMAGE_SIZE,3)\n",
        ")\n",
        "\n",
        "input_data_s = Input((IMAGE_SIZE, IMAGE_SIZE, 3))\n",
        "x = tf.keras.layers.experimental.preprocessing.Resizing(MODEL_IMAGE_SIZE, MODEL_IMAGE_SIZE)(input_data_s)\n",
        "x = tf.keras.layers.experimental.preprocessing.RandomFlip('horizontal_and_vertical')(x)\n",
        "output_data_s = tf.keras.layers.experimental.preprocessing.RandomRotation(0.2)(x)\n",
        "augmentation = Model(inputs=input_data_s, outputs=output_data_s)\n",
        "\n",
        "base_model.trainable = False\n",
        "model = Sequential()\n",
        "model.add(augmentation)\n",
        "model.add(base_model)\n",
        "model.add(GlobalAveragePooling2D())\n",
        "model.add(Dropout(0.2))\n",
        "model.add(Dense(1024, activation='relu'))\n",
        "model.add(Dense(1, activation='linear'))\n",
        "\n",
        "model.summary()\n",
        "\n"
      ],
      "metadata": {
        "colab": {
          "base_uri": "https://localhost:8080/"
        },
        "id": "jSnd9X-N596r",
        "outputId": "df60994c-2d67-4c28-9942-7cb94a9ae7ba"
      },
      "execution_count": null,
      "outputs": [
        {
          "output_type": "stream",
          "name": "stdout",
          "text": [
            "Downloading data from https://storage.googleapis.com/tensorflow/keras-applications/inception_resnet_v2/inception_resnet_v2_weights_tf_dim_ordering_tf_kernels_notop.h5\n",
            "219062272/219055592 [==============================] - 1s 0us/step\n",
            "219070464/219055592 [==============================] - 1s 0us/step\n",
            "Model: \"sequential\"\n",
            "_________________________________________________________________\n",
            " Layer (type)                Output Shape              Param #   \n",
            "=================================================================\n",
            " model (Functional)          (None, 299, 299, 3)       0         \n",
            "                                                                 \n",
            " inception_resnet_v2 (Functi  (None, 8, 8, 1536)       54336736  \n",
            " onal)                                                           \n",
            "                                                                 \n",
            " global_average_pooling2d (G  (None, 1536)             0         \n",
            " lobalAveragePooling2D)                                          \n",
            "                                                                 \n",
            " dropout (Dropout)           (None, 1536)              0         \n",
            "                                                                 \n",
            " dense (Dense)               (None, 1024)              1573888   \n",
            "                                                                 \n",
            " dense_1 (Dense)             (None, 1)                 1025      \n",
            "                                                                 \n",
            "=================================================================\n",
            "Total params: 55,911,649\n",
            "Trainable params: 1,574,913\n",
            "Non-trainable params: 54,336,736\n",
            "_________________________________________________________________\n"
          ]
        }
      ]
    },
    {
      "cell_type": "code",
      "source": [
        "LEARNING_RATE = 1e-4\n",
        "model.compile(optimizer=Adam(learning_rate=LEARNING_RATE),\n",
        "              loss='mae',\n",
        "              metrics=['mae'])\n",
        "\n",
        "checkpoint_filepath = '/content/drive/MyDrive/AI_proj/data/moblie.ckpt'\n",
        "checkpointer = ModelCheckpoint(\n",
        "    filepath=checkpoint_filepath,\n",
        "    monitor='val_mae',\n",
        "    save_best_only=True,\n",
        "    save_weights_only=True,\n",
        "    verbose=1\n",
        ")\n",
        "\n",
        "\n",
        "EPOCHS = 30\n",
        "STEPS_PER_EPOCH = len(train_img_path) // BATCH_SIZE\n",
        "VAL_STEPS = len(vali_img_path) // BATCH_SIZE\n",
        "\n",
        "history = model.fit(train_dataset, epochs=EPOCHS,\n",
        "                    steps_per_epoch=STEPS_PER_EPOCH,\n",
        "                    validation_data=valid_dataset,\n",
        "                    validation_steps = VAL_STEPS,\n",
        "                    callbacks=[checkpointer],\n",
        "                    verbose=1)"
      ],
      "metadata": {
        "colab": {
          "base_uri": "https://localhost:8080/"
        },
        "id": "Hohpypkl6ICS",
        "outputId": "a693b25f-e7aa-4527-cc00-f49c236c6f2c"
      },
      "execution_count": null,
      "outputs": [
        {
          "output_type": "stream",
          "name": "stdout",
          "text": [
            "Epoch 1/30\n",
            "159/159 [==============================] - ETA: 0s - loss: 74.7022 - mae: 74.7022\n",
            "Epoch 1: val_mae improved from inf to 55.82667, saving model to /content/drive/MyDrive/AI_proj/data/moblie.ckpt\n",
            "159/159 [==============================] - 37s 157ms/step - loss: 74.7022 - mae: 74.7022 - val_loss: 55.8267 - val_mae: 55.8267\n",
            "Epoch 2/30\n",
            "159/159 [==============================] - ETA: 0s - loss: 70.9807 - mae: 70.9807\n",
            "Epoch 2: val_mae improved from 55.82667 to 53.07666, saving model to /content/drive/MyDrive/AI_proj/data/moblie.ckpt\n",
            "159/159 [==============================] - 23s 145ms/step - loss: 70.9807 - mae: 70.9807 - val_loss: 53.0767 - val_mae: 53.0767\n",
            "Epoch 3/30\n",
            "159/159 [==============================] - ETA: 0s - loss: 69.2038 - mae: 69.2038\n",
            "Epoch 3: val_mae improved from 53.07666 to 51.16116, saving model to /content/drive/MyDrive/AI_proj/data/moblie.ckpt\n",
            "159/159 [==============================] - 22s 141ms/step - loss: 69.2038 - mae: 69.2038 - val_loss: 51.1612 - val_mae: 51.1612\n",
            "Epoch 4/30\n",
            "159/159 [==============================] - ETA: 0s - loss: 67.5805 - mae: 67.5805\n",
            "Epoch 4: val_mae improved from 51.16116 to 49.93589, saving model to /content/drive/MyDrive/AI_proj/data/moblie.ckpt\n",
            "159/159 [==============================] - 22s 142ms/step - loss: 67.5805 - mae: 67.5805 - val_loss: 49.9359 - val_mae: 49.9359\n",
            "Epoch 5/30\n",
            "159/159 [==============================] - ETA: 0s - loss: 66.5852 - mae: 66.5852\n",
            "Epoch 5: val_mae improved from 49.93589 to 49.32566, saving model to /content/drive/MyDrive/AI_proj/data/moblie.ckpt\n",
            "159/159 [==============================] - 23s 147ms/step - loss: 66.5852 - mae: 66.5852 - val_loss: 49.3257 - val_mae: 49.3257\n",
            "Epoch 6/30\n",
            "159/159 [==============================] - ETA: 0s - loss: 65.7178 - mae: 65.7178\n",
            "Epoch 6: val_mae improved from 49.32566 to 49.12226, saving model to /content/drive/MyDrive/AI_proj/data/moblie.ckpt\n",
            "159/159 [==============================] - 22s 141ms/step - loss: 65.7178 - mae: 65.7178 - val_loss: 49.1223 - val_mae: 49.1223\n",
            "Epoch 7/30\n",
            "159/159 [==============================] - ETA: 0s - loss: 65.0316 - mae: 65.0316\n",
            "Epoch 7: val_mae improved from 49.12226 to 48.86100, saving model to /content/drive/MyDrive/AI_proj/data/moblie.ckpt\n",
            "159/159 [==============================] - 23s 144ms/step - loss: 65.0316 - mae: 65.0316 - val_loss: 48.8610 - val_mae: 48.8610\n",
            "Epoch 8/30\n",
            "159/159 [==============================] - ETA: 0s - loss: 64.1929 - mae: 64.1929\n",
            "Epoch 8: val_mae improved from 48.86100 to 47.17246, saving model to /content/drive/MyDrive/AI_proj/data/moblie.ckpt\n",
            "159/159 [==============================] - 23s 144ms/step - loss: 64.1929 - mae: 64.1929 - val_loss: 47.1725 - val_mae: 47.1725\n",
            "Epoch 9/30\n",
            "159/159 [==============================] - ETA: 0s - loss: 63.9155 - mae: 63.9155\n",
            "Epoch 9: val_mae improved from 47.17246 to 46.40438, saving model to /content/drive/MyDrive/AI_proj/data/moblie.ckpt\n",
            "159/159 [==============================] - 24s 151ms/step - loss: 63.9155 - mae: 63.9155 - val_loss: 46.4044 - val_mae: 46.4044\n",
            "Epoch 10/30\n",
            "159/159 [==============================] - ETA: 0s - loss: 63.8511 - mae: 63.8511\n",
            "Epoch 10: val_mae improved from 46.40438 to 45.86813, saving model to /content/drive/MyDrive/AI_proj/data/moblie.ckpt\n",
            "159/159 [==============================] - 22s 138ms/step - loss: 63.8511 - mae: 63.8511 - val_loss: 45.8681 - val_mae: 45.8681\n",
            "Epoch 11/30\n",
            "159/159 [==============================] - ETA: 0s - loss: 63.6780 - mae: 63.6780\n",
            "Epoch 11: val_mae improved from 45.86813 to 45.85632, saving model to /content/drive/MyDrive/AI_proj/data/moblie.ckpt\n",
            "159/159 [==============================] - 23s 143ms/step - loss: 63.6780 - mae: 63.6780 - val_loss: 45.8563 - val_mae: 45.8563\n",
            "Epoch 12/30\n",
            "159/159 [==============================] - ETA: 0s - loss: 62.7879 - mae: 62.7879\n",
            "Epoch 12: val_mae improved from 45.85632 to 44.44332, saving model to /content/drive/MyDrive/AI_proj/data/moblie.ckpt\n",
            "159/159 [==============================] - 22s 138ms/step - loss: 62.7879 - mae: 62.7879 - val_loss: 44.4433 - val_mae: 44.4433\n",
            "Epoch 13/30\n",
            "159/159 [==============================] - ETA: 0s - loss: 62.9969 - mae: 62.9969\n",
            "Epoch 13: val_mae did not improve from 44.44332\n",
            "159/159 [==============================] - 20s 129ms/step - loss: 62.9969 - mae: 62.9969 - val_loss: 44.8699 - val_mae: 44.8699\n",
            "Epoch 14/30\n",
            "159/159 [==============================] - ETA: 0s - loss: 62.8328 - mae: 62.8328\n",
            "Epoch 14: val_mae improved from 44.44332 to 43.82313, saving model to /content/drive/MyDrive/AI_proj/data/moblie.ckpt\n",
            "159/159 [==============================] - 22s 139ms/step - loss: 62.8328 - mae: 62.8328 - val_loss: 43.8231 - val_mae: 43.8231\n",
            "Epoch 15/30\n",
            "159/159 [==============================] - ETA: 0s - loss: 62.8249 - mae: 62.8249\n",
            "Epoch 15: val_mae improved from 43.82313 to 42.96224, saving model to /content/drive/MyDrive/AI_proj/data/moblie.ckpt\n",
            "159/159 [==============================] - 22s 138ms/step - loss: 62.8249 - mae: 62.8249 - val_loss: 42.9622 - val_mae: 42.9622\n",
            "Epoch 16/30\n",
            "159/159 [==============================] - ETA: 0s - loss: 63.0881 - mae: 63.0881\n",
            "Epoch 16: val_mae did not improve from 42.96224\n",
            "159/159 [==============================] - 20s 129ms/step - loss: 63.0881 - mae: 63.0881 - val_loss: 43.4351 - val_mae: 43.4351\n",
            "Epoch 17/30\n",
            "159/159 [==============================] - ETA: 0s - loss: 62.8608 - mae: 62.8608\n",
            "Epoch 17: val_mae improved from 42.96224 to 42.88464, saving model to /content/drive/MyDrive/AI_proj/data/moblie.ckpt\n",
            "159/159 [==============================] - 22s 137ms/step - loss: 62.8608 - mae: 62.8608 - val_loss: 42.8846 - val_mae: 42.8846\n",
            "Epoch 18/30\n",
            "159/159 [==============================] - ETA: 0s - loss: 62.9353 - mae: 62.9353\n",
            "Epoch 18: val_mae did not improve from 42.88464\n",
            "159/159 [==============================] - 20s 128ms/step - loss: 62.9353 - mae: 62.9353 - val_loss: 42.9110 - val_mae: 42.9110\n",
            "Epoch 19/30\n",
            "159/159 [==============================] - ETA: 0s - loss: 63.2734 - mae: 63.2734\n",
            "Epoch 19: val_mae improved from 42.88464 to 41.86310, saving model to /content/drive/MyDrive/AI_proj/data/moblie.ckpt\n",
            "159/159 [==============================] - 22s 140ms/step - loss: 63.2734 - mae: 63.2734 - val_loss: 41.8631 - val_mae: 41.8631\n",
            "Epoch 20/30\n",
            "159/159 [==============================] - ETA: 0s - loss: 63.1141 - mae: 63.1141\n",
            "Epoch 20: val_mae did not improve from 41.86310\n",
            "159/159 [==============================] - 20s 128ms/step - loss: 63.1141 - mae: 63.1141 - val_loss: 41.9312 - val_mae: 41.9312\n",
            "Epoch 21/30\n",
            "159/159 [==============================] - ETA: 0s - loss: 62.5817 - mae: 62.5817\n",
            "Epoch 21: val_mae improved from 41.86310 to 40.71885, saving model to /content/drive/MyDrive/AI_proj/data/moblie.ckpt\n",
            "159/159 [==============================] - 22s 137ms/step - loss: 62.5817 - mae: 62.5817 - val_loss: 40.7189 - val_mae: 40.7189\n",
            "Epoch 22/30\n",
            "159/159 [==============================] - ETA: 0s - loss: 62.9418 - mae: 62.9418\n",
            "Epoch 22: val_mae improved from 40.71885 to 40.00627, saving model to /content/drive/MyDrive/AI_proj/data/moblie.ckpt\n",
            "159/159 [==============================] - 22s 141ms/step - loss: 62.9418 - mae: 62.9418 - val_loss: 40.0063 - val_mae: 40.0063\n",
            "Epoch 23/30\n",
            "159/159 [==============================] - ETA: 0s - loss: 62.4513 - mae: 62.4513\n",
            "Epoch 23: val_mae did not improve from 40.00627\n",
            "159/159 [==============================] - 20s 129ms/step - loss: 62.4513 - mae: 62.4513 - val_loss: 40.3413 - val_mae: 40.3413\n",
            "Epoch 24/30\n",
            "159/159 [==============================] - ETA: 0s - loss: 62.3583 - mae: 62.3583\n",
            "Epoch 24: val_mae did not improve from 40.00627\n",
            "159/159 [==============================] - 20s 128ms/step - loss: 62.3583 - mae: 62.3583 - val_loss: 40.2589 - val_mae: 40.2589\n",
            "Epoch 25/30\n",
            "159/159 [==============================] - ETA: 0s - loss: 62.4965 - mae: 62.4965\n",
            "Epoch 25: val_mae improved from 40.00627 to 39.99579, saving model to /content/drive/MyDrive/AI_proj/data/moblie.ckpt\n",
            "159/159 [==============================] - 22s 137ms/step - loss: 62.4965 - mae: 62.4965 - val_loss: 39.9958 - val_mae: 39.9958\n",
            "Epoch 26/30\n",
            "159/159 [==============================] - ETA: 0s - loss: 62.3644 - mae: 62.3644\n",
            "Epoch 26: val_mae improved from 39.99579 to 39.76894, saving model to /content/drive/MyDrive/AI_proj/data/moblie.ckpt\n",
            "159/159 [==============================] - 22s 137ms/step - loss: 62.3644 - mae: 62.3644 - val_loss: 39.7689 - val_mae: 39.7689\n",
            "Epoch 27/30\n",
            "159/159 [==============================] - ETA: 0s - loss: 62.4717 - mae: 62.4717\n",
            "Epoch 27: val_mae improved from 39.76894 to 38.99240, saving model to /content/drive/MyDrive/AI_proj/data/moblie.ckpt\n",
            "159/159 [==============================] - 22s 137ms/step - loss: 62.4717 - mae: 62.4717 - val_loss: 38.9924 - val_mae: 38.9924\n",
            "Epoch 28/30\n",
            "159/159 [==============================] - ETA: 0s - loss: 62.3028 - mae: 62.3028\n",
            "Epoch 28: val_mae did not improve from 38.99240\n",
            "159/159 [==============================] - 20s 129ms/step - loss: 62.3028 - mae: 62.3028 - val_loss: 39.8621 - val_mae: 39.8621\n",
            "Epoch 29/30\n",
            "159/159 [==============================] - ETA: 0s - loss: 62.6515 - mae: 62.6515\n",
            "Epoch 29: val_mae did not improve from 38.99240\n",
            "159/159 [==============================] - 20s 128ms/step - loss: 62.6515 - mae: 62.6515 - val_loss: 39.2450 - val_mae: 39.2450\n",
            "Epoch 30/30\n",
            "159/159 [==============================] - ETA: 0s - loss: 62.1652 - mae: 62.1652\n",
            "Epoch 30: val_mae did not improve from 38.99240\n",
            "159/159 [==============================] - 20s 127ms/step - loss: 62.1652 - mae: 62.1652 - val_loss: 39.4081 - val_mae: 39.4081\n"
          ]
        }
      ]
    },
    {
      "cell_type": "markdown",
      "source": [
        "### graph"
      ],
      "metadata": {
        "id": "OjJcJCFe6K1Q"
      }
    },
    {
      "cell_type": "code",
      "source": [
        "plt.figure(figsize=(8, 8))\n",
        "plt.plot(history.history['mae'], label='Training MAE')\n",
        "plt.plot(history.history['val_mae'], label='Validation MAE')\n",
        "plt.legend(loc='lower left')\n",
        "plt.title('Training and Validation MAE')"
      ],
      "metadata": {
        "id": "o0PrWBeD6KTS"
      },
      "execution_count": null,
      "outputs": []
    },
    {
      "cell_type": "markdown",
      "source": [
        "## Optimizer : SGD"
      ],
      "metadata": {
        "id": "Buw0cM4_Arp5"
      }
    },
    {
      "cell_type": "code",
      "source": [
        "tf.keras.backend.clear_session()\n",
        "MODEL_IMAGE_SIZE = 299\n",
        "base_model = inception_resnet_v2.InceptionResNetV2(\n",
        "    weights='imagenet',\n",
        "    include_top = False,\n",
        "    input_shape = (MODEL_IMAGE_SIZE, MODEL_IMAGE_SIZE,3)\n",
        ")\n",
        "\n",
        "input_data_s = Input((IMAGE_SIZE, IMAGE_SIZE, 3))\n",
        "x = tf.keras.layers.experimental.preprocessing.Resizing(MODEL_IMAGE_SIZE, MODEL_IMAGE_SIZE)(input_data_s)\n",
        "x = tf.keras.layers.experimental.preprocessing.RandomFlip('horizontal_and_vertical')(x)\n",
        "output_data_s = tf.keras.layers.experimental.preprocessing.RandomRotation(0.2)(x)\n",
        "augmentation = Model(inputs=input_data_s, outputs=output_data_s)\n",
        "\n",
        "base_model.trainable = False\n",
        "model = Sequential()\n",
        "model.add(augmentation)\n",
        "model.add(base_model)\n",
        "model.add(GlobalAveragePooling2D())\n",
        "model.add(Dropout(0.2))\n",
        "model.add(Dense(1024, activation='relu'))\n",
        "model.add(Dense(1, activation='linear'))\n",
        "\n",
        "LEARNING_RATE = 1e-4\n",
        "model.compile(optimizer=SGD(learning_rate=LEARNING_RATE),\n",
        "              loss='mae',\n",
        "              metrics=['mae'])\n",
        "\n",
        "checkpoint_filepath = '/content/drive/MyDrive/AI_proj/data/inceptionresnet_sgd.ckpt'\n",
        "checkpointer = ModelCheckpoint(\n",
        "    filepath=checkpoint_filepath,\n",
        "    monitor='val_mae',\n",
        "    save_best_only=True,\n",
        "    save_weights_only=True,\n",
        "    verbose=1\n",
        ")\n",
        "\n",
        "\n",
        "EPOCHS = 30\n",
        "STEPS_PER_EPOCH = len(train_img_path) // BATCH_SIZE\n",
        "VAL_STEPS = len(vali_img_path) // BATCH_SIZE\n",
        "\n",
        "history = model.fit(train_dataset, epochs=EPOCHS,\n",
        "                    steps_per_epoch=STEPS_PER_EPOCH,\n",
        "                    validation_data=valid_dataset,\n",
        "                    validation_steps = VAL_STEPS,\n",
        "                    callbacks=[checkpointer],\n",
        "                    verbose=1)"
      ],
      "metadata": {
        "colab": {
          "base_uri": "https://localhost:8080/"
        },
        "id": "KQHRSeTMArbc",
        "outputId": "392ef1e5-d756-4891-d810-244e2e8195f8"
      },
      "execution_count": null,
      "outputs": [
        {
          "output_type": "stream",
          "name": "stdout",
          "text": [
            "Epoch 1/30\n",
            "159/159 [==============================] - ETA: 0s - loss: 82.2364 - mae: 82.2364\n",
            "Epoch 1: val_mae improved from inf to 67.75420, saving model to /content/drive/MyDrive/AI_proj/data/inceptionresnet_sgd.ckpt\n",
            "159/159 [==============================] - 35s 159ms/step - loss: 82.2364 - mae: 82.2364 - val_loss: 67.7542 - val_mae: 67.7542\n",
            "Epoch 2/30\n",
            "159/159 [==============================] - ETA: 0s - loss: 80.2011 - mae: 80.2011\n",
            "Epoch 2: val_mae improved from 67.75420 to 66.34673, saving model to /content/drive/MyDrive/AI_proj/data/inceptionresnet_sgd.ckpt\n",
            "159/159 [==============================] - 22s 140ms/step - loss: 80.2011 - mae: 80.2011 - val_loss: 66.3467 - val_mae: 66.3467\n",
            "Epoch 3/30\n",
            "159/159 [==============================] - ETA: 0s - loss: 78.9159 - mae: 78.9159\n",
            "Epoch 3: val_mae improved from 66.34673 to 65.18006, saving model to /content/drive/MyDrive/AI_proj/data/inceptionresnet_sgd.ckpt\n",
            "159/159 [==============================] - 22s 140ms/step - loss: 78.9159 - mae: 78.9159 - val_loss: 65.1801 - val_mae: 65.1801\n",
            "Epoch 4/30\n",
            "159/159 [==============================] - ETA: 0s - loss: 77.8861 - mae: 77.8861\n",
            "Epoch 4: val_mae improved from 65.18006 to 64.14216, saving model to /content/drive/MyDrive/AI_proj/data/inceptionresnet_sgd.ckpt\n",
            "159/159 [==============================] - 22s 135ms/step - loss: 77.8861 - mae: 77.8861 - val_loss: 64.1422 - val_mae: 64.1422\n",
            "Epoch 5/30\n",
            "159/159 [==============================] - ETA: 0s - loss: 77.0644 - mae: 77.0644\n",
            "Epoch 5: val_mae improved from 64.14216 to 63.16962, saving model to /content/drive/MyDrive/AI_proj/data/inceptionresnet_sgd.ckpt\n",
            "159/159 [==============================] - 22s 139ms/step - loss: 77.0644 - mae: 77.0644 - val_loss: 63.1696 - val_mae: 63.1696\n",
            "Epoch 6/30\n",
            "159/159 [==============================] - ETA: 0s - loss: 76.3376 - mae: 76.3376\n",
            "Epoch 6: val_mae improved from 63.16962 to 62.28305, saving model to /content/drive/MyDrive/AI_proj/data/inceptionresnet_sgd.ckpt\n",
            "159/159 [==============================] - 22s 139ms/step - loss: 76.3376 - mae: 76.3376 - val_loss: 62.2830 - val_mae: 62.2830\n",
            "Epoch 7/30\n",
            "159/159 [==============================] - ETA: 0s - loss: 75.7151 - mae: 75.7151\n",
            "Epoch 7: val_mae improved from 62.28305 to 61.49323, saving model to /content/drive/MyDrive/AI_proj/data/inceptionresnet_sgd.ckpt\n",
            "159/159 [==============================] - 22s 136ms/step - loss: 75.7151 - mae: 75.7151 - val_loss: 61.4932 - val_mae: 61.4932\n",
            "Epoch 8/30\n",
            "159/159 [==============================] - ETA: 0s - loss: 75.1596 - mae: 75.1596\n",
            "Epoch 8: val_mae improved from 61.49323 to 60.73297, saving model to /content/drive/MyDrive/AI_proj/data/inceptionresnet_sgd.ckpt\n",
            "159/159 [==============================] - 21s 135ms/step - loss: 75.1596 - mae: 75.1596 - val_loss: 60.7330 - val_mae: 60.7330\n",
            "Epoch 9/30\n",
            "159/159 [==============================] - ETA: 0s - loss: 74.8183 - mae: 74.8183\n",
            "Epoch 9: val_mae improved from 60.73297 to 60.09574, saving model to /content/drive/MyDrive/AI_proj/data/inceptionresnet_sgd.ckpt\n",
            "159/159 [==============================] - 22s 136ms/step - loss: 74.8183 - mae: 74.8183 - val_loss: 60.0957 - val_mae: 60.0957\n",
            "Epoch 10/30\n",
            "159/159 [==============================] - ETA: 0s - loss: 74.3033 - mae: 74.3033\n",
            "Epoch 10: val_mae improved from 60.09574 to 59.51900, saving model to /content/drive/MyDrive/AI_proj/data/inceptionresnet_sgd.ckpt\n",
            "159/159 [==============================] - 22s 139ms/step - loss: 74.3033 - mae: 74.3033 - val_loss: 59.5190 - val_mae: 59.5190\n",
            "Epoch 11/30\n",
            "159/159 [==============================] - ETA: 0s - loss: 74.0766 - mae: 74.0766\n",
            "Epoch 11: val_mae improved from 59.51900 to 58.97242, saving model to /content/drive/MyDrive/AI_proj/data/inceptionresnet_sgd.ckpt\n",
            "159/159 [==============================] - 23s 146ms/step - loss: 74.0766 - mae: 74.0766 - val_loss: 58.9724 - val_mae: 58.9724\n",
            "Epoch 12/30\n",
            "159/159 [==============================] - ETA: 0s - loss: 73.8903 - mae: 73.8903\n",
            "Epoch 12: val_mae improved from 58.97242 to 58.49233, saving model to /content/drive/MyDrive/AI_proj/data/inceptionresnet_sgd.ckpt\n",
            "159/159 [==============================] - 22s 141ms/step - loss: 73.8903 - mae: 73.8903 - val_loss: 58.4923 - val_mae: 58.4923\n",
            "Epoch 13/30\n",
            "159/159 [==============================] - ETA: 0s - loss: 73.5509 - mae: 73.5509\n",
            "Epoch 13: val_mae improved from 58.49233 to 58.01945, saving model to /content/drive/MyDrive/AI_proj/data/inceptionresnet_sgd.ckpt\n",
            "159/159 [==============================] - 23s 143ms/step - loss: 73.5509 - mae: 73.5509 - val_loss: 58.0195 - val_mae: 58.0195\n",
            "Epoch 14/30\n",
            "159/159 [==============================] - ETA: 0s - loss: 73.3021 - mae: 73.3021\n",
            "Epoch 14: val_mae improved from 58.01945 to 57.56496, saving model to /content/drive/MyDrive/AI_proj/data/inceptionresnet_sgd.ckpt\n",
            "159/159 [==============================] - 22s 138ms/step - loss: 73.3021 - mae: 73.3021 - val_loss: 57.5650 - val_mae: 57.5650\n",
            "Epoch 15/30\n",
            "159/159 [==============================] - ETA: 0s - loss: 73.1486 - mae: 73.1486\n",
            "Epoch 15: val_mae improved from 57.56496 to 57.23371, saving model to /content/drive/MyDrive/AI_proj/data/inceptionresnet_sgd.ckpt\n",
            "159/159 [==============================] - 22s 141ms/step - loss: 73.1486 - mae: 73.1486 - val_loss: 57.2337 - val_mae: 57.2337\n",
            "Epoch 16/30\n",
            "159/159 [==============================] - ETA: 0s - loss: 72.9282 - mae: 72.9282\n",
            "Epoch 16: val_mae improved from 57.23371 to 56.90206, saving model to /content/drive/MyDrive/AI_proj/data/inceptionresnet_sgd.ckpt\n",
            "159/159 [==============================] - 22s 137ms/step - loss: 72.9282 - mae: 72.9282 - val_loss: 56.9021 - val_mae: 56.9021\n",
            "Epoch 17/30\n",
            "159/159 [==============================] - ETA: 0s - loss: 72.8581 - mae: 72.8581\n",
            "Epoch 17: val_mae improved from 56.90206 to 56.63551, saving model to /content/drive/MyDrive/AI_proj/data/inceptionresnet_sgd.ckpt\n",
            "159/159 [==============================] - 22s 139ms/step - loss: 72.8581 - mae: 72.8581 - val_loss: 56.6355 - val_mae: 56.6355\n",
            "Epoch 18/30\n",
            "159/159 [==============================] - ETA: 0s - loss: 72.6209 - mae: 72.6209\n",
            "Epoch 18: val_mae improved from 56.63551 to 56.43118, saving model to /content/drive/MyDrive/AI_proj/data/inceptionresnet_sgd.ckpt\n",
            "159/159 [==============================] - 22s 137ms/step - loss: 72.6209 - mae: 72.6209 - val_loss: 56.4312 - val_mae: 56.4312\n",
            "Epoch 19/30\n",
            "159/159 [==============================] - ETA: 0s - loss: 72.3673 - mae: 72.3673\n",
            "Epoch 19: val_mae improved from 56.43118 to 56.23365, saving model to /content/drive/MyDrive/AI_proj/data/inceptionresnet_sgd.ckpt\n",
            "159/159 [==============================] - 23s 143ms/step - loss: 72.3673 - mae: 72.3673 - val_loss: 56.2337 - val_mae: 56.2337\n",
            "Epoch 20/30\n",
            "159/159 [==============================] - ETA: 0s - loss: 72.3242 - mae: 72.3242\n",
            "Epoch 20: val_mae improved from 56.23365 to 56.08141, saving model to /content/drive/MyDrive/AI_proj/data/inceptionresnet_sgd.ckpt\n",
            "159/159 [==============================] - 23s 147ms/step - loss: 72.3242 - mae: 72.3242 - val_loss: 56.0814 - val_mae: 56.0814\n",
            "Epoch 21/30\n",
            "159/159 [==============================] - ETA: 0s - loss: 72.0829 - mae: 72.0829\n",
            "Epoch 21: val_mae improved from 56.08141 to 55.93785, saving model to /content/drive/MyDrive/AI_proj/data/inceptionresnet_sgd.ckpt\n",
            "159/159 [==============================] - 23s 142ms/step - loss: 72.0829 - mae: 72.0829 - val_loss: 55.9379 - val_mae: 55.9379\n",
            "Epoch 22/30\n",
            "159/159 [==============================] - ETA: 0s - loss: 71.9440 - mae: 71.9440\n",
            "Epoch 22: val_mae improved from 55.93785 to 55.81235, saving model to /content/drive/MyDrive/AI_proj/data/inceptionresnet_sgd.ckpt\n",
            "159/159 [==============================] - 22s 141ms/step - loss: 71.9440 - mae: 71.9440 - val_loss: 55.8124 - val_mae: 55.8124\n",
            "Epoch 23/30\n",
            "159/159 [==============================] - ETA: 0s - loss: 71.8164 - mae: 71.8164\n",
            "Epoch 23: val_mae improved from 55.81235 to 55.68023, saving model to /content/drive/MyDrive/AI_proj/data/inceptionresnet_sgd.ckpt\n",
            "159/159 [==============================] - 22s 137ms/step - loss: 71.8164 - mae: 71.8164 - val_loss: 55.6802 - val_mae: 55.6802\n",
            "Epoch 24/30\n",
            "159/159 [==============================] - ETA: 0s - loss: 71.8674 - mae: 71.8674\n",
            "Epoch 24: val_mae improved from 55.68023 to 55.54276, saving model to /content/drive/MyDrive/AI_proj/data/inceptionresnet_sgd.ckpt\n",
            "159/159 [==============================] - 22s 137ms/step - loss: 71.8674 - mae: 71.8674 - val_loss: 55.5428 - val_mae: 55.5428\n",
            "Epoch 25/30\n",
            "159/159 [==============================] - ETA: 0s - loss: 71.6311 - mae: 71.6311\n",
            "Epoch 25: val_mae improved from 55.54276 to 55.41188, saving model to /content/drive/MyDrive/AI_proj/data/inceptionresnet_sgd.ckpt\n",
            "159/159 [==============================] - 22s 137ms/step - loss: 71.6311 - mae: 71.6311 - val_loss: 55.4119 - val_mae: 55.4119\n",
            "Epoch 26/30\n",
            "159/159 [==============================] - ETA: 0s - loss: 71.5164 - mae: 71.5164\n",
            "Epoch 26: val_mae improved from 55.41188 to 55.26778, saving model to /content/drive/MyDrive/AI_proj/data/inceptionresnet_sgd.ckpt\n",
            "159/159 [==============================] - 22s 137ms/step - loss: 71.5164 - mae: 71.5164 - val_loss: 55.2678 - val_mae: 55.2678\n",
            "Epoch 27/30\n",
            "159/159 [==============================] - ETA: 0s - loss: 71.4000 - mae: 71.4000\n",
            "Epoch 27: val_mae improved from 55.26778 to 55.12710, saving model to /content/drive/MyDrive/AI_proj/data/inceptionresnet_sgd.ckpt\n",
            "159/159 [==============================] - 22s 140ms/step - loss: 71.4000 - mae: 71.4000 - val_loss: 55.1271 - val_mae: 55.1271\n",
            "Epoch 28/30\n",
            "159/159 [==============================] - ETA: 0s - loss: 71.1083 - mae: 71.1083\n",
            "Epoch 28: val_mae improved from 55.12710 to 54.97895, saving model to /content/drive/MyDrive/AI_proj/data/inceptionresnet_sgd.ckpt\n",
            "159/159 [==============================] - 22s 138ms/step - loss: 71.1083 - mae: 71.1083 - val_loss: 54.9790 - val_mae: 54.9790\n",
            "Epoch 29/30\n",
            "159/159 [==============================] - ETA: 0s - loss: 71.2095 - mae: 71.2095\n",
            "Epoch 29: val_mae improved from 54.97895 to 54.84261, saving model to /content/drive/MyDrive/AI_proj/data/inceptionresnet_sgd.ckpt\n",
            "159/159 [==============================] - 22s 137ms/step - loss: 71.2095 - mae: 71.2095 - val_loss: 54.8426 - val_mae: 54.8426\n",
            "Epoch 30/30\n",
            "159/159 [==============================] - ETA: 0s - loss: 71.0375 - mae: 71.0375\n",
            "Epoch 30: val_mae improved from 54.84261 to 54.70696, saving model to /content/drive/MyDrive/AI_proj/data/inceptionresnet_sgd.ckpt\n",
            "159/159 [==============================] - 22s 137ms/step - loss: 71.0375 - mae: 71.0375 - val_loss: 54.7070 - val_mae: 54.7070\n"
          ]
        }
      ]
    },
    {
      "cell_type": "markdown",
      "source": [
        "### graph"
      ],
      "metadata": {
        "id": "fppye8VbA6ys"
      }
    },
    {
      "cell_type": "code",
      "source": [
        "plt.figure(figsize=(8, 8))\n",
        "plt.plot(history.history['mae'], label='Training MAE')\n",
        "plt.plot(history.history['val_mae'], label='Validation MAE')\n",
        "plt.legend(loc='lower left')\n",
        "plt.title('Training and Validation MAE')"
      ],
      "metadata": {
        "colab": {
          "base_uri": "https://localhost:8080/",
          "height": 517
        },
        "id": "zsjSjm6iA6bE",
        "outputId": "68f9afab-f15b-430e-cafc-5cf1b8b5c009"
      },
      "execution_count": null,
      "outputs": [
        {
          "output_type": "execute_result",
          "data": {
            "text/plain": [
              "Text(0.5, 1.0, 'Training and Validation MAE')"
            ]
          },
          "metadata": {},
          "execution_count": 62
        },
        {
          "output_type": "display_data",
          "data": {
            "text/plain": [
              "<Figure size 576x576 with 1 Axes>"
            ],
            "image/png": "[encoded data removed]"
          },
          "metadata": {
            "needs_background": "light"
          }
        }
      ]
    },
    {
      "cell_type": "markdown",
      "source": [
        "## Optimizer : RMS prop"
      ],
      "metadata": {
        "id": "SlLV8EH1BAC2"
      }
    },
    {
      "cell_type": "code",
      "source": [
        "tf.keras.backend.clear_session()\n",
        "MODEL_IMAGE_SIZE = 299\n",
        "base_model = inception_resnet_v2.InceptionResNetV2(\n",
        "    weights='imagenet',\n",
        "    include_top = False,\n",
        "    input_shape = (MODEL_IMAGE_SIZE, MODEL_IMAGE_SIZE,3)\n",
        ")\n",
        "\n",
        "input_data_s = Input((IMAGE_SIZE, IMAGE_SIZE, 3))\n",
        "x = tf.keras.layers.experimental.preprocessing.Resizing(MODEL_IMAGE_SIZE, MODEL_IMAGE_SIZE)(input_data_s)\n",
        "x = tf.keras.layers.experimental.preprocessing.RandomFlip('horizontal_and_vertical')(x)\n",
        "output_data_s = tf.keras.layers.experimental.preprocessing.RandomRotation(0.2)(x)\n",
        "augmentation = Model(inputs=input_data_s, outputs=output_data_s)\n",
        "\n",
        "base_model.trainable = False\n",
        "model = Sequential()\n",
        "model.add(augmentation)\n",
        "model.add(base_model)\n",
        "model.add(GlobalAveragePooling2D())\n",
        "model.add(Dropout(0.2))\n",
        "model.add(Dense(1024, activation='relu'))\n",
        "model.add(Dense(1, activation='linear'))\n",
        "\n",
        "LEARNING_RATE = 1e-4\n",
        "model.compile(optimizer=RMSprop(learning_rate=LEARNING_RATE),\n",
        "              loss='mae',\n",
        "              metrics=['mae'])\n",
        "\n",
        "checkpoint_filepath = '/content/drive/MyDrive/AI_proj/data/inceptionresnet_rms.ckpt'\n",
        "checkpointer = ModelCheckpoint(\n",
        "    filepath=checkpoint_filepath,\n",
        "    monitor='val_mae',\n",
        "    save_best_only=True,\n",
        "    save_weights_only=True,\n",
        "    verbose=1\n",
        ")\n",
        "\n",
        "\n",
        "EPOCHS = 30\n",
        "STEPS_PER_EPOCH = len(train_img_path) // BATCH_SIZE\n",
        "VAL_STEPS = len(vali_img_path) // BATCH_SIZE\n",
        "\n",
        "history = model.fit(train_dataset, epochs=EPOCHS,\n",
        "                    steps_per_epoch=STEPS_PER_EPOCH,\n",
        "                    validation_data=valid_dataset,\n",
        "                    validation_steps = VAL_STEPS,\n",
        "                    callbacks=[checkpointer],\n",
        "                    verbose=1)"
      ],
      "metadata": {
        "colab": {
          "base_uri": "https://localhost:8080/"
        },
        "id": "-fiB6qsIB1h7",
        "outputId": "4af207e8-2991-4db5-ba91-fa6d1421a241"
      },
      "execution_count": null,
      "outputs": [
        {
          "output_type": "stream",
          "name": "stdout",
          "text": [
            "Epoch 1/30\n",
            "159/159 [==============================] - ETA: 0s - loss: 74.3623 - mae: 74.3623\n",
            "Epoch 1: val_mae improved from inf to 56.48937, saving model to /content/drive/MyDrive/AI_proj/data/inceptionresnet_rms.ckpt\n",
            "159/159 [==============================] - 35s 158ms/step - loss: 74.3623 - mae: 74.3623 - val_loss: 56.4894 - val_mae: 56.4894\n",
            "Epoch 2/30\n",
            "159/159 [==============================] - ETA: 0s - loss: 71.4990 - mae: 71.4990\n",
            "Epoch 2: val_mae improved from 56.48937 to 53.94031, saving model to /content/drive/MyDrive/AI_proj/data/inceptionresnet_rms.ckpt\n",
            "159/159 [==============================] - 23s 142ms/step - loss: 71.4990 - mae: 71.4990 - val_loss: 53.9403 - val_mae: 53.9403\n",
            "Epoch 3/30\n",
            "159/159 [==============================] - ETA: 0s - loss: 69.8584 - mae: 69.8584\n",
            "Epoch 3: val_mae improved from 53.94031 to 52.13678, saving model to /content/drive/MyDrive/AI_proj/data/inceptionresnet_rms.ckpt\n",
            "159/159 [==============================] - 22s 137ms/step - loss: 69.8584 - mae: 69.8584 - val_loss: 52.1368 - val_mae: 52.1368\n",
            "Epoch 4/30\n",
            "159/159 [==============================] - ETA: 0s - loss: 68.3995 - mae: 68.3995\n",
            "Epoch 4: val_mae improved from 52.13678 to 50.47342, saving model to /content/drive/MyDrive/AI_proj/data/inceptionresnet_rms.ckpt\n",
            "159/159 [==============================] - 22s 139ms/step - loss: 68.3995 - mae: 68.3995 - val_loss: 50.4734 - val_mae: 50.4734\n",
            "Epoch 5/30\n",
            "159/159 [==============================] - ETA: 0s - loss: 67.3644 - mae: 67.3644\n",
            "Epoch 5: val_mae improved from 50.47342 to 49.47809, saving model to /content/drive/MyDrive/AI_proj/data/inceptionresnet_rms.ckpt\n",
            "159/159 [==============================] - 22s 137ms/step - loss: 67.3644 - mae: 67.3644 - val_loss: 49.4781 - val_mae: 49.4781\n",
            "Epoch 6/30\n",
            "159/159 [==============================] - ETA: 0s - loss: 66.6890 - mae: 66.6890\n",
            "Epoch 6: val_mae improved from 49.47809 to 49.02584, saving model to /content/drive/MyDrive/AI_proj/data/inceptionresnet_rms.ckpt\n",
            "159/159 [==============================] - 22s 138ms/step - loss: 66.6890 - mae: 66.6890 - val_loss: 49.0258 - val_mae: 49.0258\n",
            "Epoch 7/30\n",
            "159/159 [==============================] - ETA: 0s - loss: 66.1206 - mae: 66.1206\n",
            "Epoch 7: val_mae improved from 49.02584 to 48.38364, saving model to /content/drive/MyDrive/AI_proj/data/inceptionresnet_rms.ckpt\n",
            "159/159 [==============================] - 22s 141ms/step - loss: 66.1206 - mae: 66.1206 - val_loss: 48.3836 - val_mae: 48.3836\n",
            "Epoch 8/30\n",
            "159/159 [==============================] - ETA: 0s - loss: 65.1064 - mae: 65.1064\n",
            "Epoch 8: val_mae did not improve from 48.38364\n",
            "159/159 [==============================] - 21s 130ms/step - loss: 65.1064 - mae: 65.1064 - val_loss: 48.7256 - val_mae: 48.7256\n",
            "Epoch 9/30\n",
            "159/159 [==============================] - ETA: 0s - loss: 64.5641 - mae: 64.5641\n",
            "Epoch 9: val_mae improved from 48.38364 to 47.83825, saving model to /content/drive/MyDrive/AI_proj/data/inceptionresnet_rms.ckpt\n",
            "159/159 [==============================] - 22s 137ms/step - loss: 64.5641 - mae: 64.5641 - val_loss: 47.8383 - val_mae: 47.8383\n",
            "Epoch 10/30\n",
            "159/159 [==============================] - ETA: 0s - loss: 64.3694 - mae: 64.3694\n",
            "Epoch 10: val_mae improved from 47.83825 to 46.56306, saving model to /content/drive/MyDrive/AI_proj/data/inceptionresnet_rms.ckpt\n",
            "159/159 [==============================] - 22s 140ms/step - loss: 64.3694 - mae: 64.3694 - val_loss: 46.5631 - val_mae: 46.5631\n",
            "Epoch 11/30\n",
            "159/159 [==============================] - ETA: 0s - loss: 64.0154 - mae: 64.0154\n",
            "Epoch 11: val_mae improved from 46.56306 to 46.12259, saving model to /content/drive/MyDrive/AI_proj/data/inceptionresnet_rms.ckpt\n",
            "159/159 [==============================] - 22s 140ms/step - loss: 64.0154 - mae: 64.0154 - val_loss: 46.1226 - val_mae: 46.1226\n",
            "Epoch 12/30\n",
            "159/159 [==============================] - ETA: 0s - loss: 63.7794 - mae: 63.7794\n",
            "Epoch 12: val_mae improved from 46.12259 to 45.40971, saving model to /content/drive/MyDrive/AI_proj/data/inceptionresnet_rms.ckpt\n",
            "159/159 [==============================] - 22s 139ms/step - loss: 63.7794 - mae: 63.7794 - val_loss: 45.4097 - val_mae: 45.4097\n",
            "Epoch 13/30\n",
            "159/159 [==============================] - ETA: 0s - loss: 63.8337 - mae: 63.8337\n",
            "Epoch 13: val_mae improved from 45.40971 to 45.08815, saving model to /content/drive/MyDrive/AI_proj/data/inceptionresnet_rms.ckpt\n",
            "159/159 [==============================] - 22s 137ms/step - loss: 63.8337 - mae: 63.8337 - val_loss: 45.0881 - val_mae: 45.0881\n",
            "Epoch 14/30\n",
            "159/159 [==============================] - ETA: 0s - loss: 63.4287 - mae: 63.4287\n",
            "Epoch 14: val_mae improved from 45.08815 to 44.24167, saving model to /content/drive/MyDrive/AI_proj/data/inceptionresnet_rms.ckpt\n",
            "159/159 [==============================] - 22s 138ms/step - loss: 63.4287 - mae: 63.4287 - val_loss: 44.2417 - val_mae: 44.2417\n",
            "Epoch 15/30\n",
            "159/159 [==============================] - ETA: 0s - loss: 63.6116 - mae: 63.6116\n",
            "Epoch 15: val_mae improved from 44.24167 to 43.44281, saving model to /content/drive/MyDrive/AI_proj/data/inceptionresnet_rms.ckpt\n",
            "159/159 [==============================] - 23s 142ms/step - loss: 63.6116 - mae: 63.6116 - val_loss: 43.4428 - val_mae: 43.4428\n",
            "Epoch 16/30\n",
            "159/159 [==============================] - ETA: 0s - loss: 63.5662 - mae: 63.5662\n",
            "Epoch 16: val_mae did not improve from 43.44281\n",
            "159/159 [==============================] - 21s 129ms/step - loss: 63.5662 - mae: 63.5662 - val_loss: 43.6402 - val_mae: 43.6402\n",
            "Epoch 17/30\n",
            "159/159 [==============================] - ETA: 0s - loss: 62.8329 - mae: 62.8329\n",
            "Epoch 17: val_mae did not improve from 43.44281\n",
            "159/159 [==============================] - 20s 128ms/step - loss: 62.8329 - mae: 62.8329 - val_loss: 43.4887 - val_mae: 43.4887\n",
            "Epoch 18/30\n",
            "159/159 [==============================] - ETA: 0s - loss: 63.4142 - mae: 63.4142\n",
            "Epoch 18: val_mae improved from 43.44281 to 42.58820, saving model to /content/drive/MyDrive/AI_proj/data/inceptionresnet_rms.ckpt\n",
            "159/159 [==============================] - 22s 136ms/step - loss: 63.4142 - mae: 63.4142 - val_loss: 42.5882 - val_mae: 42.5882\n",
            "Epoch 19/30\n",
            "159/159 [==============================] - ETA: 0s - loss: 63.1425 - mae: 63.1425\n",
            "Epoch 19: val_mae improved from 42.58820 to 42.35904, saving model to /content/drive/MyDrive/AI_proj/data/inceptionresnet_rms.ckpt\n",
            "159/159 [==============================] - 22s 141ms/step - loss: 63.1425 - mae: 63.1425 - val_loss: 42.3590 - val_mae: 42.3590\n",
            "Epoch 20/30\n",
            "159/159 [==============================] - ETA: 0s - loss: 63.2962 - mae: 63.2962\n",
            "Epoch 20: val_mae did not improve from 42.35904\n",
            "159/159 [==============================] - 21s 130ms/step - loss: 63.2962 - mae: 63.2962 - val_loss: 42.3972 - val_mae: 42.3972\n",
            "Epoch 21/30\n",
            "159/159 [==============================] - ETA: 0s - loss: 63.1943 - mae: 63.1943\n",
            "Epoch 21: val_mae improved from 42.35904 to 41.48182, saving model to /content/drive/MyDrive/AI_proj/data/inceptionresnet_rms.ckpt\n",
            "159/159 [==============================] - 22s 138ms/step - loss: 63.1943 - mae: 63.1943 - val_loss: 41.4818 - val_mae: 41.4818\n",
            "Epoch 22/30\n",
            "159/159 [==============================] - ETA: 0s - loss: 63.1535 - mae: 63.1535\n",
            "Epoch 22: val_mae improved from 41.48182 to 41.34763, saving model to /content/drive/MyDrive/AI_proj/data/inceptionresnet_rms.ckpt\n",
            "159/159 [==============================] - 22s 138ms/step - loss: 63.1535 - mae: 63.1535 - val_loss: 41.3476 - val_mae: 41.3476\n",
            "Epoch 23/30\n",
            "159/159 [==============================] - ETA: 0s - loss: 63.1486 - mae: 63.1486\n",
            "Epoch 23: val_mae improved from 41.34763 to 41.20443, saving model to /content/drive/MyDrive/AI_proj/data/inceptionresnet_rms.ckpt\n",
            "159/159 [==============================] - 22s 141ms/step - loss: 63.1486 - mae: 63.1486 - val_loss: 41.2044 - val_mae: 41.2044\n",
            "Epoch 24/30\n",
            "159/159 [==============================] - ETA: 0s - loss: 63.2179 - mae: 63.2179\n",
            "Epoch 24: val_mae did not improve from 41.20443\n",
            "159/159 [==============================] - 21s 130ms/step - loss: 63.2179 - mae: 63.2179 - val_loss: 41.5726 - val_mae: 41.5726\n",
            "Epoch 25/30\n",
            "159/159 [==============================] - ETA: 0s - loss: 62.7218 - mae: 62.7218\n",
            "Epoch 25: val_mae improved from 41.20443 to 40.85148, saving model to /content/drive/MyDrive/AI_proj/data/inceptionresnet_rms.ckpt\n",
            "159/159 [==============================] - 22s 137ms/step - loss: 62.7218 - mae: 62.7218 - val_loss: 40.8515 - val_mae: 40.8515\n",
            "Epoch 26/30\n",
            "159/159 [==============================] - ETA: 0s - loss: 63.2163 - mae: 63.2163\n",
            "Epoch 26: val_mae improved from 40.85148 to 40.60258, saving model to /content/drive/MyDrive/AI_proj/data/inceptionresnet_rms.ckpt\n",
            "159/159 [==============================] - 22s 141ms/step - loss: 63.2163 - mae: 63.2163 - val_loss: 40.6026 - val_mae: 40.6026\n",
            "Epoch 27/30\n",
            "159/159 [==============================] - ETA: 0s - loss: 63.1432 - mae: 63.1432\n",
            "Epoch 27: val_mae did not improve from 40.60258\n",
            "159/159 [==============================] - 21s 130ms/step - loss: 63.1432 - mae: 63.1432 - val_loss: 41.3084 - val_mae: 41.3084\n",
            "Epoch 28/30\n",
            "159/159 [==============================] - ETA: 0s - loss: 62.9471 - mae: 62.9471\n",
            "Epoch 28: val_mae improved from 40.60258 to 40.51761, saving model to /content/drive/MyDrive/AI_proj/data/inceptionresnet_rms.ckpt\n",
            "159/159 [==============================] - 22s 137ms/step - loss: 62.9471 - mae: 62.9471 - val_loss: 40.5176 - val_mae: 40.5176\n",
            "Epoch 29/30\n",
            "159/159 [==============================] - ETA: 0s - loss: 62.5986 - mae: 62.5986\n",
            "Epoch 29: val_mae improved from 40.51761 to 40.03535, saving model to /content/drive/MyDrive/AI_proj/data/inceptionresnet_rms.ckpt\n",
            "159/159 [==============================] - 22s 141ms/step - loss: 62.5986 - mae: 62.5986 - val_loss: 40.0354 - val_mae: 40.0354\n",
            "Epoch 30/30\n",
            "159/159 [==============================] - ETA: 0s - loss: 62.8533 - mae: 62.8533\n",
            "Epoch 30: val_mae improved from 40.03535 to 39.69698, saving model to /content/drive/MyDrive/AI_proj/data/inceptionresnet_rms.ckpt\n",
            "159/159 [==============================] - 22s 138ms/step - loss: 62.8533 - mae: 62.8533 - val_loss: 39.6970 - val_mae: 39.6970\n"
          ]
        }
      ]
    },
    {
      "cell_type": "markdown",
      "source": [
        "### graph"
      ],
      "metadata": {
        "id": "prm1pVsWB7ws"
      }
    },
    {
      "cell_type": "code",
      "source": [
        "plt.figure(figsize=(8, 8))\n",
        "plt.plot(history.history['mae'], label='Training MAE')\n",
        "plt.plot(history.history['val_mae'], label='Validation MAE')\n",
        "plt.legend(loc='lower left')\n",
        "plt.title('Training and Validation MAE')"
      ],
      "metadata": {
        "colab": {
          "base_uri": "https://localhost:8080/",
          "height": 517
        },
        "id": "HWULd4I2B7mK",
        "outputId": "28c8445d-45f0-4acd-81ea-6c60fe70b45e"
      },
      "execution_count": null,
      "outputs": [
        {
          "output_type": "execute_result",
          "data": {
            "text/plain": [
              "Text(0.5, 1.0, 'Training and Validation MAE')"
            ]
          },
          "metadata": {},
          "execution_count": 64
        },
        {
          "output_type": "display_data",
          "data": {
            "text/plain": [
              "<Figure size 576x576 with 1 Axes>"
            ],
            "image/png": "[encoded data removed]"
          },
          "metadata": {
            "needs_background": "light"
          }
        }
      ]
    },
    {
      "cell_type": "markdown",
      "source": [
        "# Inception V3  : epoch 30, 0.2 dropout, lr = 1e-4, augmentation "
      ],
      "metadata": {
        "id": "wCEwosS_7vLi"
      }
    },
    {
      "cell_type": "markdown",
      "source": [
        "## Optimizer : Adam"
      ],
      "metadata": {
        "id": "x9XPJZMN8BVz"
      }
    },
    {
      "cell_type": "code",
      "source": [
        "tf.keras.backend.clear_session()\n",
        "MODEL_IMAGE_SIZE = 299\n",
        "base_model = inception_v3.InceptionV3(\n",
        "    weights='imagenet',\n",
        "    include_top = False,\n",
        "    input_shape = (MODEL_IMAGE_SIZE, MODEL_IMAGE_SIZE,3)\n",
        ")\n",
        "\n",
        "input_data_s = Input((IMAGE_SIZE, IMAGE_SIZE, 3))\n",
        "x = tf.keras.layers.experimental.preprocessing.Resizing(MODEL_IMAGE_SIZE, MODEL_IMAGE_SIZE)(input_data_s)\n",
        "x = tf.keras.layers.experimental.preprocessing.RandomFlip('horizontal_and_vertical')(x)\n",
        "output_data_s = tf.keras.layers.experimental.preprocessing.RandomRotation(0.2)(x)\n",
        "augmentation = Model(inputs=input_data_s, outputs=output_data_s)\n",
        "\n",
        "base_model.trainable = False\n",
        "model = Sequential()\n",
        "model.add(augmentation)\n",
        "model.add(base_model)\n",
        "model.add(GlobalAveragePooling2D())\n",
        "model.add(Dropout(0.2))\n",
        "model.add(Dense(1024, activation='relu'))\n",
        "model.add(Dense(1, activation='linear'))\n",
        "\n",
        "model.summary()\n",
        "\n"
      ],
      "metadata": {
        "colab": {
          "base_uri": "https://localhost:8080/"
        },
        "id": "4It5T8M17uRv",
        "outputId": "743e3a83-c872-4e10-d7ab-5e15d5fddc5f"
      },
      "execution_count": null,
      "outputs": [
        {
          "output_type": "stream",
          "name": "stdout",
          "text": [
            "Downloading data from https://storage.googleapis.com/tensorflow/keras-applications/inception_v3/inception_v3_weights_tf_dim_ordering_tf_kernels_notop.h5\n",
            "87916544/87910968 [==============================] - 1s 0us/step\n",
            "87924736/87910968 [==============================] - 1s 0us/step\n",
            "Model: \"sequential\"\n",
            "_________________________________________________________________\n",
            " Layer (type)                Output Shape              Param #   \n",
            "=================================================================\n",
            " model (Functional)          (None, 299, 299, 3)       0         \n",
            "                                                                 \n",
            " inception_v3 (Functional)   (None, 8, 8, 2048)        21802784  \n",
            "                                                                 \n",
            " global_average_pooling2d (G  (None, 2048)             0         \n",
            " lobalAveragePooling2D)                                          \n",
            "                                                                 \n",
            " dropout (Dropout)           (None, 2048)              0         \n",
            "                                                                 \n",
            " dense (Dense)               (None, 1024)              2098176   \n",
            "                                                                 \n",
            " dense_1 (Dense)             (None, 1)                 1025      \n",
            "                                                                 \n",
            "=================================================================\n",
            "Total params: 23,901,985\n",
            "Trainable params: 2,099,201\n",
            "Non-trainable params: 21,802,784\n",
            "_________________________________________________________________\n"
          ]
        }
      ]
    },
    {
      "cell_type": "code",
      "source": [
        "LEARNING_RATE = 1e-4\n",
        "model.compile(optimizer=Adam(learning_rate=LEARNING_RATE),\n",
        "              loss='mae',\n",
        "              metrics=['mae'])\n",
        "\n",
        "checkpoint_filepath = '/content/drive/MyDrive/AI_proj/data/inceptionv3.ckpt'\n",
        "checkpointer = ModelCheckpoint(\n",
        "    filepath=checkpoint_filepath,\n",
        "    monitor='val_mae',\n",
        "    save_best_only=True,\n",
        "    save_weights_only=True,\n",
        "    verbose=1\n",
        ")\n",
        "\n",
        "\n",
        "EPOCHS = 30\n",
        "STEPS_PER_EPOCH = len(train_img_path) // BATCH_SIZE\n",
        "VAL_STEPS = len(vali_img_path) // BATCH_SIZE\n",
        "\n",
        "history = model.fit(train_dataset, epochs=EPOCHS,\n",
        "                    steps_per_epoch=STEPS_PER_EPOCH,\n",
        "                    validation_data=valid_dataset,\n",
        "                    validation_steps = VAL_STEPS,\n",
        "                    callbacks=[checkpointer],\n",
        "                    verbose=1)"
      ],
      "metadata": {
        "colab": {
          "base_uri": "https://localhost:8080/"
        },
        "id": "hjOX-iZj7_c3",
        "outputId": "405a3736-1597-4d0a-b156-45114bf608d0"
      },
      "execution_count": null,
      "outputs": [
        {
          "output_type": "stream",
          "name": "stdout",
          "text": [
            "Epoch 1/30\n",
            "158/159 [============================>.] - ETA: 0s - loss: 74.8464 - mae: 74.8464\n",
            "Epoch 1: val_mae improved from inf to 57.11593, saving model to /content/drive/MyDrive/AI_proj/data/inceptionv3.ckpt\n",
            "159/159 [==============================] - 16s 65ms/step - loss: 74.5197 - mae: 74.5197 - val_loss: 57.1159 - val_mae: 57.1159\n",
            "Epoch 2/30\n",
            "159/159 [==============================] - ETA: 0s - loss: 70.9056 - mae: 70.9056\n",
            "Epoch 2: val_mae improved from 57.11593 to 53.61212, saving model to /content/drive/MyDrive/AI_proj/data/inceptionv3.ckpt\n",
            "159/159 [==============================] - 9s 59ms/step - loss: 70.9056 - mae: 70.9056 - val_loss: 53.6121 - val_mae: 53.6121\n",
            "Epoch 3/30\n",
            "159/159 [==============================] - ETA: 0s - loss: 68.3941 - mae: 68.3941\n",
            "Epoch 3: val_mae improved from 53.61212 to 52.34906, saving model to /content/drive/MyDrive/AI_proj/data/inceptionv3.ckpt\n",
            "159/159 [==============================] - 9s 58ms/step - loss: 68.3941 - mae: 68.3941 - val_loss: 52.3491 - val_mae: 52.3491\n",
            "Epoch 4/30\n",
            "158/159 [============================>.] - ETA: 0s - loss: 67.0325 - mae: 67.0325\n",
            "Epoch 4: val_mae improved from 52.34906 to 51.12835, saving model to /content/drive/MyDrive/AI_proj/data/inceptionv3.ckpt\n",
            "159/159 [==============================] - 10s 60ms/step - loss: 66.7461 - mae: 66.7461 - val_loss: 51.1283 - val_mae: 51.1283\n",
            "Epoch 5/30\n",
            "159/159 [==============================] - ETA: 0s - loss: 65.6683 - mae: 65.6683\n",
            "Epoch 5: val_mae improved from 51.12835 to 50.32990, saving model to /content/drive/MyDrive/AI_proj/data/inceptionv3.ckpt\n",
            "159/159 [==============================] - 9s 58ms/step - loss: 65.6683 - mae: 65.6683 - val_loss: 50.3299 - val_mae: 50.3299\n",
            "Epoch 6/30\n",
            "159/159 [==============================] - ETA: 0s - loss: 65.0592 - mae: 65.0592\n",
            "Epoch 6: val_mae improved from 50.32990 to 49.74738, saving model to /content/drive/MyDrive/AI_proj/data/inceptionv3.ckpt\n",
            "159/159 [==============================] - 9s 58ms/step - loss: 65.0592 - mae: 65.0592 - val_loss: 49.7474 - val_mae: 49.7474\n",
            "Epoch 7/30\n",
            "159/159 [==============================] - ETA: 0s - loss: 63.9400 - mae: 63.9400\n",
            "Epoch 7: val_mae improved from 49.74738 to 49.49749, saving model to /content/drive/MyDrive/AI_proj/data/inceptionv3.ckpt\n",
            "159/159 [==============================] - 10s 60ms/step - loss: 63.9400 - mae: 63.9400 - val_loss: 49.4975 - val_mae: 49.4975\n",
            "Epoch 8/30\n",
            "159/159 [==============================] - ETA: 0s - loss: 63.9679 - mae: 63.9679\n",
            "Epoch 8: val_mae improved from 49.49749 to 48.62470, saving model to /content/drive/MyDrive/AI_proj/data/inceptionv3.ckpt\n",
            "159/159 [==============================] - 9s 58ms/step - loss: 63.9679 - mae: 63.9679 - val_loss: 48.6247 - val_mae: 48.6247\n",
            "Epoch 9/30\n",
            "159/159 [==============================] - ETA: 0s - loss: 63.7954 - mae: 63.7954\n",
            "Epoch 9: val_mae improved from 48.62470 to 48.23773, saving model to /content/drive/MyDrive/AI_proj/data/inceptionv3.ckpt\n",
            "159/159 [==============================] - 10s 60ms/step - loss: 63.7954 - mae: 63.7954 - val_loss: 48.2377 - val_mae: 48.2377\n",
            "Epoch 10/30\n",
            "159/159 [==============================] - ETA: 0s - loss: 63.3017 - mae: 63.3017\n",
            "Epoch 10: val_mae improved from 48.23773 to 46.80806, saving model to /content/drive/MyDrive/AI_proj/data/inceptionv3.ckpt\n",
            "159/159 [==============================] - 9s 57ms/step - loss: 63.3017 - mae: 63.3017 - val_loss: 46.8081 - val_mae: 46.8081\n",
            "Epoch 11/30\n",
            "158/159 [============================>.] - ETA: 0s - loss: 63.3245 - mae: 63.3245\n",
            "Epoch 11: val_mae did not improve from 46.80806\n",
            "159/159 [==============================] - 9s 54ms/step - loss: 63.0366 - mae: 63.0366 - val_loss: 47.6618 - val_mae: 47.6618\n",
            "Epoch 12/30\n",
            "159/159 [==============================] - ETA: 0s - loss: 63.1205 - mae: 63.1205\n",
            "Epoch 12: val_mae improved from 46.80806 to 45.27813, saving model to /content/drive/MyDrive/AI_proj/data/inceptionv3.ckpt\n",
            "159/159 [==============================] - 9s 57ms/step - loss: 63.1205 - mae: 63.1205 - val_loss: 45.2781 - val_mae: 45.2781\n",
            "Epoch 13/30\n",
            "158/159 [============================>.] - ETA: 0s - loss: 63.0509 - mae: 63.0509\n",
            "Epoch 13: val_mae improved from 45.27813 to 44.56879, saving model to /content/drive/MyDrive/AI_proj/data/inceptionv3.ckpt\n",
            "159/159 [==============================] - 10s 60ms/step - loss: 62.7632 - mae: 62.7632 - val_loss: 44.5688 - val_mae: 44.5688\n",
            "Epoch 14/30\n",
            "158/159 [============================>.] - ETA: 0s - loss: 63.0413 - mae: 63.0413\n",
            "Epoch 14: val_mae improved from 44.56879 to 44.16435, saving model to /content/drive/MyDrive/AI_proj/data/inceptionv3.ckpt\n",
            "159/159 [==============================] - 9s 58ms/step - loss: 62.7631 - mae: 62.7631 - val_loss: 44.1644 - val_mae: 44.1644\n",
            "Epoch 15/30\n",
            "158/159 [============================>.] - ETA: 0s - loss: 62.4337 - mae: 62.4337\n",
            "Epoch 15: val_mae improved from 44.16435 to 43.46123, saving model to /content/drive/MyDrive/AI_proj/data/inceptionv3.ckpt\n",
            "159/159 [==============================] - 10s 60ms/step - loss: 62.1495 - mae: 62.1495 - val_loss: 43.4612 - val_mae: 43.4612\n",
            "Epoch 16/30\n",
            "159/159 [==============================] - ETA: 0s - loss: 62.3234 - mae: 62.3234\n",
            "Epoch 16: val_mae improved from 43.46123 to 43.44629, saving model to /content/drive/MyDrive/AI_proj/data/inceptionv3.ckpt\n",
            "159/159 [==============================] - 9s 58ms/step - loss: 62.3234 - mae: 62.3234 - val_loss: 43.4463 - val_mae: 43.4463\n",
            "Epoch 17/30\n",
            "158/159 [============================>.] - ETA: 0s - loss: 62.6529 - mae: 62.6529\n",
            "Epoch 17: val_mae improved from 43.44629 to 43.07800, saving model to /content/drive/MyDrive/AI_proj/data/inceptionv3.ckpt\n",
            "159/159 [==============================] - 9s 58ms/step - loss: 62.3697 - mae: 62.3697 - val_loss: 43.0780 - val_mae: 43.0780\n",
            "Epoch 18/30\n",
            "159/159 [==============================] - ETA: 0s - loss: 62.0220 - mae: 62.0220\n",
            "Epoch 18: val_mae improved from 43.07800 to 42.94657, saving model to /content/drive/MyDrive/AI_proj/data/inceptionv3.ckpt\n",
            "159/159 [==============================] - 10s 60ms/step - loss: 62.0220 - mae: 62.0220 - val_loss: 42.9466 - val_mae: 42.9466\n",
            "Epoch 19/30\n",
            "159/159 [==============================] - ETA: 0s - loss: 62.2204 - mae: 62.2204\n",
            "Epoch 19: val_mae did not improve from 42.94657\n",
            "159/159 [==============================] - 8s 53ms/step - loss: 62.2204 - mae: 62.2204 - val_loss: 43.5340 - val_mae: 43.5340\n",
            "Epoch 20/30\n",
            "158/159 [============================>.] - ETA: 0s - loss: 62.5499 - mae: 62.5499\n",
            "Epoch 20: val_mae improved from 42.94657 to 42.57341, saving model to /content/drive/MyDrive/AI_proj/data/inceptionv3.ckpt\n",
            "159/159 [==============================] - 9s 60ms/step - loss: 62.2495 - mae: 62.2495 - val_loss: 42.5734 - val_mae: 42.5734\n",
            "Epoch 21/30\n",
            "158/159 [============================>.] - ETA: 0s - loss: 61.9898 - mae: 61.9898\n",
            "Epoch 21: val_mae improved from 42.57341 to 41.98440, saving model to /content/drive/MyDrive/AI_proj/data/inceptionv3.ckpt\n",
            "159/159 [==============================] - 9s 60ms/step - loss: 61.7255 - mae: 61.7255 - val_loss: 41.9844 - val_mae: 41.9844\n",
            "Epoch 22/30\n",
            "158/159 [============================>.] - ETA: 0s - loss: 62.2542 - mae: 62.2542\n",
            "Epoch 22: val_mae improved from 41.98440 to 41.56807, saving model to /content/drive/MyDrive/AI_proj/data/inceptionv3.ckpt\n",
            "159/159 [==============================] - 9s 57ms/step - loss: 61.9587 - mae: 61.9587 - val_loss: 41.5681 - val_mae: 41.5681\n",
            "Epoch 23/30\n",
            "159/159 [==============================] - ETA: 0s - loss: 61.2896 - mae: 61.2896\n",
            "Epoch 23: val_mae improved from 41.56807 to 41.52277, saving model to /content/drive/MyDrive/AI_proj/data/inceptionv3.ckpt\n",
            "159/159 [==============================] - 10s 63ms/step - loss: 61.2896 - mae: 61.2896 - val_loss: 41.5228 - val_mae: 41.5228\n",
            "Epoch 24/30\n",
            "159/159 [==============================] - ETA: 0s - loss: 61.2538 - mae: 61.2538\n",
            "Epoch 24: val_mae improved from 41.52277 to 40.47980, saving model to /content/drive/MyDrive/AI_proj/data/inceptionv3.ckpt\n",
            "159/159 [==============================] - 9s 59ms/step - loss: 61.2538 - mae: 61.2538 - val_loss: 40.4798 - val_mae: 40.4798\n",
            "Epoch 25/30\n",
            "158/159 [============================>.] - ETA: 0s - loss: 61.8539 - mae: 61.8539\n",
            "Epoch 25: val_mae did not improve from 40.47980\n",
            "159/159 [==============================] - 9s 55ms/step - loss: 61.5709 - mae: 61.5709 - val_loss: 41.6494 - val_mae: 41.6494\n",
            "Epoch 26/30\n",
            "159/159 [==============================] - ETA: 0s - loss: 61.9067 - mae: 61.9067\n",
            "Epoch 26: val_mae did not improve from 40.47980\n",
            "159/159 [==============================] - 9s 54ms/step - loss: 61.9067 - mae: 61.9067 - val_loss: 41.3684 - val_mae: 41.3684\n",
            "Epoch 27/30\n",
            "158/159 [============================>.] - ETA: 0s - loss: 62.4036 - mae: 62.4036\n",
            "Epoch 27: val_mae did not improve from 40.47980\n",
            "159/159 [==============================] - 9s 54ms/step - loss: 62.0900 - mae: 62.0900 - val_loss: 41.0431 - val_mae: 41.0431\n",
            "Epoch 28/30\n",
            "159/159 [==============================] - ETA: 0s - loss: 61.8682 - mae: 61.8682\n",
            "Epoch 28: val_mae did not improve from 40.47980\n",
            "159/159 [==============================] - 8s 53ms/step - loss: 61.8682 - mae: 61.8682 - val_loss: 40.9654 - val_mae: 40.9654\n",
            "Epoch 29/30\n",
            "159/159 [==============================] - ETA: 0s - loss: 61.5270 - mae: 61.5270\n",
            "Epoch 29: val_mae improved from 40.47980 to 40.45535, saving model to /content/drive/MyDrive/AI_proj/data/inceptionv3.ckpt\n",
            "159/159 [==============================] - 9s 57ms/step - loss: 61.5270 - mae: 61.5270 - val_loss: 40.4554 - val_mae: 40.4554\n",
            "Epoch 30/30\n",
            "159/159 [==============================] - ETA: 0s - loss: 61.3565 - mae: 61.3565\n",
            "Epoch 30: val_mae improved from 40.45535 to 40.31087, saving model to /content/drive/MyDrive/AI_proj/data/inceptionv3.ckpt\n",
            "159/159 [==============================] - 9s 59ms/step - loss: 61.3565 - mae: 61.3565 - val_loss: 40.3109 - val_mae: 40.3109\n"
          ]
        }
      ]
    },
    {
      "cell_type": "markdown",
      "source": [
        "### graph"
      ],
      "metadata": {
        "id": "Zf1-5KM1Ajfn"
      }
    },
    {
      "cell_type": "code",
      "source": [
        "plt.figure(figsize=(8, 8))\n",
        "plt.plot(history.history['mae'], label='Training MAE')\n",
        "plt.plot(history.history['val_mae'], label='Validation MAE')\n",
        "plt.legend(loc='lower left')\n",
        "plt.title('Training and Validation MAE')"
      ],
      "metadata": {
        "colab": {
          "base_uri": "https://localhost:8080/",
          "height": 517
        },
        "id": "GuT4AuLPAfhc",
        "outputId": "f190b313-619b-4c6e-a08a-8b7b1b078427"
      },
      "execution_count": null,
      "outputs": [
        {
          "output_type": "execute_result",
          "data": {
            "text/plain": [
              "Text(0.5, 1.0, 'Training and Validation MAE')"
            ]
          },
          "metadata": {},
          "execution_count": 60
        },
        {
          "output_type": "display_data",
          "data": {
            "text/plain": [
              "<Figure size 576x576 with 1 Axes>"
            ],
            "image/png": "[encoded data removed]"
          },
          "metadata": {
            "needs_background": "light"
          }
        }
      ]
    },
    {
      "cell_type": "markdown",
      "source": [
        "# Inception V2 resnet Adam : Finetune"
      ],
      "metadata": {
        "id": "BsMzqCTovxBs"
      }
    },
    {
      "cell_type": "markdown",
      "source": [
        "## training top layer"
      ],
      "metadata": {
        "id": "z-uQ8Qb6H8IP"
      }
    },
    {
      "cell_type": "code",
      "source": [
        "tf.keras.backend.clear_session()\n",
        "\n",
        "MODEL_IMAGE_SIZE = 299\n",
        "base_model = inception_resnet_v2.InceptionResNetV2(\n",
        "    weights='imagenet',\n",
        "    include_top = False,\n",
        "    input_shape = (MODEL_IMAGE_SIZE, MODEL_IMAGE_SIZE,3)\n",
        ")\n",
        "\n",
        "input_data_s = Input((IMAGE_SIZE, IMAGE_SIZE, 3))\n",
        "x = tf.keras.layers.experimental.preprocessing.Resizing(MODEL_IMAGE_SIZE, MODEL_IMAGE_SIZE)(input_data_s)\n",
        "x = tf.keras.layers.experimental.preprocessing.RandomFlip('horizontal_and_vertical')(x)\n",
        "output_data_s = tf.keras.layers.experimental.preprocessing.RandomRotation(0.2)(x)\n",
        "augmentation = Model(inputs=input_data_s, outputs=output_data_s)\n",
        "\n",
        "inputs = Input((IMAGE_SIZE, IMAGE_SIZE, 3))\n",
        "x = augmentation(inputs)\n",
        "x = base_model(x, training=False)\n",
        "x = GlobalAveragePooling2D()(x)\n",
        "x = Dropout(0.2)(x)\n",
        "x = Dense(1024, activation='relu')(x)\n",
        "outputs = Dense(1, activation='linear')(x)\n",
        "model = Model(inputs, outputs)\n",
        "model.summary()"
      ],
      "metadata": {
        "colab": {
          "base_uri": "https://localhost:8080/"
        },
        "id": "dQfoglhGHqLK",
        "outputId": "199f1db2-2252-4b8d-b5ad-ff249d348a6c"
      },
      "execution_count": null,
      "outputs": [
        {
          "output_type": "stream",
          "name": "stdout",
          "text": [
            "Model: \"model_1\"\n",
            "_________________________________________________________________\n",
            " Layer (type)                Output Shape              Param #   \n",
            "=================================================================\n",
            " input_3 (InputLayer)        [(None, 256, 256, 3)]     0         \n",
            "                                                                 \n",
            " model (Functional)          (None, 299, 299, 3)       0         \n",
            "                                                                 \n",
            " inception_resnet_v2 (Functi  (None, 8, 8, 1536)       54336736  \n",
            " onal)                                                           \n",
            "                                                                 \n",
            " global_average_pooling2d (G  (None, 1536)             0         \n",
            " lobalAveragePooling2D)                                          \n",
            "                                                                 \n",
            " dropout (Dropout)           (None, 1536)              0         \n",
            "                                                                 \n",
            " dense (Dense)               (None, 1024)              1573888   \n",
            "                                                                 \n",
            " dense_1 (Dense)             (None, 1)                 1025      \n",
            "                                                                 \n",
            "=================================================================\n",
            "Total params: 55,911,649\n",
            "Trainable params: 1,574,913\n",
            "Non-trainable params: 54,336,736\n",
            "_________________________________________________________________\n"
          ]
        }
      ]
    },
    {
      "cell_type": "code",
      "source": [
        "base_model.trainable = False\n",
        "\n",
        "LEARNING_RATE = 1e-4\n",
        "model.compile(optimizer=Adam(learning_rate=LEARNING_RATE),\n",
        "              loss='mae',\n",
        "              metrics=['mae'])\n",
        "\n",
        "checkpoint_filepath = '/content/drive/MyDrive/AI_proj/data/InceptionV2Resnet_top_training.ckpt'\n",
        "checkpointer = ModelCheckpoint(\n",
        "    filepath=checkpoint_filepath,\n",
        "    monitor='val_mae',\n",
        "    save_best_only=True,\n",
        "    save_weights_only=True,\n",
        "    verbose=1\n",
        ")\n",
        "\n",
        "EPOCHS = 30\n",
        "STEPS_PER_EPOCH = len(train_img_path) // BATCH_SIZE\n",
        "VAL_STEPS = len(vali_img_path) // BATCH_SIZE\n",
        "\n",
        "history = model.fit(train_dataset, epochs=EPOCHS,\n",
        "                    steps_per_epoch=STEPS_PER_EPOCH,\n",
        "                    validation_data=valid_dataset,\n",
        "                    validation_steps = VAL_STEPS,\n",
        "                    callbacks=[checkpointer],\n",
        "                    verbose=1)"
      ],
      "metadata": {
        "colab": {
          "base_uri": "https://localhost:8080/"
        },
        "id": "g7XCPr_TIsMX",
        "outputId": "66822f10-acc0-488d-edf8-af00af97b203"
      },
      "execution_count": null,
      "outputs": [
        {
          "output_type": "stream",
          "name": "stdout",
          "text": [
            "Epoch 1/30\n",
            "159/159 [==============================] - ETA: 0s - loss: 75.1047 - mae: 75.1047\n",
            "Epoch 1: val_mae improved from inf to 56.18127, saving model to /content/drive/MyDrive/AI_proj/data/InceptionV2Resnet_top_training.ckpt\n",
            "159/159 [==============================] - 35s 158ms/step - loss: 75.1047 - mae: 75.1047 - val_loss: 56.1813 - val_mae: 56.1813\n",
            "Epoch 2/30\n",
            "159/159 [==============================] - ETA: 0s - loss: 71.4631 - mae: 71.4631\n",
            "Epoch 2: val_mae improved from 56.18127 to 53.54671, saving model to /content/drive/MyDrive/AI_proj/data/InceptionV2Resnet_top_training.ckpt\n",
            "159/159 [==============================] - 22s 141ms/step - loss: 71.4631 - mae: 71.4631 - val_loss: 53.5467 - val_mae: 53.5467\n",
            "Epoch 3/30\n",
            "159/159 [==============================] - ETA: 0s - loss: 69.5362 - mae: 69.5362\n",
            "Epoch 3: val_mae improved from 53.54671 to 51.71366, saving model to /content/drive/MyDrive/AI_proj/data/InceptionV2Resnet_top_training.ckpt\n",
            "159/159 [==============================] - 23s 142ms/step - loss: 69.5362 - mae: 69.5362 - val_loss: 51.7137 - val_mae: 51.7137\n",
            "Epoch 4/30\n",
            "159/159 [==============================] - ETA: 0s - loss: 67.6921 - mae: 67.6921\n",
            "Epoch 4: val_mae improved from 51.71366 to 50.94918, saving model to /content/drive/MyDrive/AI_proj/data/InceptionV2Resnet_top_training.ckpt\n",
            "159/159 [==============================] - 22s 141ms/step - loss: 67.6921 - mae: 67.6921 - val_loss: 50.9492 - val_mae: 50.9492\n",
            "Epoch 5/30\n",
            "159/159 [==============================] - ETA: 0s - loss: 66.7656 - mae: 66.7656\n",
            "Epoch 5: val_mae improved from 50.94918 to 50.24799, saving model to /content/drive/MyDrive/AI_proj/data/InceptionV2Resnet_top_training.ckpt\n",
            "159/159 [==============================] - 22s 138ms/step - loss: 66.7656 - mae: 66.7656 - val_loss: 50.2480 - val_mae: 50.2480\n",
            "Epoch 6/30\n",
            "159/159 [==============================] - ETA: 0s - loss: 66.1114 - mae: 66.1114\n",
            "Epoch 6: val_mae improved from 50.24799 to 49.72052, saving model to /content/drive/MyDrive/AI_proj/data/InceptionV2Resnet_top_training.ckpt\n",
            "159/159 [==============================] - 23s 143ms/step - loss: 66.1114 - mae: 66.1114 - val_loss: 49.7205 - val_mae: 49.7205\n",
            "Epoch 7/30\n",
            "159/159 [==============================] - ETA: 0s - loss: 65.1541 - mae: 65.1541\n",
            "Epoch 7: val_mae improved from 49.72052 to 49.08851, saving model to /content/drive/MyDrive/AI_proj/data/InceptionV2Resnet_top_training.ckpt\n",
            "159/159 [==============================] - 22s 139ms/step - loss: 65.1541 - mae: 65.1541 - val_loss: 49.0885 - val_mae: 49.0885\n",
            "Epoch 8/30\n",
            "159/159 [==============================] - ETA: 0s - loss: 64.7586 - mae: 64.7586\n",
            "Epoch 8: val_mae improved from 49.08851 to 48.99912, saving model to /content/drive/MyDrive/AI_proj/data/InceptionV2Resnet_top_training.ckpt\n",
            "159/159 [==============================] - 22s 141ms/step - loss: 64.7586 - mae: 64.7586 - val_loss: 48.9991 - val_mae: 48.9991\n",
            "Epoch 9/30\n",
            "159/159 [==============================] - ETA: 0s - loss: 64.3314 - mae: 64.3314\n",
            "Epoch 9: val_mae improved from 48.99912 to 47.95684, saving model to /content/drive/MyDrive/AI_proj/data/InceptionV2Resnet_top_training.ckpt\n",
            "159/159 [==============================] - 22s 139ms/step - loss: 64.3314 - mae: 64.3314 - val_loss: 47.9568 - val_mae: 47.9568\n",
            "Epoch 10/30\n",
            "159/159 [==============================] - ETA: 0s - loss: 64.0014 - mae: 64.0014\n",
            "Epoch 10: val_mae improved from 47.95684 to 47.16098, saving model to /content/drive/MyDrive/AI_proj/data/InceptionV2Resnet_top_training.ckpt\n",
            "159/159 [==============================] - 22s 138ms/step - loss: 64.0014 - mae: 64.0014 - val_loss: 47.1610 - val_mae: 47.1610\n",
            "Epoch 11/30\n",
            "159/159 [==============================] - ETA: 0s - loss: 63.2933 - mae: 63.2933\n",
            "Epoch 11: val_mae improved from 47.16098 to 46.10318, saving model to /content/drive/MyDrive/AI_proj/data/InceptionV2Resnet_top_training.ckpt\n",
            "159/159 [==============================] - 23s 142ms/step - loss: 63.2933 - mae: 63.2933 - val_loss: 46.1032 - val_mae: 46.1032\n",
            "Epoch 12/30\n",
            "159/159 [==============================] - ETA: 0s - loss: 63.5827 - mae: 63.5827\n",
            "Epoch 12: val_mae did not improve from 46.10318\n",
            "159/159 [==============================] - 21s 130ms/step - loss: 63.5827 - mae: 63.5827 - val_loss: 46.3057 - val_mae: 46.3057\n",
            "Epoch 13/30\n",
            "159/159 [==============================] - ETA: 0s - loss: 64.0038 - mae: 64.0038\n",
            "Epoch 13: val_mae improved from 46.10318 to 44.88319, saving model to /content/drive/MyDrive/AI_proj/data/InceptionV2Resnet_top_training.ckpt\n",
            "159/159 [==============================] - 22s 138ms/step - loss: 64.0038 - mae: 64.0038 - val_loss: 44.8832 - val_mae: 44.8832\n",
            "Epoch 14/30\n",
            "159/159 [==============================] - ETA: 0s - loss: 63.0705 - mae: 63.0705\n",
            "Epoch 14: val_mae improved from 44.88319 to 43.89182, saving model to /content/drive/MyDrive/AI_proj/data/InceptionV2Resnet_top_training.ckpt\n",
            "159/159 [==============================] - 23s 144ms/step - loss: 63.0705 - mae: 63.0705 - val_loss: 43.8918 - val_mae: 43.8918\n",
            "Epoch 15/30\n",
            "159/159 [==============================] - ETA: 0s - loss: 62.8815 - mae: 62.8815\n",
            "Epoch 15: val_mae improved from 43.89182 to 43.65984, saving model to /content/drive/MyDrive/AI_proj/data/InceptionV2Resnet_top_training.ckpt\n",
            "159/159 [==============================] - 22s 138ms/step - loss: 62.8815 - mae: 62.8815 - val_loss: 43.6598 - val_mae: 43.6598\n",
            "Epoch 16/30\n",
            "159/159 [==============================] - ETA: 0s - loss: 62.7983 - mae: 62.7983\n",
            "Epoch 16: val_mae improved from 43.65984 to 42.68277, saving model to /content/drive/MyDrive/AI_proj/data/InceptionV2Resnet_top_training.ckpt\n",
            "159/159 [==============================] - 22s 138ms/step - loss: 62.7983 - mae: 62.7983 - val_loss: 42.6828 - val_mae: 42.6828\n",
            "Epoch 17/30\n",
            "159/159 [==============================] - ETA: 0s - loss: 63.1152 - mae: 63.1152\n",
            "Epoch 17: val_mae improved from 42.68277 to 42.06205, saving model to /content/drive/MyDrive/AI_proj/data/InceptionV2Resnet_top_training.ckpt\n",
            "159/159 [==============================] - 22s 138ms/step - loss: 63.1152 - mae: 63.1152 - val_loss: 42.0620 - val_mae: 42.0620\n",
            "Epoch 18/30\n",
            "159/159 [==============================] - ETA: 0s - loss: 63.0028 - mae: 63.0028\n",
            "Epoch 18: val_mae improved from 42.06205 to 41.97475, saving model to /content/drive/MyDrive/AI_proj/data/InceptionV2Resnet_top_training.ckpt\n",
            "159/159 [==============================] - 22s 141ms/step - loss: 63.0028 - mae: 63.0028 - val_loss: 41.9748 - val_mae: 41.9748\n",
            "Epoch 19/30\n",
            "159/159 [==============================] - ETA: 0s - loss: 62.9030 - mae: 62.9030\n",
            "Epoch 19: val_mae improved from 41.97475 to 40.75574, saving model to /content/drive/MyDrive/AI_proj/data/InceptionV2Resnet_top_training.ckpt\n",
            "159/159 [==============================] - 23s 141ms/step - loss: 62.9030 - mae: 62.9030 - val_loss: 40.7557 - val_mae: 40.7557\n",
            "Epoch 20/30\n",
            "159/159 [==============================] - ETA: 0s - loss: 62.4100 - mae: 62.4100\n",
            "Epoch 20: val_mae did not improve from 40.75574\n",
            "159/159 [==============================] - 21s 130ms/step - loss: 62.4100 - mae: 62.4100 - val_loss: 42.1786 - val_mae: 42.1786\n",
            "Epoch 21/30\n",
            "159/159 [==============================] - ETA: 0s - loss: 62.2105 - mae: 62.2105\n",
            "Epoch 21: val_mae did not improve from 40.75574\n",
            "159/159 [==============================] - 21s 130ms/step - loss: 62.2105 - mae: 62.2105 - val_loss: 41.8780 - val_mae: 41.8780\n",
            "Epoch 22/30\n",
            "159/159 [==============================] - ETA: 0s - loss: 62.8884 - mae: 62.8884\n",
            "Epoch 22: val_mae did not improve from 40.75574\n",
            "159/159 [==============================] - 20s 129ms/step - loss: 62.8884 - mae: 62.8884 - val_loss: 41.6219 - val_mae: 41.6219\n",
            "Epoch 23/30\n",
            "159/159 [==============================] - ETA: 0s - loss: 62.2791 - mae: 62.2791\n",
            "Epoch 23: val_mae did not improve from 40.75574\n",
            "159/159 [==============================] - 20s 129ms/step - loss: 62.2791 - mae: 62.2791 - val_loss: 41.9334 - val_mae: 41.9334\n",
            "Epoch 24/30\n",
            "159/159 [==============================] - ETA: 0s - loss: 62.4046 - mae: 62.4046\n",
            "Epoch 24: val_mae did not improve from 40.75574\n",
            "159/159 [==============================] - 20s 129ms/step - loss: 62.4046 - mae: 62.4046 - val_loss: 41.5292 - val_mae: 41.5292\n",
            "Epoch 25/30\n",
            "159/159 [==============================] - ETA: 0s - loss: 62.1118 - mae: 62.1118\n",
            "Epoch 25: val_mae did not improve from 40.75574\n",
            "159/159 [==============================] - 20s 129ms/step - loss: 62.1118 - mae: 62.1118 - val_loss: 41.8952 - val_mae: 41.8952\n",
            "Epoch 26/30\n",
            "159/159 [==============================] - ETA: 0s - loss: 62.5290 - mae: 62.5290\n",
            "Epoch 26: val_mae did not improve from 40.75574\n",
            "159/159 [==============================] - 21s 129ms/step - loss: 62.5290 - mae: 62.5290 - val_loss: 41.0828 - val_mae: 41.0828\n",
            "Epoch 27/30\n",
            "159/159 [==============================] - ETA: 0s - loss: 62.4661 - mae: 62.4661\n",
            "Epoch 27: val_mae improved from 40.75574 to 40.69407, saving model to /content/drive/MyDrive/AI_proj/data/InceptionV2Resnet_top_training.ckpt\n",
            "159/159 [==============================] - 22s 138ms/step - loss: 62.4661 - mae: 62.4661 - val_loss: 40.6941 - val_mae: 40.6941\n",
            "Epoch 28/30\n",
            "159/159 [==============================] - ETA: 0s - loss: 62.5131 - mae: 62.5131\n",
            "Epoch 28: val_mae improved from 40.69407 to 40.49476, saving model to /content/drive/MyDrive/AI_proj/data/InceptionV2Resnet_top_training.ckpt\n",
            "159/159 [==============================] - 22s 139ms/step - loss: 62.5131 - mae: 62.5131 - val_loss: 40.4948 - val_mae: 40.4948\n",
            "Epoch 29/30\n",
            "159/159 [==============================] - ETA: 0s - loss: 62.1139 - mae: 62.1139\n",
            "Epoch 29: val_mae improved from 40.49476 to 39.50798, saving model to /content/drive/MyDrive/AI_proj/data/InceptionV2Resnet_top_training.ckpt\n",
            "159/159 [==============================] - 22s 137ms/step - loss: 62.1139 - mae: 62.1139 - val_loss: 39.5080 - val_mae: 39.5080\n",
            "Epoch 30/30\n",
            "159/159 [==============================] - ETA: 0s - loss: 62.3317 - mae: 62.3317\n",
            "Epoch 30: val_mae did not improve from 39.50798\n",
            "159/159 [==============================] - 20s 129ms/step - loss: 62.3317 - mae: 62.3317 - val_loss: 39.5415 - val_mae: 39.5415\n"
          ]
        }
      ]
    },
    {
      "cell_type": "markdown",
      "source": [
        "### graph"
      ],
      "metadata": {
        "id": "ljR5bt24J0wJ"
      }
    },
    {
      "cell_type": "code",
      "source": [
        "plt.figure(figsize=(8, 8))\n",
        "plt.plot(history.history['mae'], label='Training MAE')\n",
        "plt.plot(history.history['val_mae'], label='Validation MAE')\n",
        "plt.legend(loc='lower left')\n",
        "plt.title('Training and Validation MAE')"
      ],
      "metadata": {
        "colab": {
          "base_uri": "https://localhost:8080/",
          "height": 517
        },
        "id": "gWTBhhbLJ0TO",
        "outputId": "79e8a855-dacc-406a-d78c-fb858acc3e0a"
      },
      "execution_count": null,
      "outputs": [
        {
          "output_type": "execute_result",
          "data": {
            "text/plain": [
              "Text(0.5, 1.0, 'Training and Validation MAE')"
            ]
          },
          "metadata": {},
          "execution_count": 69
        },
        {
          "output_type": "display_data",
          "data": {
            "text/plain": [
              "<Figure size 576x576 with 1 Axes>"
            ],
            "image/png": "[encoded data removed]"
          },
          "metadata": {
            "needs_background": "light"
          }
        }
      ]
    },
    {
      "cell_type": "markdown",
      "source": [
        "### finetune"
      ],
      "metadata": {
        "id": "CidbmVndH6iK"
      }
    },
    {
      "cell_type": "code",
      "source": [
        "base_model.trainable=True\n",
        "\n",
        "fine_tune_at = int(len(base_model.layers) * 0.9)\n",
        "for layer in base_model.layers[:fine_tune_at] :\n",
        "    layer.trainable = False"
      ],
      "metadata": {
        "id": "ESJdK9r8eVaK"
      },
      "execution_count": null,
      "outputs": []
    },
    {
      "cell_type": "code",
      "source": [
        "model.compile(optimizer=Adam(learning_rate=LEARNING_RATE/10),\n",
        "              loss='mae',\n",
        "              metrics=['mae'])\n",
        "model.summary()"
      ],
      "metadata": {
        "colab": {
          "base_uri": "https://localhost:8080/"
        },
        "id": "thJXV1AvJumw",
        "outputId": "e69ecd11-028f-4f38-c46f-3d02d01e55cc"
      },
      "execution_count": null,
      "outputs": [
        {
          "output_type": "stream",
          "name": "stdout",
          "text": [
            "Model: \"model_1\"\n",
            "_________________________________________________________________\n",
            " Layer (type)                Output Shape              Param #   \n",
            "=================================================================\n",
            " input_3 (InputLayer)        [(None, 256, 256, 3)]     0         \n",
            "                                                                 \n",
            " model (Functional)          (None, 299, 299, 3)       0         \n",
            "                                                                 \n",
            " inception_resnet_v2 (Functi  (None, 8, 8, 1536)       54336736  \n",
            " onal)                                                           \n",
            "                                                                 \n",
            " global_average_pooling2d (G  (None, 1536)             0         \n",
            " lobalAveragePooling2D)                                          \n",
            "                                                                 \n",
            " dropout (Dropout)           (None, 1536)              0         \n",
            "                                                                 \n",
            " dense (Dense)               (None, 1024)              1573888   \n",
            "                                                                 \n",
            " dense_1 (Dense)             (None, 1)                 1025      \n",
            "                                                                 \n",
            "=================================================================\n",
            "Total params: 55,911,649\n",
            "Trainable params: 14,415,553\n",
            "Non-trainable params: 41,496,096\n",
            "_________________________________________________________________\n"
          ]
        }
      ]
    },
    {
      "cell_type": "code",
      "source": [
        "checkpoint_filepath = '/content/drive/MyDrive/AI_proj/data/InceptionV2Resnet_finetune.ckpt'\n",
        "checkpointer = ModelCheckpoint(\n",
        "    filepath=checkpoint_filepath,\n",
        "    monitor='val_mae',\n",
        "    save_best_only=True,\n",
        "    save_weights_only=True,\n",
        "    verbose=1\n",
        ")\n",
        "\n",
        "\n",
        "FINE_TUNE_EPOCHS = 30 \n",
        "history_fine = model.fit(train_dataset, epochs=FINE_TUNE_EPOCHS,\n",
        "                    steps_per_epoch=STEPS_PER_EPOCH,\n",
        "                    validation_data=valid_dataset,\n",
        "                    validation_steps = VAL_STEPS,\n",
        "                    callbacks=[checkpointer],\n",
        "                    verbose=1)\n",
        "\n",
        "model.save('/content/drive/MyDrive/AI_proj/data/InceptionV2Resnet_finetune.h5')"
      ],
      "metadata": {
        "colab": {
          "base_uri": "https://localhost:8080/"
        },
        "id": "yVPOkouffcr_",
        "outputId": "32d27e23-de13-4997-aa6e-0f1e708f7f41"
      },
      "execution_count": null,
      "outputs": [
        {
          "output_type": "stream",
          "name": "stdout",
          "text": [
            "Epoch 1/30\n",
            "159/159 [==============================] - ETA: 0s - loss: 63.6441 - mae: 63.6441\n",
            "Epoch 1: val_mae improved from inf to 38.00010, saving model to /content/drive/MyDrive/AI_proj/data/InceptionV2Resnet_finetune.ckpt\n",
            "159/159 [==============================] - 40s 176ms/step - loss: 63.6441 - mae: 63.6441 - val_loss: 38.0001 - val_mae: 38.0001\n",
            "Epoch 2/30\n",
            "159/159 [==============================] - ETA: 0s - loss: 62.2460 - mae: 62.2460\n",
            "Epoch 2: val_mae improved from 38.00010 to 36.28356, saving model to /content/drive/MyDrive/AI_proj/data/InceptionV2Resnet_finetune.ckpt\n",
            "159/159 [==============================] - 26s 164ms/step - loss: 62.2460 - mae: 62.2460 - val_loss: 36.2836 - val_mae: 36.2836\n",
            "Epoch 3/30\n",
            "159/159 [==============================] - ETA: 0s - loss: 61.5930 - mae: 61.5930\n",
            "Epoch 3: val_mae improved from 36.28356 to 35.21762, saving model to /content/drive/MyDrive/AI_proj/data/InceptionV2Resnet_finetune.ckpt\n",
            "159/159 [==============================] - 25s 156ms/step - loss: 61.5930 - mae: 61.5930 - val_loss: 35.2176 - val_mae: 35.2176\n",
            "Epoch 4/30\n",
            "159/159 [==============================] - ETA: 0s - loss: 61.4907 - mae: 61.4907\n",
            "Epoch 4: val_mae improved from 35.21762 to 34.12845, saving model to /content/drive/MyDrive/AI_proj/data/InceptionV2Resnet_finetune.ckpt\n",
            "159/159 [==============================] - 25s 158ms/step - loss: 61.4907 - mae: 61.4907 - val_loss: 34.1285 - val_mae: 34.1285\n",
            "Epoch 5/30\n",
            "159/159 [==============================] - ETA: 0s - loss: 61.1390 - mae: 61.1390\n",
            "Epoch 5: val_mae improved from 34.12845 to 32.57175, saving model to /content/drive/MyDrive/AI_proj/data/InceptionV2Resnet_finetune.ckpt\n",
            "159/159 [==============================] - 25s 160ms/step - loss: 61.1390 - mae: 61.1390 - val_loss: 32.5718 - val_mae: 32.5718\n",
            "Epoch 6/30\n",
            "159/159 [==============================] - ETA: 0s - loss: 60.7464 - mae: 60.7464\n",
            "Epoch 6: val_mae improved from 32.57175 to 32.55051, saving model to /content/drive/MyDrive/AI_proj/data/InceptionV2Resnet_finetune.ckpt\n",
            "159/159 [==============================] - 26s 161ms/step - loss: 60.7464 - mae: 60.7464 - val_loss: 32.5505 - val_mae: 32.5505\n",
            "Epoch 7/30\n",
            "159/159 [==============================] - ETA: 0s - loss: 60.6111 - mae: 60.6111\n",
            "Epoch 7: val_mae did not improve from 32.55051\n",
            "159/159 [==============================] - 23s 147ms/step - loss: 60.6111 - mae: 60.6111 - val_loss: 34.0140 - val_mae: 34.0140\n",
            "Epoch 8/30\n",
            "159/159 [==============================] - ETA: 0s - loss: 60.1111 - mae: 60.1111\n",
            "Epoch 8: val_mae did not improve from 32.55051\n",
            "159/159 [==============================] - 23s 145ms/step - loss: 60.1111 - mae: 60.1111 - val_loss: 34.0955 - val_mae: 34.0955\n",
            "Epoch 9/30\n",
            "159/159 [==============================] - ETA: 0s - loss: 59.8070 - mae: 59.8070\n",
            "Epoch 9: val_mae did not improve from 32.55051\n",
            "159/159 [==============================] - 23s 145ms/step - loss: 59.8070 - mae: 59.8070 - val_loss: 34.3007 - val_mae: 34.3007\n",
            "Epoch 10/30\n",
            "159/159 [==============================] - ETA: 0s - loss: 59.3033 - mae: 59.3033\n",
            "Epoch 10: val_mae did not improve from 32.55051\n",
            "159/159 [==============================] - 23s 144ms/step - loss: 59.3033 - mae: 59.3033 - val_loss: 33.8147 - val_mae: 33.8147\n",
            "Epoch 11/30\n",
            "159/159 [==============================] - ETA: 0s - loss: 59.3323 - mae: 59.3323\n",
            "Epoch 11: val_mae did not improve from 32.55051\n",
            "159/159 [==============================] - 23s 144ms/step - loss: 59.3323 - mae: 59.3323 - val_loss: 34.3115 - val_mae: 34.3115\n",
            "Epoch 12/30\n",
            "159/159 [==============================] - ETA: 0s - loss: 59.1754 - mae: 59.1754\n",
            "Epoch 12: val_mae improved from 32.55051 to 29.26215, saving model to /content/drive/MyDrive/AI_proj/data/InceptionV2Resnet_finetune.ckpt\n",
            "159/159 [==============================] - 25s 156ms/step - loss: 59.1754 - mae: 59.1754 - val_loss: 29.2621 - val_mae: 29.2621\n",
            "Epoch 13/30\n",
            "159/159 [==============================] - ETA: 0s - loss: 59.5456 - mae: 59.5456\n",
            "Epoch 13: val_mae did not improve from 29.26215\n",
            "159/159 [==============================] - 23s 146ms/step - loss: 59.5456 - mae: 59.5456 - val_loss: 30.2410 - val_mae: 30.2410\n",
            "Epoch 14/30\n",
            "159/159 [==============================] - ETA: 0s - loss: 57.9865 - mae: 57.9865\n",
            "Epoch 14: val_mae did not improve from 29.26215\n",
            "159/159 [==============================] - 23s 145ms/step - loss: 57.9865 - mae: 57.9865 - val_loss: 31.6748 - val_mae: 31.6748\n",
            "Epoch 15/30\n",
            "159/159 [==============================] - ETA: 0s - loss: 58.2654 - mae: 58.2654\n",
            "Epoch 15: val_mae did not improve from 29.26215\n",
            "159/159 [==============================] - 23s 144ms/step - loss: 58.2654 - mae: 58.2654 - val_loss: 33.0275 - val_mae: 33.0275\n",
            "Epoch 16/30\n",
            "159/159 [==============================] - ETA: 0s - loss: 57.8822 - mae: 57.8822\n",
            "Epoch 16: val_mae did not improve from 29.26215\n",
            "159/159 [==============================] - 23s 144ms/step - loss: 57.8822 - mae: 57.8822 - val_loss: 31.9721 - val_mae: 31.9721\n",
            "Epoch 17/30\n",
            "159/159 [==============================] - ETA: 0s - loss: 58.0252 - mae: 58.0252\n",
            "Epoch 17: val_mae improved from 29.26215 to 29.23916, saving model to /content/drive/MyDrive/AI_proj/data/InceptionV2Resnet_finetune.ckpt\n",
            "159/159 [==============================] - 25s 157ms/step - loss: 58.0252 - mae: 58.0252 - val_loss: 29.2392 - val_mae: 29.2392\n",
            "Epoch 18/30\n",
            "159/159 [==============================] - ETA: 0s - loss: 57.9740 - mae: 57.9740\n",
            "Epoch 18: val_mae did not improve from 29.23916\n",
            "159/159 [==============================] - 23s 145ms/step - loss: 57.9740 - mae: 57.9740 - val_loss: 32.4437 - val_mae: 32.4437\n",
            "Epoch 19/30\n",
            "159/159 [==============================] - ETA: 0s - loss: 57.2874 - mae: 57.2874\n",
            "Epoch 19: val_mae did not improve from 29.23916\n",
            "159/159 [==============================] - 23s 145ms/step - loss: 57.2874 - mae: 57.2874 - val_loss: 30.5524 - val_mae: 30.5524\n",
            "Epoch 20/30\n",
            "159/159 [==============================] - ETA: 0s - loss: 57.1898 - mae: 57.1898\n",
            "Epoch 20: val_mae did not improve from 29.23916\n",
            "159/159 [==============================] - 23s 145ms/step - loss: 57.1898 - mae: 57.1898 - val_loss: 31.4544 - val_mae: 31.4544\n",
            "Epoch 21/30\n",
            "159/159 [==============================] - ETA: 0s - loss: 56.9997 - mae: 56.9997\n",
            "Epoch 21: val_mae did not improve from 29.23916\n",
            "159/159 [==============================] - 23s 144ms/step - loss: 56.9997 - mae: 56.9997 - val_loss: 33.5472 - val_mae: 33.5472\n",
            "Epoch 22/30\n",
            "159/159 [==============================] - ETA: 0s - loss: 56.8799 - mae: 56.8799\n",
            "Epoch 22: val_mae did not improve from 29.23916\n",
            "159/159 [==============================] - 23s 145ms/step - loss: 56.8799 - mae: 56.8799 - val_loss: 31.4541 - val_mae: 31.4541\n",
            "Epoch 23/30\n",
            "159/159 [==============================] - ETA: 0s - loss: 55.6981 - mae: 55.6981\n",
            "Epoch 23: val_mae did not improve from 29.23916\n",
            "159/159 [==============================] - 23s 144ms/step - loss: 55.6981 - mae: 55.6981 - val_loss: 30.9134 - val_mae: 30.9134\n",
            "Epoch 24/30\n",
            "159/159 [==============================] - ETA: 0s - loss: 56.7768 - mae: 56.7768\n",
            "Epoch 24: val_mae did not improve from 29.23916\n",
            "159/159 [==============================] - 23s 144ms/step - loss: 56.7768 - mae: 56.7768 - val_loss: 34.4326 - val_mae: 34.4326\n",
            "Epoch 25/30\n",
            "159/159 [==============================] - ETA: 0s - loss: 55.7530 - mae: 55.7530\n",
            "Epoch 25: val_mae did not improve from 29.23916\n",
            "159/159 [==============================] - 23s 144ms/step - loss: 55.7530 - mae: 55.7530 - val_loss: 31.2145 - val_mae: 31.2145\n",
            "Epoch 26/30\n",
            "159/159 [==============================] - ETA: 0s - loss: 57.2456 - mae: 57.2456\n",
            "Epoch 26: val_mae did not improve from 29.23916\n",
            "159/159 [==============================] - 23s 145ms/step - loss: 57.2456 - mae: 57.2456 - val_loss: 29.6484 - val_mae: 29.6484\n",
            "Epoch 27/30\n",
            "159/159 [==============================] - ETA: 0s - loss: 56.0823 - mae: 56.0823\n",
            "Epoch 27: val_mae did not improve from 29.23916\n",
            "159/159 [==============================] - 23s 145ms/step - loss: 56.0823 - mae: 56.0823 - val_loss: 31.0712 - val_mae: 31.0712\n",
            "Epoch 28/30\n",
            "159/159 [==============================] - ETA: 0s - loss: 55.3265 - mae: 55.3265\n",
            "Epoch 28: val_mae did not improve from 29.23916\n",
            "159/159 [==============================] - 23s 144ms/step - loss: 55.3265 - mae: 55.3265 - val_loss: 30.5395 - val_mae: 30.5395\n",
            "Epoch 29/30\n",
            "159/159 [==============================] - ETA: 0s - loss: 56.2136 - mae: 56.2136\n",
            "Epoch 29: val_mae did not improve from 29.23916\n",
            "159/159 [==============================] - 23s 145ms/step - loss: 56.2136 - mae: 56.2136 - val_loss: 31.6506 - val_mae: 31.6506\n",
            "Epoch 30/30\n",
            "159/159 [==============================] - ETA: 0s - loss: 55.3685 - mae: 55.3685\n",
            "Epoch 30: val_mae did not improve from 29.23916\n",
            "159/159 [==============================] - 23s 144ms/step - loss: 55.3685 - mae: 55.3685 - val_loss: 38.1956 - val_mae: 38.1956\n"
          ]
        }
      ]
    },
    {
      "cell_type": "code",
      "source": [
        "plt.figure(figsize=(8, 8))\n",
        "plt.plot(history_fine.history['mae'], label='Training MAE')\n",
        "plt.plot(history_fine.history['val_mae'], label='Validation MAE')\n",
        "plt.legend(loc='lower right')\n",
        "plt.title('Training and Validation MAE')"
      ],
      "metadata": {
        "colab": {
          "base_uri": "https://localhost:8080/",
          "height": 517
        },
        "id": "5mGBBSJsfx2s",
        "outputId": "3cddd172-44ab-494d-bf85-9842af1d1415"
      },
      "execution_count": null,
      "outputs": [
        {
          "output_type": "execute_result",
          "data": {
            "text/plain": [
              "Text(0.5, 1.0, 'Training and Validation MAE')"
            ]
          },
          "metadata": {},
          "execution_count": 81
        },
        {
          "output_type": "display_data",
          "data": {
            "text/plain": [
              "<Figure size 576x576 with 1 Axes>"
            ],
            "image/png": "[encoded data removed]"
          },
          "metadata": {
            "needs_background": "light"
          }
        }
      ]
    },
    {
      "cell_type": "markdown",
      "source": [
        "# Prediction"
      ],
      "metadata": {
        "id": "PGQ6jBs9f7vH"
      }
    },
    {
      "cell_type": "markdown",
      "source": [
        "test set 생성"
      ],
      "metadata": {
        "id": "LisDw-XNlufu"
      }
    },
    {
      "cell_type": "code",
      "source": [
        "PRED_BATCH_SIZE = 10\n",
        "test_dataset, file_names = create_test_dataset(test_img_path, (IMAGE_SIZE, IMAGE_SIZE), PRED_BATCH_SIZE )"
      ],
      "metadata": {
        "colab": {
          "base_uri": "https://localhost:8080/",
          "height": 49,
          "referenced_widgets": [
            "5f911f7836ee483aa4f15c024cf40a77",
            "71322fa2ea9a4f1da5f0441569d0cdab",
            "bf18919f9b824fbcb1420f985845f4a9",
            "75eb9741ddd442eeb9cadacda75638e6",
            "23fe2a033fee412b95ce3bfa8d4ab8ac",
            "cc685005b2df4d128406a636652edd84",
            "a722da7761894d10826812ab6ef2bf35",
            "01135c8f1e4245cb9292e77e82190d75",
            "0ddc4ba2c2cf4271ab57c7804c9c6b53",
            "47399a7a727c48b8b0cce842219458bd",
            "ef7f2a5d23a74c1194257b746d38342f"
          ]
        },
        "id": "DHO3XmODjSwG",
        "outputId": "f2944b32-39e8-47d0-ca82-f436f514f5be"
      },
      "execution_count": null,
      "outputs": [
        {
          "output_type": "display_data",
          "data": {
            "text/plain": [
              "  0%|          | 0/460 [00:00<?, ?it/s]"
            ],
            "application/vnd.jupyter.widget-view+json": {
              "version_major": 2,
              "version_minor": 0,
              "model_id": "5f911f7836ee483aa4f15c024cf40a77"
            }
          },
          "metadata": {}
        }
      ]
    },
    {
      "cell_type": "markdown",
      "source": [
        "model load and predict"
      ],
      "metadata": {
        "id": "NcWZX29ZlwkL"
      }
    },
    {
      "cell_type": "code",
      "source": [
        "model.load_weights('/content/drive/MyDrive/AI_proj/data/InceptionV2Resnet_finetune.ckpt')"
      ],
      "metadata": {
        "colab": {
          "base_uri": "https://localhost:8080/"
        },
        "id": "lIbWZb_0k7ZZ",
        "outputId": "96a386d8-85d0-45b7-ddaa-c34d06190d34"
      },
      "execution_count": null,
      "outputs": [
        {
          "output_type": "execute_result",
          "data": {
            "text/plain": [
              "<tensorflow.python.training.tracking.util.CheckpointLoadStatus at 0x7f73350e8590>"
            ]
          },
          "metadata": {},
          "execution_count": 82
        }
      ]
    },
    {
      "cell_type": "code",
      "source": [
        "STEPS = len(test_img_path) / PRED_BATCH_SIZE\n",
        "prediction = model.predict(test_dataset,\n",
        "                            batch_size = PRED_BATCH_SIZE,\n",
        "                            steps=STEPS)"
      ],
      "metadata": {
        "id": "WPPpm8MeWmtt"
      },
      "execution_count": null,
      "outputs": []
    },
    {
      "cell_type": "code",
      "source": [
        "prediction.shape"
      ],
      "metadata": {
        "colab": {
          "base_uri": "https://localhost:8080/"
        },
        "id": "UVHpedEFmcEd",
        "outputId": "769d3f07-08c6-4614-8378-d38b3e452811"
      },
      "execution_count": null,
      "outputs": [
        {
          "output_type": "execute_result",
          "data": {
            "text/plain": [
              "(460, 1)"
            ]
          },
          "metadata": {},
          "execution_count": 84
        }
      ]
    },
    {
      "cell_type": "code",
      "source": [
        "prediction"
      ],
      "metadata": {
        "id": "w9xtfbDEnqE9"
      },
      "execution_count": null,
      "outputs": []
    },
    {
      "cell_type": "markdown",
      "source": [
        "save to csv"
      ],
      "metadata": {
        "id": "NRmDUm5jlzWz"
      }
    },
    {
      "cell_type": "code",
      "source": [
        "submission = pd.read_csv('/content/drive/MyDrive/AI_proj/data/sample_submission.csv')\n",
        "submission['leaf_weight'] = prediction.squeeze()\n",
        "submission.to_csv('/content/drive/MyDrive/AI_proj/data/inception_v2_resnet_cnn.csv', index=False)"
      ],
      "metadata": {
        "id": "T3Gw2o9Pl0ll"
      },
      "execution_count": null,
      "outputs": []
    },
    {
      "cell_type": "code",
      "source": [
        "model.save('/content/drive/MyDrive/AI_proj/Inception_V2_Resnet_finetune_nmae031.h5')"
      ],
      "metadata": {
        "id": "9vtkX8tfWx6S"
      },
      "execution_count": null,
      "outputs": []
    },
    {
      "cell_type": "markdown",
      "source": [
        "# Pixel num"
      ],
      "metadata": {
        "id": "V4OVN10NZKsI"
      }
    },
    {
      "cell_type": "code",
      "source": [
        "pixel = pd.read_csv('/content/drive/MyDrive/AI_proj/data/pixels_num.csv')\n",
        "pixel.set_index('img_name', inplace=True)\n",
        "pixel.drop('leaf_weight', inplace=True, axis=1)"
      ],
      "metadata": {
        "id": "jUvsqpJHZJw1"
      },
      "execution_count": null,
      "outputs": []
    },
    {
      "cell_type": "code",
      "source": [
        "pixel"
      ],
      "metadata": {
        "colab": {
          "base_uri": "https://localhost:8080/",
          "height": 455
        },
        "id": "MwQwXOsrYUOC",
        "outputId": "2eed5b5f-c16b-4bf6-93bb-47cdc619f7fd"
      },
      "execution_count": null,
      "outputs": [
        {
          "output_type": "execute_result",
          "data": {
            "text/plain": [
              "               pixels\n",
              "img_name             \n",
              "CASE01_01.png   19827\n",
              "CASE01_02.png   23790\n",
              "CASE01_03.png   28659\n",
              "CASE01_04.png   33729\n",
              "CASE01_05.png   38553\n",
              "...               ...\n",
              "CASE74_25.png   81960\n",
              "CASE74_26.png   82695\n",
              "CASE74_27.png   83841\n",
              "CASE75_01.png   83814\n",
              "CASE75_02.png   83952\n",
              "\n",
              "[1592 rows x 1 columns]"
            ],
            "text/html": [
              "\n",
              "  <div id=\"df-812cd15d-efcb-4891-ab35-8295a7c7ac61\">\n",
              "    <div class=\"colab-df-container\">\n",
              "      <div>\n",
              "<style scoped>\n",
              "    .dataframe tbody tr th:only-of-type {\n",
              "        vertical-align: middle;\n",
              "    }\n",
              "\n",
              "    .dataframe tbody tr th {\n",
              "        vertical-align: top;\n",
              "    }\n",
              "\n",
              "    .dataframe thead th {\n",
              "        text-align: right;\n",
              "    }\n",
              "</style>\n",
              "<table border=\"1\" class=\"dataframe\">\n",
              "  <thead>\n",
              "    <tr style=\"text-align: right;\">\n",
              "      <th></th>\n",
              "      <th>pixels</th>\n",
              "    </tr>\n",
              "    <tr>\n",
              "      <th>img_name</th>\n",
              "      <th></th>\n",
              "    </tr>\n",
              "  </thead>\n",
              "  <tbody>\n",
              "    <tr>\n",
              "      <th>CASE01_01.png</th>\n",
              "      <td>19827</td>\n",
              "    </tr>\n",
              "    <tr>\n",
              "      <th>CASE01_02.png</th>\n",
              "      <td>23790</td>\n",
              "    </tr>\n",
              "    <tr>\n",
              "      <th>CASE01_03.png</th>\n",
              "      <td>28659</td>\n",
              "    </tr>\n",
              "    <tr>\n",
              "      <th>CASE01_04.png</th>\n",
              "      <td>33729</td>\n",
              "    </tr>\n",
              "    <tr>\n",
              "      <th>CASE01_05.png</th>\n",
              "      <td>38553</td>\n",
              "    </tr>\n",
              "    <tr>\n",
              "      <th>...</th>\n",
              "      <td>...</td>\n",
              "    </tr>\n",
              "    <tr>\n",
              "      <th>CASE74_25.png</th>\n",
              "      <td>81960</td>\n",
              "    </tr>\n",
              "    <tr>\n",
              "      <th>CASE74_26.png</th>\n",
              "      <td>82695</td>\n",
              "    </tr>\n",
              "    <tr>\n",
              "      <th>CASE74_27.png</th>\n",
              "      <td>83841</td>\n",
              "    </tr>\n",
              "    <tr>\n",
              "      <th>CASE75_01.png</th>\n",
              "      <td>83814</td>\n",
              "    </tr>\n",
              "    <tr>\n",
              "      <th>CASE75_02.png</th>\n",
              "      <td>83952</td>\n",
              "    </tr>\n",
              "  </tbody>\n",
              "</table>\n",
              "<p>1592 rows × 1 columns</p>\n",
              "</div>\n",
              "      <button class=\"colab-df-convert\" onclick=\"convertToInteractive('df-812cd15d-efcb-4891-ab35-8295a7c7ac61')\"\n",
              "              title=\"Convert this dataframe to an interactive table.\"\n",
              "              style=\"display:none;\">\n",
              "        \n",
              "  <svg xmlns=\"http://www.w3.org/2000/svg\" height=\"24px\"viewBox=\"0 0 24 24\"\n",
              "       width=\"24px\">\n",
              "    <path d=\"M0 0h24v24H0V0z\" fill=\"none\"/>\n",
              "    <path d=\"M18.56 5.44l.94 2.06.94-2.06 2.06-.94-2.06-.94-.94-2.06-.94 2.06-2.06.94zm-11 1L8.5 8.5l.94-2.06 2.06-.94-2.06-.94L8.5 2.5l-.94 2.06-2.06.94zm10 10l.94 2.06.94-2.06 2.06-.94-2.06-.94-.94-2.06-.94 2.06-2.06.94z\"/><path d=\"M17.41 7.96l-1.37-1.37c-.4-.4-.92-.59-1.43-.59-.52 0-1.04.2-1.43.59L10.3 9.45l-7.72 7.72c-.78.78-.78 2.05 0 2.83L4 21.41c.39.39.9.59 1.41.59.51 0 1.02-.2 1.41-.59l7.78-7.78 2.81-2.81c.8-.78.8-2.07 0-2.86zM5.41 20L4 18.59l7.72-7.72 1.47 1.35L5.41 20z\"/>\n",
              "  </svg>\n",
              "      </button>\n",
              "      \n",
              "  <style>\n",
              "    .colab-df-container {\n",
              "      display:flex;\n",
              "      flex-wrap:wrap;\n",
              "      gap: 12px;\n",
              "    }\n",
              "\n",
              "    .colab-df-convert {\n",
              "      background-color: #E8F0FE;\n",
              "      border: none;\n",
              "      border-radius: 50%;\n",
              "      cursor: pointer;\n",
              "      display: none;\n",
              "      fill: #1967D2;\n",
              "      height: 32px;\n",
              "      padding: 0 0 0 0;\n",
              "      width: 32px;\n",
              "    }\n",
              "\n",
              "    .colab-df-convert:hover {\n",
              "      background-color: #E2EBFA;\n",
              "      box-shadow: 0px 1px 2px rgba(60, 64, 67, 0.3), 0px 1px 3px 1px rgba(60, 64, 67, 0.15);\n",
              "      fill: #174EA6;\n",
              "    }\n",
              "\n",
              "    [theme=dark] .colab-df-convert {\n",
              "      background-color: #3B4455;\n",
              "      fill: #D2E3FC;\n",
              "    }\n",
              "\n",
              "    [theme=dark] .colab-df-convert:hover {\n",
              "      background-color: #434B5C;\n",
              "      box-shadow: 0px 1px 3px 1px rgba(0, 0, 0, 0.15);\n",
              "      filter: drop-shadow(0px 1px 2px rgba(0, 0, 0, 0.3));\n",
              "      fill: #FFFFFF;\n",
              "    }\n",
              "  </style>\n",
              "\n",
              "      <script>\n",
              "        const buttonEl =\n",
              "          document.querySelector('#df-812cd15d-efcb-4891-ab35-8295a7c7ac61 button.colab-df-convert');\n",
              "        buttonEl.style.display =\n",
              "          google.colab.kernel.accessAllowed ? 'block' : 'none';\n",
              "\n",
              "        async function convertToInteractive(key) {\n",
              "          const element = document.querySelector('#df-812cd15d-efcb-4891-ab35-8295a7c7ac61');\n",
              "          const dataTable =\n",
              "            await google.colab.kernel.invokeFunction('convertToInteractive',\n",
              "                                                     [key], {});\n",
              "          if (!dataTable) return;\n",
              "\n",
              "          const docLinkHtml = 'Like what you see? Visit the ' +\n",
              "            '<a target=\"_blank\" href=https://colab.research.google.com/notebooks/data_table.ipynb>data table notebook</a>'\n",
              "            + ' to learn more about interactive tables.';\n",
              "          element.innerHTML = '';\n",
              "          dataTable['output_type'] = 'display_data';\n",
              "          await google.colab.output.renderOutput(dataTable, element);\n",
              "          const docLink = document.createElement('div');\n",
              "          docLink.innerHTML = docLinkHtml;\n",
              "          element.appendChild(docLink);\n",
              "        }\n",
              "      </script>\n",
              "    </div>\n",
              "  </div>\n",
              "  "
            ]
          },
          "metadata": {},
          "execution_count": 12
        }
      ]
    },
    {
      "cell_type": "code",
      "source": [
        "pixel_input = Input(shape=(1,))\n",
        "pixel_output = Dense(64, activation='linear')(pixel_input)\n",
        "pixel_model = Model(inputs=pixel_input, outputs=pixel_output)"
      ],
      "metadata": {
        "id": "lPc8Qoc2ZndE"
      },
      "execution_count": null,
      "outputs": []
    },
    {
      "cell_type": "code",
      "source": [
        "pixel_model.summary()"
      ],
      "metadata": {
        "colab": {
          "base_uri": "https://localhost:8080/"
        },
        "id": "sljFRkZlaF5g",
        "outputId": "2820845b-b30e-4b08-9d6c-fc4d326d5065"
      },
      "execution_count": null,
      "outputs": [
        {
          "output_type": "stream",
          "name": "stdout",
          "text": [
            "Model: \"model_2\"\n",
            "_________________________________________________________________\n",
            " Layer (type)                Output Shape              Param #   \n",
            "=================================================================\n",
            " input_5 (InputLayer)        [(None, 1)]               0         \n",
            "                                                                 \n",
            " dense_2 (Dense)             (None, 64)                128       \n",
            "                                                                 \n",
            "=================================================================\n",
            "Total params: 128\n",
            "Trainable params: 128\n",
            "Non-trainable params: 0\n",
            "_________________________________________________________________\n"
          ]
        }
      ]
    },
    {
      "cell_type": "code",
      "source": [
        "def create_pixel_dataset(pixel_np_array, batch_size=None) :\n",
        "    \n",
        "    dataset = Dataset.from_tensor_slices(pixel_list)\n",
        "\n",
        "    if batch_size is not None :\n",
        "        dataset = dataset.batch(batch_size, drop_remainder=True).repeat()\n",
        "\n",
        "    return dataset"
      ],
      "metadata": {
        "id": "xxvHe-2faKjS"
      },
      "execution_count": null,
      "outputs": []
    },
    {
      "cell_type": "code",
      "source": [
        "pixel_dataset = create_pixel_dataset()"
      ],
      "metadata": {
        "id": "Ct1eaegwameE"
      },
      "execution_count": null,
      "outputs": []
    }
  ],
  "metadata": {
    "accelerator": "GPU",
    "colab": {
      "name": "[Lab] Transfer Learning",
      "provenance": [],
      "collapsed_sections": [],
      "machine_shape": "hm",
      "toc_visible": true,
      "include_colab_link": true
    },
    "kernelspec": {
      "display_name": "Python 3",
      "name": "python3"
    },
    "language_info": {
      "name": "python"
    },
    "widgets": {
      "application/vnd.jupyter.widget-state+json": {
        "5f911f7836ee483aa4f15c024cf40a77": {
          "model_module": "@jupyter-widgets/controls",
          "model_name": "HBoxModel",
          "model_module_version": "1.5.0",
          "state": {
            "_dom_classes": [],
            "_model_module": "@jupyter-widgets/controls",
            "_model_module_version": "1.5.0",
            "_model_name": "HBoxModel",
            "_view_count": null,
            "_view_module": "@jupyter-widgets/controls",
            "_view_module_version": "1.5.0",
            "_view_name": "HBoxView",
            "box_style": "",
            "children": [
              "IPY_MODEL_71322fa2ea9a4f1da5f0441569d0cdab",
              "IPY_MODEL_bf18919f9b824fbcb1420f985845f4a9",
              "IPY_MODEL_75eb9741ddd442eeb9cadacda75638e6"
            ],
            "layout": "IPY_MODEL_23fe2a033fee412b95ce3bfa8d4ab8ac"
          }
        },
        "71322fa2ea9a4f1da5f0441569d0cdab": {
          "model_module": "@jupyter-widgets/controls",
          "model_name": "HTMLModel",
          "model_module_version": "1.5.0",
          "state": {
            "_dom_classes": [],
            "_model_module": "@jupyter-widgets/controls",
            "_model_module_version": "1.5.0",
            "_model_name": "HTMLModel",
            "_view_count": null,
            "_view_module": "@jupyter-widgets/controls",
            "_view_module_version": "1.5.0",
            "_view_name": "HTMLView",
            "description": "",
            "description_tooltip": null,
            "layout": "IPY_MODEL_cc685005b2df4d128406a636652edd84",
            "placeholder": "​",
            "style": "IPY_MODEL_a722da7761894d10826812ab6ef2bf35",
            "value": "100%"
          }
        },
        "bf18919f9b824fbcb1420f985845f4a9": {
          "model_module": "@jupyter-widgets/controls",
          "model_name": "FloatProgressModel",
          "model_module_version": "1.5.0",
          "state": {
            "_dom_classes": [],
            "_model_module": "@jupyter-widgets/controls",
            "_model_module_version": "1.5.0",
            "_model_name": "FloatProgressModel",
            "_view_count": null,
            "_view_module": "@jupyter-widgets/controls",
            "_view_module_version": "1.5.0",
            "_view_name": "ProgressView",
            "bar_style": "success",
            "description": "",
            "description_tooltip": null,
            "layout": "IPY_MODEL_01135c8f1e4245cb9292e77e82190d75",
            "max": 460,
            "min": 0,
            "orientation": "horizontal",
            "style": "IPY_MODEL_0ddc4ba2c2cf4271ab57c7804c9c6b53",
            "value": 460
          }
        },
        "75eb9741ddd442eeb9cadacda75638e6": {
          "model_module": "@jupyter-widgets/controls",
          "model_name": "HTMLModel",
          "model_module_version": "1.5.0",
          "state": {
            "_dom_classes": [],
            "_model_module": "@jupyter-widgets/controls",
            "_model_module_version": "1.5.0",
            "_model_name": "HTMLModel",
            "_view_count": null,
            "_view_module": "@jupyter-widgets/controls",
            "_view_module_version": "1.5.0",
            "_view_name": "HTMLView",
            "description": "",
            "description_tooltip": null,
            "layout": "IPY_MODEL_47399a7a727c48b8b0cce842219458bd",
            "placeholder": "​",
            "style": "IPY_MODEL_ef7f2a5d23a74c1194257b746d38342f",
            "value": " 460/460 [05:40&lt;00:00,  1.24it/s]"
          }
        },
        "23fe2a033fee412b95ce3bfa8d4ab8ac": {
          "model_module": "@jupyter-widgets/base",
          "model_name": "LayoutModel",
          "model_module_version": "1.2.0",
          "state": {
            "_model_module": "@jupyter-widgets/base",
            "_model_module_version": "1.2.0",
            "_model_name": "LayoutModel",
            "_view_count": null,
            "_view_module": "@jupyter-widgets/base",
            "_view_module_version": "1.2.0",
            "_view_name": "LayoutView",
            "align_content": null,
            "align_items": null,
            "align_self": null,
            "border": null,
            "bottom": null,
            "display": null,
            "flex": null,
            "flex_flow": null,
            "grid_area": null,
            "grid_auto_columns": null,
            "grid_auto_flow": null,
            "grid_auto_rows": null,
            "grid_column": null,
            "grid_gap": null,
            "grid_row": null,
            "grid_template_areas": null,
            "grid_template_columns": null,
            "grid_template_rows": null,
            "height": null,
            "justify_content": null,
            "justify_items": null,
            "left": null,
            "margin": null,
            "max_height": null,
            "max_width": null,
            "min_height": null,
            "min_width": null,
            "object_fit": null,
            "object_position": null,
            "order": null,
            "overflow": null,
            "overflow_x": null,
            "overflow_y": null,
            "padding": null,
            "right": null,
            "top": null,
            "visibility": null,
            "width": null
          }
        },
        "cc685005b2df4d128406a636652edd84": {
          "model_module": "@jupyter-widgets/base",
          "model_name": "LayoutModel",
          "model_module_version": "1.2.0",
          "state": {
            "_model_module": "@jupyter-widgets/base",
            "_model_module_version": "1.2.0",
            "_model_name": "LayoutModel",
            "_view_count": null,
            "_view_module": "@jupyter-widgets/base",
            "_view_module_version": "1.2.0",
            "_view_name": "LayoutView",
            "align_content": null,
            "align_items": null,
            "align_self": null,
            "border": null,
            "bottom": null,
            "display": null,
            "flex": null,
            "flex_flow": null,
            "grid_area": null,
            "grid_auto_columns": null,
            "grid_auto_flow": null,
            "grid_auto_rows": null,
            "grid_column": null,
            "grid_gap": null,
            "grid_row": null,
            "grid_template_areas": null,
            "grid_template_columns": null,
            "grid_template_rows": null,
            "height": null,
            "justify_content": null,
            "justify_items": null,
            "left": null,
            "margin": null,
            "max_height": null,
            "max_width": null,
            "min_height": null,
            "min_width": null,
            "object_fit": null,
            "object_position": null,
            "order": null,
            "overflow": null,
            "overflow_x": null,
            "overflow_y": null,
            "padding": null,
            "right": null,
            "top": null,
            "visibility": null,
            "width": null
          }
        },
        "a722da7761894d10826812ab6ef2bf35": {
          "model_module": "@jupyter-widgets/controls",
          "model_name": "DescriptionStyleModel",
          "model_module_version": "1.5.0",
          "state": {
            "_model_module": "@jupyter-widgets/controls",
            "_model_module_version": "1.5.0",
            "_model_name": "DescriptionStyleModel",
            "_view_count": null,
            "_view_module": "@jupyter-widgets/base",
            "_view_module_version": "1.2.0",
            "_view_name": "StyleView",
            "description_width": ""
          }
        },
        "01135c8f1e4245cb9292e77e82190d75": {
          "model_module": "@jupyter-widgets/base",
          "model_name": "LayoutModel",
          "model_module_version": "1.2.0",
          "state": {
            "_model_module": "@jupyter-widgets/base",
            "_model_module_version": "1.2.0",
            "_model_name": "LayoutModel",
            "_view_count": null,
            "_view_module": "@jupyter-widgets/base",
            "_view_module_version": "1.2.0",
            "_view_name": "LayoutView",
            "align_content": null,
            "align_items": null,
            "align_self": null,
            "border": null,
            "bottom": null,
            "display": null,
            "flex": null,
            "flex_flow": null,
            "grid_area": null,
            "grid_auto_columns": null,
            "grid_auto_flow": null,
            "grid_auto_rows": null,
            "grid_column": null,
            "grid_gap": null,
            "grid_row": null,
            "grid_template_areas": null,
            "grid_template_columns": null,
            "grid_template_rows": null,
            "height": null,
            "justify_content": null,
            "justify_items": null,
            "left": null,
            "margin": null,
            "max_height": null,
            "max_width": null,
            "min_height": null,
            "min_width": null,
            "object_fit": null,
            "object_position": null,
            "order": null,
            "overflow": null,
            "overflow_x": null,
            "overflow_y": null,
            "padding": null,
            "right": null,
            "top": null,
            "visibility": null,
            "width": null
          }
        },
        "0ddc4ba2c2cf4271ab57c7804c9c6b53": {
          "model_module": "@jupyter-widgets/controls",
          "model_name": "ProgressStyleModel",
          "model_module_version": "1.5.0",
          "state": {
            "_model_module": "@jupyter-widgets/controls",
            "_model_module_version": "1.5.0",
            "_model_name": "ProgressStyleModel",
            "_view_count": null,
            "_view_module": "@jupyter-widgets/base",
            "_view_module_version": "1.2.0",
            "_view_name": "StyleView",
            "bar_color": null,
            "description_width": ""
          }
        },
        "47399a7a727c48b8b0cce842219458bd": {
          "model_module": "@jupyter-widgets/base",
          "model_name": "LayoutModel",
          "model_module_version": "1.2.0",
          "state": {
            "_model_module": "@jupyter-widgets/base",
            "_model_module_version": "1.2.0",
            "_model_name": "LayoutModel",
            "_view_count": null,
            "_view_module": "@jupyter-widgets/base",
            "_view_module_version": "1.2.0",
            "_view_name": "LayoutView",
            "align_content": null,
            "align_items": null,
            "align_self": null,
            "border": null,
            "bottom": null,
            "display": null,
            "flex": null,
            "flex_flow": null,
            "grid_area": null,
            "grid_auto_columns": null,
            "grid_auto_flow": null,
            "grid_auto_rows": null,
            "grid_column": null,
            "grid_gap": null,
            "grid_row": null,
            "grid_template_areas": null,
            "grid_template_columns": null,
            "grid_template_rows": null,
            "height": null,
            "justify_content": null,
            "justify_items": null,
            "left": null,
            "margin": null,
            "max_height": null,
            "max_width": null,
            "min_height": null,
            "min_width": null,
            "object_fit": null,
            "object_position": null,
            "order": null,
            "overflow": null,
            "overflow_x": null,
            "overflow_y": null,
            "padding": null,
            "right": null,
            "top": null,
            "visibility": null,
            "width": null
          }
        },
        "ef7f2a5d23a74c1194257b746d38342f": {
          "model_module": "@jupyter-widgets/controls",
          "model_name": "DescriptionStyleModel",
          "model_module_version": "1.5.0",
          "state": {
            "_model_module": "@jupyter-widgets/controls",
            "_model_module_version": "1.5.0",
            "_model_name": "DescriptionStyleModel",
            "_view_count": null,
            "_view_module": "@jupyter-widgets/base",
            "_view_module_version": "1.2.0",
            "_view_name": "StyleView",
            "description_width": ""
          }
        }
      }
    }
  },
  "nbformat": 4,
  "nbformat_minor": 0
}
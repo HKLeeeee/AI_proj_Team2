{
  "cells": [
    {
      "cell_type": "markdown",
      "metadata": {
        "id": "view-in-github",
        "colab_type": "text"
      },
      "source": [
        "<a href=\"https://colab.research.google.com/github/InhuKim/AI_proj_Team2/blob/main/LSTM.ipynb\" target=\"_parent\"><img src=\"https://colab.research.google.com/assets/colab-badge.svg\" alt=\"Open In Colab\"/></a>"
      ]
    },
    {
      "cell_type": "code",
      "execution_count": null,
      "id": "77911691",
      "metadata": {
        "id": "77911691"
      },
      "outputs": [],
      "source": [
        "import numpy as np\n",
        "import os\n",
        "import matplotlib.pyplot as plt\n",
        "import pandas as pd\n",
        "import torch\n",
        "import torch.nn as nn\n",
        "from torch.utils.data import DataLoader\n",
        "from torch.utils.data import TensorDataset\n",
        "from torch.autograd import Variable\n",
        "from sklearn.preprocessing import MinMaxScaler\n",
        "from tqdm.auto import tqdm"
      ]
    },
    {
      "cell_type": "code",
      "execution_count": null,
      "id": "daaef434",
      "metadata": {
        "colab": {
          "base_uri": "https://localhost:8080/"
        },
        "id": "daaef434",
        "outputId": "6ae37429-dcfc-4424-cd0e-e9a25648d619"
      },
      "outputs": [
        {
          "output_type": "stream",
          "name": "stdout",
          "text": [
            "Using cuda device\n"
          ]
        }
      ],
      "source": [
        "device = 'cuda' if torch.cuda.is_available() else 'cpu'\n",
        "print(f\"Using {device} device\")"
      ]
    },
    {
      "cell_type": "code",
      "source": [
        "from google.colab import drive\n",
        "drive.mount('/content/drive')"
      ],
      "metadata": {
        "colab": {
          "base_uri": "https://localhost:8080/"
        },
        "id": "CLeT7S2gjhZv",
        "outputId": "6c110065-a24b-4dc2-8088-39ebd2b5ec90"
      },
      "id": "CLeT7S2gjhZv",
      "execution_count": null,
      "outputs": [
        {
          "output_type": "stream",
          "name": "stdout",
          "text": [
            "Mounted at /content/drive\n"
          ]
        }
      ]
    },
    {
      "cell_type": "code",
      "execution_count": null,
      "id": "4b54d1a5",
      "metadata": {
        "id": "4b54d1a5"
      },
      "outputs": [],
      "source": [
        "time_series = pd.DataFrame()\n",
        "target_label = pd.DataFrame()"
      ]
    },
    {
      "cell_type": "code",
      "execution_count": null,
      "id": "81cf9c98",
      "metadata": {
        "id": "81cf9c98"
      },
      "outputs": [],
      "source": [
        "path = '/content/drive/MyDrive/Colab_Notebooks/data/meta_data/train'\n",
        "count = 0\n",
        "row = pd.DataFrame()\n",
        "\n",
        "for i in range(75):\n",
        "    if i + 1 < 10:\n",
        "        i_str = '0' + str(i +1)\n",
        "    elif i + 1 > 10:\n",
        "        i_str = str(i +1)\n",
        "    elif i + 1 == 10:\n",
        "        i_str = str(i + 1)\n",
        "\n",
        "    file_list = os.listdir(path + '/CASE' + i_str)\n",
        "    file_list_py = [file for file in file_list if file.endswith('.csv')]\n",
        "\n",
        "    for l in file_list_py:\n",
        "        data = pd.read_csv(path + '/CASE' + i_str + '/' + l)\n",
        "        time_series = pd.concat([time_series, data])"
      ]
    },
    {
      "cell_type": "code",
      "execution_count": null,
      "id": "166a74ae",
      "metadata": {
        "id": "166a74ae"
      },
      "outputs": [],
      "source": [
        "path = '/content/drive/MyDrive/Colab_Notebooks/data/meta_data/target'\n",
        "count2 = 0\n",
        "\n",
        "for j in range(75):\n",
        "    if j + 1 < 10:\n",
        "        j_str = '0' + str(j +1)\n",
        "    elif j + 1 > 10:\n",
        "        j_str = str(j +1)\n",
        "    elif j + 1 == 10:\n",
        "        j_str = str(j + 1)\n",
        "\n",
        "    file_list = os.listdir(path + '/CASE' + j_str)\n",
        "    file_list_py = [file for file in file_list if file.endswith('.csv')]\n",
        "\n",
        "    for k in file_list_py:\n",
        "        target = pd.read_csv(path + '/CASE' + j_str + '/' + k)\n",
        "        target_label = pd.concat([target_label, target])"
      ]
    },
    {
      "cell_type": "code",
      "execution_count": null,
      "id": "6812fff8",
      "metadata": {
        "colab": {
          "base_uri": "https://localhost:8080/"
        },
        "id": "6812fff8",
        "outputId": "a0e41c2c-eb4b-40a0-9ac0-a236a8c46550"
      },
      "outputs": [
        {
          "output_type": "stream",
          "name": "stdout",
          "text": [
            "1284\n",
            "1292.0\n"
          ]
        }
      ],
      "source": [
        "print(len(target_label))\n",
        "print(len(time_series) / 1440)"
      ]
    },
    {
      "cell_type": "code",
      "execution_count": null,
      "id": "2262f94c",
      "metadata": {
        "id": "2262f94c"
      },
      "outputs": [],
      "source": [
        "# time_series = time_series[['내부온도관측치', '내부습도관측치', 'CO2관측치', '최근분무량','냉방온도', '난방온도']]"
      ]
    },
    {
      "cell_type": "code",
      "execution_count": null,
      "id": "a70eefac",
      "metadata": {
        "id": "a70eefac"
      },
      "outputs": [],
      "source": [
        "target_dataset = target_label.to_numpy()\n",
        "target_dataset = target_dataset[:, 1]"
      ]
    },
    {
      "cell_type": "code",
      "execution_count": null,
      "id": "ecd9c9f0",
      "metadata": {
        "id": "ecd9c9f0"
      },
      "outputs": [],
      "source": [
        "time_dataset = time_series.to_numpy()\n",
        "time_dataset = time_dataset[:, 1:]"
      ]
    },
    {
      "cell_type": "code",
      "source": [
        "time_dataset.shape"
      ],
      "metadata": {
        "colab": {
          "base_uri": "https://localhost:8080/"
        },
        "id": "BPxmfQmNezZZ",
        "outputId": "642e0c36-ddf6-45a9-e027-d45e47b57e4e"
      },
      "id": "BPxmfQmNezZZ",
      "execution_count": null,
      "outputs": [
        {
          "output_type": "execute_result",
          "data": {
            "text/plain": [
              "(1860480, 18)"
            ]
          },
          "metadata": {},
          "execution_count": 11
        }
      ]
    },
    {
      "cell_type": "code",
      "execution_count": null,
      "id": "7ccaf8bb",
      "metadata": {
        "id": "7ccaf8bb"
      },
      "outputs": [],
      "source": [
        "def sliding_windows(data, target):\n",
        "    x = []\n",
        "    y = []\n",
        "\n",
        "    for i in range(len(target)):\n",
        "        _x = data[(i * 1440): ((i + 1) * 1440)]\n",
        "        _y = target[i]\n",
        "        x.append(_x)\n",
        "        y.append(_y)\n",
        "\n",
        "    return np.array(x),np.array(y)\n",
        "\n",
        "sc_df = MinMaxScaler()\n",
        "# sc_t = MinMaxScaler()\n",
        "training_data = sc_df.fit_transform(time_dataset)\n",
        "# target_data = sc_t.fit_transform(target_dataset.reshape(-1, 1))\n",
        "\n",
        "\n",
        "x, y = sliding_windows(training_data, target_dataset)\n",
        "\n",
        "train_size = int(len(y) * 0.7)\n",
        "test_size = len(y) - train_size\n",
        "\n",
        "dataX = Variable(torch.Tensor(np.array(x)))\n",
        "dataY = Variable(torch.Tensor(np.array(y)))\n",
        "\n",
        "trainX = Variable(torch.Tensor(np.array(x))).to(device)\n",
        "trainY = Variable(torch.Tensor(np.array(y))).to(device)\n",
        "\n",
        "testX = Variable(torch.Tensor(np.array(x[1020:1275]))).to(device)\n",
        "testY = Variable(torch.Tensor(np.array(y[1020:1275]))).to(device)"
      ]
    },
    {
      "cell_type": "code",
      "execution_count": null,
      "id": "3e41e0e9",
      "metadata": {
        "colab": {
          "base_uri": "https://localhost:8080/"
        },
        "id": "3e41e0e9",
        "outputId": "a11a1603-bee4-40db-da11-9a9a0ea5baff"
      },
      "outputs": [
        {
          "output_type": "stream",
          "name": "stdout",
          "text": [
            "torch.Size([1284, 1440, 18])\n",
            "torch.Size([1284])\n",
            "torch.Size([255, 1440, 18])\n"
          ]
        }
      ],
      "source": [
        "print(dataX.shape)\n",
        "print(trainY.shape)\n",
        "print(testX.shape)\n",
        "\n",
        "train_dataset = TensorDataset(trainX, trainY)\n",
        "test_dataset = TensorDataset(testX, testY)"
      ]
    },
    {
      "cell_type": "code",
      "execution_count": null,
      "id": "d80727ae",
      "metadata": {
        "id": "d80727ae"
      },
      "outputs": [],
      "source": [
        "train_dataloader = DataLoader(train_dataset, batch_size=20, shuffle=True)\n",
        "test_dataloader = DataLoader(test_dataset, batch_size=5, shuffle=False)"
      ]
    },
    {
      "cell_type": "markdown",
      "id": "c2c206b2",
      "metadata": {
        "id": "c2c206b2"
      },
      "source": [
        "# 일반 LSTM"
      ]
    },
    {
      "cell_type": "code",
      "execution_count": null,
      "id": "25ab09dd",
      "metadata": {
        "id": "25ab09dd"
      },
      "outputs": [],
      "source": [
        "class LSTM(nn.Module):\n",
        "\n",
        "    def __init__(self, input_size, hidden_size, num_layers, bidirectional):\n",
        "        super(LSTM, self).__init__()\n",
        "        \n",
        "        self.num_layers = num_layers\n",
        "        self.input_size = input_size\n",
        "        self.hidden_size = hidden_size\n",
        "        self.bidirectional = bidirectional\n",
        "        \n",
        "        self.lstm = nn.LSTM(input_size=input_size, hidden_size=hidden_size,\n",
        "                            num_layers=num_layers, batch_first=True, bidirectional=bidirectional).to(device)\n",
        "        \n",
        "        self.fc = nn.Linear(hidden_size *2, 256).to(device)\n",
        "        self.fc2 = nn.Linear(256, 1).to(device)\n",
        "        self.relu = nn.ReLU().to(device)\n",
        "\n",
        "    def forward(self, x):\n",
        "        h_0 = Variable(torch.zeros(\n",
        "            self.num_layers *2, x.size(0), self.hidden_size)).to(device)\n",
        "        \n",
        "        c_0 = Variable(torch.zeros(\n",
        "            self.num_layers *2, x.size(0), self.hidden_size)).to(device)\n",
        "        \n",
        "        # Propagate input through LSTM\n",
        "        ula, (h_out, _) = self.lstm(x, (h_0, c_0))\n",
        "                \n",
        "        out = self.fc(h_out.view(-1, self.hidden_size*2))\n",
        "        out = self.fc2(out)\n",
        "        \n",
        "        return out"
      ]
    },
    {
      "cell_type": "code",
      "source": [
        "class RNN(nn.Module):\n",
        "    \n",
        "    def __init__(self, input_size, hidden_size, num_layers, bidirectional):\n",
        "        super(RNN, self).__init__()\n",
        "        \n",
        "        self.RNN = nn.RNN(input_size = input_size, hidden_size=hidden_size, num_layers=num_layers, bidirectional=bidirectional)\n",
        "        self.fc = nn.Linear(hidden_size *2, 1)\n",
        "        self.fc2 = nn.Linear(1440, 1)\n",
        "        \n",
        "        \n",
        "    def forward(self, x):\n",
        "        x, _ = self.RNN(x)\n",
        "        x = self.fc(x)\n",
        "        x = torch.flatten(x, start_dim=1)\n",
        "        out = self.fc2(x)\n",
        "        \n",
        "        return out"
      ],
      "metadata": {
        "id": "EWaiWunEt5z1"
      },
      "id": "EWaiWunEt5z1",
      "execution_count": null,
      "outputs": []
    },
    {
      "cell_type": "code",
      "source": [
        "a = torch.tensor(np.arange(8*1440*18).reshape(8, 1440, 18), dtype=torch.float32).to(device)\n",
        "print(a.shape)"
      ],
      "metadata": {
        "colab": {
          "base_uri": "https://localhost:8080/"
        },
        "id": "5yN1gzcWu497",
        "outputId": "25b6acce-5f5d-4662-9ec4-15d708447677"
      },
      "id": "5yN1gzcWu497",
      "execution_count": null,
      "outputs": [
        {
          "output_type": "stream",
          "name": "stdout",
          "text": [
            "torch.Size([8, 1440, 18])\n"
          ]
        }
      ]
    },
    {
      "cell_type": "code",
      "source": [
        "model = LSTM(18, 512, 1, True)\n",
        "out = model(a)\n",
        "print(out.squeeze(1).shape)"
      ],
      "metadata": {
        "colab": {
          "base_uri": "https://localhost:8080/"
        },
        "id": "J2gv3NftuyOi",
        "outputId": "1c0ac90c-b32d-4ead-e9ef-a580e6bba177"
      },
      "id": "J2gv3NftuyOi",
      "execution_count": null,
      "outputs": [
        {
          "output_type": "stream",
          "name": "stdout",
          "text": [
            "torch.Size([8])\n"
          ]
        }
      ]
    },
    {
      "cell_type": "code",
      "source": [
        "for i in train_dataloader:\n",
        "    x, y = i\n",
        "    print(x.shape)\n",
        "    print(y.shape)\n",
        "    out = model(x)\n",
        "    out2 = torch.squeeze(out)\n",
        "    print(out2.shape)\n",
        "    print(y.shape)\n",
        "    break"
      ],
      "metadata": {
        "colab": {
          "base_uri": "https://localhost:8080/"
        },
        "id": "0quHcnHrvuyA",
        "outputId": "c4a0e61c-a606-4e3e-b240-febda58d8221"
      },
      "id": "0quHcnHrvuyA",
      "execution_count": null,
      "outputs": [
        {
          "output_type": "stream",
          "name": "stdout",
          "text": [
            "torch.Size([20, 1440, 18])\n",
            "torch.Size([20])\n",
            "torch.Size([20])\n",
            "torch.Size([20])\n"
          ]
        }
      ]
    },
    {
      "cell_type": "code",
      "source": [
        "def validation(model, vali_loader, criterion, device):\n",
        "    model.eval()\n",
        "    vali_loss = []\n",
        "\n",
        "    with torch.no_grad():\n",
        "        for idx, sample in enumerate(vali_loader):\n",
        "            x_vali, y_vali = sample\n",
        "\n",
        "            out = model(x_vali)\n",
        "            loss = criterion(out, y_vali)\n",
        "            vali_loss.append(loss.item())\n",
        "\n",
        "    vali_mae_loss = np.mean(vali_loss)\n",
        "    return vali_mae_loss"
      ],
      "metadata": {
        "id": "UBUBjU5D6wxv"
      },
      "id": "UBUBjU5D6wxv",
      "execution_count": null,
      "outputs": []
    },
    {
      "cell_type": "code",
      "execution_count": null,
      "id": "9648f012",
      "metadata": {
        "colab": {
          "base_uri": "https://localhost:8080/"
        },
        "id": "9648f012",
        "outputId": "bd1378fc-3593-4eb7-a8b6-f954d3471abb"
      },
      "outputs": [
        {
          "output_type": "stream",
          "name": "stderr",
          "text": [
            "/usr/local/lib/python3.7/dist-packages/torch/nn/modules/loss.py:96: UserWarning: Using a target size (torch.Size([5])) that is different to the input size (torch.Size([5, 1])). This will likely lead to incorrect results due to broadcasting. Please ensure they have the same size.\n",
            "  return F.l1_loss(input, target, reduction=self.reduction)\n"
          ]
        },
        {
          "output_type": "stream",
          "name": "stdout",
          "text": [
            "Epoch [0] Train MAE : [81.42246] Validation MAE : [85.77097]\n",
            "\n",
            "model saved.\n",
            "Epoch [1] Train MAE : [80.61663] Validation MAE : [85.42286]\n",
            "\n",
            "model saved.\n",
            "Epoch [2] Train MAE : [80.36885] Validation MAE : [85.02014]\n",
            "\n",
            "model saved.\n",
            "Epoch [3] Train MAE : [79.94500] Validation MAE : [84.53270]\n",
            "\n",
            "model saved.\n",
            "Epoch [4] Train MAE : [79.90925] Validation MAE : [83.93952]\n",
            "\n",
            "model saved.\n",
            "Epoch [5] Train MAE : [78.42036] Validation MAE : [83.15953]\n",
            "\n",
            "model saved.\n",
            "Epoch [6] Train MAE : [78.00048] Validation MAE : [82.12045]\n",
            "\n",
            "model saved.\n",
            "Epoch [7] Train MAE : [77.46098] Validation MAE : [80.68768]\n",
            "\n",
            "model saved.\n",
            "Epoch [8] Train MAE : [76.14638] Validation MAE : [78.95782]\n",
            "\n",
            "model saved.\n",
            "Epoch [9] Train MAE : [75.33761] Validation MAE : [76.93920]\n",
            "\n",
            "model saved.\n",
            "Epoch [10] Train MAE : [72.46159] Validation MAE : [75.59797]\n",
            "\n",
            "model saved.\n",
            "Epoch [11] Train MAE : [71.10032] Validation MAE : [75.27508]\n",
            "\n",
            "model saved.\n",
            "Epoch [12] Train MAE : [72.52404] Validation MAE : [75.22346]\n",
            "\n",
            "model saved.\n",
            "Epoch [13] Train MAE : [71.05122] Validation MAE : [75.31047]\n",
            "\n",
            "Epoch [14] Train MAE : [72.01637] Validation MAE : [75.08566]\n",
            "\n",
            "model saved.\n",
            "Epoch [15] Train MAE : [71.50325] Validation MAE : [75.13663]\n",
            "\n",
            "Epoch [16] Train MAE : [71.23852] Validation MAE : [75.17185]\n",
            "\n",
            "Epoch [17] Train MAE : [71.39598] Validation MAE : [75.18590]\n",
            "\n",
            "Epoch [18] Train MAE : [72.29671] Validation MAE : [75.09385]\n",
            "\n",
            "Epoch [19] Train MAE : [71.20316] Validation MAE : [75.03215]\n",
            "\n",
            "model saved.\n",
            "Epoch [20] Train MAE : [71.04268] Validation MAE : [75.17725]\n",
            "\n",
            "Epoch [21] Train MAE : [71.97992] Validation MAE : [75.05888]\n",
            "\n",
            "Epoch [22] Train MAE : [71.23452] Validation MAE : [75.09006]\n",
            "\n",
            "Epoch [23] Train MAE : [72.24784] Validation MAE : [75.04657]\n",
            "\n",
            "Epoch [24] Train MAE : [70.97485] Validation MAE : [75.04767]\n",
            "\n",
            "Epoch [25] Train MAE : [71.42384] Validation MAE : [75.09709]\n",
            "\n",
            "Epoch [26] Train MAE : [71.25604] Validation MAE : [75.07873]\n",
            "\n",
            "Epoch [27] Train MAE : [71.08742] Validation MAE : [75.16806]\n",
            "\n",
            "Epoch [28] Train MAE : [71.69282] Validation MAE : [75.08829]\n",
            "\n",
            "Epoch [29] Train MAE : [72.67697] Validation MAE : [74.95391]\n",
            "\n",
            "model saved.\n",
            "Epoch [30] Train MAE : [73.34902] Validation MAE : [75.04091]\n",
            "\n",
            "Epoch [31] Train MAE : [71.93681] Validation MAE : [74.98900]\n",
            "\n",
            "Epoch [32] Train MAE : [70.86532] Validation MAE : [75.06724]\n",
            "\n",
            "Epoch [33] Train MAE : [71.81530] Validation MAE : [74.92284]\n",
            "\n",
            "model saved.\n",
            "Epoch [34] Train MAE : [72.14021] Validation MAE : [75.05297]\n",
            "\n",
            "Epoch [35] Train MAE : [71.35157] Validation MAE : [75.15288]\n",
            "\n",
            "Epoch [36] Train MAE : [71.07000] Validation MAE : [74.98715]\n",
            "\n",
            "Epoch [37] Train MAE : [72.01708] Validation MAE : [74.94766]\n",
            "\n",
            "Epoch [38] Train MAE : [71.56673] Validation MAE : [75.00493]\n",
            "\n",
            "Epoch [39] Train MAE : [71.27945] Validation MAE : [75.05645]\n",
            "\n",
            "Epoch [40] Train MAE : [70.97995] Validation MAE : [74.95428]\n",
            "\n",
            "Epoch [41] Train MAE : [71.05990] Validation MAE : [75.03561]\n",
            "\n",
            "Epoch [42] Train MAE : [71.01763] Validation MAE : [75.03551]\n",
            "\n",
            "Epoch [43] Train MAE : [70.91758] Validation MAE : [75.03450]\n",
            "\n",
            "Epoch [44] Train MAE : [72.28494] Validation MAE : [74.82314]\n",
            "\n",
            "model saved.\n",
            "Epoch [45] Train MAE : [71.09279] Validation MAE : [74.98296]\n",
            "\n",
            "Epoch [46] Train MAE : [70.88101] Validation MAE : [74.97059]\n",
            "\n",
            "Epoch [47] Train MAE : [71.01489] Validation MAE : [75.09479]\n",
            "\n",
            "Epoch [48] Train MAE : [70.95032] Validation MAE : [75.03655]\n",
            "\n",
            "Epoch [49] Train MAE : [71.72843] Validation MAE : [74.85683]\n",
            "\n"
          ]
        }
      ],
      "source": [
        "num_epochs = 50\n",
        "learning_rate = 0.003\n",
        "\n",
        "input_size = 18\n",
        "hidden_size = 512\n",
        "num_layers = 1\n",
        "\n",
        "best_mae = 9999\n",
        "\n",
        "model = LSTM(input_size, hidden_size, num_layers, bidirectional=True).to(device)\n",
        "\n",
        "criterion = torch.nn.L1Loss().to(device)    # mean-squared error for regression\n",
        "#optimizer = torch.optim.Adam(lstm.parameters(), lr=learning_rate)\n",
        "optimizer = torch.optim.SGD(model.parameters(), lr=learning_rate)\n",
        "\n",
        "train_loss_plot = []\n",
        "vali_loss_plot = []\n",
        "\n",
        "# Train the model\n",
        "for epoch in range(num_epochs):\n",
        "    model.train()\n",
        "    train_loss = []\n",
        "    for batch_idx, samples in enumerate(train_dataloader):\n",
        "        x_train, y_train = samples\n",
        "        \n",
        "        optimizer.zero_grad()\n",
        "        outputs = model(x_train)\n",
        "        out = torch.squeeze(outputs)\n",
        "    \n",
        "        # obtain the loss function\n",
        "        loss = criterion(out, y_train)\n",
        "    \n",
        "        loss.backward()\n",
        "    \n",
        "        optimizer.step()\n",
        "\n",
        "        train_loss.append(loss.item())\n",
        "\n",
        "        # validation\n",
        "    vali_mae = validation(model, test_dataloader, criterion, device)\n",
        "    vali_loss_plot.append(vali_mae)\n",
        "\n",
        "    print(f'Epoch [{epoch}] Train MAE : [{np.mean(train_loss):.5f}] Validation MAE : [{vali_mae:.5f}]\\n')\n",
        "    vali_loss_plot.append(vali_mae)\n",
        "    train_loss_plot.append(np.mean(train_loss))\n",
        "\n",
        "    if best_mae > vali_mae:\n",
        "        best_mae = vali_mae\n",
        "        torch.save(model.state_dict(), '/content/drive/MyDrive/Colab_Notebooks/competition/meta_LSTM_full_feature.pth')\n",
        "        print('model saved.')"
      ]
    },
    {
      "cell_type": "code",
      "source": [
        "valid_loss = pd.DataFrame(vali_loss_plot, index=None)\n",
        "valid_loss = valid_loss.drop_duplicates()"
      ],
      "metadata": {
        "id": "-hwTZnMx_n50"
      },
      "id": "-hwTZnMx_n50",
      "execution_count": null,
      "outputs": []
    },
    {
      "cell_type": "code",
      "source": [
        "valid_loss_plot = valid_loss[0].to_list()\n",
        "valid_loss_plot"
      ],
      "metadata": {
        "id": "4C0paCojWwzc"
      },
      "id": "4C0paCojWwzc",
      "execution_count": null,
      "outputs": []
    },
    {
      "cell_type": "code",
      "source": [
        ""
      ],
      "metadata": {
        "id": "Eg02pMjal1Fs"
      },
      "id": "Eg02pMjal1Fs",
      "execution_count": null,
      "outputs": []
    },
    {
      "cell_type": "code",
      "source": [
        "figure = plt.figure(figsize=(20,5))\n",
        "ax1 = figure.add_subplot(1,1,1)\n",
        "ax1.plot(train_loss_plot, label='Traing Loss', color='blue')\n",
        "ax1.plot(valid_loss_plot, label='Validation Loss', color='orange')\n",
        "ax1.legend(loc='upper right')\n",
        "ax1.set_title('LSTM Loss')\n",
        "\n",
        "plt.savefig('/content/drive/MyDrive/Colab_Notebooks/competition/LSTM_loss.png')\n",
        "plt.show"
      ],
      "metadata": {
        "colab": {
          "base_uri": "https://localhost:8080/",
          "height": 354
        },
        "id": "1Dum3mxEz9cm",
        "outputId": "fa496813-087a-47e5-93b6-5a7cbfd7735c"
      },
      "id": "1Dum3mxEz9cm",
      "execution_count": null,
      "outputs": [
        {
          "output_type": "execute_result",
          "data": {
            "text/plain": [
              "<function matplotlib.pyplot.show>"
            ]
          },
          "metadata": {},
          "execution_count": 89
        },
        {
          "output_type": "display_data",
          "data": {
            "text/plain": [
              "<Figure size 1440x360 with 1 Axes>"
            ],
            "image/png": "[encoded data removed]"
          },
          "metadata": {
            "needs_background": "light"
          }
        }
      ]
    },
    {
      "cell_type": "markdown",
      "id": "7b0ceb88",
      "metadata": {
        "id": "7b0ceb88"
      },
      "source": [
        "# One fully-connected layer after the LSTM"
      ]
    },
    {
      "cell_type": "code",
      "execution_count": null,
      "id": "6f30c3bf",
      "metadata": {
        "id": "6f30c3bf"
      },
      "outputs": [],
      "source": [
        "from torch import nn\n",
        "\n",
        "\n",
        "class DenseLSTM(nn.Module):\n",
        "    def __init__(self, input_dim, hidden_dim, lstm_layers=1, bidirectional=False, dense=False):\n",
        "        super(DenseLSTM, self).__init__()\n",
        "        self.input_dim = input_dim\n",
        "        self.hidden_dim = hidden_dim\n",
        "        self.layers = lstm_layers\n",
        "        self.bidirectional = bidirectional\n",
        "        self.dense = dense\n",
        "        # define the LSTM layer\n",
        "        self.lstm = nn.LSTM(input_size=self.input_dim, \n",
        "                            hidden_size=self.hidden_dim, \n",
        "                            num_layers=self.layers,\n",
        "                            bidirectional=self.bidirectional)\n",
        "        self.act1 = nn.ReLU()\n",
        "        # change linear layer inputs depending on if lstm is bidrectional\n",
        "        if not bidirectional:\n",
        "            self.linear = nn.Linear(self.hidden_dim, self.hidden_dim)\n",
        "        else:\n",
        "            self.linear = nn.Linear(self.hidden_dim * 2, self.hidden_dim)\n",
        "        self.act2 = nn.ReLU()\n",
        "        # change linear layer inputs depending on if lstm is bidrectional and extra dense layer isn't added\n",
        "        if bidirectional and not dense:\n",
        "            self.final = nn.Linear(self.hidden_dim * 2, 1)\n",
        "        else:\n",
        "            self.final = nn.Linear(self.hidden_dim, 1)\n",
        "\n",
        "\n",
        "    def forward(self, inputs, labels=None):\n",
        "        out = inputs.unsqueeze(1)\n",
        "        out, h = self.lstm(out)\n",
        "        out = self.act1(out)\n",
        "        if self.dense:\n",
        "            out = self.linear(out)\n",
        "            out = self.act2(out)\n",
        "        out = self.final(out)\n",
        "        return out"
      ]
    },
    {
      "cell_type": "code",
      "execution_count": null,
      "id": "6840d1a2",
      "metadata": {
        "id": "6840d1a2"
      },
      "outputs": [],
      "source": [
        "import time\n",
        "\n",
        "def fit(model, optimizer, criterion):\n",
        "    print(\"{:<8} {:<25} {:<25} {:<25}\".format('Epoch', \n",
        "                                          'Train Loss', \n",
        "                                          'Test Loss', \n",
        "                                          'Time (seconds)'))\n",
        "    for epoch in range(epochs):\n",
        "        model.train()\n",
        "        start = time.time()\n",
        "        epoch_loss = []\n",
        "        # for batch in train data\n",
        "        for step, batch in enumerate(train_dataloader):\n",
        "            # make gradient zero to avoid accumulation\n",
        "            model.zero_grad()\n",
        "            batch = tuple(t.to(device) for t in batch)\n",
        "            inputs, labels = batch\n",
        "            print(inputs.shape)\n",
        "            # get predictions\n",
        "            out = model(inputs)\n",
        "            out.to(device)\n",
        "            # get loss\n",
        "            loss = criterion(out, labels)\n",
        "            epoch_loss.append(loss.float().detach().cpu().numpy().mean())\n",
        "            # backpropagate\n",
        "            loss.backward()\n",
        "            optimizer.step()\n",
        "        test_epoch_loss = []\n",
        "        end = time.time()\n",
        "        model.eval()\n",
        "        # for batch in validation data\n",
        "        for step, batch in enumerate(test_dataloader):\n",
        "            batch = tuple(t.to(device) for t in batch)\n",
        "            inputs, labels = batch\n",
        "            # get predictions\n",
        "            out = model(inputs)\n",
        "            # get loss\n",
        "            loss = criterion(out, labels)     \n",
        "            test_epoch_loss.append(loss.float().detach().cpu().numpy().mean())\n",
        "        print(\"{:<8} {:<25} {:<25} {:<25}\".format(epoch+1, \n",
        "                                                  np.mean(epoch_loss), \n",
        "                                                  np.mean(test_epoch_loss), \n",
        "                                                  end-start))\n",
        "\n",
        "\n"
      ]
    },
    {
      "cell_type": "code",
      "execution_count": null,
      "id": "069e91ca",
      "metadata": {
        "id": "069e91ca"
      },
      "outputs": [],
      "source": [
        "hidden_dim = 32\n",
        "epochs = 5\n",
        "\n",
        "model = DenseLSTM(18, hidden_dim, lstm_layers=2, bidirectional=True, dense=True)\n",
        "model.to(device)\n",
        "\n",
        "optimizer = torch.optim.Adam(model.parameters())\n",
        "criterion = nn.MSELoss()\n",
        "\n",
        "fit(model, optimizer, criterion)"
      ]
    },
    {
      "cell_type": "markdown",
      "id": "512122d1",
      "metadata": {
        "id": "512122d1"
      },
      "source": [
        "# 평가"
      ]
    },
    {
      "cell_type": "code",
      "execution_count": null,
      "id": "1e971353",
      "metadata": {
        "id": "1e971353"
      },
      "outputs": [],
      "source": [
        "model.eval()\n",
        "test_predict = model(testX)\n",
        "numpy_test = test_predict.cpu().detach().numpy()\n",
        "\n",
        "# data_predict = test_predict.data.numpy()\n",
        "# dataY_plot = testY.data.numpy()\n",
        "\n",
        "# data_predict = sc_t.inverse_transform(data_predict)\n",
        "# dataY_plot = sc_t.inverse_transform(dataY_plot)\n",
        "\n",
        "# plt.axvline(x=train_size, c='r', linestyle='--')\n",
        "\n",
        "# plt.plot(dataY_plot)\n",
        "# plt.plot(data_predict)\n",
        "# plt.suptitle('Time-Series Prediction')\n",
        "# plt.show()\n",
        "numpy_test"
      ]
    },
    {
      "cell_type": "code",
      "execution_count": null,
      "id": "d5e21fe5",
      "metadata": {
        "id": "d5e21fe5"
      },
      "outputs": [],
      "source": [
        "data_predict = sc_t.inverse_transform(numpy_test)"
      ]
    },
    {
      "cell_type": "code",
      "source": [
        "data_predict"
      ],
      "metadata": {
        "id": "KJDZMTtfxlJx"
      },
      "id": "KJDZMTtfxlJx",
      "execution_count": null,
      "outputs": []
    },
    {
      "cell_type": "code",
      "execution_count": null,
      "id": "de2b8eba",
      "metadata": {
        "id": "de2b8eba"
      },
      "outputs": [],
      "source": [
        "path = '/content/drive/MyDrive/Colab_Notebooks/data/test/meta/'\n",
        "test = pd.DataFrame()\n",
        "\n",
        "file_list = os.listdir(path)\n",
        "\n",
        "for l in file_list:\n",
        "    data = pd.read_csv(path + l)\n",
        "    test = pd.concat([test, data])"
      ]
    },
    {
      "cell_type": "code",
      "execution_count": null,
      "id": "6baaf4b9",
      "metadata": {
        "id": "6baaf4b9",
        "colab": {
          "base_uri": "https://localhost:8080/"
        },
        "outputId": "378b1c01-1a79-4802-cb3d-1b8c20504f8b"
      },
      "outputs": [
        {
          "output_type": "stream",
          "name": "stdout",
          "text": [
            "(662400, 6)\n"
          ]
        }
      ],
      "source": [
        "test = test[['내부온도관측치', '내부습도관측치', 'CO2관측치', '최근분무량','냉방온도', '난방온도']]\n",
        "test = test.fillna(method='bfill')\n",
        "test = test.fillna('0')\n",
        "print(test.shape)"
      ]
    },
    {
      "cell_type": "code",
      "source": [
        "test"
      ],
      "metadata": {
        "id": "emQ-Vv4JDV22"
      },
      "id": "emQ-Vv4JDV22",
      "execution_count": null,
      "outputs": []
    },
    {
      "cell_type": "code",
      "execution_count": null,
      "id": "40175df0",
      "metadata": {
        "id": "40175df0",
        "colab": {
          "base_uri": "https://localhost:8080/"
        },
        "outputId": "a9d35d1a-e7a6-4774-e462-b2b2cf7c972d"
      },
      "outputs": [
        {
          "output_type": "stream",
          "name": "stdout",
          "text": [
            "(662400, 6)\n"
          ]
        }
      ],
      "source": [
        "test_dataset = test.to_numpy()\n",
        "test_dataset = test_dataset[:, :]\n",
        "print(test_dataset.shape)"
      ]
    },
    {
      "cell_type": "code",
      "execution_count": null,
      "id": "de371238",
      "metadata": {
        "id": "de371238",
        "outputId": "cc88915d-61b8-4b36-e571-28cba687c0e7",
        "colab": {
          "base_uri": "https://localhost:8080/"
        }
      },
      "outputs": [
        {
          "output_type": "execute_result",
          "data": {
            "text/plain": [
              "array([[24.89999961853028, 21.600000381469727, 47.59999847412109, ...,\n",
              "        309.41, 16.548000000000002, 29.7635],\n",
              "       [24.799999237060547, 21.600000381469727, 48.400001525878906, ...,\n",
              "        309.41, 16.548000000000002, 29.7635],\n",
              "       [24.5, 21.700000762939453, 49.400001525878906, ..., 309.41,\n",
              "        16.548000000000002, 29.7635],\n",
              "       ...,\n",
              "       [25.6000003814697, 25.8999996185302, 83.6999969482421, ..., 0.0,\n",
              "        0.0, 0.0],\n",
              "       [25.5, 25.8999996185302, 83.6999969482421, ..., 0.0, 0.0, 0.0],\n",
              "       [25.5, 25.8999996185302, 83.6999969482421, ..., 0.0, 0.0, 0.0]],\n",
              "      dtype=object)"
            ]
          },
          "metadata": {},
          "execution_count": 57
        }
      ],
      "source": [
        "test_dataset"
      ]
    },
    {
      "cell_type": "code",
      "execution_count": null,
      "id": "3ed2e1b3",
      "metadata": {
        "id": "3ed2e1b3",
        "outputId": "94d89f92-a1a0-4893-e56b-4a57469ffec6",
        "colab": {
          "base_uri": "https://localhost:8080/"
        }
      },
      "outputs": [
        {
          "output_type": "execute_result",
          "data": {
            "text/plain": [
              "(662400, 6)"
            ]
          },
          "metadata": {},
          "execution_count": 19
        }
      ],
      "source": [
        "len(test_dataset)/1440\n",
        "test_dataset.shape"
      ]
    },
    {
      "cell_type": "code",
      "execution_count": null,
      "id": "e3b1423d",
      "metadata": {
        "id": "e3b1423d"
      },
      "outputs": [],
      "source": [
        "def test_windows(data):\n",
        "    x = []\n",
        "\n",
        "    for i in range(int(len(data)/1440)):\n",
        "        _x = data[(i * 1440): ((i + 1) * 1440)]\n",
        "        x.append(_x)\n",
        "\n",
        "    return np.array(x)\n",
        "\n",
        "sc_real = MinMaxScaler()\n",
        "testing_data = sc_df.fit_transform(test_dataset)\n",
        "\n",
        "t = test_windows(testing_data)\n",
        "\n",
        "test_T = Variable(torch.Tensor(np.array(t))).to(device)\n",
        "test_set = DataLoader(test_T, batch_size=20, shuffle=False)"
      ]
    },
    {
      "cell_type": "code",
      "source": [
        "def predict(model, test_loader, device):\n",
        "    model.eval()\n",
        "    model_pred = []\n",
        "    with torch.no_grad():\n",
        "        for sample in tqdm(iter(test_loader)):\n",
        "            meta = sample.float().to(device)\n",
        "\n",
        "            pred_logit = model(sample)\n",
        "            pred_logit = pred_logit.detach().cpu()\n",
        "\n",
        "            model_pred.extend(pred_logit.tolist())\n",
        "    return model_pred"
      ],
      "metadata": {
        "id": "Fq2DoigqDmz7"
      },
      "id": "Fq2DoigqDmz7",
      "execution_count": null,
      "outputs": []
    },
    {
      "cell_type": "code",
      "execution_count": null,
      "id": "e37d8cae",
      "metadata": {
        "id": "e37d8cae"
      },
      "outputs": [],
      "source": [
        "checkpoint = torch.load('/content/drive/MyDrive/Colab_Notebooks/competition/meta_LSTM.pth')\n",
        "model = LSTM(6, 512, 1, bidirectional=True).to(device)\n",
        "\n",
        "test_predict = predict(model, test_set, device)\n",
        "\n",
        "\n",
        "test_predict"
      ]
    },
    {
      "cell_type": "code",
      "source": [
        "test_predict2 = np.array(test_predict)\n",
        "test_predict2.shape"
      ],
      "metadata": {
        "colab": {
          "base_uri": "https://localhost:8080/"
        },
        "id": "bFYPOOH-Ykry",
        "outputId": "fb989624-fb00-4312-8575-270fbaae25a6"
      },
      "id": "bFYPOOH-Ykry",
      "execution_count": null,
      "outputs": [
        {
          "output_type": "execute_result",
          "data": {
            "text/plain": [
              "(460, 1)"
            ]
          },
          "metadata": {},
          "execution_count": 111
        }
      ]
    },
    {
      "cell_type": "code",
      "source": [
        "out = sc_t.inverse_transform(test_predict)"
      ],
      "metadata": {
        "id": "4Zph9914HN9G"
      },
      "id": "4Zph9914HN9G",
      "execution_count": null,
      "outputs": []
    },
    {
      "cell_type": "code",
      "source": [
        "out"
      ],
      "metadata": {
        "id": "g5sapbqhHiGR"
      },
      "id": "g5sapbqhHiGR",
      "execution_count": null,
      "outputs": []
    },
    {
      "cell_type": "code",
      "execution_count": null,
      "id": "140342c4",
      "metadata": {
        "id": "140342c4"
      },
      "outputs": [],
      "source": [
        "submission = pd.read_csv('./data/open/sample_submission.csv')\n",
        "submission['leaf_weight'] = data_predict\n",
        "submission.to_csv('./submit_lstm2.csv', index=False)"
      ]
    },
    {
      "cell_type": "code",
      "execution_count": null,
      "id": "b2d0c494",
      "metadata": {
        "id": "b2d0c494"
      },
      "outputs": [],
      "source": [
        ""
      ]
    }
  ],
  "metadata": {
    "kernelspec": {
      "display_name": "Python 3",
      "name": "python3"
    },
    "language_info": {
      "name": "python"
    },
    "colab": {
      "name": "LSTM.ipynb",
      "provenance": [],
      "machine_shape": "hm",
      "include_colab_link": true
    }
  },
  "nbformat": 4,
  "nbformat_minor": 5
}
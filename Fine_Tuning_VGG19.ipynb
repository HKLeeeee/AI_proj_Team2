{
 "cells": [
  {
   "cell_type": "markdown",
   "id": "a0cbb497",
   "metadata": {
    "id": "72ab04b1-ceeb-42f9-bd60-b47ab0b27d09"
   },
   "source": [
    "## Import"
   ]
  },
  {
   "cell_type": "code",
   "execution_count": 1,
   "id": "be650862",
   "metadata": {
    "executionInfo": {
     "elapsed": 4220,
     "status": "ok",
     "timestamp": 1652256032258,
     "user": {
      "displayName": "유영재",
      "userId": "06640138067198506258"
     },
     "user_tz": -540
    },
    "id": "5b9f99a6-eeeb-4286-822e-545cdba4d2b0"
   },
   "outputs": [
    {
     "name": "stderr",
     "output_type": "stream",
     "text": [
      "2022-05-12 16:13:55.871585: I tensorflow/stream_executor/platform/default/dso_loader.cc:49] Successfully opened dynamic library libcudart.so.10.1\n"
     ]
    }
   ],
   "source": [
    "import os \n",
    "import numpy as np\n",
    "import pandas as pd\n",
    "import matplotlib.pyplot as plt\n",
    "from glob import glob\n",
    "from tqdm.auto import tqdm\n",
    "import cv2\n",
    "\n",
    "from tensorflow.keras.applications import VGG19\n",
    "\n",
    "import tensorflow as tf\n",
    "from tensorflow.keras.models import Sequential, Model\n",
    "from tensorflow.keras.layers import Flatten, Dense, Dropout, GlobalAveragePooling2D, Input\n",
    "import tensorflow.keras as keras\n",
    "from tensorflow.data import Dataset\n",
    "\n",
    "\n",
    "from tensorflow.keras.optimizers import Adam, RMSprop\n",
    "from tensorflow.keras.callbacks import ModelCheckpoint, EarlyStopping"
   ]
  },
  {
   "cell_type": "markdown",
   "id": "1a584a3b",
   "metadata": {
    "id": "7aaad7d5-643e-4ccd-ae32-920a9553b630"
   },
   "source": [
    "## Data Pre-processing"
   ]
  },
  {
   "cell_type": "code",
   "execution_count": 2,
   "id": "16fecf17",
   "metadata": {
    "executionInfo": {
     "elapsed": 415,
     "status": "ok",
     "timestamp": 1652256061293,
     "user": {
      "displayName": "유영재",
      "userId": "06640138067198506258"
     },
     "user_tz": -540
    },
    "id": "343093ae-587c-4e26-8774-2cab3de75add"
   },
   "outputs": [],
   "source": [
    "def get_train_data(data_dir):\n",
    "    img_path_list = []\n",
    "    label_list = []\n",
    "    for case_name in os.listdir(data_dir):\n",
    "        current_path = os.path.join(data_dir, case_name)\n",
    "        if os.path.isdir(current_path):\n",
    "            # get image path\n",
    "            img_path_list.extend(glob(os.path.join(current_path, 'image', '*.jpg')))\n",
    "            img_path_list.extend(glob(os.path.join(current_path, 'image', '*.png')))\n",
    "            \n",
    "            # get label\n",
    "            label_df = pd.read_csv(current_path+'/label-{}.csv'.format(str(int(case_name[-2:]))))\n",
    "            label_list.extend(label_df['leaf_weight'])\n",
    "                \n",
    "    return img_path_list, label_list\n",
    "\n",
    "def get_test_data(data_dir):\n",
    "    # get image path\n",
    "    img_path_list = glob(os.path.join(data_dir, 'image', '*.jpg'))\n",
    "    img_path_list.extend(glob(os.path.join(data_dir, 'image', '*.png')))\n",
    "    img_path_list.sort(key=lambda x:int(x.split('/')[-1].split('.')[0]))\n",
    "    return img_path_list"
   ]
  },
  {
   "cell_type": "code",
   "execution_count": 3,
   "id": "7d9e0bb9",
   "metadata": {
    "executionInfo": {
     "elapsed": 416,
     "status": "ok",
     "timestamp": 1652256063966,
     "user": {
      "displayName": "유영재",
      "userId": "06640138067198506258"
     },
     "user_tz": -540
    },
    "id": "Bc7vEgitz93P"
   },
   "outputs": [],
   "source": [
    "def load_img_numpy(img_dir, target_size) :\n",
    "    img = cv2.imread(img_dir)\n",
    "    img = cv2.resize(img, dsize=target_size)\n",
    "    img = img.astype(np.float32) / 255.0 # normalize \n",
    "    return img"
   ]
  },
  {
   "cell_type": "code",
   "execution_count": 4,
   "id": "5a214e76",
   "metadata": {
    "executionInfo": {
     "elapsed": 1,
     "status": "ok",
     "timestamp": 1652256064629,
     "user": {
      "displayName": "유영재",
      "userId": "06640138067198506258"
     },
     "user_tz": -540
    },
    "id": "rw1af4pzz-4P"
   },
   "outputs": [],
   "source": [
    "def create_dataset(img_dir, label, target_size, batch_size=None) :    \n",
    "    img = [] # 원본이미지\n",
    "    \n",
    "    ## 최적화가 필요한 부분\n",
    "    for i in img_dir:\n",
    "        image = load_img_numpy(i, target_size)\n",
    "        img.append(image)\n",
    "        \n",
    "    x = Dataset.from_tensor_slices(img)\n",
    "    y = Dataset.from_tensor_slices(label)\n",
    "    dataset = Dataset.zip((x, y))\n",
    "    \n",
    "    if batch_size is not None:\n",
    "        dataset = dataset.batch(batch_size, drop_remainder=True).repeat()\n",
    "   \n",
    "    return dataset"
   ]
  },
  {
   "cell_type": "code",
   "execution_count": 5,
   "id": "ca101e7f",
   "metadata": {
    "executionInfo": {
     "elapsed": 2,
     "status": "ok",
     "timestamp": 1652256066346,
     "user": {
      "displayName": "유영재",
      "userId": "06640138067198506258"
     },
     "user_tz": -540
    },
    "id": "QF8v7HJy0AD-"
   },
   "outputs": [],
   "source": [
    "def load_test_img_numpy(img_dir, target_size) :\n",
    "    img = cv2.imread(img_dir)\n",
    "    img = cv2.resize(img, dsize=target_size)\n",
    "    img = img.astype(np.float32) / 255.0\n",
    "    return img\n",
    "\n",
    "def create_test_dataset(img_dir, target_size, batch_size=None) :\n",
    "    file_name = [x.split('/')[-1][:-4] for x in img_dir]\n",
    "    x_img = []\n",
    "\n",
    "    for i in tqdm(img_dir,\n",
    "                total=len(img_dir),\n",
    "                position=0,\n",
    "                leave=True):\n",
    "        img = load_test_img_numpy(i, target_size)\n",
    "        x_img.append(img)\n",
    "\n",
    "    dataset = Dataset.from_tensor_slices(x_img)\n",
    "    \n",
    "    if batch_size is not None :\n",
    "        dataset = dataset.batch(batch_size, drop_remainder=True).repeat()\n",
    "       \n",
    "    return dataset, file_name"
   ]
  },
  {
   "cell_type": "markdown",
   "id": "19a5417d",
   "metadata": {
    "id": "Zxt-_rQT1Eck"
   },
   "source": [
    "## Load Data Set"
   ]
  },
  {
   "cell_type": "code",
   "execution_count": 6,
   "id": "180fd716",
   "metadata": {
    "executionInfo": {
     "elapsed": 79659,
     "status": "ok",
     "timestamp": 1652256147539,
     "user": {
      "displayName": "유영재",
      "userId": "06640138067198506258"
     },
     "user_tz": -540
    },
    "id": "14655d2b-3c47-409d-9c1e-8de4753950bd"
   },
   "outputs": [],
   "source": [
    "IMAGE_SIZE = 224\n",
    "BATCH_SIZE = 8\n",
    "LEARNING_RATE = 2e-4\n",
    "\n",
    "all_img_path, all_label = get_train_data('/home/lab05/AI_proj_Team2/AI_proj_Team2/data/train/')\n",
    "test_img_path = get_test_data('/home/lab05/AI_proj_Team2/AI_proj_Team2/data/test')"
   ]
  },
  {
   "cell_type": "markdown",
   "id": "7ca032e8",
   "metadata": {
    "id": "68577959-091a-46cc-9c9b-18e2404f5de6"
   },
   "source": [
    "## Train / Validation Split"
   ]
  },
  {
   "cell_type": "code",
   "execution_count": 7,
   "id": "99437b1f",
   "metadata": {
    "executionInfo": {
     "elapsed": 523,
     "status": "ok",
     "timestamp": 1652256154595,
     "user": {
      "displayName": "유영재",
      "userId": "06640138067198506258"
     },
     "user_tz": -540
    },
    "id": "31f5a9d4-7af5-466c-b1ac-1480f285dd9c"
   },
   "outputs": [],
   "source": [
    "# Train : Validation = 0.8 : 0.2 Split\n",
    "train_len = int(len(all_img_path)*0.8)\n",
    "\n",
    "train_img_path = all_img_path[:train_len]\n",
    "train_label = all_label[:train_len]\n",
    "\n",
    "vali_img_path = all_img_path[train_len:]\n",
    "vali_label = all_label[train_len:]"
   ]
  },
  {
   "cell_type": "code",
   "execution_count": 11,
   "id": "76aa5d81",
   "metadata": {
    "executionInfo": {
     "elapsed": 1988962,
     "status": "ok",
     "timestamp": 1652258145694,
     "user": {
      "displayName": "유영재",
      "userId": "06640138067198506258"
     },
     "user_tz": -540
    },
    "id": "oe3_r_Dy1OEs"
   },
   "outputs": [
    {
     "name": "stderr",
     "output_type": "stream",
     "text": [
      "2022-05-12 16:18:29.596014: W tensorflow/core/framework/cpu_allocator_impl.cc:80] Allocation of 766488576 exceeds 10% of free system memory.\n"
     ]
    }
   ],
   "source": [
    "train_dataset = create_dataset(train_img_path, train_label, (IMAGE_SIZE, IMAGE_SIZE), BATCH_SIZE)\n",
    "valid_dataset = create_dataset(vali_img_path, vali_label, (IMAGE_SIZE, IMAGE_SIZE), BATCH_SIZE )"
   ]
  },
  {
   "cell_type": "code",
   "execution_count": 12,
   "id": "8a4eb2b3",
   "metadata": {
    "colab": {
     "base_uri": "https://localhost:8080/"
    },
    "executionInfo": {
     "elapsed": 450,
     "status": "ok",
     "timestamp": 1652258455903,
     "user": {
      "displayName": "유영재",
      "userId": "06640138067198506258"
     },
     "user_tz": -540
    },
    "id": "L9bGKCFl1Ox5",
    "outputId": "490eda3b-95ba-47e0-9e6b-4108deb87a85"
   },
   "outputs": [
    {
     "data": {
      "text/plain": [
       "<RepeatDataset shapes: ((8, 224, 224, 3), (8,)), types: (tf.float32, tf.float32)>"
      ]
     },
     "execution_count": 12,
     "metadata": {},
     "output_type": "execute_result"
    }
   ],
   "source": [
    "train_dataset"
   ]
  },
  {
   "cell_type": "code",
   "execution_count": 13,
   "id": "6a369a24",
   "metadata": {
    "colab": {
     "base_uri": "https://localhost:8080/"
    },
    "executionInfo": {
     "elapsed": 481,
     "status": "ok",
     "timestamp": 1652258458239,
     "user": {
      "displayName": "유영재",
      "userId": "06640138067198506258"
     },
     "user_tz": -540
    },
    "id": "UJwaF5Fg1RE9",
    "outputId": "3741f516-0877-47f7-9d16-d714cfc44796"
   },
   "outputs": [
    {
     "data": {
      "text/plain": [
       "<RepeatDataset shapes: ((8, 224, 224, 3), (8,)), types: (tf.float32, tf.float32)>"
      ]
     },
     "execution_count": 13,
     "metadata": {},
     "output_type": "execute_result"
    }
   ],
   "source": [
    "valid_dataset"
   ]
  },
  {
   "cell_type": "markdown",
   "id": "a764e1cf",
   "metadata": {
    "id": "Gy0tYGA968OQ"
   },
   "source": [
    "## VGG16 Model"
   ]
  },
  {
   "cell_type": "code",
   "execution_count": 14,
   "id": "adca6a20",
   "metadata": {
    "colab": {
     "background_save": true,
     "base_uri": "https://localhost:8080/"
    },
    "id": "1DMQNS6C67IQ"
   },
   "outputs": [
    {
     "name": "stdout",
     "output_type": "stream",
     "text": [
      "Model: \"vgg19\"\n",
      "_________________________________________________________________\n",
      "Layer (type)                 Output Shape              Param #   \n",
      "=================================================================\n",
      "input_2 (InputLayer)         [(None, 224, 224, 3)]     0         \n",
      "_________________________________________________________________\n",
      "block1_conv1 (Conv2D)        (None, 224, 224, 64)      1792      \n",
      "_________________________________________________________________\n",
      "block1_conv2 (Conv2D)        (None, 224, 224, 64)      36928     \n",
      "_________________________________________________________________\n",
      "block1_pool (MaxPooling2D)   (None, 112, 112, 64)      0         \n",
      "_________________________________________________________________\n",
      "block2_conv1 (Conv2D)        (None, 112, 112, 128)     73856     \n",
      "_________________________________________________________________\n",
      "block2_conv2 (Conv2D)        (None, 112, 112, 128)     147584    \n",
      "_________________________________________________________________\n",
      "block2_pool (MaxPooling2D)   (None, 56, 56, 128)       0         \n",
      "_________________________________________________________________\n",
      "block3_conv1 (Conv2D)        (None, 56, 56, 256)       295168    \n",
      "_________________________________________________________________\n",
      "block3_conv2 (Conv2D)        (None, 56, 56, 256)       590080    \n",
      "_________________________________________________________________\n",
      "block3_conv3 (Conv2D)        (None, 56, 56, 256)       590080    \n",
      "_________________________________________________________________\n",
      "block3_conv4 (Conv2D)        (None, 56, 56, 256)       590080    \n",
      "_________________________________________________________________\n",
      "block3_pool (MaxPooling2D)   (None, 28, 28, 256)       0         \n",
      "_________________________________________________________________\n",
      "block4_conv1 (Conv2D)        (None, 28, 28, 512)       1180160   \n",
      "_________________________________________________________________\n",
      "block4_conv2 (Conv2D)        (None, 28, 28, 512)       2359808   \n",
      "_________________________________________________________________\n",
      "block4_conv3 (Conv2D)        (None, 28, 28, 512)       2359808   \n",
      "_________________________________________________________________\n",
      "block4_conv4 (Conv2D)        (None, 28, 28, 512)       2359808   \n",
      "_________________________________________________________________\n",
      "block4_pool (MaxPooling2D)   (None, 14, 14, 512)       0         \n",
      "_________________________________________________________________\n",
      "block5_conv1 (Conv2D)        (None, 14, 14, 512)       2359808   \n",
      "_________________________________________________________________\n",
      "block5_conv2 (Conv2D)        (None, 14, 14, 512)       2359808   \n",
      "_________________________________________________________________\n",
      "block5_conv3 (Conv2D)        (None, 14, 14, 512)       2359808   \n",
      "_________________________________________________________________\n",
      "block5_conv4 (Conv2D)        (None, 14, 14, 512)       2359808   \n",
      "_________________________________________________________________\n",
      "block5_pool (MaxPooling2D)   (None, 7, 7, 512)         0         \n",
      "=================================================================\n",
      "Total params: 20,024,384\n",
      "Trainable params: 20,024,384\n",
      "Non-trainable params: 0\n",
      "_________________________________________________________________\n"
     ]
    }
   ],
   "source": [
    "base_model = VGG19(\n",
    "    weights='imagenet',\n",
    "    include_top = False,\n",
    "    input_shape = (IMAGE_SIZE,IMAGE_SIZE) + (3,)\n",
    ")\n",
    "base_model.summary()"
   ]
  },
  {
   "cell_type": "code",
   "execution_count": 15,
   "id": "3758c5ea",
   "metadata": {
    "executionInfo": {
     "elapsed": 5338,
     "status": "ok",
     "timestamp": 1652238481780,
     "user": {
      "displayName": "유영재",
      "userId": "06640138067198506258"
     },
     "user_tz": -540
    },
    "id": "VfW-vOg3BqMG"
   },
   "outputs": [],
   "source": [
    "from tensorflow.keras.regularizers import *\n",
    "\n",
    "LAMBDA_VAL = 0.001\n",
    "\n",
    "# base_model.trainable = False\n",
    "# model = Sequential()\n",
    "# model.add(base_model)\n",
    "# model.add(GlobalAveragePooling2D()) # Flatten??\n",
    "# model.add(Dropout(0.3))\n",
    "# model.add(Dense(64, activation='relu'))\n",
    "# model.add(Dense(1, activation='linear', kernel_regularizer=L2(l2=LAMBDA_VAL)))\n",
    "\n",
    "base_model.trainable = False\n",
    "model = Sequential()\n",
    "\n",
    "model.add(base_model)\n",
    "\n",
    "model.add(Flatten())\n",
    "\n",
    "model.add(Dense(units=256,\n",
    "                activation='relu'))\n",
    "\n",
    "model.add(Dropout(rate=0.5))\n",
    "model.add(Dense(units=128,\n",
    "                activation='relu'))\n",
    "\n",
    "model.add(Dense(units=64,\n",
    "                activation='relu'))\n",
    "\n",
    "model.add(Dropout(rate=0.5))\n",
    "\n",
    "model.add(Dense(units=1,\n",
    "                activation='linear',  kernel_regularizer=L2(l2=LAMBDA_VAL)))\n",
    "\n",
    "\n",
    "# Early Stopping\n",
    "es = EarlyStopping(monitor='val_loss',\n",
    "                   mode='auto',\n",
    "                   patience=5,\n",
    "                   verbose=1)\n",
    "\n",
    "# Checkpoint\n",
    "# model_checkpoint = './{epoch:06d}-{val_acc:0.6f}-{acc:0.6f}.ckpt'\n",
    "\n",
    "# checkpointer = ModelCheckpoint(\n",
    "#     filepath=model_checkpoint,\n",
    "#     verbose=1,\n",
    "#     period=2,\n",
    "#     save_best_weights=True,\n",
    "#     mode='auto',\n",
    "#     monitor='val_acc'\n",
    "# )\n",
    "\n"
   ]
  },
  {
   "cell_type": "code",
   "execution_count": 16,
   "id": "17686c3b",
   "metadata": {
    "colab": {
     "base_uri": "https://localhost:8080/"
    },
    "executionInfo": {
     "elapsed": 1843743,
     "status": "ok",
     "timestamp": 1652240326409,
     "user": {
      "displayName": "유영재",
      "userId": "06640138067198506258"
     },
     "user_tz": -540
    },
    "id": "YQOu60ItBwB7",
    "outputId": "703a3bff-4457-48a7-a1c3-546dc0b27c54"
   },
   "outputs": [
    {
     "name": "stderr",
     "output_type": "stream",
     "text": [
      "2022-05-12 16:21:21.216962: W tensorflow/core/framework/cpu_allocator_impl.cc:80] Allocation of 766488576 exceeds 10% of free system memory.\n"
     ]
    },
    {
     "name": "stdout",
     "output_type": "stream",
     "text": [
      "Epoch 1/30\n"
     ]
    },
    {
     "name": "stderr",
     "output_type": "stream",
     "text": [
      "2022-05-12 16:21:22.376047: I tensorflow/compiler/mlir/mlir_graph_optimization_pass.cc:116] None of the MLIR optimization passes are enabled (registered 2)\n",
      "2022-05-12 16:21:22.397950: I tensorflow/core/platform/profile_utils/cpu_utils.cc:112] CPU Frequency: 2499995000 Hz\n",
      "2022-05-12 16:21:22.493480: I tensorflow/stream_executor/platform/default/dso_loader.cc:49] Successfully opened dynamic library libcublas.so.10\n",
      "2022-05-12 16:21:22.718181: I tensorflow/stream_executor/platform/default/dso_loader.cc:49] Successfully opened dynamic library libcudnn.so.7\n"
     ]
    },
    {
     "name": "stdout",
     "output_type": "stream",
     "text": [
      "159/159 [==============================] - 14s 71ms/step - loss: 15402.0079 - mae: 78.0685 - val_loss: 10195.2920 - val_mae: 74.1492\n",
      "Epoch 2/30\n",
      "159/159 [==============================] - 11s 69ms/step - loss: 10369.7982 - mae: 72.9319 - val_loss: 10173.6641 - val_mae: 72.1017\n",
      "Epoch 3/30\n",
      "159/159 [==============================] - 11s 69ms/step - loss: 9326.7200 - mae: 69.3372 - val_loss: 10161.9482 - val_mae: 71.6011\n",
      "Epoch 4/30\n",
      "159/159 [==============================] - 11s 69ms/step - loss: 8653.1208 - mae: 65.9489 - val_loss: 10146.9580 - val_mae: 70.8243\n",
      "Epoch 5/30\n",
      "159/159 [==============================] - 11s 69ms/step - loss: 8800.7460 - mae: 66.4469 - val_loss: 10132.7119 - val_mae: 71.4767\n",
      "Epoch 6/30\n",
      "159/159 [==============================] - 11s 69ms/step - loss: 8539.6886 - mae: 65.5547 - val_loss: 10049.8633 - val_mae: 71.9018\n",
      "Epoch 7/30\n",
      "159/159 [==============================] - 11s 68ms/step - loss: 8241.5557 - mae: 64.5412 - val_loss: 10191.3369 - val_mae: 69.3855\n",
      "Epoch 8/30\n",
      "159/159 [==============================] - 11s 68ms/step - loss: 8430.9889 - mae: 65.4706 - val_loss: 10063.4033 - val_mae: 70.3317\n",
      "Epoch 9/30\n",
      "159/159 [==============================] - 11s 68ms/step - loss: 7607.9199 - mae: 62.6535 - val_loss: 9934.0215 - val_mae: 71.4821\n",
      "Epoch 10/30\n",
      "159/159 [==============================] - 11s 68ms/step - loss: 7874.4159 - mae: 63.2964 - val_loss: 9915.3877 - val_mae: 71.8154\n",
      "Epoch 11/30\n",
      "159/159 [==============================] - 11s 68ms/step - loss: 7227.7542 - mae: 62.0816 - val_loss: 10017.2881 - val_mae: 70.8005\n",
      "Epoch 12/30\n",
      "159/159 [==============================] - 11s 68ms/step - loss: 6932.4043 - mae: 60.2623 - val_loss: 9926.1650 - val_mae: 71.2583\n",
      "Epoch 13/30\n",
      "159/159 [==============================] - 11s 68ms/step - loss: 6517.0435 - mae: 57.6646 - val_loss: 9906.4990 - val_mae: 71.9723\n",
      "Epoch 14/30\n",
      "159/159 [==============================] - 11s 69ms/step - loss: 6683.2344 - mae: 58.8235 - val_loss: 9835.8145 - val_mae: 72.4876\n",
      "Epoch 15/30\n",
      "159/159 [==============================] - 11s 69ms/step - loss: 6364.4312 - mae: 57.5751 - val_loss: 9762.1611 - val_mae: 74.0786\n",
      "Epoch 16/30\n",
      "159/159 [==============================] - 11s 69ms/step - loss: 6345.3428 - mae: 56.9685 - val_loss: 9818.9082 - val_mae: 72.7341\n",
      "Epoch 17/30\n",
      "159/159 [==============================] - 11s 69ms/step - loss: 5997.9976 - mae: 55.9108 - val_loss: 9764.3467 - val_mae: 73.1735\n",
      "Epoch 18/30\n",
      "159/159 [==============================] - 11s 69ms/step - loss: 6323.4403 - mae: 56.5769 - val_loss: 9836.6855 - val_mae: 74.0578\n",
      "Epoch 19/30\n",
      "159/159 [==============================] - 11s 69ms/step - loss: 6645.3855 - mae: 57.1067 - val_loss: 9718.9756 - val_mae: 75.4124\n",
      "Epoch 20/30\n",
      "159/159 [==============================] - 11s 69ms/step - loss: 6221.8274 - mae: 56.0193 - val_loss: 9803.1445 - val_mae: 72.0770\n",
      "Epoch 21/30\n",
      "159/159 [==============================] - 11s 69ms/step - loss: 5691.4154 - mae: 53.5743 - val_loss: 9723.9668 - val_mae: 74.4172\n",
      "Epoch 22/30\n",
      "159/159 [==============================] - 11s 70ms/step - loss: 6333.0670 - mae: 56.1970 - val_loss: 9731.4844 - val_mae: 74.7149\n",
      "Epoch 23/30\n",
      "159/159 [==============================] - 11s 70ms/step - loss: 6141.7292 - mae: 54.8604 - val_loss: 9758.8779 - val_mae: 75.6214\n",
      "Epoch 24/30\n",
      "159/159 [==============================] - 11s 70ms/step - loss: 6175.0327 - mae: 54.5812 - val_loss: 9810.3770 - val_mae: 73.8087\n",
      "Epoch 25/30\n",
      "159/159 [==============================] - 11s 70ms/step - loss: 5834.0379 - mae: 54.8031 - val_loss: 9668.4883 - val_mae: 73.9486\n",
      "Epoch 26/30\n",
      "159/159 [==============================] - 11s 71ms/step - loss: 5563.8835 - mae: 53.3092 - val_loss: 9609.4453 - val_mae: 76.1285\n",
      "Epoch 27/30\n",
      "159/159 [==============================] - 11s 71ms/step - loss: 5497.2123 - mae: 51.7249 - val_loss: 9778.9873 - val_mae: 78.5664\n",
      "Epoch 28/30\n",
      "159/159 [==============================] - 11s 71ms/step - loss: 5348.3192 - mae: 52.4972 - val_loss: 9611.9199 - val_mae: 77.2956\n",
      "Epoch 29/30\n",
      "159/159 [==============================] - 11s 72ms/step - loss: 5609.4736 - mae: 52.5582 - val_loss: 9726.0703 - val_mae: 73.6699\n",
      "Epoch 30/30\n",
      "159/159 [==============================] - 11s 72ms/step - loss: 5356.7993 - mae: 52.6197 - val_loss: 9811.2656 - val_mae: 74.4214\n"
     ]
    }
   ],
   "source": [
    "model.compile(optimizer=Adam(learning_rate=LEARNING_RATE),\n",
    "              loss='mse',\n",
    "              metrics=['mae'])\n",
    "\n",
    "\n",
    "EPOCHS = 30\n",
    "STEPS_PER_EPOCH = len(train_img_path) // BATCH_SIZE\n",
    "VAL_STEPS = len(vali_img_path) // BATCH_SIZE\n",
    "\n",
    "history = model.fit(train_dataset, epochs=EPOCHS,\n",
    "                    steps_per_epoch=STEPS_PER_EPOCH,\n",
    "                    validation_data=valid_dataset,\n",
    "                    validation_steps = VAL_STEPS,\n",
    "                    # callbacks=[es, checkpointer],\n",
    "                    verbose=1)\n",
    "\n",
    "model.save('./pretrained_model_efficentnetb7.h5')"
   ]
  },
  {
   "cell_type": "code",
   "execution_count": 17,
   "id": "d05c2f22",
   "metadata": {
    "colab": {
     "base_uri": "https://localhost:8080/",
     "height": 517
    },
    "executionInfo": {
     "elapsed": 867,
     "status": "ok",
     "timestamp": 1652241805175,
     "user": {
      "displayName": "유영재",
      "userId": "06640138067198506258"
     },
     "user_tz": -540
    },
    "id": "9rY03zPESR6c",
    "outputId": "d9f7bef9-d6f9-4016-e553-228a36235197"
   },
   "outputs": [
    {
     "data": {
      "text/plain": [
       "Text(0.5, 1.0, 'Training and Validation MAE')"
      ]
     },
     "execution_count": 17,
     "metadata": {},
     "output_type": "execute_result"
    },
    {
     "data": {
      "image/png": "[encoded data removed]",
      "text/plain": [
       "<Figure size 576x576 with 1 Axes>"
      ]
     },
     "metadata": {
      "needs_background": "light"
     },
     "output_type": "display_data"
    }
   ],
   "source": [
    "plt.figure(figsize=(8, 8))\n",
    "plt.plot(history.history['mae'], label='Training MAE')\n",
    "plt.plot(history.history['val_mae'], label='Validation MAE')\n",
    "plt.legend(loc='lower right')\n",
    "plt.title('Training and Validation MAE')"
   ]
  },
  {
   "cell_type": "markdown",
   "id": "13123672",
   "metadata": {
    "id": "Q0LFMCpiSXIt"
   },
   "source": [
    "## Fine-tuning\n"
   ]
  },
  {
   "cell_type": "code",
   "execution_count": 18,
   "id": "9f1d5b46",
   "metadata": {
    "colab": {
     "base_uri": "https://localhost:8080/"
    },
    "executionInfo": {
     "elapsed": 257,
     "status": "ok",
     "timestamp": 1652242129680,
     "user": {
      "displayName": "유영재",
      "userId": "06640138067198506258"
     },
     "user_tz": -540
    },
    "id": "pKL31JZJSWQB",
    "outputId": "13018c04-2722-464c-a4ff-a2b943eee41c"
   },
   "outputs": [
    {
     "name": "stdout",
     "output_type": "stream",
     "text": [
      "Number of layers in the base model:  22\n"
     ]
    }
   ],
   "source": [
    "base_model.trainable=True\n",
    "print(\"Number of layers in the base model: \", len(base_model.layers))"
   ]
  },
  {
   "cell_type": "code",
   "execution_count": 19,
   "id": "a196a5ed",
   "metadata": {
    "executionInfo": {
     "elapsed": 3,
     "status": "ok",
     "timestamp": 1652242130775,
     "user": {
      "displayName": "유영재",
      "userId": "06640138067198506258"
     },
     "user_tz": -540
    },
    "id": "2zl7ppAjTbM9"
   },
   "outputs": [],
   "source": [
    "fine_tune_at= int(len(base_model.layers)*0.9)\n",
    "\n",
    "for i, layer in enumerate(base_model.layers[:fine_tune_at]):\n",
    "    if 'bn' not in layer.name :\n",
    "        layer.trainable = True"
   ]
  },
  {
   "cell_type": "code",
   "execution_count": 20,
   "id": "be5f2c75",
   "metadata": {
    "executionInfo": {
     "elapsed": 2,
     "status": "ok",
     "timestamp": 1652242131848,
     "user": {
      "displayName": "유영재",
      "userId": "06640138067198506258"
     },
     "user_tz": -540
    },
    "id": "YY_tvdjuTdDZ"
   },
   "outputs": [],
   "source": [
    "model.compile(optimizer=Adam(learning_rate=LEARNING_RATE/10),\n",
    "              loss='mse',\n",
    "              metrics=['mae'])"
   ]
  },
  {
   "cell_type": "code",
   "execution_count": 21,
   "id": "f8ecd09d",
   "metadata": {
    "colab": {
     "base_uri": "https://localhost:8080/"
    },
    "executionInfo": {
     "elapsed": 1903664,
     "status": "ok",
     "timestamp": 1652244036465,
     "user": {
      "displayName": "유영재",
      "userId": "06640138067198506258"
     },
     "user_tz": -540
    },
    "id": "3K_0LwBMTd8j",
    "outputId": "c8712863-a6d5-497a-d6fd-4de838bd19c1"
   },
   "outputs": [
    {
     "name": "stderr",
     "output_type": "stream",
     "text": [
      "2022-05-12 16:27:11.812368: W tensorflow/core/framework/cpu_allocator_impl.cc:80] Allocation of 766488576 exceeds 10% of free system memory.\n"
     ]
    },
    {
     "name": "stdout",
     "output_type": "stream",
     "text": [
      "Epoch 1/30\n",
      "159/159 [==============================] - 31s 183ms/step - loss: 9060.3352 - mae: 64.2138 - val_loss: 11579.2637 - val_mae: 71.5470\n",
      "Epoch 2/30\n",
      "159/159 [==============================] - 29s 184ms/step - loss: 8556.9802 - mae: 63.8506 - val_loss: 10451.7285 - val_mae: 72.7835\n",
      "Epoch 3/30\n",
      "159/159 [==============================] - 29s 185ms/step - loss: 7378.4606 - mae: 61.0359 - val_loss: 9879.1201 - val_mae: 74.9753\n",
      "Epoch 4/30\n",
      "159/159 [==============================] - 29s 184ms/step - loss: 6121.6101 - mae: 55.3408 - val_loss: 10429.1875 - val_mae: 73.6690\n",
      "Epoch 5/30\n",
      "159/159 [==============================] - 29s 184ms/step - loss: 7078.5073 - mae: 60.4650 - val_loss: 10278.4795 - val_mae: 72.9374\n",
      "Epoch 6/30\n",
      "159/159 [==============================] - 29s 186ms/step - loss: 5391.0802 - mae: 52.5889 - val_loss: 9708.0537 - val_mae: 72.5191\n",
      "Epoch 7/30\n",
      "159/159 [==============================] - 30s 186ms/step - loss: 5525.1322 - mae: 52.3110 - val_loss: 10171.4277 - val_mae: 73.1205\n",
      "Epoch 8/30\n",
      "159/159 [==============================] - 29s 186ms/step - loss: 4764.9260 - mae: 49.7390 - val_loss: 10063.9307 - val_mae: 73.4542\n",
      "Epoch 9/30\n",
      "159/159 [==============================] - 30s 186ms/step - loss: 4797.4152 - mae: 48.8421 - val_loss: 10520.6035 - val_mae: 71.1677\n",
      "Epoch 10/30\n",
      "159/159 [==============================] - 29s 185ms/step - loss: 4037.3955 - mae: 44.8901 - val_loss: 10405.8711 - val_mae: 72.6801\n",
      "Epoch 11/30\n",
      "159/159 [==============================] - 29s 186ms/step - loss: 4690.1459 - mae: 46.5216 - val_loss: 10538.2979 - val_mae: 72.4393\n",
      "Epoch 12/30\n",
      "159/159 [==============================] - 29s 186ms/step - loss: 3470.1276 - mae: 41.5978 - val_loss: 10861.2080 - val_mae: 75.8787\n",
      "Epoch 13/30\n",
      "159/159 [==============================] - 30s 186ms/step - loss: 4312.7461 - mae: 45.4251 - val_loss: 10301.4551 - val_mae: 71.4906\n",
      "Epoch 14/30\n",
      "159/159 [==============================] - 30s 186ms/step - loss: 3887.0147 - mae: 43.2393 - val_loss: 10904.1152 - val_mae: 73.6532\n",
      "Epoch 15/30\n",
      "159/159 [==============================] - 29s 186ms/step - loss: 3932.6593 - mae: 42.7741 - val_loss: 9813.9795 - val_mae: 72.3750\n",
      "Epoch 16/30\n",
      "159/159 [==============================] - 29s 186ms/step - loss: 4225.8707 - mae: 43.0102 - val_loss: 10772.1943 - val_mae: 70.1954\n",
      "Epoch 17/30\n",
      "159/159 [==============================] - 29s 184ms/step - loss: 3889.3488 - mae: 42.3056 - val_loss: 10209.1768 - val_mae: 69.5906\n",
      "Epoch 18/30\n",
      "159/159 [==============================] - 29s 184ms/step - loss: 4025.6494 - mae: 42.4590 - val_loss: 10824.2197 - val_mae: 75.0134\n",
      "Epoch 19/30\n",
      "159/159 [==============================] - 29s 184ms/step - loss: 3621.0928 - mae: 41.1103 - val_loss: 10839.6045 - val_mae: 72.8431\n",
      "Epoch 20/30\n",
      "159/159 [==============================] - 29s 186ms/step - loss: 4472.7601 - mae: 46.1770 - val_loss: 10415.6982 - val_mae: 69.9247\n",
      "Epoch 21/30\n",
      "159/159 [==============================] - 29s 185ms/step - loss: 3158.9480 - mae: 38.1063 - val_loss: 10022.6455 - val_mae: 72.5554\n",
      "Epoch 22/30\n",
      "159/159 [==============================] - 29s 184ms/step - loss: 4161.7772 - mae: 42.8631 - val_loss: 10138.1123 - val_mae: 71.3296\n",
      "Epoch 23/30\n",
      "159/159 [==============================] - 29s 184ms/step - loss: 3818.8234 - mae: 42.8819 - val_loss: 10721.9512 - val_mae: 71.5559\n",
      "Epoch 24/30\n",
      "159/159 [==============================] - 29s 185ms/step - loss: 3764.8721 - mae: 41.8709 - val_loss: 10700.4082 - val_mae: 73.6733\n",
      "Epoch 25/30\n",
      "159/159 [==============================] - 29s 185ms/step - loss: 3103.1039 - mae: 38.0019 - val_loss: 10526.7891 - val_mae: 68.8836\n",
      "Epoch 26/30\n",
      "159/159 [==============================] - 29s 184ms/step - loss: 3508.6160 - mae: 41.1667 - val_loss: 11117.9668 - val_mae: 67.4141\n",
      "Epoch 27/30\n",
      "159/159 [==============================] - 29s 184ms/step - loss: 4066.1143 - mae: 42.6713 - val_loss: 11680.2451 - val_mae: 72.6691\n",
      "Epoch 28/30\n",
      "159/159 [==============================] - 29s 184ms/step - loss: 2611.3389 - mae: 35.7928 - val_loss: 11389.0537 - val_mae: 75.4962\n",
      "Epoch 29/30\n",
      "159/159 [==============================] - 29s 186ms/step - loss: 3267.0329 - mae: 37.7799 - val_loss: 11011.9590 - val_mae: 74.3355\n",
      "Epoch 30/30\n",
      "159/159 [==============================] - 29s 185ms/step - loss: 3279.9918 - mae: 39.0334 - val_loss: 11637.3779 - val_mae: 69.6243\n"
     ]
    }
   ],
   "source": [
    "FINE_TUNE_EPOCHS = 30 \n",
    "history = model.fit(train_dataset, epochs=FINE_TUNE_EPOCHS,\n",
    "                    steps_per_epoch=STEPS_PER_EPOCH,\n",
    "                    validation_data=valid_dataset,\n",
    "                    validation_steps = VAL_STEPS,\n",
    "                    # callbacks=[es, checkpointer],\n",
    "                    verbose=1)\n",
    "\n",
    "model.save('./fine_tuned_model.h5')"
   ]
  },
  {
   "cell_type": "code",
   "execution_count": 22,
   "id": "10206bc5",
   "metadata": {
    "colab": {
     "base_uri": "https://localhost:8080/",
     "height": 517
    },
    "executionInfo": {
     "elapsed": 832,
     "status": "ok",
     "timestamp": 1652244431542,
     "user": {
      "displayName": "유영재",
      "userId": "06640138067198506258"
     },
     "user_tz": -540
    },
    "id": "JUN1s9zxcJUt",
    "outputId": "0bbb0968-b61d-45ad-bbef-b7ceca953a8e"
   },
   "outputs": [
    {
     "data": {
      "text/plain": [
       "Text(0.5, 1.0, 'Training and Validation fine-tuning MAE')"
      ]
     },
     "execution_count": 22,
     "metadata": {},
     "output_type": "execute_result"
    },
    {
     "data": {
      "image/png": "[encoded data removed]",
      "text/plain": [
       "<Figure size 576x576 with 1 Axes>"
      ]
     },
     "metadata": {
      "needs_background": "light"
     },
     "output_type": "display_data"
    }
   ],
   "source": [
    "plt.figure(figsize=(8, 8))\n",
    "plt.plot(history.history['mae'], label='Training MAE')\n",
    "plt.plot(history.history['val_mae'], label='Validation MAE')\n",
    "plt.legend(loc='lower right')\n",
    "plt.title('Training and Validation fine-tuning MAE')"
   ]
  },
  {
   "cell_type": "markdown",
   "id": "9f1fde47",
   "metadata": {
    "id": "5af7e345-7445-4717-909c-2a2e0a4e8993"
   },
   "source": [
    "## CustomDataset"
   ]
  },
  {
   "cell_type": "markdown",
   "id": "1a4c3a35",
   "metadata": {
    "id": "XKy0OCPdjh7j"
   },
   "source": [
    "---\n"
   ]
  },
  {
   "cell_type": "markdown",
   "id": "c8a55fb0",
   "metadata": {
    "id": "vNGSAvhjjjpe"
   },
   "source": [
    "## 규제 없는 모델\n",
    "&loss = mae"
   ]
  },
  {
   "cell_type": "code",
   "execution_count": 23,
   "id": "0cc61f4b",
   "metadata": {
    "colab": {
     "base_uri": "https://localhost:8080/",
     "height": 248
    },
    "executionInfo": {
     "elapsed": 490,
     "status": "error",
     "timestamp": 1652253855855,
     "user": {
      "displayName": "유영재",
      "userId": "06640138067198506258"
     },
     "user_tz": -540
    },
    "id": "h6Nu-dSbjy0O",
    "outputId": "b831c399-ad7e-46c0-a518-aa32d677b460"
   },
   "outputs": [],
   "source": [
    "\n",
    "base_model.trainable = False\n",
    "model2 = Sequential()\n",
    "\n",
    "model2.add(base_model)\n",
    "\n",
    "model2.add(Flatten())\n",
    "\n",
    "model2.add(Dense(units=256,\n",
    "                activation='relu'))\n",
    "\n",
    "model2.add(Dropout(rate=0.5))\n",
    "model2.add(Dense(units=128,\n",
    "                activation='relu'))\n",
    "\n",
    "model2.add(Dense(units=64,\n",
    "                activation='relu'))\n",
    "\n",
    "model2.add(Dropout(rate=0.5))\n",
    "\n",
    "model2.add(Dense(units=1,\n",
    "                activation='linear'))\n",
    "\n",
    "\n",
    "checkpoint_filepath = './no_regul_pretrain_best_model.h5'\n",
    "checkpointer = ModelCheckpoint(\n",
    "    filepath=checkpoint_filepath,\n",
    "    monitor='val_mae',\n",
    "    save_best_only=True,\n",
    "    verbose=1\n",
    ")\n",
    "\n",
    "model2.compile(optimizer=Adam(learning_rate=LEARNING_RATE),\n",
    "              loss='mae',\n",
    "              metrics=['mae'])"
   ]
  },
  {
   "cell_type": "code",
   "execution_count": 24,
   "id": "04887ae0",
   "metadata": {
    "colab": {
     "base_uri": "https://localhost:8080/"
    },
    "executionInfo": {
     "elapsed": 1851169,
     "status": "ok",
     "timestamp": 1652252230179,
     "user": {
      "displayName": "유영재",
      "userId": "06640138067198506258"
     },
     "user_tz": -540
    },
    "id": "gScaMCKijz8F",
    "outputId": "378db086-9170-48ff-d743-2e9ee5faa90a",
    "scrolled": false
   },
   "outputs": [
    {
     "name": "stderr",
     "output_type": "stream",
     "text": [
      "2022-05-12 16:43:30.034771: W tensorflow/core/framework/cpu_allocator_impl.cc:80] Allocation of 766488576 exceeds 10% of free system memory.\n"
     ]
    },
    {
     "name": "stdout",
     "output_type": "stream",
     "text": [
      "Epoch 1/30\n",
      "159/159 [==============================] - 12s 71ms/step - loss: 77.2141 - mae: 77.2141 - val_loss: 69.4449 - val_mae: 69.4449\n",
      "\n",
      "Epoch 00001: val_mae improved from inf to 69.44485, saving model to ./no_regul_pretrain_best_model.h5\n",
      "Epoch 2/30\n",
      "159/159 [==============================] - 11s 70ms/step - loss: 70.0335 - mae: 70.0335 - val_loss: 67.5610 - val_mae: 67.5610\n",
      "\n",
      "Epoch 00002: val_mae improved from 69.44485 to 67.56102, saving model to ./no_regul_pretrain_best_model.h5\n",
      "Epoch 3/30\n",
      "159/159 [==============================] - 11s 70ms/step - loss: 65.2288 - mae: 65.2288 - val_loss: 66.6582 - val_mae: 66.6582\n",
      "\n",
      "Epoch 00003: val_mae improved from 67.56102 to 66.65819, saving model to ./no_regul_pretrain_best_model.h5\n",
      "Epoch 4/30\n",
      "159/159 [==============================] - 11s 70ms/step - loss: 58.7927 - mae: 58.7927 - val_loss: 66.2924 - val_mae: 66.2924\n",
      "\n",
      "Epoch 00004: val_mae improved from 66.65819 to 66.29240, saving model to ./no_regul_pretrain_best_model.h5\n",
      "Epoch 5/30\n",
      "159/159 [==============================] - 11s 71ms/step - loss: 55.1110 - mae: 55.1110 - val_loss: 66.7375 - val_mae: 66.7375\n",
      "\n",
      "Epoch 00005: val_mae did not improve from 66.29240\n",
      "Epoch 6/30\n",
      "159/159 [==============================] - 11s 71ms/step - loss: 49.7041 - mae: 49.7041 - val_loss: 68.3732 - val_mae: 68.3732\n",
      "\n",
      "Epoch 00006: val_mae did not improve from 66.29240\n",
      "Epoch 7/30\n",
      "159/159 [==============================] - 11s 71ms/step - loss: 46.3836 - mae: 46.3836 - val_loss: 70.0130 - val_mae: 70.0130\n",
      "\n",
      "Epoch 00007: val_mae did not improve from 66.29240\n",
      "Epoch 8/30\n",
      "159/159 [==============================] - 11s 72ms/step - loss: 45.7989 - mae: 45.7989 - val_loss: 69.8311 - val_mae: 69.8311\n",
      "\n",
      "Epoch 00008: val_mae did not improve from 66.29240\n",
      "Epoch 9/30\n",
      "159/159 [==============================] - 11s 72ms/step - loss: 43.4609 - mae: 43.4609 - val_loss: 71.8777 - val_mae: 71.8777\n",
      "\n",
      "Epoch 00009: val_mae did not improve from 66.29240\n",
      "Epoch 10/30\n",
      "159/159 [==============================] - 11s 72ms/step - loss: 42.5054 - mae: 42.5054 - val_loss: 72.4307 - val_mae: 72.4307\n",
      "\n",
      "Epoch 00010: val_mae did not improve from 66.29240\n",
      "Epoch 11/30\n",
      "159/159 [==============================] - 11s 72ms/step - loss: 43.4981 - mae: 43.4981 - val_loss: 74.9231 - val_mae: 74.9231\n",
      "\n",
      "Epoch 00011: val_mae did not improve from 66.29240\n",
      "Epoch 12/30\n",
      "159/159 [==============================] - 11s 72ms/step - loss: 40.1085 - mae: 40.1085 - val_loss: 73.9458 - val_mae: 73.9458\n",
      "\n",
      "Epoch 00012: val_mae did not improve from 66.29240\n",
      "Epoch 13/30\n",
      "159/159 [==============================] - 11s 72ms/step - loss: 41.0295 - mae: 41.0295 - val_loss: 73.9179 - val_mae: 73.9179\n",
      "\n",
      "Epoch 00013: val_mae did not improve from 66.29240\n",
      "Epoch 14/30\n",
      "159/159 [==============================] - 11s 72ms/step - loss: 39.1221 - mae: 39.1221 - val_loss: 74.8112 - val_mae: 74.8112\n",
      "\n",
      "Epoch 00014: val_mae did not improve from 66.29240\n",
      "Epoch 15/30\n",
      "159/159 [==============================] - 11s 72ms/step - loss: 38.3583 - mae: 38.3583 - val_loss: 74.2705 - val_mae: 74.2705\n",
      "\n",
      "Epoch 00015: val_mae did not improve from 66.29240\n",
      "Epoch 16/30\n",
      "159/159 [==============================] - 11s 72ms/step - loss: 37.0890 - mae: 37.0890 - val_loss: 77.1901 - val_mae: 77.1901\n",
      "\n",
      "Epoch 00016: val_mae did not improve from 66.29240\n",
      "Epoch 17/30\n",
      "159/159 [==============================] - 12s 72ms/step - loss: 37.2364 - mae: 37.2364 - val_loss: 73.4377 - val_mae: 73.4377\n",
      "\n",
      "Epoch 00017: val_mae did not improve from 66.29240\n",
      "Epoch 18/30\n",
      "159/159 [==============================] - 12s 73ms/step - loss: 37.5164 - mae: 37.5164 - val_loss: 73.6379 - val_mae: 73.6379\n",
      "\n",
      "Epoch 00018: val_mae did not improve from 66.29240\n",
      "Epoch 19/30\n",
      "159/159 [==============================] - 12s 73ms/step - loss: 37.6957 - mae: 37.6957 - val_loss: 73.9518 - val_mae: 73.9518\n",
      "\n",
      "Epoch 00019: val_mae did not improve from 66.29240\n",
      "Epoch 20/30\n",
      "159/159 [==============================] - 12s 73ms/step - loss: 36.1970 - mae: 36.1970 - val_loss: 75.2477 - val_mae: 75.2477\n",
      "\n",
      "Epoch 00020: val_mae did not improve from 66.29240\n",
      "Epoch 21/30\n",
      "159/159 [==============================] - 12s 73ms/step - loss: 36.4031 - mae: 36.4031 - val_loss: 74.0539 - val_mae: 74.0539\n",
      "\n",
      "Epoch 00021: val_mae did not improve from 66.29240\n",
      "Epoch 22/30\n",
      "159/159 [==============================] - 12s 73ms/step - loss: 36.1147 - mae: 36.1147 - val_loss: 74.6609 - val_mae: 74.6609\n",
      "\n",
      "Epoch 00022: val_mae did not improve from 66.29240\n",
      "Epoch 23/30\n",
      "159/159 [==============================] - 12s 73ms/step - loss: 35.1042 - mae: 35.1042 - val_loss: 73.4333 - val_mae: 73.4333\n",
      "\n",
      "Epoch 00023: val_mae did not improve from 66.29240\n",
      "Epoch 24/30\n",
      "159/159 [==============================] - 12s 74ms/step - loss: 35.8304 - mae: 35.8304 - val_loss: 74.9657 - val_mae: 74.9657\n",
      "\n",
      "Epoch 00024: val_mae did not improve from 66.29240\n",
      "Epoch 25/30\n",
      "159/159 [==============================] - 12s 74ms/step - loss: 37.3609 - mae: 37.3609 - val_loss: 72.8169 - val_mae: 72.8169\n",
      "\n",
      "Epoch 00025: val_mae did not improve from 66.29240\n",
      "Epoch 26/30\n",
      "159/159 [==============================] - 12s 73ms/step - loss: 36.3175 - mae: 36.3175 - val_loss: 73.2825 - val_mae: 73.2825\n",
      "\n",
      "Epoch 00026: val_mae did not improve from 66.29240\n",
      "Epoch 27/30\n",
      "159/159 [==============================] - 11s 72ms/step - loss: 36.0879 - mae: 36.0879 - val_loss: 74.2474 - val_mae: 74.2474\n",
      "\n",
      "Epoch 00027: val_mae did not improve from 66.29240\n",
      "Epoch 28/30\n",
      "159/159 [==============================] - 11s 70ms/step - loss: 35.5675 - mae: 35.5675 - val_loss: 75.7341 - val_mae: 75.7341\n",
      "\n",
      "Epoch 00028: val_mae did not improve from 66.29240\n",
      "Epoch 29/30\n",
      "159/159 [==============================] - 11s 70ms/step - loss: 37.0959 - mae: 37.0959 - val_loss: 74.7552 - val_mae: 74.7552\n",
      "\n",
      "Epoch 00029: val_mae did not improve from 66.29240\n",
      "Epoch 30/30\n",
      "159/159 [==============================] - 11s 69ms/step - loss: 33.4595 - mae: 33.4595 - val_loss: 73.3468 - val_mae: 73.3468\n",
      "\n",
      "Epoch 00030: val_mae did not improve from 66.29240\n"
     ]
    }
   ],
   "source": [
    "history2 = model2.fit(train_dataset, epochs=EPOCHS,\n",
    "                    steps_per_epoch=STEPS_PER_EPOCH,\n",
    "                    validation_data=valid_dataset,\n",
    "                    validation_steps = VAL_STEPS,\n",
    "                    callbacks=[checkpointer],\n",
    "                    verbose=1)"
   ]
  },
  {
   "cell_type": "code",
   "execution_count": 25,
   "id": "61fa7989",
   "metadata": {
    "colab": {
     "base_uri": "https://localhost:8080/",
     "height": 517
    },
    "executionInfo": {
     "elapsed": 913,
     "status": "ok",
     "timestamp": 1652252361496,
     "user": {
      "displayName": "유영재",
      "userId": "06640138067198506258"
     },
     "user_tz": -540
    },
    "id": "XCYbOGyVj0gR",
    "outputId": "1041a412-c6bb-4012-d400-64582a05114d"
   },
   "outputs": [
    {
     "data": {
      "text/plain": [
       "Text(0.5, 1.0, 'Training and Validation MAE')"
      ]
     },
     "execution_count": 25,
     "metadata": {},
     "output_type": "execute_result"
    },
    {
     "data": {
      "image/png": "[encoded data removed]",
      "text/plain": [
       "<Figure size 576x576 with 1 Axes>"
      ]
     },
     "metadata": {
      "needs_background": "light"
     },
     "output_type": "display_data"
    }
   ],
   "source": [
    "plt.figure(figsize=(8, 8))\n",
    "plt.plot(history2.history['mae'], label='Training MAE')\n",
    "plt.plot(history2.history['val_mae'], label='Validation MAE')\n",
    "plt.legend(loc='lower right')\n",
    "plt.title('Training and Validation MAE')"
   ]
  },
  {
   "cell_type": "markdown",
   "id": "6d92c502",
   "metadata": {
    "id": "-Wyqc55DrUEW"
   },
   "source": [
    "## fine tune"
   ]
  },
  {
   "cell_type": "code",
   "execution_count": 26,
   "id": "e5a69133",
   "metadata": {
    "executionInfo": {
     "elapsed": 288,
     "status": "ok",
     "timestamp": 1652252365245,
     "user": {
      "displayName": "유영재",
      "userId": "06640138067198506258"
     },
     "user_tz": -540
    },
    "id": "CVGw0lRwrSro"
   },
   "outputs": [],
   "source": [
    "base_model.trainable=True\n",
    "\n",
    "fine_tune_at = int(len(base_model.layers) * 0.9)\n",
    "for layer in base_model.layers[:fine_tune_at] :\n",
    "    layer.trainable = True"
   ]
  },
  {
   "cell_type": "code",
   "execution_count": 27,
   "id": "21d73e47",
   "metadata": {
    "colab": {
     "base_uri": "https://localhost:8080/",
     "height": 248
    },
    "executionInfo": {
     "elapsed": 549,
     "status": "error",
     "timestamp": 1652253823083,
     "user": {
      "displayName": "유영재",
      "userId": "06640138067198506258"
     },
     "user_tz": -540
    },
    "id": "nhMj2JjrrXTk",
    "outputId": "7bdc943d-94b6-45e0-e0be-9f59ef646996"
   },
   "outputs": [
    {
     "name": "stderr",
     "output_type": "stream",
     "text": [
      "2022-05-12 16:49:21.939568: W tensorflow/core/framework/cpu_allocator_impl.cc:80] Allocation of 766488576 exceeds 10% of free system memory.\n"
     ]
    },
    {
     "name": "stdout",
     "output_type": "stream",
     "text": [
      "Epoch 1/30\n",
      "159/159 [==============================] - 28s 174ms/step - loss: 39.6794 - mae: 39.6794 - val_loss: 79.5630 - val_mae: 79.5630\n",
      "\n",
      "Epoch 00001: val_mae improved from inf to 79.56303, saving model to ./no_regul_finetune_best_model.h5\n",
      "Epoch 2/30\n",
      "159/159 [==============================] - 27s 173ms/step - loss: 44.5723 - mae: 44.5723 - val_loss: 72.8138 - val_mae: 72.8138\n",
      "\n",
      "Epoch 00002: val_mae improved from 79.56303 to 72.81383, saving model to ./no_regul_finetune_best_model.h5\n",
      "Epoch 3/30\n",
      "159/159 [==============================] - 27s 173ms/step - loss: 47.0900 - mae: 47.0900 - val_loss: 76.5105 - val_mae: 76.5105\n",
      "\n",
      "Epoch 00003: val_mae did not improve from 72.81383\n",
      "Epoch 4/30\n",
      "159/159 [==============================] - 28s 173ms/step - loss: 42.1234 - mae: 42.1234 - val_loss: 79.2941 - val_mae: 79.2941\n",
      "\n",
      "Epoch 00004: val_mae did not improve from 72.81383\n",
      "Epoch 5/30\n",
      "159/159 [==============================] - 28s 174ms/step - loss: 39.9008 - mae: 39.9008 - val_loss: 77.2580 - val_mae: 77.2580\n",
      "\n",
      "Epoch 00005: val_mae did not improve from 72.81383\n",
      "Epoch 6/30\n",
      "159/159 [==============================] - 28s 175ms/step - loss: 37.4859 - mae: 37.4859 - val_loss: 75.6273 - val_mae: 75.6273\n",
      "\n",
      "Epoch 00006: val_mae did not improve from 72.81383\n",
      "Epoch 7/30\n",
      "159/159 [==============================] - 28s 176ms/step - loss: 39.2531 - mae: 39.2531 - val_loss: 72.6055 - val_mae: 72.6055\n",
      "\n",
      "Epoch 00007: val_mae improved from 72.81383 to 72.60551, saving model to ./no_regul_finetune_best_model.h5\n",
      "Epoch 8/30\n",
      "159/159 [==============================] - 28s 177ms/step - loss: 37.9580 - mae: 37.9580 - val_loss: 76.7889 - val_mae: 76.7889\n",
      "\n",
      "Epoch 00008: val_mae did not improve from 72.60551\n",
      "Epoch 9/30\n",
      "159/159 [==============================] - 29s 180ms/step - loss: 37.0772 - mae: 37.0772 - val_loss: 73.6084 - val_mae: 73.6084\n",
      "\n",
      "Epoch 00009: val_mae did not improve from 72.60551\n",
      "Epoch 10/30\n",
      "159/159 [==============================] - 29s 183ms/step - loss: 37.2342 - mae: 37.2342 - val_loss: 73.6394 - val_mae: 73.6394\n",
      "\n",
      "Epoch 00010: val_mae did not improve from 72.60551\n",
      "Epoch 11/30\n",
      "159/159 [==============================] - 29s 184ms/step - loss: 37.4201 - mae: 37.4201 - val_loss: 76.7255 - val_mae: 76.7255\n",
      "\n",
      "Epoch 00011: val_mae did not improve from 72.60551\n",
      "Epoch 12/30\n",
      "159/159 [==============================] - 29s 185ms/step - loss: 37.4093 - mae: 37.4093 - val_loss: 83.5987 - val_mae: 83.5987\n",
      "\n",
      "Epoch 00012: val_mae did not improve from 72.60551\n",
      "Epoch 13/30\n",
      "159/159 [==============================] - 29s 185ms/step - loss: 34.3409 - mae: 34.3409 - val_loss: 74.3796 - val_mae: 74.3796\n",
      "\n",
      "Epoch 00013: val_mae did not improve from 72.60551\n",
      "Epoch 14/30\n",
      "159/159 [==============================] - 29s 184ms/step - loss: 33.8939 - mae: 33.8939 - val_loss: 72.5283 - val_mae: 72.5283\n",
      "\n",
      "Epoch 00014: val_mae improved from 72.60551 to 72.52826, saving model to ./no_regul_finetune_best_model.h5\n",
      "Epoch 15/30\n",
      "159/159 [==============================] - 29s 184ms/step - loss: 34.3066 - mae: 34.3066 - val_loss: 74.6523 - val_mae: 74.6523\n",
      "\n",
      "Epoch 00015: val_mae did not improve from 72.52826\n",
      "Epoch 16/30\n",
      "159/159 [==============================] - 30s 186ms/step - loss: 35.3049 - mae: 35.3049 - val_loss: 74.4264 - val_mae: 74.4264\n",
      "\n",
      "Epoch 00016: val_mae did not improve from 72.52826\n",
      "Epoch 17/30\n",
      "159/159 [==============================] - 29s 185ms/step - loss: 34.6464 - mae: 34.6464 - val_loss: 76.2117 - val_mae: 76.2117\n",
      "\n",
      "Epoch 00017: val_mae did not improve from 72.52826\n",
      "Epoch 18/30\n",
      "159/159 [==============================] - 29s 184ms/step - loss: 32.8970 - mae: 32.8970 - val_loss: 78.0069 - val_mae: 78.0069\n",
      "\n",
      "Epoch 00018: val_mae did not improve from 72.52826\n",
      "Epoch 19/30\n",
      "159/159 [==============================] - 29s 184ms/step - loss: 34.7167 - mae: 34.7167 - val_loss: 74.7290 - val_mae: 74.7290\n",
      "\n",
      "Epoch 00019: val_mae did not improve from 72.52826\n",
      "Epoch 20/30\n",
      "159/159 [==============================] - 29s 185ms/step - loss: 35.3147 - mae: 35.3147 - val_loss: 70.2595 - val_mae: 70.2595\n",
      "\n",
      "Epoch 00020: val_mae improved from 72.52826 to 70.25954, saving model to ./no_regul_finetune_best_model.h5\n",
      "Epoch 21/30\n",
      "159/159 [==============================] - 29s 185ms/step - loss: 34.3698 - mae: 34.3698 - val_loss: 74.2782 - val_mae: 74.2782\n",
      "\n",
      "Epoch 00021: val_mae did not improve from 70.25954\n",
      "Epoch 22/30\n",
      "159/159 [==============================] - 29s 185ms/step - loss: 33.3264 - mae: 33.3264 - val_loss: 75.7438 - val_mae: 75.7438\n",
      "\n",
      "Epoch 00022: val_mae did not improve from 70.25954\n",
      "Epoch 23/30\n",
      "159/159 [==============================] - 29s 185ms/step - loss: 30.2728 - mae: 30.2728 - val_loss: 71.3078 - val_mae: 71.3078\n",
      "\n",
      "Epoch 00023: val_mae did not improve from 70.25954\n",
      "Epoch 24/30\n",
      "159/159 [==============================] - 29s 184ms/step - loss: 34.1048 - mae: 34.1048 - val_loss: 70.8774 - val_mae: 70.8774\n",
      "\n",
      "Epoch 00024: val_mae did not improve from 70.25954\n",
      "Epoch 25/30\n",
      "159/159 [==============================] - 29s 184ms/step - loss: 32.5606 - mae: 32.5606 - val_loss: 73.5039 - val_mae: 73.5039\n",
      "\n",
      "Epoch 00025: val_mae did not improve from 70.25954\n",
      "Epoch 26/30\n",
      "159/159 [==============================] - 29s 184ms/step - loss: 33.7423 - mae: 33.7423 - val_loss: 72.1516 - val_mae: 72.1516\n",
      "\n",
      "Epoch 00026: val_mae did not improve from 70.25954\n",
      "Epoch 27/30\n",
      "159/159 [==============================] - 29s 184ms/step - loss: 31.3994 - mae: 31.3994 - val_loss: 71.5841 - val_mae: 71.5841\n",
      "\n",
      "Epoch 00027: val_mae did not improve from 70.25954\n",
      "Epoch 28/30\n",
      "159/159 [==============================] - 29s 184ms/step - loss: 31.2797 - mae: 31.2797 - val_loss: 71.3348 - val_mae: 71.3348\n",
      "\n",
      "Epoch 00028: val_mae did not improve from 70.25954\n",
      "Epoch 29/30\n",
      "159/159 [==============================] - 29s 184ms/step - loss: 30.6241 - mae: 30.6241 - val_loss: 73.1727 - val_mae: 73.1727\n",
      "\n",
      "Epoch 00029: val_mae did not improve from 70.25954\n",
      "Epoch 30/30\n",
      "159/159 [==============================] - 29s 184ms/step - loss: 32.4703 - mae: 32.4703 - val_loss: 69.0366 - val_mae: 69.0366\n",
      "\n",
      "Epoch 00030: val_mae improved from 70.25954 to 69.03661, saving model to ./no_regul_finetune_best_model.h5\n"
     ]
    }
   ],
   "source": [
    "model2.compile(optimizer=Adam(learning_rate=LEARNING_RATE/10),\n",
    "              loss='mae',\n",
    "              metrics=['mae'])\n",
    "\n",
    "checkpoint_filepath = './no_regul_finetune_best_model.h5'\n",
    "checkpointer = ModelCheckpoint(\n",
    "    filepath=checkpoint_filepath,\n",
    "    monitor='val_mae',\n",
    "    save_best_only=True,\n",
    "    verbose=1\n",
    ")\n",
    "\n",
    "history2 = model2.fit(train_dataset, epochs=EPOCHS,\n",
    "                    steps_per_epoch=STEPS_PER_EPOCH,\n",
    "                    validation_data=valid_dataset,\n",
    "                    validation_steps = VAL_STEPS,\n",
    "                    callbacks=[checkpointer],\n",
    "                    verbose=1)\n",
    "\n",
    "model2.save('./by_chance_noregul_finetunemoedl.h5')"
   ]
  },
  {
   "cell_type": "code",
   "execution_count": 28,
   "id": "aac5efc2",
   "metadata": {
    "colab": {
     "base_uri": "https://localhost:8080/",
     "height": 266
    },
    "executionInfo": {
     "elapsed": 271,
     "status": "error",
     "timestamp": 1652250294400,
     "user": {
      "displayName": "유영재",
      "userId": "06640138067198506258"
     },
     "user_tz": -540
    },
    "id": "4uFocaZeyq1-",
    "outputId": "148b2d62-cd79-403a-e46e-706ba28373ae"
   },
   "outputs": [
    {
     "data": {
      "text/plain": [
       "Text(0.5, 1.0, 'Training and Validation MAE')"
      ]
     },
     "execution_count": 28,
     "metadata": {},
     "output_type": "execute_result"
    },
    {
     "data": {
      "image/png": "[encoded data removed]",
      "text/plain": [
       "<Figure size 576x576 with 1 Axes>"
      ]
     },
     "metadata": {
      "needs_background": "light"
     },
     "output_type": "display_data"
    }
   ],
   "source": [
    "plt.figure(figsize=(8, 8))\n",
    "plt.plot(history2.history['mae'], label='Training MAE')\n",
    "plt.plot(history2.history['val_mae'], label='Validation MAE')\n",
    "plt.legend(loc='lower right')\n",
    "plt.title('Training and Validation MAE')"
   ]
  },
  {
   "cell_type": "markdown",
   "id": "02331091",
   "metadata": {
    "id": "36_VDyOy56FW"
   },
   "source": [
    "## learning rate 변경"
   ]
  },
  {
   "cell_type": "code",
   "execution_count": 29,
   "id": "1e621e9f",
   "metadata": {
    "id": "-VGCnTwv58YU"
   },
   "outputs": [],
   "source": [
    " base_model = VGG19(\n",
    "    weights='imagenet',\n",
    "    include_top = False,\n",
    "    input_shape = (IMAGE_SIZE,IMAGE_SIZE) + (3,)\n",
    ")"
   ]
  },
  {
   "cell_type": "code",
   "execution_count": 30,
   "id": "fba41ada",
   "metadata": {
    "id": "sr5nENK56BLa"
   },
   "outputs": [],
   "source": [
    "\n",
    "LEARNING_RATE = 1e-4\n",
    "\n",
    "base_model.trainable = False\n",
    "model3 = Sequential()\n",
    "\n",
    "model3.add(base_model)\n",
    "\n",
    "model3.add(Flatten())\n",
    "\n",
    "model3.add(Dense(units=256,\n",
    "                activation='relu'))\n",
    "\n",
    "model3.add(Dropout(rate=0.5))\n",
    "model3.add(Dense(units=128,\n",
    "                activation='relu'))\n",
    "\n",
    "model3.add(Dense(units=64,\n",
    "                activation='relu'))\n",
    "\n",
    "model3.add(Dropout(rate=0.5))\n",
    "\n",
    "model3.add(Dense(units=1,\n",
    "                activation='linear'))\n",
    "\n",
    "checkpoint_filepath = './no_regul_pretrain_best_model_lr.h5'\n",
    "\n",
    "checkpointer = ModelCheckpoint(\n",
    "    filepath=checkpoint_filepath,\n",
    "    monitor='val_mae',\n",
    "    save_best_only=True,\n",
    "    verbose=1\n",
    ")\n",
    "\n",
    "model3.compile(optimizer=Adam(learning_rate=LEARNING_RATE),\n",
    "              loss='mae',\n",
    "              metrics=['mae'])"
   ]
  },
  {
   "cell_type": "code",
   "execution_count": 31,
   "id": "a9477372",
   "metadata": {
    "id": "k6j6V3_k6CPv",
    "scrolled": false
   },
   "outputs": [
    {
     "name": "stdout",
     "output_type": "stream",
     "text": [
      "Epoch 1/30\n",
      "159/159 [==============================] - 12s 73ms/step - loss: 77.9060 - mae: 77.9060 - val_loss: 69.6926 - val_mae: 69.6926\n",
      "\n",
      "Epoch 00001: val_mae improved from inf to 69.69263, saving model to ./no_regul_pretrain_best_model_lr.h5\n",
      "Epoch 2/30\n",
      "159/159 [==============================] - 11s 71ms/step - loss: 71.6517 - mae: 71.6517 - val_loss: 68.6489 - val_mae: 68.6489\n",
      "\n",
      "Epoch 00002: val_mae improved from 69.69263 to 68.64894, saving model to ./no_regul_pretrain_best_model_lr.h5\n",
      "Epoch 3/30\n",
      "159/159 [==============================] - 11s 70ms/step - loss: 69.8354 - mae: 69.8354 - val_loss: 67.6897 - val_mae: 67.6897\n",
      "\n",
      "Epoch 00003: val_mae improved from 68.64894 to 67.68970, saving model to ./no_regul_pretrain_best_model_lr.h5\n",
      "Epoch 4/30\n",
      "159/159 [==============================] - 11s 69ms/step - loss: 67.2082 - mae: 67.2082 - val_loss: 67.4329 - val_mae: 67.4329\n",
      "\n",
      "Epoch 00004: val_mae improved from 67.68970 to 67.43293, saving model to ./no_regul_pretrain_best_model_lr.h5\n",
      "Epoch 5/30\n",
      "159/159 [==============================] - 11s 69ms/step - loss: 65.6222 - mae: 65.6222 - val_loss: 67.2265 - val_mae: 67.2265\n",
      "\n",
      "Epoch 00005: val_mae improved from 67.43293 to 67.22648, saving model to ./no_regul_pretrain_best_model_lr.h5\n",
      "Epoch 6/30\n",
      "159/159 [==============================] - 11s 69ms/step - loss: 64.2389 - mae: 64.2389 - val_loss: 66.9562 - val_mae: 66.9562\n",
      "\n",
      "Epoch 00006: val_mae improved from 67.22648 to 66.95618, saving model to ./no_regul_pretrain_best_model_lr.h5\n",
      "Epoch 7/30\n",
      "159/159 [==============================] - 11s 68ms/step - loss: 63.0802 - mae: 63.0802 - val_loss: 66.2604 - val_mae: 66.2604\n",
      "\n",
      "Epoch 00007: val_mae improved from 66.95618 to 66.26039, saving model to ./no_regul_pretrain_best_model_lr.h5\n",
      "Epoch 8/30\n",
      "159/159 [==============================] - 11s 68ms/step - loss: 61.5162 - mae: 61.5162 - val_loss: 66.1830 - val_mae: 66.1830\n",
      "\n",
      "Epoch 00008: val_mae improved from 66.26039 to 66.18302, saving model to ./no_regul_pretrain_best_model_lr.h5\n",
      "Epoch 9/30\n",
      "159/159 [==============================] - 11s 68ms/step - loss: 63.2182 - mae: 63.2182 - val_loss: 66.0256 - val_mae: 66.0256\n",
      "\n",
      "Epoch 00009: val_mae improved from 66.18302 to 66.02563, saving model to ./no_regul_pretrain_best_model_lr.h5\n",
      "Epoch 10/30\n",
      "159/159 [==============================] - 11s 68ms/step - loss: 60.3663 - mae: 60.3663 - val_loss: 66.1182 - val_mae: 66.1182\n",
      "\n",
      "Epoch 00010: val_mae did not improve from 66.02563\n",
      "Epoch 11/30\n",
      "159/159 [==============================] - 11s 68ms/step - loss: 61.2711 - mae: 61.2711 - val_loss: 66.2028 - val_mae: 66.2028\n",
      "\n",
      "Epoch 00011: val_mae did not improve from 66.02563\n",
      "Epoch 12/30\n",
      "159/159 [==============================] - 11s 69ms/step - loss: 61.9559 - mae: 61.9559 - val_loss: 66.0501 - val_mae: 66.0501\n",
      "\n",
      "Epoch 00012: val_mae did not improve from 66.02563\n",
      "Epoch 13/30\n",
      "159/159 [==============================] - 11s 69ms/step - loss: 61.3023 - mae: 61.3023 - val_loss: 66.0598 - val_mae: 66.0598\n",
      "\n",
      "Epoch 00013: val_mae did not improve from 66.02563\n",
      "Epoch 14/30\n",
      "159/159 [==============================] - 11s 69ms/step - loss: 59.2212 - mae: 59.2212 - val_loss: 66.0866 - val_mae: 66.0866\n",
      "\n",
      "Epoch 00014: val_mae did not improve from 66.02563\n",
      "Epoch 15/30\n",
      "159/159 [==============================] - 11s 69ms/step - loss: 59.1315 - mae: 59.1315 - val_loss: 66.1859 - val_mae: 66.1859\n",
      "\n",
      "Epoch 00015: val_mae did not improve from 66.02563\n",
      "Epoch 16/30\n",
      "159/159 [==============================] - 11s 69ms/step - loss: 57.9881 - mae: 57.9881 - val_loss: 66.2372 - val_mae: 66.2372\n",
      "\n",
      "Epoch 00016: val_mae did not improve from 66.02563\n",
      "Epoch 17/30\n",
      "159/159 [==============================] - 11s 69ms/step - loss: 59.5475 - mae: 59.5475 - val_loss: 66.3480 - val_mae: 66.3480\n",
      "\n",
      "Epoch 00017: val_mae did not improve from 66.02563\n",
      "Epoch 18/30\n",
      "159/159 [==============================] - 11s 68ms/step - loss: 57.5293 - mae: 57.5293 - val_loss: 66.3829 - val_mae: 66.3829\n",
      "\n",
      "Epoch 00018: val_mae did not improve from 66.02563\n",
      "Epoch 19/30\n",
      "159/159 [==============================] - 11s 68ms/step - loss: 57.0970 - mae: 57.0970 - val_loss: 66.3139 - val_mae: 66.3139\n",
      "\n",
      "Epoch 00019: val_mae did not improve from 66.02563\n",
      "Epoch 20/30\n",
      "159/159 [==============================] - 11s 68ms/step - loss: 58.3546 - mae: 58.3546 - val_loss: 66.7961 - val_mae: 66.7961\n",
      "\n",
      "Epoch 00020: val_mae did not improve from 66.02563\n",
      "Epoch 21/30\n",
      "159/159 [==============================] - 11s 68ms/step - loss: 56.5696 - mae: 56.5696 - val_loss: 66.1442 - val_mae: 66.1442\n",
      "\n",
      "Epoch 00021: val_mae did not improve from 66.02563\n",
      "Epoch 22/30\n",
      "159/159 [==============================] - 11s 68ms/step - loss: 55.7321 - mae: 55.7321 - val_loss: 66.6083 - val_mae: 66.6083\n",
      "\n",
      "Epoch 00022: val_mae did not improve from 66.02563\n",
      "Epoch 23/30\n",
      "159/159 [==============================] - 11s 69ms/step - loss: 54.3580 - mae: 54.3580 - val_loss: 66.8413 - val_mae: 66.8413\n",
      "\n",
      "Epoch 00023: val_mae did not improve from 66.02563\n",
      "Epoch 24/30\n",
      "159/159 [==============================] - 11s 68ms/step - loss: 55.9451 - mae: 55.9451 - val_loss: 66.8258 - val_mae: 66.8258\n",
      "\n",
      "Epoch 00024: val_mae did not improve from 66.02563\n",
      "Epoch 25/30\n",
      "159/159 [==============================] - 11s 68ms/step - loss: 53.0686 - mae: 53.0686 - val_loss: 66.5152 - val_mae: 66.5152\n",
      "\n",
      "Epoch 00025: val_mae did not improve from 66.02563\n",
      "Epoch 26/30\n",
      "159/159 [==============================] - 11s 68ms/step - loss: 51.3486 - mae: 51.3486 - val_loss: 67.0256 - val_mae: 67.0256\n",
      "\n",
      "Epoch 00026: val_mae did not improve from 66.02563\n",
      "Epoch 27/30\n",
      "159/159 [==============================] - 11s 69ms/step - loss: 56.6761 - mae: 56.6761 - val_loss: 67.2402 - val_mae: 67.2402\n",
      "\n",
      "Epoch 00027: val_mae did not improve from 66.02563\n",
      "Epoch 28/30\n",
      "159/159 [==============================] - 11s 69ms/step - loss: 53.0920 - mae: 53.0920 - val_loss: 67.3981 - val_mae: 67.3981\n",
      "\n",
      "Epoch 00028: val_mae did not improve from 66.02563\n",
      "Epoch 29/30\n",
      "159/159 [==============================] - 11s 69ms/step - loss: 53.1715 - mae: 53.1715 - val_loss: 67.2077 - val_mae: 67.2077\n",
      "\n",
      "Epoch 00029: val_mae did not improve from 66.02563\n",
      "Epoch 30/30\n",
      "159/159 [==============================] - 11s 68ms/step - loss: 53.2444 - mae: 53.2444 - val_loss: 67.0961 - val_mae: 67.0961\n",
      "\n",
      "Epoch 00030: val_mae did not improve from 66.02563\n"
     ]
    }
   ],
   "source": [
    "history3 = model3.fit(train_dataset, epochs=EPOCHS,\n",
    "                    steps_per_epoch=STEPS_PER_EPOCH,\n",
    "                    validation_data=valid_dataset,\n",
    "                    validation_steps = VAL_STEPS,\n",
    "                    callbacks=[checkpointer],\n",
    "                    verbose=1)\n"
   ]
  },
  {
   "cell_type": "code",
   "execution_count": 55,
   "id": "80385112",
   "metadata": {
    "id": "wD99_MNv61Rt"
   },
   "outputs": [
    {
     "data": {
      "text/plain": [
       "Text(0.5, 1.0, 'Training and Validation MAE')"
      ]
     },
     "execution_count": 55,
     "metadata": {},
     "output_type": "execute_result"
    },
    {
     "data": {
      "image/png": "[encoded data removed]",
      "text/plain": [
       "<Figure size 576x576 with 1 Axes>"
      ]
     },
     "metadata": {
      "needs_background": "light"
     },
     "output_type": "display_data"
    }
   ],
   "source": [
    "plt.figure(figsize=(8, 8))\n",
    "plt.plot(history3.history['mae'], label='Training MAE')\n",
    "plt.plot(history3.history['val_mae'], label='Validation MAE')\n",
    "plt.legend(loc='lower right')\n",
    "plt.title('Training and Validation MAE')"
   ]
  },
  {
   "cell_type": "markdown",
   "id": "3b162f74",
   "metadata": {
    "id": "EBgpEiFv64x5"
   },
   "source": [
    "## finetune"
   ]
  },
  {
   "cell_type": "code",
   "execution_count": 56,
   "id": "3c88a22c",
   "metadata": {
    "id": "SbDG_59c63_v"
   },
   "outputs": [],
   "source": [
    "base_model.trainable=True\n",
    "\n",
    "fine_tune_at = int(len(base_model.layers) * 0.9)\n",
    "for layer in base_model.layers[:fine_tune_at] :\n",
    "    layer.trainable = True"
   ]
  },
  {
   "cell_type": "code",
   "execution_count": 57,
   "id": "cb44e05d",
   "metadata": {
    "id": "RXfeTGdW660X",
    "scrolled": true
   },
   "outputs": [
    {
     "name": "stdout",
     "output_type": "stream",
     "text": [
      "Epoch 1/30\n",
      "159/159 [==============================] - 10s 59ms/step - loss: 50.4791 - mae: 50.4791 - val_loss: 67.9750 - val_mae: 67.9750\n",
      "\n",
      "Epoch 00001: val_mae improved from inf to 67.97500, saving model to ./no_regul_pretrain_best_model_lr.h5\n",
      "Epoch 2/30\n",
      "159/159 [==============================] - 9s 58ms/step - loss: 49.8406 - mae: 49.8406 - val_loss: 67.8893 - val_mae: 67.8893\n",
      "\n",
      "Epoch 00002: val_mae improved from 67.97500 to 67.88928, saving model to ./no_regul_pretrain_best_model_lr.h5\n",
      "Epoch 3/30\n",
      "159/159 [==============================] - 9s 58ms/step - loss: 51.5339 - mae: 51.5339 - val_loss: 67.9384 - val_mae: 67.9384\n",
      "\n",
      "Epoch 00003: val_mae did not improve from 67.88928\n",
      "Epoch 4/30\n",
      "159/159 [==============================] - 9s 58ms/step - loss: 52.5414 - mae: 52.5414 - val_loss: 68.0061 - val_mae: 68.0061\n",
      "\n",
      "Epoch 00004: val_mae did not improve from 67.88928\n",
      "Epoch 5/30\n",
      "159/159 [==============================] - 9s 58ms/step - loss: 51.6303 - mae: 51.6303 - val_loss: 68.0880 - val_mae: 68.0880\n",
      "\n",
      "Epoch 00005: val_mae did not improve from 67.88928\n",
      "Epoch 6/30\n",
      "159/159 [==============================] - 9s 58ms/step - loss: 50.1697 - mae: 50.1697 - val_loss: 68.0943 - val_mae: 68.0943\n",
      "\n",
      "Epoch 00006: val_mae did not improve from 67.88928\n",
      "Epoch 7/30\n",
      "159/159 [==============================] - 9s 58ms/step - loss: 49.5657 - mae: 49.5657 - val_loss: 68.2062 - val_mae: 68.2062\n",
      "\n",
      "Epoch 00007: val_mae did not improve from 67.88928\n",
      "Epoch 8/30\n",
      "159/159 [==============================] - 9s 58ms/step - loss: 51.4606 - mae: 51.4606 - val_loss: 68.2261 - val_mae: 68.2261\n",
      "\n",
      "Epoch 00008: val_mae did not improve from 67.88928\n",
      "Epoch 9/30\n",
      "159/159 [==============================] - 9s 58ms/step - loss: 51.2561 - mae: 51.2561 - val_loss: 68.2093 - val_mae: 68.2093\n",
      "\n",
      "Epoch 00009: val_mae did not improve from 67.88928\n",
      "Epoch 10/30\n",
      "159/159 [==============================] - 9s 57ms/step - loss: 52.1225 - mae: 52.1225 - val_loss: 68.1897 - val_mae: 68.1897\n",
      "\n",
      "Epoch 00010: val_mae did not improve from 67.88928\n",
      "Epoch 11/30\n",
      "159/159 [==============================] - 9s 56ms/step - loss: 50.3511 - mae: 50.3511 - val_loss: 68.2543 - val_mae: 68.2543\n",
      "\n",
      "Epoch 00011: val_mae did not improve from 67.88928\n",
      "Epoch 12/30\n",
      "159/159 [==============================] - 9s 55ms/step - loss: 50.9508 - mae: 50.9508 - val_loss: 68.3283 - val_mae: 68.3283\n",
      "\n",
      "Epoch 00012: val_mae did not improve from 67.88928\n",
      "Epoch 13/30\n",
      "159/159 [==============================] - 9s 55ms/step - loss: 50.4271 - mae: 50.4271 - val_loss: 68.3181 - val_mae: 68.3181\n",
      "\n",
      "Epoch 00013: val_mae did not improve from 67.88928\n",
      "Epoch 14/30\n",
      "159/159 [==============================] - 9s 54ms/step - loss: 50.9970 - mae: 50.9970 - val_loss: 68.2771 - val_mae: 68.2771\n",
      "\n",
      "Epoch 00014: val_mae did not improve from 67.88928\n",
      "Epoch 15/30\n",
      "159/159 [==============================] - 9s 54ms/step - loss: 50.0092 - mae: 50.0092 - val_loss: 68.2880 - val_mae: 68.2880\n",
      "\n",
      "Epoch 00015: val_mae did not improve from 67.88928\n",
      "Epoch 16/30\n",
      "159/159 [==============================] - 9s 54ms/step - loss: 51.4989 - mae: 51.4989 - val_loss: 68.2703 - val_mae: 68.2703\n",
      "\n",
      "Epoch 00016: val_mae did not improve from 67.88928\n",
      "Epoch 17/30\n",
      "159/159 [==============================] - 9s 54ms/step - loss: 51.7361 - mae: 51.7361 - val_loss: 68.1981 - val_mae: 68.1981\n",
      "\n",
      "Epoch 00017: val_mae did not improve from 67.88928\n",
      "Epoch 18/30\n",
      "159/159 [==============================] - 9s 54ms/step - loss: 50.2432 - mae: 50.2432 - val_loss: 68.3534 - val_mae: 68.3534\n",
      "\n",
      "Epoch 00018: val_mae did not improve from 67.88928\n",
      "Epoch 19/30\n",
      "159/159 [==============================] - 9s 54ms/step - loss: 50.3892 - mae: 50.3892 - val_loss: 68.4295 - val_mae: 68.4295\n",
      "\n",
      "Epoch 00019: val_mae did not improve from 67.88928\n",
      "Epoch 20/30\n",
      "159/159 [==============================] - 9s 54ms/step - loss: 49.6221 - mae: 49.6221 - val_loss: 68.3590 - val_mae: 68.3590\n",
      "\n",
      "Epoch 00020: val_mae did not improve from 67.88928\n",
      "Epoch 21/30\n",
      "159/159 [==============================] - 9s 54ms/step - loss: 51.4010 - mae: 51.4010 - val_loss: 68.3429 - val_mae: 68.3429\n",
      "\n",
      "Epoch 00021: val_mae did not improve from 67.88928\n",
      "Epoch 22/30\n",
      "159/159 [==============================] - 9s 54ms/step - loss: 50.9087 - mae: 50.9087 - val_loss: 68.4314 - val_mae: 68.4314\n",
      "\n",
      "Epoch 00022: val_mae did not improve from 67.88928\n",
      "Epoch 23/30\n",
      "159/159 [==============================] - 9s 54ms/step - loss: 49.7808 - mae: 49.7808 - val_loss: 68.3358 - val_mae: 68.3358\n",
      "\n",
      "Epoch 00023: val_mae did not improve from 67.88928\n",
      "Epoch 24/30\n",
      "159/159 [==============================] - 9s 54ms/step - loss: 50.1011 - mae: 50.1011 - val_loss: 68.3940 - val_mae: 68.3940\n",
      "\n",
      "Epoch 00024: val_mae did not improve from 67.88928\n",
      "Epoch 25/30\n",
      "159/159 [==============================] - 9s 54ms/step - loss: 50.6430 - mae: 50.6430 - val_loss: 68.3791 - val_mae: 68.3791\n",
      "\n",
      "Epoch 00025: val_mae did not improve from 67.88928\n",
      "Epoch 26/30\n",
      "159/159 [==============================] - 9s 54ms/step - loss: 50.1072 - mae: 50.1072 - val_loss: 68.3486 - val_mae: 68.3486\n",
      "\n",
      "Epoch 00026: val_mae did not improve from 67.88928\n",
      "Epoch 27/30\n",
      "159/159 [==============================] - 9s 54ms/step - loss: 50.9211 - mae: 50.9211 - val_loss: 68.2861 - val_mae: 68.2861\n",
      "\n",
      "Epoch 00027: val_mae did not improve from 67.88928\n",
      "Epoch 28/30\n",
      "159/159 [==============================] - 9s 54ms/step - loss: 49.4521 - mae: 49.4521 - val_loss: 68.2705 - val_mae: 68.2705\n",
      "\n",
      "Epoch 00028: val_mae did not improve from 67.88928\n",
      "Epoch 29/30\n",
      "159/159 [==============================] - 9s 54ms/step - loss: 50.1627 - mae: 50.1627 - val_loss: 68.2837 - val_mae: 68.2837\n",
      "\n",
      "Epoch 00029: val_mae did not improve from 67.88928\n",
      "Epoch 30/30\n",
      "159/159 [==============================] - 9s 54ms/step - loss: 48.2689 - mae: 48.2689 - val_loss: 68.3904 - val_mae: 68.3904\n",
      "\n",
      "Epoch 00030: val_mae did not improve from 67.88928\n"
     ]
    }
   ],
   "source": [
    "checkpoint_filepath = './no_regul_pretrain_best_model_lr.h5'\n",
    "checkpointer = ModelCheckpoint(\n",
    "    filepath=checkpoint_filepath,\n",
    "    monitor='val_mae',\n",
    "    save_best_only=True,\n",
    "    verbose=1\n",
    ")\n",
    "\n",
    "model3.compile(optimizer=Adam(learning_rate=LEARNING_RATE/10),\n",
    "              loss='mae',\n",
    "              metrics=['mae'])\n",
    "\n",
    "history3 = model3.fit(train_dataset, epochs=EPOCHS,\n",
    "                    steps_per_epoch=STEPS_PER_EPOCH,\n",
    "                    validation_data=valid_dataset,\n",
    "                    validation_steps = VAL_STEPS,\n",
    "                    callbacks=[checkpointer],\n",
    "                    verbose=1)"
   ]
  },
  {
   "cell_type": "code",
   "execution_count": 32,
   "id": "40de0362",
   "metadata": {
    "id": "NiX_z_z47GNa"
   },
   "outputs": [
    {
     "data": {
      "text/plain": [
       "Text(0.5, 1.0, 'Training and Validation MAE')"
      ]
     },
     "execution_count": 32,
     "metadata": {},
     "output_type": "execute_result"
    },
    {
     "data": {
      "image/png": "[encoded data removed]",
      "text/plain": [
       "<Figure size 576x576 with 1 Axes>"
      ]
     },
     "metadata": {
      "needs_background": "light"
     },
     "output_type": "display_data"
    }
   ],
   "source": [
    "plt.figure(figsize=(8, 8))\n",
    "plt.plot(history3.history['mae'], label='Training MAE')\n",
    "plt.plot(history3.history['val_mae'], label='Validation MAE')\n",
    "plt.legend(loc='lower right')\n",
    "plt.title('Training and Validation MAE')"
   ]
  },
  {
   "cell_type": "markdown",
   "id": "20efeb36",
   "metadata": {
    "id": "TiwRqdlj7Hb9"
   },
   "source": [
    "## Prediction"
   ]
  },
  {
   "cell_type": "code",
   "execution_count": 61,
   "id": "d4bce8f8",
   "metadata": {
    "id": "-4-CouK_7JGQ"
   },
   "outputs": [
    {
     "data": {
      "text/plain": [
       "460"
      ]
     },
     "execution_count": 61,
     "metadata": {},
     "output_type": "execute_result"
    }
   ],
   "source": [
    "len(test_img_path)"
   ]
  },
  {
   "cell_type": "code",
   "execution_count": 62,
   "id": "286c6624",
   "metadata": {
    "id": "qCeTjfpN7LI6"
   },
   "outputs": [],
   "source": [
    "PRED_BATCH_SIZE = 10"
   ]
  },
  {
   "cell_type": "code",
   "execution_count": 64,
   "id": "289784d0",
   "metadata": {
    "id": "oEVEmeMt7Mmp"
   },
   "outputs": [
    {
     "data": {
      "application/vnd.jupyter.widget-view+json": {
       "model_id": "0d5d147c0299424fbd06d05a25cebcdd",
       "version_major": 2,
       "version_minor": 0
      },
      "text/plain": [
       "  0%|          | 0/460 [00:00<?, ?it/s]"
      ]
     },
     "metadata": {},
     "output_type": "display_data"
    }
   ],
   "source": [
    "test_dataset, file_names = create_test_dataset(test_img_path, (IMAGE_SIZE, IMAGE_SIZE), PRED_BATCH_SIZE )"
   ]
  },
  {
   "cell_type": "code",
   "execution_count": 65,
   "id": "f03763ed",
   "metadata": {
    "id": "DbhuyKjM7OsU"
   },
   "outputs": [
    {
     "name": "stdout",
     "output_type": "stream",
     "text": [
      "WARNING:tensorflow:Error in loading the saved optimizer state. As a result, your model is starting with a freshly initialized optimizer.\n"
     ]
    }
   ],
   "source": [
    "eff_model = tf.keras.models.load_model('./no_regul_pretrain_best_model_lr.h5')\n",
    "\n",
    "STEPS = len(test_img_path) / PRED_BATCH_SIZE\n",
    "prediction = eff_model.predict(test_dataset,\n",
    "                            batch_size = PRED_BATCH_SIZE,\n",
    "                            steps=STEPS)\n"
   ]
  },
  {
   "cell_type": "markdown",
   "id": "ab2a50e3",
   "metadata": {
    "id": "eb00479c-a650-4b38-bd21-d4c1018ba57e"
   },
   "source": [
    "## Submission"
   ]
  },
  {
   "cell_type": "code",
   "execution_count": 67,
   "id": "911e0367",
   "metadata": {
    "id": "d169965e-8066-464e-b755-9a2db0d018b6"
   },
   "outputs": [],
   "source": [
    "submission = pd.read_csv('/home/lab05/AI_proj_Team2/AI_proj_Team2/data/sample_submission.csv')\n",
    "submission['leaf_weight'] = prediction.squeeze()\n",
    "submission.to_csv('./submit_VGG16_CNN.csv', index=False)\n",
    "\n",
    "\n"
   ]
  },
  {
   "cell_type": "code",
   "execution_count": null,
   "id": "222e750d",
   "metadata": {},
   "outputs": [],
   "source": []
  }
 ],
 "metadata": {
  "colab": {
   "collapsed_sections": [],
   "name": "[Baseline]_Simple CNN.ipynb",
   "version": ""
  },
  "kernelspec": {
   "display_name": "Python [conda env:machine] *",
   "language": "python",
   "name": "conda-env-machine-py"
  },
  "language_info": {
   "codemirror_mode": {
    "name": "ipython",
    "version": 3
   },
   "file_extension": ".py",
   "mimetype": "text/x-python",
   "name": "python",
   "nbconvert_exporter": "python",
   "pygments_lexer": "ipython3",
   "version": "3.8.13"
  }
 },
 "nbformat": 4,
 "nbformat_minor": 5
}

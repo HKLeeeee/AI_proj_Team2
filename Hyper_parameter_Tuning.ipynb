{
  "cells": [
    {
      "cell_type": "markdown",
      "metadata": {
        "id": "view-in-github",
        "colab_type": "text"
      },
      "source": [
        "<a href=\"https://colab.research.google.com/github/HKLeeeee/AI_proj_Team2/blob/main/Hyper_parameter_Tuning.ipynb\" target=\"_parent\"><img src=\"https://colab.research.google.com/assets/colab-badge.svg\" alt=\"Open In Colab\"/></a>"
      ]
    },
    {
      "cell_type": "markdown",
      "source": [
        "# Prepare"
      ],
      "metadata": {
        "id": "ZA-UMjE3ZQat"
      }
    },
    {
      "cell_type": "code",
      "source": [
        "!pip install -U keras-tuner\n",
        "import kerastuner as kt"
      ],
      "metadata": {
        "id": "HROqx_qrZaA0"
      },
      "execution_count": null,
      "outputs": []
    },
    {
      "cell_type": "code",
      "execution_count": 34,
      "metadata": {
        "id": "ywgPoXqez8kf"
      },
      "outputs": [],
      "source": [
        "import os \n",
        "import numpy as np\n",
        "import pandas as pd\n",
        "import matplotlib.pyplot as plt\n",
        "from glob import glob\n",
        "from tqdm.auto import tqdm\n",
        "import cv2\n",
        "\n",
        "# from tensorflow.keras.applications import Densnet\n",
        "import tensorflow as tf\n",
        "from tensorflow.keras.models import Sequential, Model\n",
        "from tensorflow.keras.layers import Flatten, Dense, Dropout, GlobalAveragePooling2D, Input\n",
        "import tensorflow.keras as keras\n",
        "from tensorflow.data import Dataset\n",
        "\n",
        "from tensorflow.keras.optimizers import Adam, RMSprop, Nadam, SGD\n",
        "from tensorflow.keras.callbacks import ModelCheckpoint, EarlyStopping\n",
        "\n",
        "from itertools import product"
      ]
    },
    {
      "cell_type": "code",
      "source": [
        "from tensorflow.keras.applications import *"
      ],
      "metadata": {
        "id": "S2BK-0SKoPE-"
      },
      "execution_count": 3,
      "outputs": []
    },
    {
      "cell_type": "code",
      "execution_count": null,
      "metadata": {
        "id": "D0VkwNeM1dMn"
      },
      "outputs": [],
      "source": [
        "from google.colab import drive\n",
        "drive.mount('/content/drive')"
      ]
    },
    {
      "cell_type": "markdown",
      "source": [
        "# Functions"
      ],
      "metadata": {
        "id": "RUyYPWZgZMWc"
      }
    },
    {
      "cell_type": "code",
      "execution_count": 9,
      "metadata": {
        "id": "_riHunWZx35Y"
      },
      "outputs": [],
      "source": [
        "def get_train_data(data_dir):\n",
        "    img_path_list = []\n",
        "    label_list = []\n",
        "    for case_name in os.listdir(data_dir):\n",
        "        current_path = os.path.join(data_dir, case_name)\n",
        "        if os.path.isdir(current_path):\n",
        "            # get image path\n",
        "            img_path_list.extend(glob(os.path.join(current_path, 'image', '*.jpg')))\n",
        "            img_path_list.extend(glob(os.path.join(current_path, 'image', '*.png')))\n",
        "            \n",
        "            # get label\n",
        "            label_df = pd.read_csv(current_path+'/label-{}.csv'.format(int(case_name[-2:])))\n",
        "            label_list.extend(label_df['leaf_weight'])\n",
        "                \n",
        "    return img_path_list, label_list\n",
        "\n",
        "def get_test_data(data_dir):\n",
        "    # get image path\n",
        "    img_path_list = glob(os.path.join(data_dir, 'image', '*.jpg'))\n",
        "    img_path_list.extend(glob(os.path.join(data_dir, 'image', '*.png')))\n",
        "    img_path_list.sort(key=lambda x:int(x.split('/')[-1].split('.')[0]))\n",
        "    return img_path_list"
      ]
    },
    {
      "cell_type": "code",
      "execution_count": 5,
      "metadata": {
        "id": "YvVuBY6g0o6D"
      },
      "outputs": [],
      "source": [
        "def load_img_numpy(img_dir, target_size) :\n",
        "    img = cv2.imread(img_dir)\n",
        "    img = cv2.resize(img, dsize=target_size)\n",
        "    img = img.astype(np.float32) / 255.0 # normalize \n",
        "    return img"
      ]
    },
    {
      "cell_type": "code",
      "execution_count": 6,
      "metadata": {
        "id": "J_IifmSiztPB"
      },
      "outputs": [],
      "source": [
        "def create_dataset(img_dir, label, target_size, batch_size=None) :    \n",
        "    img = [] # 원본이미지\n",
        "    \n",
        "    ## 최적화가 필요한 부분\n",
        "    for i in img_dir:\n",
        "        image = load_img_numpy(i, target_size)\n",
        "        img.append(image)\n",
        "        \n",
        "    x = Dataset.from_tensor_slices(img)\n",
        "    y = Dataset.from_tensor_slices(label)\n",
        "    dataset = Dataset.zip((x, y))\n",
        "    \n",
        "    if batch_size is not None:\n",
        "        dataset = dataset.batch(batch_size, drop_remainder=True).repeat()\n",
        "   \n",
        "    return dataset"
      ]
    },
    {
      "cell_type": "code",
      "source": [
        "def load_test_img_numpy(img_dir, target_size) :\n",
        "    img = cv2.imread(img_dir)\n",
        "    img = cv2.resize(img, dsize=target_size)\n",
        "    img = img.astype(np.float32) / 255.0\n",
        "    return img\n",
        "\n",
        "def create_test_dataset(img_dir, target_size, batch_size=None) :\n",
        "    file_name = [x.split('/')[-1][:-4] for x in img_dir]\n",
        "    x_img = []\n",
        "\n",
        "    for i in tqdm(img_dir,\n",
        "                total=len(img_dir),\n",
        "                position=0,\n",
        "                leave=True):\n",
        "        img = load_test_img_numpy(i, target_size)\n",
        "        x_img.append(img)\n",
        "\n",
        "    dataset = Dataset.from_tensor_slices(x_img)\n",
        "    \n",
        "    if batch_size is not None :\n",
        "        dataset = dataset.batch(batch_size, drop_remainder=True).repeat()\n",
        "       \n",
        "    return dataset, file_name"
      ],
      "metadata": {
        "id": "TxVyfiCqjwEW"
      },
      "execution_count": 7,
      "outputs": []
    },
    {
      "cell_type": "markdown",
      "source": [
        "# Load Data Set"
      ],
      "metadata": {
        "id": "-dppQBFMwvQj"
      }
    },
    {
      "cell_type": "code",
      "execution_count": 10,
      "metadata": {
        "id": "cO1ZpGUGyJ3R"
      },
      "outputs": [],
      "source": [
        "IMAGE_SIZE = 480\n",
        "BATCH_SIZE = 8\n",
        "\n",
        "all_img_path, all_label = get_train_data('/content/drive/MyDrive/AI_proj/data/train')\n",
        "test_img_path = get_test_data('/content/drive/MyDrive/AI_proj/data/test')"
      ]
    },
    {
      "cell_type": "code",
      "execution_count": 11,
      "metadata": {
        "id": "3jnHF8H2zMlf"
      },
      "outputs": [],
      "source": [
        "# Train : Validation = 0.8 : 0.2 Split\n",
        "train_len = int(len(all_img_path)*0.8)\n",
        "\n",
        "train_img_path = all_img_path[:train_len]\n",
        "train_label = all_label[:train_len]\n",
        "\n",
        "vali_img_path = all_img_path[train_len:]\n",
        "vali_label = all_label[train_len:]"
      ]
    },
    {
      "cell_type": "code",
      "execution_count": 12,
      "metadata": {
        "id": "ht9QqLsJ0bG2"
      },
      "outputs": [],
      "source": [
        "train_dataset = create_dataset(train_img_path, train_label, (IMAGE_SIZE, IMAGE_SIZE), BATCH_SIZE)\n",
        "valid_dataset = create_dataset(vali_img_path, vali_label, (IMAGE_SIZE, IMAGE_SIZE), BATCH_SIZE )"
      ]
    },
    {
      "cell_type": "code",
      "execution_count": 13,
      "metadata": {
        "colab": {
          "base_uri": "https://localhost:8080/"
        },
        "id": "n-og-9kx11Bh",
        "outputId": "7a98b782-d6ef-4769-958d-0cfc59c35c82"
      },
      "outputs": [
        {
          "output_type": "execute_result",
          "data": {
            "text/plain": [
              "<RepeatDataset element_spec=(TensorSpec(shape=(8, 480, 480, 3), dtype=tf.float32, name=None), TensorSpec(shape=(8,), dtype=tf.float32, name=None))>"
            ]
          },
          "metadata": {},
          "execution_count": 13
        }
      ],
      "source": [
        "train_dataset"
      ]
    },
    {
      "cell_type": "code",
      "execution_count": 14,
      "metadata": {
        "colab": {
          "base_uri": "https://localhost:8080/"
        },
        "id": "Grm_U7z312tE",
        "outputId": "7e7de593-f90a-43ea-fe14-eb42a98cc8af"
      },
      "outputs": [
        {
          "output_type": "execute_result",
          "data": {
            "text/plain": [
              "<RepeatDataset element_spec=(TensorSpec(shape=(8, 480, 480, 3), dtype=tf.float32, name=None), TensorSpec(shape=(8,), dtype=tf.float32, name=None))>"
            ]
          },
          "metadata": {},
          "execution_count": 14
        }
      ],
      "source": [
        "valid_dataset"
      ]
    },
    {
      "cell_type": "markdown",
      "source": [
        "# Definitions"
      ],
      "metadata": {
        "id": "WmGyAjSUaw6o"
      }
    },
    {
      "cell_type": "code",
      "source": [
        "def bulid_model(hyper_params : tuple) :\n",
        "  pretrain_net, learning_rate, opti, loss, dropout = hyper_params\n",
        "\n",
        "  base_model = None\n",
        "  if pretrain_net == 'resnet50' :\n",
        "    MODEL_IMAGE_SIZE = 224\n",
        "    base_model = resnet50.ResNet50(\n",
        "    weights='imagenet',\n",
        "    include_top = False,\n",
        "    input_shape = (MODEL_IMAGE_SIZE, MODEL_IMAGE_SIZE,3)\n",
        "    )\n",
        "  elif pretrain_net == 'inception_v2_resnet':\n",
        "    MODEL_IMAGE_SIZE = 299\n",
        "    base_model = inception_resnet_v2.InceptionResNetV2(\n",
        "        weights='imagenet',\n",
        "        include_top = False,\n",
        "        input_shape = (MODEL_IMAGE_SIZE, MODEL_IMAGE_SIZE,3)\n",
        "    )\n",
        "  elif pretrain_net == 'efficientnet_b4' :\n",
        "    MODEL_IMAGE_SIZE = 380\n",
        "    base_model = inception_resnet_v2.InceptionResNetV2(\n",
        "    weights='imagenet',\n",
        "    include_top = False,\n",
        "    input_shape = (MODEL_IMAGE_SIZE, MODEL_IMAGE_SIZE,3)\n",
        "    )\n",
        "  base_model.trainable=False\n",
        "\n",
        "  input_data = Input((IMAGE_SIZE, IMAGE_SIZE, 3))\n",
        "  x = tf.keras.layers.experimental.preprocessing.Resizing(MODEL_IMAGE_SIZE, MODEL_IMAGE_SIZE)(input_data)\n",
        "  resizing = Model(inputs=input_data, outputs=x, name='resize')\n",
        "\n",
        "  inputs = Input((IMAGE_SIZE, IMAGE_SIZE, 3))\n",
        "  x = resizing(inputs)\n",
        "  x = base_model(x, training=False)\n",
        "  x = GlobalAveragePooling2D()(x)\n",
        "  x = Dropout(dropout)(x)\n",
        "  x = Dense(1024, activation='relu')(x)\n",
        "  outputs = Dense(1, activation='linear')(x)\n",
        "  model = Model(inputs, outputs)\n",
        "\n",
        "  optimizer = None \n",
        "  if opti == 'adam' :\n",
        "    optimizer = Adam(learning_rate)\n",
        "  elif opti == 'rmsprop' :\n",
        "    optimizer = RMSprop(learning_rate)\n",
        "  elif opti == 'nadam' :\n",
        "    optimizer = Nadam(learning_rate)\n",
        "  elif opti == 'sgd' :\n",
        "    optimizer = SGD(learning_rate)\n",
        "\n",
        "  model.compile(optimizer=optimizer,\n",
        "                loss=loss,\n",
        "                metrics=['mae'])\n",
        "  \n",
        "  return model"
      ],
      "metadata": {
        "id": "18pffrs8awgz"
      },
      "execution_count": 21,
      "outputs": []
    },
    {
      "cell_type": "code",
      "source": [
        "def fit_model(model=None, early_stop = True, epoch=100, ckpt_path=None, save_best_only=True, \n",
        "              save_weights_only=True) :\n",
        "  es = EarlyStopping(monitor='loss',\n",
        "                    mode='auto',\n",
        "                    patience=5,\n",
        "                    verbose=1)\n",
        "  \n",
        "  checkpointer = ModelCheckpoint(filepath=ckpt_path,\n",
        "                                  monitor='val_mae',\n",
        "                                  save_weights_only = save_weights_only,\n",
        "                                  save_best_only= save_best_only,\n",
        "                                  verbose=1)\n",
        "  \n",
        "  call_backs = [checkpointer]\n",
        "  if early_stop :\n",
        "    call_backs.append(es)\n",
        "\n",
        "  STEPS_PER_EPOCH = len(train_img_path) // BATCH_SIZE\n",
        "  VAL_STEPS = len(vali_img_path) // BATCH_SIZE\n",
        "  history = model.fit(train_dataset, epochs=epoch,\n",
        "                      steps_per_epoch=STEPS_PER_EPOCH,\n",
        "                      validation_data=valid_dataset,\n",
        "                      validation_steps = VAL_STEPS,\n",
        "                      callbacks=call_backs,\n",
        "                      verbose=1)\n",
        "  return history"
      ],
      "metadata": {
        "id": "LMg30h6TirZs"
      },
      "execution_count": 53,
      "outputs": []
    },
    {
      "cell_type": "code",
      "source": [
        "def draw_graph(title) :\n",
        "  plt.plot(history.history['mae'], label='Training MAE')\n",
        "  plt.plot(history.history['val_mae'], label='Validation MAE')\n",
        "  plt.legend(loc='lower right')\n",
        "  plt.title(title)\n",
        "  plt.savefig('/content/drive/MyDrive/AI_proj/'+title+'.png')  ## 그래프 이미지 저장 경로\n",
        "  plt.show()"
      ],
      "metadata": {
        "id": "g_MniTXFt1ex"
      },
      "execution_count": 57,
      "outputs": []
    },
    {
      "cell_type": "markdown",
      "source": [
        "# Parameters"
      ],
      "metadata": {
        "id": "SX-BBUEMlHJ9"
      }
    },
    {
      "cell_type": "code",
      "source": [
        "PARAMS = {\n",
        "    'pretrain_net' : ['resnet50', 'inception_v2_resnet', 'efficientnet_b4'], \n",
        "    'learning rate' : [0.1, 1e-2, 1e-3, 1e-4, 1e-5],\n",
        "    'optimizer' : ['adam', 'rmsprop', 'nadam', 'sgd'],\n",
        "    'loss' : ['mae', 'mse'],\n",
        "    'dropout' : [0.2, 0.3, 0.5]\n",
        "}"
      ],
      "metadata": {
        "id": "VpMhZ6TKUuth"
      },
      "execution_count": 49,
      "outputs": []
    },
    {
      "cell_type": "code",
      "source": [
        "hyper_params=list(product(PARAMS['pretrain_net'], PARAMS['learning rate'],PARAMS['optimizer'],PARAMS['loss'],PARAMS['dropout']))"
      ],
      "metadata": {
        "id": "Ki47iHC3lQn9"
      },
      "execution_count": 50,
      "outputs": []
    },
    {
      "cell_type": "markdown",
      "source": [
        "# Train"
      ],
      "metadata": {
        "id": "CHeZkXe0lEuA"
      }
    },
    {
      "cell_type": "code",
      "source": [
        "history_dict = {'min_mae' : 9999,\n",
        "                'min_mae_param' : '',\n",
        "                'min_val_mae' : 9999,\n",
        "                'min_val_mae_param' : ''}"
      ],
      "metadata": {
        "id": "JLFNnhiPqoDu"
      },
      "execution_count": 62,
      "outputs": []
    },
    {
      "cell_type": "code",
      "source": [
        "for params in hyper_params :\n",
        "  key = ' '.join(map(str, params))\n",
        "  model = bulid_model(params)\n",
        "  history = fit_model(model=model,\n",
        "                      epoch=3,\n",
        "                      ckpt_path='./{}-best_weights_test.ckpt'.format(key))  #### 체크포인트 저장 경로\n",
        "  if min(history.history['mae']) < history_dict['min_mae'] :\n",
        "    history_dict['min_mae'] = min(history.history['mae'])\n",
        "    history_dict['min_mae_param'] = key\n",
        "  \n",
        "  if min(history.history['val_mae']) < history_dict['min_val_mae'] :\n",
        "    history_dict['min_val_mae'] = min(history.history['val_mae'])\n",
        "    history_dict['min_val_mae_param'] = key\n",
        "\n",
        "  draw_graph(key)"
      ],
      "metadata": {
        "colab": {
          "base_uri": "https://localhost:8080/",
          "height": 986
        },
        "id": "CU32faedpvyP",
        "outputId": "c1ba8842-0aeb-45e9-9c78-bfc30a6dfe00"
      },
      "execution_count": 63,
      "outputs": [
        {
          "output_type": "stream",
          "name": "stdout",
          "text": [
            "Epoch 1/3\n",
            "87/87 [==============================] - ETA: 0s - loss: 96.6843 - mae: 96.6843\n",
            "Epoch 1: val_mae improved from inf to 81.24557, saving model to ./resnet50 0.1 adam mae 0.2-best_weights_test.ckpt\n",
            "87/87 [==============================] - 16s 136ms/step - loss: 96.6843 - mae: 96.6843 - val_loss: 81.2456 - val_mae: 81.2456\n",
            "Epoch 2/3\n",
            "87/87 [==============================] - ETA: 0s - loss: 78.3279 - mae: 78.3279\n",
            "Epoch 2: val_mae improved from 81.24557 to 80.38420, saving model to ./resnet50 0.1 adam mae 0.2-best_weights_test.ckpt\n",
            "87/87 [==============================] - 10s 114ms/step - loss: 78.3279 - mae: 78.3279 - val_loss: 80.3842 - val_mae: 80.3842\n",
            "Epoch 3/3\n",
            "87/87 [==============================] - ETA: 0s - loss: 72.1671 - mae: 72.1671\n",
            "Epoch 3: val_mae did not improve from 80.38420\n",
            "87/87 [==============================] - 9s 107ms/step - loss: 72.1671 - mae: 72.1671 - val_loss: 83.9112 - val_mae: 83.9112\n"
          ]
        },
        {
          "output_type": "display_data",
          "data": {
            "text/plain": [
              "<Figure size 432x288 with 1 Axes>"
            ],
            "image/png": "[encoded data removed]"
          },
          "metadata": {
            "needs_background": "light"
          }
        },
        {
          "output_type": "stream",
          "name": "stdout",
          "text": [
            "Epoch 1/3\n",
            "87/87 [==============================] - ETA: 0s - loss: 104.4334 - mae: 104.4334\n",
            "Epoch 1: val_mae improved from inf to 82.09678, saving model to ./resnet50 0.1 adam mae 0.3-best_weights_test.ckpt\n",
            "87/87 [==============================] - 15s 129ms/step - loss: 104.4334 - mae: 104.4334 - val_loss: 82.0968 - val_mae: 82.0968\n",
            "Epoch 2/3\n",
            "87/87 [==============================] - ETA: 0s - loss: 77.6571 - mae: 77.6571\n",
            "Epoch 2: val_mae improved from 82.09678 to 81.33434, saving model to ./resnet50 0.1 adam mae 0.3-best_weights_test.ckpt\n",
            "87/87 [==============================] - 10s 114ms/step - loss: 77.6571 - mae: 77.6571 - val_loss: 81.3343 - val_mae: 81.3343\n",
            "Epoch 3/3\n",
            "87/87 [==============================] - ETA: 0s - loss: 73.1078 - mae: 73.1078\n",
            "Epoch 3: val_mae improved from 81.33434 to 80.63924, saving model to ./resnet50 0.1 adam mae 0.3-best_weights_test.ckpt\n",
            "87/87 [==============================] - 10s 113ms/step - loss: 73.1078 - mae: 73.1078 - val_loss: 80.6392 - val_mae: 80.6392\n"
          ]
        },
        {
          "output_type": "display_data",
          "data": {
            "text/plain": [
              "<Figure size 432x288 with 1 Axes>"
            ],
            "image/png": "[encoded data removed]"
          },
          "metadata": {
            "needs_background": "light"
          }
        }
      ]
    },
    {
      "cell_type": "code",
      "source": [
        "history_dict"
      ],
      "metadata": {
        "colab": {
          "base_uri": "https://localhost:8080/"
        },
        "id": "vjGlKhzrtf8b",
        "outputId": "f1c8898c-67d3-49a4-bd3a-cf6808a51339"
      },
      "execution_count": 64,
      "outputs": [
        {
          "output_type": "execute_result",
          "data": {
            "text/plain": [
              "{'min_mae': 72.16708374023438,\n",
              " 'min_mae_param': 'resnet50 0.1 adam mae 0.2',\n",
              " 'min_val_mae': 80.38420104980469,\n",
              " 'min_val_mae_param': 'resnet50 0.1 adam mae 0.2'}"
            ]
          },
          "metadata": {},
          "execution_count": 64
        }
      ]
    },
    {
      "cell_type": "code",
      "source": [
        ""
      ],
      "metadata": {
        "id": "8eFcj3RMpZvF"
      },
      "execution_count": null,
      "outputs": []
    }
  ],
  "metadata": {
    "colab": {
      "collapsed_sections": [
        "RUyYPWZgZMWc"
      ],
      "name": "Hyper parameter Tuning",
      "provenance": [],
      "mount_file_id": "1_LuDYfPTzKgGHaLljnri4750Chpscf0m",
      "authorship_tag": "ABX9TyMiRsk3KVzx3W3uqGvRiPnN",
      "include_colab_link": true
    },
    "kernelspec": {
      "display_name": "Python 3",
      "name": "python3"
    },
    "language_info": {
      "name": "python"
    },
    "accelerator": "GPU"
  },
  "nbformat": 4,
  "nbformat_minor": 0
}
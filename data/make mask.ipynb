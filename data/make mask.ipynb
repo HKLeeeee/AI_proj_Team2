{
 "cells": [
  {
   "cell_type": "markdown",
   "metadata": {},
   "source": [
    "### before\n",
    "├── images\n",
    "│   └── test_image.png\n",
    "│   └── test_image2.png\n",
    "├── maskGen_json.json\n",
    "└── maskGen.py\n",
    "\n",
    "### after\n",
    "├── images\n",
    "│   └── test_image.png\n",
    "│   └── test_image2.png\n",
    "├── masks\n",
    "│   └── test_image\n",
    "│         └── test_image-1.png\n",
    "│         └── test_image-2.png\n",
    "│   └── test_image2\n",
    "│         └── test_image2-1.png\n",
    "│         └── test_image2-2.png\n",
    "├── maskGen_json.json\n",
    "└── maskGen.py"
   ]
  },
  {
   "cell_type": "code",
   "execution_count": 2,
   "metadata": {},
   "outputs": [],
   "source": [
    "import os\n",
    "import cv2\n",
    "import json\n",
    "import matplotlib.pyplot as plt\n",
    "import numpy as np\n",
    "\n",
    "def create_seperate_mask_img(json_file_name) :\n",
    "    # 현재 디렉토리에서 가능!\n",
    "    # 위의 before 구조에 맞게 저장되어있어야함.\n",
    "    ## 구조는 마크다운 셀 더블클릭해야 제대로 보임\n",
    "    source_folder = os.path.join(os.getcwd(), \"train_images\")\n",
    "    json_path = json_file_name                     # Relative to root directory\n",
    "    count = 0                                           # Count of total images saved\n",
    "    file_bbs = {}                                       # Dictionary containing polygon coordinates for mask\n",
    "    file_names_dict = {}\n",
    "    file_names = []\n",
    "    # Read JSON file\n",
    "    with open(json_path) as f:\n",
    "      data = json.load(f)\n",
    "\n",
    "    # Extract X and Y coordinates if available and update dictionary\n",
    "    # json 딕셔너리에서 x, y 좌표 추출\n",
    "    def add_to_dict(data, itr, key, count, file_name):\n",
    "        # data : json, itr : 이미지 이름, key : mask 이름, count : mask index\n",
    "        try:\n",
    "            x_points = data[itr][\"regions\"][str(count)][\"shape_attributes\"][\"all_points_x\"]\n",
    "            y_points = data[itr][\"regions\"][str(count)][\"shape_attributes\"][\"all_points_y\"]\n",
    "        except:\n",
    "            print(\"No BB. Skipping\", key)\n",
    "            return\n",
    "\n",
    "        all_points = []\n",
    "        for i, x in enumerate(x_points):\n",
    "            all_points.append([x, y_points[i]])\n",
    "\n",
    "        file_bbs[key] = all_points\n",
    "        file_names_dict[key] = file_name\n",
    "        # file_bbs = {image이름-mask이름 : [x points, y points]}\n",
    "\n",
    "    ## Json 파일에서 x,y points를 뽑아 file_bbs 에 저장.\n",
    "    for itr in data:\n",
    "        file_name_json = data[itr][\"filename\"]\n",
    "        file_names.append(file_name_json)\n",
    "        sub_count = 0\n",
    "        # Contains count of masks for a single ground truth image\n",
    "\n",
    "        if len(data[itr][\"regions\"]) > 1: # 마스크의 개수가 여러개\n",
    "            for _ in range(len(data[itr][\"regions\"])):\n",
    "                key = file_name_json[:-4] + \"-\" + str(sub_count+1)\n",
    "                add_to_dict(data, itr, key, sub_count, file_name_json)\n",
    "                sub_count += 1\n",
    "        else: # 마스크 개수가 1개\n",
    "            add_to_dict(data, itr, file_name_json[:-4], 0, file_name_json)\n",
    "\n",
    "    print(\"\\nDict size: \", len(file_bbs))\n",
    "\n",
    "    ########## 경로 생성\n",
    "    mask_folder = os.path.join(os.getcwd(), \"masks\")\n",
    "    try :\n",
    "        os.mkdir(mask_folder)\n",
    "    except :\n",
    "        print('mask folder already exist')\n",
    "    for f in file_names :\n",
    "        try :\n",
    "            os.mkdir(os.path.join(mask_folder, f[:-4]))\n",
    "        except :\n",
    "            print('folder already exist')\n",
    "\n",
    "    ######### 마스크 저장\n",
    "    for itr in file_bbs:\n",
    "        num_masks = itr.split(\"-\")\n",
    "        save_directory = os.path.join(mask_folder, file_names_dict[itr][:-4])\n",
    "         # Dimensions should match those of ground truth image\n",
    "        img = cv2.imread(source_folder+'/'+file_names_dict[itr])\n",
    "        MASK_WIDTH = img.shape[0]\n",
    "        MASK_HEIGHT =  img.shape[1]\n",
    "        mask = np.zeros((MASK_WIDTH, MASK_HEIGHT))\n",
    "        try:\n",
    "            arr = np.array(file_bbs[itr])\n",
    "        except:\n",
    "            print(\"Not found:\", itr)\n",
    "            continue\n",
    "        count += 1\n",
    "\n",
    "        cv2.fillPoly(mask, [arr], color=(255))\n",
    "\n",
    "        if len(num_masks) > 1:\n",
    "            cv2.imwrite(os.path.join(save_directory, itr + \".png\") , mask)\n",
    "        else:\n",
    "            cv2.imwrite(os.path.join(save_directory, itr + \".png\") , mask)\n",
    "\n",
    "    print(\"Images saved:\", count)"
   ]
  },
  {
   "cell_type": "code",
   "execution_count": 3,
   "metadata": {
    "pycharm": {
     "name": "#%%\n"
    }
   },
   "outputs": [],
   "source": [
    "# 마스크들 하나로 합치기\n",
    "import os\n",
    "import cv2\n",
    "import json\n",
    "import matplotlib.pyplot as plt\n",
    "import numpy as np\n",
    "import shutil\n",
    "import glob\n",
    "\n",
    "def merge_masks() :\n",
    "    # 현재 경로에서 실행\n",
    "    source_folder = os.path.join(os.getcwd(), \"masks\")\n",
    "    mask_folder_list = list(filter(os.path.isdir, glob.glob(source_folder+'/*')))\n",
    "\n",
    "    for case in mask_folder_list :\n",
    "        curr_directory = os.path.join(source_folder, case)\n",
    "        mask = None\n",
    "        try :\n",
    "            for i, img in enumerate(os.listdir(curr_directory)) :\n",
    "                img_directory = os.path.join(curr_directory, img)\n",
    "                if i == 0 :\n",
    "                    mask = plt.imread(img_directory)\n",
    "                else :\n",
    "                    other_mask = plt.imread(img_directory)\n",
    "                    mask = np.logical_or(mask, other_mask)\n",
    "            mask = mask.astype(np.float32)\n",
    "            cv2.imwrite(os.path.join(source_folder, case+'.png'), mask)\n",
    "            print('Image Saved')\n",
    "            if os.path.exists(curr_directory):\n",
    "                shutil.rmtree(curr_directory)\n",
    "        except :\n",
    "            print('Mask Image Not Found')"
   ]
  },
  {
   "cell_type": "code",
   "execution_count": 8,
   "metadata": {
    "pycharm": {
     "name": "#%%\n"
    },
    "scrolled": true
   },
   "outputs": [
    {
     "name": "stdout",
     "output_type": "stream",
     "text": [
      "\n",
      "Dict size:  145\n",
      "mask folder already exist\n",
      "Images saved: 145\n",
      "\n",
      "Dict size:  108\n",
      "mask folder already exist\n",
      "Images saved: 108\n",
      "No BB. Skipping CASE71_05\n",
      "\n",
      "Dict size:  123\n",
      "mask folder already exist\n",
      "Images saved: 123\n",
      "\n",
      "Dict size:  49\n",
      "mask folder already exist\n",
      "Images saved: 49\n",
      "\n",
      "Dict size:  162\n",
      "mask folder already exist\n",
      "Images saved: 162\n",
      "\n",
      "Dict size:  55\n",
      "mask folder already exist\n",
      "Images saved: 55\n",
      "\n",
      "Dict size:  9\n",
      "mask folder already exist\n",
      "Images saved: 9\n",
      "\n",
      "Dict size:  69\n",
      "mask folder already exist\n",
      "Images saved: 69\n",
      "\n",
      "Dict size:  110\n",
      "mask folder already exist\n",
      "Images saved: 110\n",
      "\n",
      "Dict size:  66\n",
      "mask folder already exist\n",
      "Images saved: 66\n"
     ]
    }
   ],
   "source": [
    "create_seperate_mask_img('case74-75.json')\n",
    "create_seperate_mask_img('CASE1-3.json')\n",
    "create_seperate_mask_img('CASE71.json')\n",
    "create_seperate_mask_img('CASE72.json')\n",
    "create_seperate_mask_img('CASE73.json')\n",
    "create_seperate_mask_img('CASE30.json')\n",
    "create_seperate_mask_img('CASE31.json')\n",
    "create_seperate_mask_img('CASE04.json')\n",
    "create_seperate_mask_img('CASE69.json')\n",
    "create_seperate_mask_img('CASE70.json')\n",
    "\n"
   ]
  },
  {
   "cell_type": "markdown",
   "metadata": {
    "pycharm": {
     "name": "#%%\n"
    },
    "scrolled": true
   },
   "source": [
    "create_seperate_mask_img('CASE32_01~11.json')"
   ]
  },
  {
   "cell_type": "code",
   "execution_count": 5,
   "metadata": {},
   "outputs": [
    {
     "name": "stdout",
     "output_type": "stream",
     "text": [
      "Image Saved\n",
      "Image Saved\n",
      "Image Saved\n",
      "Image Saved\n",
      "Image Saved\n",
      "Image Saved\n",
      "Image Saved\n",
      "Image Saved\n",
      "Image Saved\n",
      "Image Saved\n",
      "Image Saved\n"
     ]
    }
   ],
   "source": [
    "merge_masks()"
   ]
  },
  {
   "cell_type": "markdown",
   "metadata": {},
   "source": [
    "## CASE 71-05 mask 만들기.."
   ]
  },
  {
   "cell_type": "code",
   "execution_count": 6,
   "metadata": {
    "collapsed": true,
    "pycharm": {
     "name": "#%%\n"
    }
   },
   "outputs": [
    {
     "ename": "SyntaxError",
     "evalue": "not a PNG file (<string>)",
     "output_type": "error",
     "traceback": [
      "Traceback \u001b[1;36m(most recent call last)\u001b[0m:\n",
      "  File \u001b[0;32mC:\\ProgramData\\Anaconda3\\envs\\machine\\lib\\site-packages\\IPython\\core\\interactiveshell.py:3361\u001b[0m in \u001b[0;35mrun_code\u001b[0m\n    exec(code_obj, self.user_global_ns, self.user_ns)\n",
      "  Input \u001b[0;32mIn [6]\u001b[0m in \u001b[0;35m<cell line: 2>\u001b[0m\n    img = plt.imread('D:/AI_team2/AI_proj_Team2/data/train_images/CASE71_05.png')\n",
      "  File \u001b[0;32mC:\\ProgramData\\Anaconda3\\envs\\machine\\lib\\site-packages\\matplotlib\\pyplot.py:2139\u001b[0m in \u001b[0;35mimread\u001b[0m\n    return matplotlib.image.imread(fname, format)\n",
      "  File \u001b[0;32mC:\\ProgramData\\Anaconda3\\envs\\machine\\lib\\site-packages\\matplotlib\\image.py:1560\u001b[0m in \u001b[0;35mimread\u001b[0m\n    with img_open(fname) as image:\n",
      "  File \u001b[0;32mC:\\ProgramData\\Anaconda3\\envs\\machine\\lib\\site-packages\\PIL\\ImageFile.py:112\u001b[0m in \u001b[0;35m__init__\u001b[0m\n    self._open()\n",
      "\u001b[1;36m  File \u001b[1;32mC:\\ProgramData\\Anaconda3\\envs\\machine\\lib\\site-packages\\PIL\\PngImagePlugin.py:676\u001b[1;36m in \u001b[1;35m_open\u001b[1;36m\u001b[0m\n\u001b[1;33m    raise SyntaxError(\"not a PNG file\")\u001b[0m\n",
      "\u001b[1;36m  File \u001b[1;32m<string>\u001b[1;36m\u001b[0m\n\u001b[1;31mSyntaxError\u001b[0m\u001b[1;31m:\u001b[0m not a PNG file\n"
     ]
    }
   ],
   "source": [
    "#case71_5 = './train_images/CASE71_05.png'\n",
    "img = plt.imread('D:/AI_team2/AI_proj_Team2/data/train_images/CASE71_05.png')\n"
   ]
  },
  {
   "cell_type": "code",
   "execution_count": null,
   "metadata": {
    "pycharm": {
     "name": "#%%\n"
    }
   },
   "outputs": [],
   "source": [
    "W = img.shape[0]\n",
    "H = img.shape[1]\n",
    "mask = np.zeros((W, H))\n",
    "cv2.imwrite(\"./masks/CASE71_05-mask.png\", mask)"
   ]
  },
  {
   "cell_type": "code",
   "execution_count": 9,
   "metadata": {
    "pycharm": {
     "name": "#%%\n"
    }
   },
   "outputs": [],
   "source": [
    "img = cv2.imread('D:/AI_team2/AI_proj_Team2/data/train_images/CASE71_05.png')"
   ]
  },
  {
   "cell_type": "code",
   "execution_count": 10,
   "metadata": {
    "pycharm": {
     "name": "#%%\n"
    }
   },
   "outputs": [
    {
     "data": {
      "text/plain": [
       "(2464, 3280, 3)"
      ]
     },
     "execution_count": 10,
     "metadata": {},
     "output_type": "execute_result"
    }
   ],
   "source": [
    "img.shape"
   ]
  },
  {
   "cell_type": "code",
   "execution_count": 11,
   "metadata": {
    "pycharm": {
     "name": "#%%\n"
    }
   },
   "outputs": [
    {
     "data": {
      "text/plain": [
       "True"
      ]
     },
     "execution_count": 11,
     "metadata": {},
     "output_type": "execute_result"
    }
   ],
   "source": [
    "W = img.shape[0]\n",
    "H = img.shape[1]\n",
    "mask = np.zeros((W, H))\n",
    "cv2.imwrite(\"./masks/CASE71_05-mask.png\", mask)"
   ]
  },
  {
   "cell_type": "code",
   "execution_count": 12,
   "metadata": {
    "pycharm": {
     "name": "#%%\n"
    },
    "scrolled": true
   },
   "outputs": [
    {
     "data": {
      "text/plain": [
       "array([[0., 0., 0., ..., 0., 0., 0.],\n",
       "       [0., 0., 0., ..., 0., 0., 0.],\n",
       "       [0., 0., 0., ..., 0., 0., 0.],\n",
       "       ...,\n",
       "       [0., 0., 0., ..., 0., 0., 0.],\n",
       "       [0., 0., 0., ..., 0., 0., 0.],\n",
       "       [0., 0., 0., ..., 0., 0., 0.]])"
      ]
     },
     "execution_count": 12,
     "metadata": {},
     "output_type": "execute_result"
    }
   ],
   "source": [
    "mask"
   ]
  },
  {
   "cell_type": "markdown",
   "metadata": {},
   "source": [
    "# 왜 마스크가 4차원으로 저장될까..?"
   ]
  },
  {
   "cell_type": "code",
   "execution_count": 15,
   "metadata": {},
   "outputs": [
    {
     "name": "stdout",
     "output_type": "stream",
     "text": [
      "\n",
      "Dict size:  9\n",
      "mask folder already exist\n",
      "Images saved: 9\n"
     ]
    }
   ],
   "source": [
    "create_seperate_mask_img('CASE31.json')"
   ]
  },
  {
   "cell_type": "code",
   "execution_count": 16,
   "metadata": {},
   "outputs": [
    {
     "name": "stdout",
     "output_type": "stream",
     "text": [
      "/home/lab04/jupyter_home/AI_proj_Team2/data/masks\n",
      "['CASE71_03.png', 'CASE01_07.png', 'CASE74_15.png', 'CASE31_04', 'CASE71_30.png', 'CASE73_18.png', 'CASE02_04.png', 'CASE71_22.png', 'CASE73_02.png', 'CASE71_32.png', 'CASE74_13.png', 'CASE71_19.png', 'CASE74_11.png', 'CASE71_07.png', '.ipynb_checkpoints', 'CASE31_08', 'CASE02_01.png', 'CASE73_11.png', 'CASE71_14.png', 'CASE74_04.png', 'CASE73_26.png', 'CASE72_10.png', 'CASE73_05.png', 'CASE30_07.png', 'CASE72_02.png', 'CASE30_09.png', 'CASE71_13.png', 'CASE31_07', 'CASE73_25.png', 'CASE30_05.png', 'CASE74_05.png', 'CASE74_02.png', 'CASE01_09.png', 'CASE72_01.png', 'CASE71_24.png', 'CASE73_27.png', 'CASE30_01.png', 'CASE01_03.png', 'CASE71_10.png', 'CASE74_10.png', 'CASE01_08.png', 'CASE74_27.png', 'CASE73_09.png', 'CASE73_17.png', 'CASE74_24.png', 'CASE71_27.png', 'CASE71_26.png', 'CASE74_03.png', 'CASE31_06', 'CASE03_05.png', 'CASE01_02.png', 'CASE73_30.png', 'CASE74_19.png', 'CASE74_06.png', 'CASE73_21.png', 'CASE74_25.png', 'CASE71_04.png', 'CASE31_01', 'CASE72_03.png', 'CASE74_21.png', 'CASE72_05.png', 'CASE02_09.png', 'CASE71_08.png', 'CASE01_01.png', 'CASE73_04.png', 'CASE30_08.png', 'CASE74_17.png', 'CASE71_16.png', 'CASE71_28.png', 'CASE71_29.png', 'CASE71_20.png', 'CASE75_02.png', 'CASE30_04.png', 'CASE73_03.png', 'CASE74_22.png', 'CASE74_14.png', 'CASE30_10.png', 'CASE02_06.png', 'CASE30_06.png', 'CASE73_01.png', 'CASE73_08.png', 'CASE73_32.png', 'CASE02_10.png', 'CASE02_03.png', 'CASE71_01.png', 'CASE30_02.png', 'CASE30_11.png', 'CASE73_23.png', 'CASE31_09', 'CASE71_11.png', 'CASE02_07.png', 'CASE74_20.png', 'CASE01_05.png', 'CASE72_08.png', 'CASE74_07.png', 'CASE72_04.png', 'CASE73_31.png', 'CASE03_04.png', 'CASE74_26.png', 'CASE74_08.png', 'CASE71_02.png', 'CASE02_11.png', 'CASE03_01.png', 'CASE02_05.png', 'CASE73_19.png', 'CASE71_21.png', 'CASE73_15.png', 'CASE73_16.png', 'CASE73_13.png', 'CASE73_24.png', 'CASE73_33.png', 'CASE73_10.png', 'CASE72_06.png', 'CASE71_25.png', 'CASE73_20.png', 'CASE31_05', 'CASE31_02', 'CASE73_14.png', 'CASE73_29.png', 'CASE02_08.png', 'CASE71_18.png', 'CASE74_23.png', 'CASE73_22.png', 'CASE73_07.png', 'CASE71_31.png', 'CASE01_04.png', 'CASE74_16.png', 'CASE01_06.png', 'CASE03_03.png', 'CASE73_06.png', 'CASE71_09.png', 'CASE73_34.png', 'CASE02_02.png', 'CASE74_01.png', 'CASE73_12.png', 'CASE73_28.png', 'CASE71_17.png', 'CASE75_01.png', 'CASE72_07.png', 'CASE74_18.png', 'CASE31_03', 'CASE72_09.png', 'CASE74_12.png', 'CASE71_15.png', 'CASE03_02.png', 'CASE71_12.png', 'CASE71_06.png', 'CASE30_03.png', 'CASE74_09.png', 'CASE71_23.png']\n"
     ]
    }
   ],
   "source": [
    "source_folder = os.path.join(os.getcwd(), \"masks\")\n",
    "mask_folder_list = os.listdir(source_folder)\n",
    "\n",
    "print(source_folder)\n",
    "print(mask_folder_list)"
   ]
  },
  {
   "cell_type": "code",
   "execution_count": 81,
   "metadata": {},
   "outputs": [],
   "source": [
    "source_folder = os.path.join(os.getcwd(), \"masks\")\n",
    "mask_folder_list = list(filter(os.path.isdir, glob.glob(source_folder+'/*')))\n",
    "for case in mask_folder_list :\n",
    "    curr_directory = os.path.join(source_folder, case)\n",
    "    mask = None\n",
    "    try :\n",
    "        for i, img in enumerate(os.listdir(curr_directory)) :\n",
    "            img_directory = os.path.join(curr_directory, img)\n",
    "            if i == 0 :\n",
    "                mask = plt.imread(img_directory)\n",
    "                print('first mask', mask.shape)\n",
    "            else :\n",
    "                other_mask = plt.imread(img_directory)\n",
    "                mask = np.logical_or(mask, other_mask)\n",
    "            print('end merging', mask.shape)\n",
    "            print(mask)\n",
    "            mask = mask.astype(np.float32)\n",
    "            cv2.imwrite(os.path.join(source_folder, case+'.png'), mask)\n",
    "    #         plt.imsave(os.path.join(source_folder, case+'png'), mask)\n",
    "    #         print('Image Saved')\n",
    "    #         if os.path.exists(curr_directory):\n",
    "    #             shutil.rmtree(curr_directory)\n",
    "    except :\n",
    "        print('Mask Image Not Found')"
   ]
  },
  {
   "cell_type": "code",
   "execution_count": 19,
   "metadata": {},
   "outputs": [],
   "source": [
    "import pandas as pd\n",
    "df = pd.DataFrame(mask)"
   ]
  },
  {
   "cell_type": "code",
   "execution_count": 20,
   "metadata": {},
   "outputs": [
    {
     "data": {
      "text/html": [
       "<div>\n",
       "<style scoped>\n",
       "    .dataframe tbody tr th:only-of-type {\n",
       "        vertical-align: middle;\n",
       "    }\n",
       "\n",
       "    .dataframe tbody tr th {\n",
       "        vertical-align: top;\n",
       "    }\n",
       "\n",
       "    .dataframe thead th {\n",
       "        text-align: right;\n",
       "    }\n",
       "</style>\n",
       "<table border=\"1\" class=\"dataframe\">\n",
       "  <thead>\n",
       "    <tr style=\"text-align: right;\">\n",
       "      <th></th>\n",
       "      <th>0</th>\n",
       "      <th>1</th>\n",
       "      <th>2</th>\n",
       "      <th>3</th>\n",
       "      <th>4</th>\n",
       "      <th>5</th>\n",
       "      <th>6</th>\n",
       "      <th>7</th>\n",
       "      <th>8</th>\n",
       "      <th>9</th>\n",
       "      <th>...</th>\n",
       "      <th>3270</th>\n",
       "      <th>3271</th>\n",
       "      <th>3272</th>\n",
       "      <th>3273</th>\n",
       "      <th>3274</th>\n",
       "      <th>3275</th>\n",
       "      <th>3276</th>\n",
       "      <th>3277</th>\n",
       "      <th>3278</th>\n",
       "      <th>3279</th>\n",
       "    </tr>\n",
       "  </thead>\n",
       "  <tbody>\n",
       "    <tr>\n",
       "      <th>0</th>\n",
       "      <td>0.0</td>\n",
       "      <td>0.0</td>\n",
       "      <td>0.0</td>\n",
       "      <td>0.0</td>\n",
       "      <td>0.0</td>\n",
       "      <td>0.0</td>\n",
       "      <td>0.0</td>\n",
       "      <td>0.0</td>\n",
       "      <td>0.0</td>\n",
       "      <td>0.0</td>\n",
       "      <td>...</td>\n",
       "      <td>0.0</td>\n",
       "      <td>0.0</td>\n",
       "      <td>0.0</td>\n",
       "      <td>0.0</td>\n",
       "      <td>0.0</td>\n",
       "      <td>0.0</td>\n",
       "      <td>0.0</td>\n",
       "      <td>0.0</td>\n",
       "      <td>0.0</td>\n",
       "      <td>0.0</td>\n",
       "    </tr>\n",
       "    <tr>\n",
       "      <th>1</th>\n",
       "      <td>0.0</td>\n",
       "      <td>0.0</td>\n",
       "      <td>0.0</td>\n",
       "      <td>0.0</td>\n",
       "      <td>0.0</td>\n",
       "      <td>0.0</td>\n",
       "      <td>0.0</td>\n",
       "      <td>0.0</td>\n",
       "      <td>0.0</td>\n",
       "      <td>0.0</td>\n",
       "      <td>...</td>\n",
       "      <td>0.0</td>\n",
       "      <td>0.0</td>\n",
       "      <td>0.0</td>\n",
       "      <td>0.0</td>\n",
       "      <td>0.0</td>\n",
       "      <td>0.0</td>\n",
       "      <td>0.0</td>\n",
       "      <td>0.0</td>\n",
       "      <td>0.0</td>\n",
       "      <td>0.0</td>\n",
       "    </tr>\n",
       "    <tr>\n",
       "      <th>2</th>\n",
       "      <td>0.0</td>\n",
       "      <td>0.0</td>\n",
       "      <td>0.0</td>\n",
       "      <td>0.0</td>\n",
       "      <td>0.0</td>\n",
       "      <td>0.0</td>\n",
       "      <td>0.0</td>\n",
       "      <td>0.0</td>\n",
       "      <td>0.0</td>\n",
       "      <td>0.0</td>\n",
       "      <td>...</td>\n",
       "      <td>0.0</td>\n",
       "      <td>0.0</td>\n",
       "      <td>0.0</td>\n",
       "      <td>0.0</td>\n",
       "      <td>0.0</td>\n",
       "      <td>0.0</td>\n",
       "      <td>0.0</td>\n",
       "      <td>0.0</td>\n",
       "      <td>0.0</td>\n",
       "      <td>0.0</td>\n",
       "    </tr>\n",
       "    <tr>\n",
       "      <th>3</th>\n",
       "      <td>0.0</td>\n",
       "      <td>0.0</td>\n",
       "      <td>0.0</td>\n",
       "      <td>0.0</td>\n",
       "      <td>0.0</td>\n",
       "      <td>0.0</td>\n",
       "      <td>0.0</td>\n",
       "      <td>0.0</td>\n",
       "      <td>0.0</td>\n",
       "      <td>0.0</td>\n",
       "      <td>...</td>\n",
       "      <td>0.0</td>\n",
       "      <td>0.0</td>\n",
       "      <td>0.0</td>\n",
       "      <td>0.0</td>\n",
       "      <td>0.0</td>\n",
       "      <td>0.0</td>\n",
       "      <td>0.0</td>\n",
       "      <td>0.0</td>\n",
       "      <td>0.0</td>\n",
       "      <td>0.0</td>\n",
       "    </tr>\n",
       "    <tr>\n",
       "      <th>4</th>\n",
       "      <td>0.0</td>\n",
       "      <td>0.0</td>\n",
       "      <td>0.0</td>\n",
       "      <td>0.0</td>\n",
       "      <td>0.0</td>\n",
       "      <td>0.0</td>\n",
       "      <td>0.0</td>\n",
       "      <td>0.0</td>\n",
       "      <td>0.0</td>\n",
       "      <td>0.0</td>\n",
       "      <td>...</td>\n",
       "      <td>0.0</td>\n",
       "      <td>0.0</td>\n",
       "      <td>0.0</td>\n",
       "      <td>0.0</td>\n",
       "      <td>0.0</td>\n",
       "      <td>0.0</td>\n",
       "      <td>0.0</td>\n",
       "      <td>0.0</td>\n",
       "      <td>0.0</td>\n",
       "      <td>0.0</td>\n",
       "    </tr>\n",
       "    <tr>\n",
       "      <th>...</th>\n",
       "      <td>...</td>\n",
       "      <td>...</td>\n",
       "      <td>...</td>\n",
       "      <td>...</td>\n",
       "      <td>...</td>\n",
       "      <td>...</td>\n",
       "      <td>...</td>\n",
       "      <td>...</td>\n",
       "      <td>...</td>\n",
       "      <td>...</td>\n",
       "      <td>...</td>\n",
       "      <td>...</td>\n",
       "      <td>...</td>\n",
       "      <td>...</td>\n",
       "      <td>...</td>\n",
       "      <td>...</td>\n",
       "      <td>...</td>\n",
       "      <td>...</td>\n",
       "      <td>...</td>\n",
       "      <td>...</td>\n",
       "      <td>...</td>\n",
       "    </tr>\n",
       "    <tr>\n",
       "      <th>2459</th>\n",
       "      <td>0.0</td>\n",
       "      <td>0.0</td>\n",
       "      <td>0.0</td>\n",
       "      <td>0.0</td>\n",
       "      <td>0.0</td>\n",
       "      <td>0.0</td>\n",
       "      <td>0.0</td>\n",
       "      <td>0.0</td>\n",
       "      <td>0.0</td>\n",
       "      <td>0.0</td>\n",
       "      <td>...</td>\n",
       "      <td>0.0</td>\n",
       "      <td>0.0</td>\n",
       "      <td>0.0</td>\n",
       "      <td>0.0</td>\n",
       "      <td>0.0</td>\n",
       "      <td>0.0</td>\n",
       "      <td>0.0</td>\n",
       "      <td>0.0</td>\n",
       "      <td>0.0</td>\n",
       "      <td>0.0</td>\n",
       "    </tr>\n",
       "    <tr>\n",
       "      <th>2460</th>\n",
       "      <td>0.0</td>\n",
       "      <td>0.0</td>\n",
       "      <td>0.0</td>\n",
       "      <td>0.0</td>\n",
       "      <td>0.0</td>\n",
       "      <td>0.0</td>\n",
       "      <td>0.0</td>\n",
       "      <td>0.0</td>\n",
       "      <td>0.0</td>\n",
       "      <td>0.0</td>\n",
       "      <td>...</td>\n",
       "      <td>0.0</td>\n",
       "      <td>0.0</td>\n",
       "      <td>0.0</td>\n",
       "      <td>0.0</td>\n",
       "      <td>0.0</td>\n",
       "      <td>0.0</td>\n",
       "      <td>0.0</td>\n",
       "      <td>0.0</td>\n",
       "      <td>0.0</td>\n",
       "      <td>0.0</td>\n",
       "    </tr>\n",
       "    <tr>\n",
       "      <th>2461</th>\n",
       "      <td>0.0</td>\n",
       "      <td>0.0</td>\n",
       "      <td>0.0</td>\n",
       "      <td>0.0</td>\n",
       "      <td>0.0</td>\n",
       "      <td>0.0</td>\n",
       "      <td>0.0</td>\n",
       "      <td>0.0</td>\n",
       "      <td>0.0</td>\n",
       "      <td>0.0</td>\n",
       "      <td>...</td>\n",
       "      <td>0.0</td>\n",
       "      <td>0.0</td>\n",
       "      <td>0.0</td>\n",
       "      <td>0.0</td>\n",
       "      <td>0.0</td>\n",
       "      <td>0.0</td>\n",
       "      <td>0.0</td>\n",
       "      <td>0.0</td>\n",
       "      <td>0.0</td>\n",
       "      <td>0.0</td>\n",
       "    </tr>\n",
       "    <tr>\n",
       "      <th>2462</th>\n",
       "      <td>0.0</td>\n",
       "      <td>0.0</td>\n",
       "      <td>0.0</td>\n",
       "      <td>0.0</td>\n",
       "      <td>0.0</td>\n",
       "      <td>0.0</td>\n",
       "      <td>0.0</td>\n",
       "      <td>0.0</td>\n",
       "      <td>0.0</td>\n",
       "      <td>0.0</td>\n",
       "      <td>...</td>\n",
       "      <td>0.0</td>\n",
       "      <td>0.0</td>\n",
       "      <td>0.0</td>\n",
       "      <td>0.0</td>\n",
       "      <td>0.0</td>\n",
       "      <td>0.0</td>\n",
       "      <td>0.0</td>\n",
       "      <td>0.0</td>\n",
       "      <td>0.0</td>\n",
       "      <td>0.0</td>\n",
       "    </tr>\n",
       "    <tr>\n",
       "      <th>2463</th>\n",
       "      <td>0.0</td>\n",
       "      <td>0.0</td>\n",
       "      <td>0.0</td>\n",
       "      <td>0.0</td>\n",
       "      <td>0.0</td>\n",
       "      <td>0.0</td>\n",
       "      <td>0.0</td>\n",
       "      <td>0.0</td>\n",
       "      <td>0.0</td>\n",
       "      <td>0.0</td>\n",
       "      <td>...</td>\n",
       "      <td>0.0</td>\n",
       "      <td>0.0</td>\n",
       "      <td>0.0</td>\n",
       "      <td>0.0</td>\n",
       "      <td>0.0</td>\n",
       "      <td>0.0</td>\n",
       "      <td>0.0</td>\n",
       "      <td>0.0</td>\n",
       "      <td>0.0</td>\n",
       "      <td>0.0</td>\n",
       "    </tr>\n",
       "  </tbody>\n",
       "</table>\n",
       "<p>2464 rows × 3280 columns</p>\n",
       "</div>"
      ],
      "text/plain": [
       "      0     1     2     3     4     5     6     7     8     9     ...  3270  \\\n",
       "0      0.0   0.0   0.0   0.0   0.0   0.0   0.0   0.0   0.0   0.0  ...   0.0   \n",
       "1      0.0   0.0   0.0   0.0   0.0   0.0   0.0   0.0   0.0   0.0  ...   0.0   \n",
       "2      0.0   0.0   0.0   0.0   0.0   0.0   0.0   0.0   0.0   0.0  ...   0.0   \n",
       "3      0.0   0.0   0.0   0.0   0.0   0.0   0.0   0.0   0.0   0.0  ...   0.0   \n",
       "4      0.0   0.0   0.0   0.0   0.0   0.0   0.0   0.0   0.0   0.0  ...   0.0   \n",
       "...    ...   ...   ...   ...   ...   ...   ...   ...   ...   ...  ...   ...   \n",
       "2459   0.0   0.0   0.0   0.0   0.0   0.0   0.0   0.0   0.0   0.0  ...   0.0   \n",
       "2460   0.0   0.0   0.0   0.0   0.0   0.0   0.0   0.0   0.0   0.0  ...   0.0   \n",
       "2461   0.0   0.0   0.0   0.0   0.0   0.0   0.0   0.0   0.0   0.0  ...   0.0   \n",
       "2462   0.0   0.0   0.0   0.0   0.0   0.0   0.0   0.0   0.0   0.0  ...   0.0   \n",
       "2463   0.0   0.0   0.0   0.0   0.0   0.0   0.0   0.0   0.0   0.0  ...   0.0   \n",
       "\n",
       "      3271  3272  3273  3274  3275  3276  3277  3278  3279  \n",
       "0      0.0   0.0   0.0   0.0   0.0   0.0   0.0   0.0   0.0  \n",
       "1      0.0   0.0   0.0   0.0   0.0   0.0   0.0   0.0   0.0  \n",
       "2      0.0   0.0   0.0   0.0   0.0   0.0   0.0   0.0   0.0  \n",
       "3      0.0   0.0   0.0   0.0   0.0   0.0   0.0   0.0   0.0  \n",
       "4      0.0   0.0   0.0   0.0   0.0   0.0   0.0   0.0   0.0  \n",
       "...    ...   ...   ...   ...   ...   ...   ...   ...   ...  \n",
       "2459   0.0   0.0   0.0   0.0   0.0   0.0   0.0   0.0   0.0  \n",
       "2460   0.0   0.0   0.0   0.0   0.0   0.0   0.0   0.0   0.0  \n",
       "2461   0.0   0.0   0.0   0.0   0.0   0.0   0.0   0.0   0.0  \n",
       "2462   0.0   0.0   0.0   0.0   0.0   0.0   0.0   0.0   0.0  \n",
       "2463   0.0   0.0   0.0   0.0   0.0   0.0   0.0   0.0   0.0  \n",
       "\n",
       "[2464 rows x 3280 columns]"
      ]
     },
     "execution_count": 20,
     "metadata": {},
     "output_type": "execute_result"
    }
   ],
   "source": [
    "df"
   ]
  },
  {
   "cell_type": "code",
   "execution_count": 35,
   "metadata": {},
   "outputs": [
    {
     "data": {
      "text/plain": [
       "<matplotlib.image.AxesImage at 0x7f4028553110>"
      ]
     },
     "execution_count": 35,
     "metadata": {},
     "output_type": "execute_result"
    },
    {
     "data": {
      "image/png": "[encoded data removed]",
      "text/plain": [
       "<Figure size 432x288 with 1 Axes>"
      ]
     },
     "metadata": {
      "needs_background": "light"
     },
     "output_type": "display_data"
    }
   ],
   "source": [
    "plt.imshow(mask, cmap='gray')"
   ]
  },
  {
   "cell_type": "code",
   "execution_count": 23,
   "metadata": {},
   "outputs": [],
   "source": [
    "plt.imsave('./test.png', mask)"
   ]
  },
  {
   "cell_type": "code",
   "execution_count": 24,
   "metadata": {},
   "outputs": [],
   "source": [
    "img = plt.imread('./test.png')"
   ]
  },
  {
   "cell_type": "code",
   "execution_count": 33,
   "metadata": {},
   "outputs": [
    {
     "data": {
      "text/plain": [
       "<matplotlib.image.AxesImage at 0x7f40301ae510>"
      ]
     },
     "execution_count": 33,
     "metadata": {},
     "output_type": "execute_result"
    },
    {
     "data": {
      "image/png": "[encoded data removed]",
      "text/plain": [
       "<Figure size 432x288 with 1 Axes>"
      ]
     },
     "metadata": {
      "needs_background": "light"
     },
     "output_type": "display_data"
    }
   ],
   "source": [
    "plt.imshow(img, cmap='Greys')"
   ]
  },
  {
   "cell_type": "code",
   "execution_count": 26,
   "metadata": {},
   "outputs": [
    {
     "data": {
      "text/plain": [
       "(2464, 3280, 4)"
      ]
     },
     "execution_count": 26,
     "metadata": {},
     "output_type": "execute_result"
    }
   ],
   "source": [
    "img.shape"
   ]
  },
  {
   "cell_type": "code",
   "execution_count": 30,
   "metadata": {},
   "outputs": [
    {
     "data": {
      "text/html": [
       "<div>\n",
       "<style scoped>\n",
       "    .dataframe tbody tr th:only-of-type {\n",
       "        vertical-align: middle;\n",
       "    }\n",
       "\n",
       "    .dataframe tbody tr th {\n",
       "        vertical-align: top;\n",
       "    }\n",
       "\n",
       "    .dataframe thead th {\n",
       "        text-align: right;\n",
       "    }\n",
       "</style>\n",
       "<table border=\"1\" class=\"dataframe\">\n",
       "  <thead>\n",
       "    <tr style=\"text-align: right;\">\n",
       "      <th></th>\n",
       "      <th>0</th>\n",
       "      <th>1</th>\n",
       "      <th>2</th>\n",
       "      <th>3</th>\n",
       "      <th>4</th>\n",
       "      <th>5</th>\n",
       "      <th>6</th>\n",
       "      <th>7</th>\n",
       "      <th>8</th>\n",
       "      <th>9</th>\n",
       "      <th>...</th>\n",
       "      <th>3270</th>\n",
       "      <th>3271</th>\n",
       "      <th>3272</th>\n",
       "      <th>3273</th>\n",
       "      <th>3274</th>\n",
       "      <th>3275</th>\n",
       "      <th>3276</th>\n",
       "      <th>3277</th>\n",
       "      <th>3278</th>\n",
       "      <th>3279</th>\n",
       "    </tr>\n",
       "  </thead>\n",
       "  <tbody>\n",
       "    <tr>\n",
       "      <th>0</th>\n",
       "      <td>0.0</td>\n",
       "      <td>0.0</td>\n",
       "      <td>0.0</td>\n",
       "      <td>0.0</td>\n",
       "      <td>0.0</td>\n",
       "      <td>0.0</td>\n",
       "      <td>0.0</td>\n",
       "      <td>0.0</td>\n",
       "      <td>0.0</td>\n",
       "      <td>0.0</td>\n",
       "      <td>...</td>\n",
       "      <td>0.0</td>\n",
       "      <td>0.0</td>\n",
       "      <td>0.0</td>\n",
       "      <td>0.0</td>\n",
       "      <td>0.0</td>\n",
       "      <td>0.0</td>\n",
       "      <td>0.0</td>\n",
       "      <td>0.0</td>\n",
       "      <td>0.0</td>\n",
       "      <td>0.0</td>\n",
       "    </tr>\n",
       "    <tr>\n",
       "      <th>1</th>\n",
       "      <td>0.0</td>\n",
       "      <td>0.0</td>\n",
       "      <td>0.0</td>\n",
       "      <td>0.0</td>\n",
       "      <td>0.0</td>\n",
       "      <td>0.0</td>\n",
       "      <td>0.0</td>\n",
       "      <td>0.0</td>\n",
       "      <td>0.0</td>\n",
       "      <td>0.0</td>\n",
       "      <td>...</td>\n",
       "      <td>0.0</td>\n",
       "      <td>0.0</td>\n",
       "      <td>0.0</td>\n",
       "      <td>0.0</td>\n",
       "      <td>0.0</td>\n",
       "      <td>0.0</td>\n",
       "      <td>0.0</td>\n",
       "      <td>0.0</td>\n",
       "      <td>0.0</td>\n",
       "      <td>0.0</td>\n",
       "    </tr>\n",
       "    <tr>\n",
       "      <th>2</th>\n",
       "      <td>0.0</td>\n",
       "      <td>0.0</td>\n",
       "      <td>0.0</td>\n",
       "      <td>0.0</td>\n",
       "      <td>0.0</td>\n",
       "      <td>0.0</td>\n",
       "      <td>0.0</td>\n",
       "      <td>0.0</td>\n",
       "      <td>0.0</td>\n",
       "      <td>0.0</td>\n",
       "      <td>...</td>\n",
       "      <td>0.0</td>\n",
       "      <td>0.0</td>\n",
       "      <td>0.0</td>\n",
       "      <td>0.0</td>\n",
       "      <td>0.0</td>\n",
       "      <td>0.0</td>\n",
       "      <td>0.0</td>\n",
       "      <td>0.0</td>\n",
       "      <td>0.0</td>\n",
       "      <td>0.0</td>\n",
       "    </tr>\n",
       "    <tr>\n",
       "      <th>3</th>\n",
       "      <td>0.0</td>\n",
       "      <td>0.0</td>\n",
       "      <td>0.0</td>\n",
       "      <td>0.0</td>\n",
       "      <td>0.0</td>\n",
       "      <td>0.0</td>\n",
       "      <td>0.0</td>\n",
       "      <td>0.0</td>\n",
       "      <td>0.0</td>\n",
       "      <td>0.0</td>\n",
       "      <td>...</td>\n",
       "      <td>0.0</td>\n",
       "      <td>0.0</td>\n",
       "      <td>0.0</td>\n",
       "      <td>0.0</td>\n",
       "      <td>0.0</td>\n",
       "      <td>0.0</td>\n",
       "      <td>0.0</td>\n",
       "      <td>0.0</td>\n",
       "      <td>0.0</td>\n",
       "      <td>0.0</td>\n",
       "    </tr>\n",
       "    <tr>\n",
       "      <th>4</th>\n",
       "      <td>0.0</td>\n",
       "      <td>0.0</td>\n",
       "      <td>0.0</td>\n",
       "      <td>0.0</td>\n",
       "      <td>0.0</td>\n",
       "      <td>0.0</td>\n",
       "      <td>0.0</td>\n",
       "      <td>0.0</td>\n",
       "      <td>0.0</td>\n",
       "      <td>0.0</td>\n",
       "      <td>...</td>\n",
       "      <td>0.0</td>\n",
       "      <td>0.0</td>\n",
       "      <td>0.0</td>\n",
       "      <td>0.0</td>\n",
       "      <td>0.0</td>\n",
       "      <td>0.0</td>\n",
       "      <td>0.0</td>\n",
       "      <td>0.0</td>\n",
       "      <td>0.0</td>\n",
       "      <td>0.0</td>\n",
       "    </tr>\n",
       "    <tr>\n",
       "      <th>...</th>\n",
       "      <td>...</td>\n",
       "      <td>...</td>\n",
       "      <td>...</td>\n",
       "      <td>...</td>\n",
       "      <td>...</td>\n",
       "      <td>...</td>\n",
       "      <td>...</td>\n",
       "      <td>...</td>\n",
       "      <td>...</td>\n",
       "      <td>...</td>\n",
       "      <td>...</td>\n",
       "      <td>...</td>\n",
       "      <td>...</td>\n",
       "      <td>...</td>\n",
       "      <td>...</td>\n",
       "      <td>...</td>\n",
       "      <td>...</td>\n",
       "      <td>...</td>\n",
       "      <td>...</td>\n",
       "      <td>...</td>\n",
       "      <td>...</td>\n",
       "    </tr>\n",
       "    <tr>\n",
       "      <th>2459</th>\n",
       "      <td>0.0</td>\n",
       "      <td>0.0</td>\n",
       "      <td>0.0</td>\n",
       "      <td>0.0</td>\n",
       "      <td>0.0</td>\n",
       "      <td>0.0</td>\n",
       "      <td>0.0</td>\n",
       "      <td>0.0</td>\n",
       "      <td>0.0</td>\n",
       "      <td>0.0</td>\n",
       "      <td>...</td>\n",
       "      <td>0.0</td>\n",
       "      <td>0.0</td>\n",
       "      <td>0.0</td>\n",
       "      <td>0.0</td>\n",
       "      <td>0.0</td>\n",
       "      <td>0.0</td>\n",
       "      <td>0.0</td>\n",
       "      <td>0.0</td>\n",
       "      <td>0.0</td>\n",
       "      <td>0.0</td>\n",
       "    </tr>\n",
       "    <tr>\n",
       "      <th>2460</th>\n",
       "      <td>0.0</td>\n",
       "      <td>0.0</td>\n",
       "      <td>0.0</td>\n",
       "      <td>0.0</td>\n",
       "      <td>0.0</td>\n",
       "      <td>0.0</td>\n",
       "      <td>0.0</td>\n",
       "      <td>0.0</td>\n",
       "      <td>0.0</td>\n",
       "      <td>0.0</td>\n",
       "      <td>...</td>\n",
       "      <td>0.0</td>\n",
       "      <td>0.0</td>\n",
       "      <td>0.0</td>\n",
       "      <td>0.0</td>\n",
       "      <td>0.0</td>\n",
       "      <td>0.0</td>\n",
       "      <td>0.0</td>\n",
       "      <td>0.0</td>\n",
       "      <td>0.0</td>\n",
       "      <td>0.0</td>\n",
       "    </tr>\n",
       "    <tr>\n",
       "      <th>2461</th>\n",
       "      <td>0.0</td>\n",
       "      <td>0.0</td>\n",
       "      <td>0.0</td>\n",
       "      <td>0.0</td>\n",
       "      <td>0.0</td>\n",
       "      <td>0.0</td>\n",
       "      <td>0.0</td>\n",
       "      <td>0.0</td>\n",
       "      <td>0.0</td>\n",
       "      <td>0.0</td>\n",
       "      <td>...</td>\n",
       "      <td>0.0</td>\n",
       "      <td>0.0</td>\n",
       "      <td>0.0</td>\n",
       "      <td>0.0</td>\n",
       "      <td>0.0</td>\n",
       "      <td>0.0</td>\n",
       "      <td>0.0</td>\n",
       "      <td>0.0</td>\n",
       "      <td>0.0</td>\n",
       "      <td>0.0</td>\n",
       "    </tr>\n",
       "    <tr>\n",
       "      <th>2462</th>\n",
       "      <td>0.0</td>\n",
       "      <td>0.0</td>\n",
       "      <td>0.0</td>\n",
       "      <td>0.0</td>\n",
       "      <td>0.0</td>\n",
       "      <td>0.0</td>\n",
       "      <td>0.0</td>\n",
       "      <td>0.0</td>\n",
       "      <td>0.0</td>\n",
       "      <td>0.0</td>\n",
       "      <td>...</td>\n",
       "      <td>0.0</td>\n",
       "      <td>0.0</td>\n",
       "      <td>0.0</td>\n",
       "      <td>0.0</td>\n",
       "      <td>0.0</td>\n",
       "      <td>0.0</td>\n",
       "      <td>0.0</td>\n",
       "      <td>0.0</td>\n",
       "      <td>0.0</td>\n",
       "      <td>0.0</td>\n",
       "    </tr>\n",
       "    <tr>\n",
       "      <th>2463</th>\n",
       "      <td>0.0</td>\n",
       "      <td>0.0</td>\n",
       "      <td>0.0</td>\n",
       "      <td>0.0</td>\n",
       "      <td>0.0</td>\n",
       "      <td>0.0</td>\n",
       "      <td>0.0</td>\n",
       "      <td>0.0</td>\n",
       "      <td>0.0</td>\n",
       "      <td>0.0</td>\n",
       "      <td>...</td>\n",
       "      <td>0.0</td>\n",
       "      <td>0.0</td>\n",
       "      <td>0.0</td>\n",
       "      <td>0.0</td>\n",
       "      <td>0.0</td>\n",
       "      <td>0.0</td>\n",
       "      <td>0.0</td>\n",
       "      <td>0.0</td>\n",
       "      <td>0.0</td>\n",
       "      <td>0.0</td>\n",
       "    </tr>\n",
       "  </tbody>\n",
       "</table>\n",
       "<p>2464 rows × 3280 columns</p>\n",
       "</div>"
      ],
      "text/plain": [
       "      0     1     2     3     4     5     6     7     8     9     ...  3270  \\\n",
       "0      0.0   0.0   0.0   0.0   0.0   0.0   0.0   0.0   0.0   0.0  ...   0.0   \n",
       "1      0.0   0.0   0.0   0.0   0.0   0.0   0.0   0.0   0.0   0.0  ...   0.0   \n",
       "2      0.0   0.0   0.0   0.0   0.0   0.0   0.0   0.0   0.0   0.0  ...   0.0   \n",
       "3      0.0   0.0   0.0   0.0   0.0   0.0   0.0   0.0   0.0   0.0  ...   0.0   \n",
       "4      0.0   0.0   0.0   0.0   0.0   0.0   0.0   0.0   0.0   0.0  ...   0.0   \n",
       "...    ...   ...   ...   ...   ...   ...   ...   ...   ...   ...  ...   ...   \n",
       "2459   0.0   0.0   0.0   0.0   0.0   0.0   0.0   0.0   0.0   0.0  ...   0.0   \n",
       "2460   0.0   0.0   0.0   0.0   0.0   0.0   0.0   0.0   0.0   0.0  ...   0.0   \n",
       "2461   0.0   0.0   0.0   0.0   0.0   0.0   0.0   0.0   0.0   0.0  ...   0.0   \n",
       "2462   0.0   0.0   0.0   0.0   0.0   0.0   0.0   0.0   0.0   0.0  ...   0.0   \n",
       "2463   0.0   0.0   0.0   0.0   0.0   0.0   0.0   0.0   0.0   0.0  ...   0.0   \n",
       "\n",
       "      3271  3272  3273  3274  3275  3276  3277  3278  3279  \n",
       "0      0.0   0.0   0.0   0.0   0.0   0.0   0.0   0.0   0.0  \n",
       "1      0.0   0.0   0.0   0.0   0.0   0.0   0.0   0.0   0.0  \n",
       "2      0.0   0.0   0.0   0.0   0.0   0.0   0.0   0.0   0.0  \n",
       "3      0.0   0.0   0.0   0.0   0.0   0.0   0.0   0.0   0.0  \n",
       "4      0.0   0.0   0.0   0.0   0.0   0.0   0.0   0.0   0.0  \n",
       "...    ...   ...   ...   ...   ...   ...   ...   ...   ...  \n",
       "2459   0.0   0.0   0.0   0.0   0.0   0.0   0.0   0.0   0.0  \n",
       "2460   0.0   0.0   0.0   0.0   0.0   0.0   0.0   0.0   0.0  \n",
       "2461   0.0   0.0   0.0   0.0   0.0   0.0   0.0   0.0   0.0  \n",
       "2462   0.0   0.0   0.0   0.0   0.0   0.0   0.0   0.0   0.0  \n",
       "2463   0.0   0.0   0.0   0.0   0.0   0.0   0.0   0.0   0.0  \n",
       "\n",
       "[2464 rows x 3280 columns]"
      ]
     },
     "execution_count": 30,
     "metadata": {},
     "output_type": "execute_result"
    }
   ],
   "source": [
    "df"
   ]
  },
  {
   "cell_type": "code",
   "execution_count": 53,
   "metadata": {},
   "outputs": [
    {
     "data": {
      "text/plain": [
       "True"
      ]
     },
     "execution_count": 53,
     "metadata": {},
     "output_type": "execute_result"
    }
   ],
   "source": [
    "cv2.imwrite(\"GrayScale.png\", mask)"
   ]
  },
  {
   "cell_type": "code",
   "execution_count": 54,
   "metadata": {},
   "outputs": [
    {
     "data": {
      "image/png": "[encoded data removed]",
      "text/plain": [
       "<Figure size 1440x1440 with 1 Axes>"
      ]
     },
     "metadata": {
      "needs_background": "light"
     },
     "output_type": "display_data"
    }
   ],
   "source": [
    "temp = plt.imread('./GrayScale.png')\n",
    "plt.figure(figsize=(20,20))\n",
    "plt.imshow(temp)\n",
    "plt.show()"
   ]
  },
  {
   "cell_type": "code",
   "execution_count": 55,
   "metadata": {},
   "outputs": [
    {
     "data": {
      "text/plain": [
       "(2464, 3280)"
      ]
     },
     "execution_count": 55,
     "metadata": {},
     "output_type": "execute_result"
    }
   ],
   "source": [
    "temp.shape"
   ]
  },
  {
   "cell_type": "code",
   "execution_count": 56,
   "metadata": {},
   "outputs": [
    {
     "data": {
      "text/plain": [
       "array([[0., 0., 0., ..., 0., 0., 0.],\n",
       "       [0., 0., 0., ..., 0., 0., 0.],\n",
       "       [0., 0., 0., ..., 0., 0., 0.],\n",
       "       ...,\n",
       "       [0., 0., 0., ..., 0., 0., 0.],\n",
       "       [0., 0., 0., ..., 0., 0., 0.],\n",
       "       [0., 0., 0., ..., 0., 0., 0.]], dtype=float32)"
      ]
     },
     "execution_count": 56,
     "metadata": {},
     "output_type": "execute_result"
    }
   ],
   "source": [
    "temp"
   ]
  },
  {
   "cell_type": "code",
   "execution_count": 57,
   "metadata": {},
   "outputs": [
    {
     "data": {
      "text/plain": [
       "numpy.ndarray"
      ]
     },
     "execution_count": 57,
     "metadata": {},
     "output_type": "execute_result"
    }
   ],
   "source": [
    "type(temp)"
   ]
  },
  {
   "cell_type": "code",
   "execution_count": 61,
   "metadata": {},
   "outputs": [
    {
     "name": "stdout",
     "output_type": "stream",
     "text": [
      "bool\n"
     ]
    }
   ],
   "source": [
    "a = np.array([False, True, False]) \n",
    "print(a.dtype)"
   ]
  },
  {
   "cell_type": "code",
   "execution_count": 62,
   "metadata": {},
   "outputs": [
    {
     "data": {
      "text/plain": [
       "array([0., 1., 0.], dtype=float32)"
      ]
     },
     "execution_count": 62,
     "metadata": {},
     "output_type": "execute_result"
    }
   ],
   "source": [
    "a.astype(np.float32)"
   ]
  },
  {
   "cell_type": "code",
   "execution_count": 69,
   "metadata": {},
   "outputs": [],
   "source": [
    "import glob"
   ]
  },
  {
   "cell_type": "code",
   "execution_count": 71,
   "metadata": {
    "scrolled": true
   },
   "outputs": [
    {
     "data": {
      "text/plain": [
       "['/home/lab04/jupyter_home/AI_proj_Team2/data/masks/CASE71_03.png',\n",
       " '/home/lab04/jupyter_home/AI_proj_Team2/data/masks/CASE01_07.png',\n",
       " '/home/lab04/jupyter_home/AI_proj_Team2/data/masks/CASE74_15.png',\n",
       " '/home/lab04/jupyter_home/AI_proj_Team2/data/masks/CASE71_30.png',\n",
       " '/home/lab04/jupyter_home/AI_proj_Team2/data/masks/CASE73_18.png',\n",
       " '/home/lab04/jupyter_home/AI_proj_Team2/data/masks/CASE02_04.png',\n",
       " '/home/lab04/jupyter_home/AI_proj_Team2/data/masks/CASE71_22.png',\n",
       " '/home/lab04/jupyter_home/AI_proj_Team2/data/masks/CASE73_02.png',\n",
       " '/home/lab04/jupyter_home/AI_proj_Team2/data/masks/CASE71_32.png',\n",
       " '/home/lab04/jupyter_home/AI_proj_Team2/data/masks/CASE74_13.png',\n",
       " '/home/lab04/jupyter_home/AI_proj_Team2/data/masks/CASE71_19.png',\n",
       " '/home/lab04/jupyter_home/AI_proj_Team2/data/masks/CASE74_11.png',\n",
       " '/home/lab04/jupyter_home/AI_proj_Team2/data/masks/CASE71_07.png',\n",
       " '/home/lab04/jupyter_home/AI_proj_Team2/data/masks/CASE31_07.png',\n",
       " '/home/lab04/jupyter_home/AI_proj_Team2/data/masks/CASE02_01.png',\n",
       " '/home/lab04/jupyter_home/AI_proj_Team2/data/masks/CASE73_11.png',\n",
       " '/home/lab04/jupyter_home/AI_proj_Team2/data/masks/CASE71_14.png',\n",
       " '/home/lab04/jupyter_home/AI_proj_Team2/data/masks/CASE74_04.png',\n",
       " '/home/lab04/jupyter_home/AI_proj_Team2/data/masks/CASE73_26.png',\n",
       " '/home/lab04/jupyter_home/AI_proj_Team2/data/masks/CASE72_10.png',\n",
       " '/home/lab04/jupyter_home/AI_proj_Team2/data/masks/CASE73_05.png',\n",
       " '/home/lab04/jupyter_home/AI_proj_Team2/data/masks/CASE31_05.png',\n",
       " '/home/lab04/jupyter_home/AI_proj_Team2/data/masks/CASE30_07.png',\n",
       " '/home/lab04/jupyter_home/AI_proj_Team2/data/masks/CASE72_02.png',\n",
       " '/home/lab04/jupyter_home/AI_proj_Team2/data/masks/CASE30_09.png',\n",
       " '/home/lab04/jupyter_home/AI_proj_Team2/data/masks/CASE71_13.png',\n",
       " '/home/lab04/jupyter_home/AI_proj_Team2/data/masks/CASE73_25.png',\n",
       " '/home/lab04/jupyter_home/AI_proj_Team2/data/masks/CASE30_05.png',\n",
       " '/home/lab04/jupyter_home/AI_proj_Team2/data/masks/CASE31_08.png',\n",
       " '/home/lab04/jupyter_home/AI_proj_Team2/data/masks/CASE74_05.png',\n",
       " '/home/lab04/jupyter_home/AI_proj_Team2/data/masks/CASE74_02.png',\n",
       " '/home/lab04/jupyter_home/AI_proj_Team2/data/masks/CASE01_09.png',\n",
       " '/home/lab04/jupyter_home/AI_proj_Team2/data/masks/CASE72_01.png',\n",
       " '/home/lab04/jupyter_home/AI_proj_Team2/data/masks/CASE71_24.png',\n",
       " '/home/lab04/jupyter_home/AI_proj_Team2/data/masks/CASE73_27.png',\n",
       " '/home/lab04/jupyter_home/AI_proj_Team2/data/masks/CASE30_01.png',\n",
       " '/home/lab04/jupyter_home/AI_proj_Team2/data/masks/CASE01_03.png',\n",
       " '/home/lab04/jupyter_home/AI_proj_Team2/data/masks/CASE71_10.png',\n",
       " '/home/lab04/jupyter_home/AI_proj_Team2/data/masks/CASE74_10.png',\n",
       " '/home/lab04/jupyter_home/AI_proj_Team2/data/masks/CASE01_08.png',\n",
       " '/home/lab04/jupyter_home/AI_proj_Team2/data/masks/CASE74_27.png',\n",
       " '/home/lab04/jupyter_home/AI_proj_Team2/data/masks/CASE73_09.png',\n",
       " '/home/lab04/jupyter_home/AI_proj_Team2/data/masks/CASE73_17.png',\n",
       " '/home/lab04/jupyter_home/AI_proj_Team2/data/masks/CASE74_24.png',\n",
       " '/home/lab04/jupyter_home/AI_proj_Team2/data/masks/CASE71_27.png',\n",
       " '/home/lab04/jupyter_home/AI_proj_Team2/data/masks/CASE71_26.png',\n",
       " '/home/lab04/jupyter_home/AI_proj_Team2/data/masks/CASE74_03.png',\n",
       " '/home/lab04/jupyter_home/AI_proj_Team2/data/masks/CASE03_05.png',\n",
       " '/home/lab04/jupyter_home/AI_proj_Team2/data/masks/CASE01_02.png',\n",
       " '/home/lab04/jupyter_home/AI_proj_Team2/data/masks/CASE73_30.png',\n",
       " '/home/lab04/jupyter_home/AI_proj_Team2/data/masks/CASE74_19.png',\n",
       " '/home/lab04/jupyter_home/AI_proj_Team2/data/masks/CASE74_06.png',\n",
       " '/home/lab04/jupyter_home/AI_proj_Team2/data/masks/CASE73_21.png',\n",
       " '/home/lab04/jupyter_home/AI_proj_Team2/data/masks/CASE74_25.png',\n",
       " '/home/lab04/jupyter_home/AI_proj_Team2/data/masks/CASE71_04.png',\n",
       " '/home/lab04/jupyter_home/AI_proj_Team2/data/masks/CASE72_03.png',\n",
       " '/home/lab04/jupyter_home/AI_proj_Team2/data/masks/CASE74_21.png',\n",
       " '/home/lab04/jupyter_home/AI_proj_Team2/data/masks/CASE72_05.png',\n",
       " '/home/lab04/jupyter_home/AI_proj_Team2/data/masks/CASE02_09.png',\n",
       " '/home/lab04/jupyter_home/AI_proj_Team2/data/masks/CASE71_08.png',\n",
       " '/home/lab04/jupyter_home/AI_proj_Team2/data/masks/CASE01_01.png',\n",
       " '/home/lab04/jupyter_home/AI_proj_Team2/data/masks/CASE73_04.png',\n",
       " '/home/lab04/jupyter_home/AI_proj_Team2/data/masks/CASE30_08.png',\n",
       " '/home/lab04/jupyter_home/AI_proj_Team2/data/masks/CASE74_17.png',\n",
       " '/home/lab04/jupyter_home/AI_proj_Team2/data/masks/CASE71_16.png',\n",
       " '/home/lab04/jupyter_home/AI_proj_Team2/data/masks/CASE71_28.png',\n",
       " '/home/lab04/jupyter_home/AI_proj_Team2/data/masks/CASE71_29.png',\n",
       " '/home/lab04/jupyter_home/AI_proj_Team2/data/masks/CASE71_20.png',\n",
       " '/home/lab04/jupyter_home/AI_proj_Team2/data/masks/CASE75_02.png',\n",
       " '/home/lab04/jupyter_home/AI_proj_Team2/data/masks/CASE30_04.png',\n",
       " '/home/lab04/jupyter_home/AI_proj_Team2/data/masks/CASE73_03.png',\n",
       " '/home/lab04/jupyter_home/AI_proj_Team2/data/masks/CASE74_22.png',\n",
       " '/home/lab04/jupyter_home/AI_proj_Team2/data/masks/CASE74_14.png',\n",
       " '/home/lab04/jupyter_home/AI_proj_Team2/data/masks/CASE30_10.png',\n",
       " '/home/lab04/jupyter_home/AI_proj_Team2/data/masks/CASE02_06.png',\n",
       " '/home/lab04/jupyter_home/AI_proj_Team2/data/masks/CASE30_06.png',\n",
       " '/home/lab04/jupyter_home/AI_proj_Team2/data/masks/CASE31_02.png',\n",
       " '/home/lab04/jupyter_home/AI_proj_Team2/data/masks/CASE73_01.png',\n",
       " '/home/lab04/jupyter_home/AI_proj_Team2/data/masks/CASE73_08.png',\n",
       " '/home/lab04/jupyter_home/AI_proj_Team2/data/masks/CASE73_32.png',\n",
       " '/home/lab04/jupyter_home/AI_proj_Team2/data/masks/CASE02_10.png',\n",
       " '/home/lab04/jupyter_home/AI_proj_Team2/data/masks/CASE02_03.png',\n",
       " '/home/lab04/jupyter_home/AI_proj_Team2/data/masks/CASE71_01.png',\n",
       " '/home/lab04/jupyter_home/AI_proj_Team2/data/masks/CASE30_02.png',\n",
       " '/home/lab04/jupyter_home/AI_proj_Team2/data/masks/CASE30_11.png',\n",
       " '/home/lab04/jupyter_home/AI_proj_Team2/data/masks/CASE73_23.png',\n",
       " '/home/lab04/jupyter_home/AI_proj_Team2/data/masks/CASE71_11.png',\n",
       " '/home/lab04/jupyter_home/AI_proj_Team2/data/masks/CASE02_07.png',\n",
       " '/home/lab04/jupyter_home/AI_proj_Team2/data/masks/CASE74_20.png',\n",
       " '/home/lab04/jupyter_home/AI_proj_Team2/data/masks/CASE01_05.png',\n",
       " '/home/lab04/jupyter_home/AI_proj_Team2/data/masks/CASE72_08.png',\n",
       " '/home/lab04/jupyter_home/AI_proj_Team2/data/masks/CASE74_07.png',\n",
       " '/home/lab04/jupyter_home/AI_proj_Team2/data/masks/CASE72_04.png',\n",
       " '/home/lab04/jupyter_home/AI_proj_Team2/data/masks/CASE73_31.png',\n",
       " '/home/lab04/jupyter_home/AI_proj_Team2/data/masks/CASE03_04.png',\n",
       " '/home/lab04/jupyter_home/AI_proj_Team2/data/masks/CASE74_26.png',\n",
       " '/home/lab04/jupyter_home/AI_proj_Team2/data/masks/CASE74_08.png',\n",
       " '/home/lab04/jupyter_home/AI_proj_Team2/data/masks/CASE71_02.png',\n",
       " '/home/lab04/jupyter_home/AI_proj_Team2/data/masks/CASE02_11.png',\n",
       " '/home/lab04/jupyter_home/AI_proj_Team2/data/masks/CASE03_01.png',\n",
       " '/home/lab04/jupyter_home/AI_proj_Team2/data/masks/CASE02_05.png',\n",
       " '/home/lab04/jupyter_home/AI_proj_Team2/data/masks/CASE73_19.png',\n",
       " '/home/lab04/jupyter_home/AI_proj_Team2/data/masks/CASE71_21.png',\n",
       " '/home/lab04/jupyter_home/AI_proj_Team2/data/masks/CASE73_15.png',\n",
       " '/home/lab04/jupyter_home/AI_proj_Team2/data/masks/CASE73_16.png',\n",
       " '/home/lab04/jupyter_home/AI_proj_Team2/data/masks/CASE73_13.png',\n",
       " '/home/lab04/jupyter_home/AI_proj_Team2/data/masks/CASE31_03.png',\n",
       " '/home/lab04/jupyter_home/AI_proj_Team2/data/masks/CASE73_24.png',\n",
       " '/home/lab04/jupyter_home/AI_proj_Team2/data/masks/CASE73_33.png',\n",
       " '/home/lab04/jupyter_home/AI_proj_Team2/data/masks/CASE73_10.png',\n",
       " '/home/lab04/jupyter_home/AI_proj_Team2/data/masks/CASE72_06.png',\n",
       " '/home/lab04/jupyter_home/AI_proj_Team2/data/masks/CASE71_25.png',\n",
       " '/home/lab04/jupyter_home/AI_proj_Team2/data/masks/CASE73_20.png',\n",
       " '/home/lab04/jupyter_home/AI_proj_Team2/data/masks/CASE73_14.png',\n",
       " '/home/lab04/jupyter_home/AI_proj_Team2/data/masks/CASE73_29.png',\n",
       " '/home/lab04/jupyter_home/AI_proj_Team2/data/masks/CASE02_08.png',\n",
       " '/home/lab04/jupyter_home/AI_proj_Team2/data/masks/CASE71_18.png',\n",
       " '/home/lab04/jupyter_home/AI_proj_Team2/data/masks/CASE74_23.png',\n",
       " '/home/lab04/jupyter_home/AI_proj_Team2/data/masks/CASE73_22.png',\n",
       " '/home/lab04/jupyter_home/AI_proj_Team2/data/masks/CASE73_07.png',\n",
       " '/home/lab04/jupyter_home/AI_proj_Team2/data/masks/CASE71_31.png',\n",
       " '/home/lab04/jupyter_home/AI_proj_Team2/data/masks/CASE01_04.png',\n",
       " '/home/lab04/jupyter_home/AI_proj_Team2/data/masks/CASE74_16.png',\n",
       " '/home/lab04/jupyter_home/AI_proj_Team2/data/masks/CASE01_06.png',\n",
       " '/home/lab04/jupyter_home/AI_proj_Team2/data/masks/CASE03_03.png',\n",
       " '/home/lab04/jupyter_home/AI_proj_Team2/data/masks/CASE31_01.png',\n",
       " '/home/lab04/jupyter_home/AI_proj_Team2/data/masks/CASE73_06.png',\n",
       " '/home/lab04/jupyter_home/AI_proj_Team2/data/masks/CASE71_09.png',\n",
       " '/home/lab04/jupyter_home/AI_proj_Team2/data/masks/CASE31_04.png',\n",
       " '/home/lab04/jupyter_home/AI_proj_Team2/data/masks/CASE73_34.png',\n",
       " '/home/lab04/jupyter_home/AI_proj_Team2/data/masks/CASE31_06.png',\n",
       " '/home/lab04/jupyter_home/AI_proj_Team2/data/masks/CASE02_02.png',\n",
       " '/home/lab04/jupyter_home/AI_proj_Team2/data/masks/CASE74_01.png',\n",
       " '/home/lab04/jupyter_home/AI_proj_Team2/data/masks/CASE73_12.png',\n",
       " '/home/lab04/jupyter_home/AI_proj_Team2/data/masks/CASE73_28.png',\n",
       " '/home/lab04/jupyter_home/AI_proj_Team2/data/masks/CASE71_17.png',\n",
       " '/home/lab04/jupyter_home/AI_proj_Team2/data/masks/CASE75_01.png',\n",
       " '/home/lab04/jupyter_home/AI_proj_Team2/data/masks/CASE72_07.png',\n",
       " '/home/lab04/jupyter_home/AI_proj_Team2/data/masks/CASE74_18.png',\n",
       " '/home/lab04/jupyter_home/AI_proj_Team2/data/masks/CASE72_09.png',\n",
       " '/home/lab04/jupyter_home/AI_proj_Team2/data/masks/CASE74_12.png',\n",
       " '/home/lab04/jupyter_home/AI_proj_Team2/data/masks/CASE71_15.png',\n",
       " '/home/lab04/jupyter_home/AI_proj_Team2/data/masks/CASE03_02.png',\n",
       " '/home/lab04/jupyter_home/AI_proj_Team2/data/masks/CASE71_12.png',\n",
       " '/home/lab04/jupyter_home/AI_proj_Team2/data/masks/CASE71_06.png',\n",
       " '/home/lab04/jupyter_home/AI_proj_Team2/data/masks/CASE30_03.png',\n",
       " '/home/lab04/jupyter_home/AI_proj_Team2/data/masks/CASE74_09.png',\n",
       " '/home/lab04/jupyter_home/AI_proj_Team2/data/masks/CASE71_23.png',\n",
       " '/home/lab04/jupyter_home/AI_proj_Team2/data/masks/CASE31_09.png']"
      ]
     },
     "execution_count": 71,
     "metadata": {},
     "output_type": "execute_result"
    }
   ],
   "source": [
    "source_folder = os.path.join(os.getcwd(), \"masks\")\n",
    "mask_folder_list = os.listdir(source_folder)\n",
    "glob.glob(source_folder+'/*.png')"
   ]
  },
  {
   "cell_type": "code",
   "execution_count": 72,
   "metadata": {},
   "outputs": [
    {
     "data": {
      "text/plain": [
       "<function genericpath.isdir(s)>"
      ]
     },
     "execution_count": 72,
     "metadata": {},
     "output_type": "execute_result"
    }
   ],
   "source": [
    "os.path.isdir()"
   ]
  },
  {
   "cell_type": "code",
   "execution_count": 78,
   "metadata": {},
   "outputs": [
    {
     "data": {
      "text/plain": [
       "['./masks/CASE71_05']"
      ]
     },
     "execution_count": 78,
     "metadata": {},
     "output_type": "execute_result"
    }
   ],
   "source": [
    "list(filter(os.path.isdir, glob.glob('./masks/*')))"
   ]
  },
  {
   "cell_type": "code",
   "execution_count": 11,
   "metadata": {},
   "outputs": [
    {
     "data": {
      "image/png": "[encoded data removed]",
      "text/plain": [
       "<Figure size 432x288 with 1 Axes>"
      ]
     },
     "metadata": {
      "needs_background": "light"
     },
     "output_type": "display_data"
    }
   ],
   "source": [
    "import matplotlib.pyplot as plt\n",
    "\n",
    "img = plt.imread('./masks/CASE01_01.png')\n",
    "plt.imshow(img)\n",
    "plt.show()"
   ]
  },
  {
   "cell_type": "code",
   "execution_count": 12,
   "metadata": {},
   "outputs": [
    {
     "data": {
      "text/plain": [
       "2"
      ]
     },
     "execution_count": 12,
     "metadata": {},
     "output_type": "execute_result"
    }
   ],
   "source": [
    "import numpy as np\n",
    "len(np.unique(img))"
   ]
  },
  {
   "cell_type": "code",
   "execution_count": 13,
   "metadata": {},
   "outputs": [
    {
     "data": {
      "text/plain": [
       "numpy.ndarray"
      ]
     },
     "execution_count": 13,
     "metadata": {},
     "output_type": "execute_result"
    }
   ],
   "source": [
    "type(img)"
   ]
  },
  {
   "cell_type": "code",
   "execution_count": 14,
   "metadata": {},
   "outputs": [
    {
     "data": {
      "text/plain": [
       "(2464, 3280)"
      ]
     },
     "execution_count": 14,
     "metadata": {},
     "output_type": "execute_result"
    }
   ],
   "source": [
    "img.shape"
   ]
  },
  {
   "cell_type": "code",
   "execution_count": null,
   "metadata": {},
   "outputs": [],
   "source": []
  }
 ],
 "metadata": {
  "kernelspec": {
   "display_name": "Python 3 (ipykernel)",
   "language": "python",
   "name": "python3"
  },
  "language_info": {
   "codemirror_mode": {
    "name": "ipython",
    "version": 3
   },
   "file_extension": ".py",
   "mimetype": "text/x-python",
   "name": "python",
   "nbconvert_exporter": "python",
   "pygments_lexer": "ipython3",
   "version": "3.7.9"
  }
 },
 "nbformat": 4,
 "nbformat_minor": 1
}

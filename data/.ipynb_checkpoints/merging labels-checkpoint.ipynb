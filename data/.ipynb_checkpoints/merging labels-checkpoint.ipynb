{
 "cells": [
  {
   "cell_type": "code",
   "execution_count": 3,
   "id": "69336e77",
   "metadata": {},
   "outputs": [],
   "source": [
    "import pandas as pd\n",
    "import os"
   ]
  },
  {
   "cell_type": "code",
   "execution_count": 6,
   "id": "0ca67588",
   "metadata": {},
   "outputs": [],
   "source": [
    "label_dir = './train_label'"
   ]
  },
  {
   "cell_type": "code",
   "execution_count": 7,
   "id": "19b88be7",
   "metadata": {},
   "outputs": [],
   "source": [
    "labels = os.listdir(label_dir)"
   ]
  },
  {
   "cell_type": "code",
   "execution_count": 9,
   "id": "1642f8d8",
   "metadata": {},
   "outputs": [
    {
     "data": {
      "text/plain": [
       "'label-25.csv'"
      ]
     },
     "execution_count": 9,
     "metadata": {},
     "output_type": "execute_result"
    }
   ],
   "source": [
    "labels[0]"
   ]
  },
  {
   "cell_type": "code",
   "execution_count": 13,
   "id": "0045a0bc",
   "metadata": {},
   "outputs": [],
   "source": [
    "dfs = []\n",
    "for case in labels :\n",
    "    dfs.append(pd.read_csv(os.path.join(label_dir, case)))\n",
    "labels_of_all_cases = pd.concat(dfs)    "
   ]
  },
  {
   "cell_type": "code",
   "execution_count": 15,
   "id": "4322c039",
   "metadata": {},
   "outputs": [],
   "source": [
    "labels_of_all_cases.to_csv('./labels.csv', index=False)"
   ]
  },
  {
   "cell_type": "code",
   "execution_count": 16,
   "id": "6163c759",
   "metadata": {},
   "outputs": [
    {
     "data": {
      "text/html": [
       "<div>\n",
       "<style scoped>\n",
       "    .dataframe tbody tr th:only-of-type {\n",
       "        vertical-align: middle;\n",
       "    }\n",
       "\n",
       "    .dataframe tbody tr th {\n",
       "        vertical-align: top;\n",
       "    }\n",
       "\n",
       "    .dataframe thead th {\n",
       "        text-align: right;\n",
       "    }\n",
       "</style>\n",
       "<table border=\"1\" class=\"dataframe\">\n",
       "  <thead>\n",
       "    <tr style=\"text-align: right;\">\n",
       "      <th></th>\n",
       "      <th>img_name</th>\n",
       "      <th>leaf_weight</th>\n",
       "    </tr>\n",
       "  </thead>\n",
       "  <tbody>\n",
       "    <tr>\n",
       "      <th>0</th>\n",
       "      <td>CASE25_01.png</td>\n",
       "      <td>157.091</td>\n",
       "    </tr>\n",
       "    <tr>\n",
       "      <th>1</th>\n",
       "      <td>CASE25_02.png</td>\n",
       "      <td>179.448</td>\n",
       "    </tr>\n",
       "    <tr>\n",
       "      <th>2</th>\n",
       "      <td>CASE25_03.png</td>\n",
       "      <td>201.426</td>\n",
       "    </tr>\n",
       "    <tr>\n",
       "      <th>3</th>\n",
       "      <td>CASE25_04.png</td>\n",
       "      <td>215.627</td>\n",
       "    </tr>\n",
       "    <tr>\n",
       "      <th>4</th>\n",
       "      <td>CASE25_05.png</td>\n",
       "      <td>223.540</td>\n",
       "    </tr>\n",
       "  </tbody>\n",
       "</table>\n",
       "</div>"
      ],
      "text/plain": [
       "        img_name  leaf_weight\n",
       "0  CASE25_01.png      157.091\n",
       "1  CASE25_02.png      179.448\n",
       "2  CASE25_03.png      201.426\n",
       "3  CASE25_04.png      215.627\n",
       "4  CASE25_05.png      223.540"
      ]
     },
     "execution_count": 16,
     "metadata": {},
     "output_type": "execute_result"
    }
   ],
   "source": [
    "labels_of_all_cases.head()"
   ]
  },
  {
   "cell_type": "code",
   "execution_count": null,
   "id": "cd85328d",
   "metadata": {},
   "outputs": [],
   "source": []
  }
 ],
 "metadata": {
  "kernelspec": {
   "display_name": "Python [conda env:competition] *",
   "language": "python",
   "name": "conda-env-competition-py"
  },
  "language_info": {
   "codemirror_mode": {
    "name": "ipython",
    "version": 3
   },
   "file_extension": ".py",
   "mimetype": "text/x-python",
   "name": "python",
   "nbconvert_exporter": "python",
   "pygments_lexer": "ipython3",
   "version": "3.7.9"
  }
 },
 "nbformat": 4,
 "nbformat_minor": 5
}

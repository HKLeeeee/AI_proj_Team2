{
 "cells": [
  {
   "cell_type": "code",
   "execution_count": 1,
   "id": "73d3f48b",
   "metadata": {
    "scrolled": true
   },
   "outputs": [
    {
     "name": "stderr",
     "output_type": "stream",
     "text": [
      "2022-05-10 14:06:16.187657: I tensorflow/stream_executor/platform/default/dso_loader.cc:49] Successfully opened dynamic library libcudart.so.10.1\n"
     ]
    }
   ],
   "source": [
    "import numpy as np\n",
    "import pandas as pd\n",
    "import tensorflow as tf\n",
    "import matplotlib.pyplot as plt\n",
    "from sklearn.preprocessing import MinMaxScaler\n",
    "from sklearn.model_selection import train_test_split\n",
    "import os\n",
    "import cv2"
   ]
  },
  {
   "cell_type": "code",
   "execution_count": 2,
   "id": "f1a3c809",
   "metadata": {},
   "outputs": [],
   "source": [
    "masks_dir = './data/segmentation/testannot'\n",
    "label_data = './data/labels.csv'\n",
    "\n",
    "masks = os.listdir(masks_dir)\n",
    "label_df = pd.read_csv(label_data)\n",
    "label_df.set_index('img_name', inplace=True)"
   ]
  },
  {
   "cell_type": "code",
   "execution_count": 3,
   "id": "0cea8adf",
   "metadata": {},
   "outputs": [
    {
     "data": {
      "text/html": [
       "<div>\n",
       "<style scoped>\n",
       "    .dataframe tbody tr th:only-of-type {\n",
       "        vertical-align: middle;\n",
       "    }\n",
       "\n",
       "    .dataframe tbody tr th {\n",
       "        vertical-align: top;\n",
       "    }\n",
       "\n",
       "    .dataframe thead th {\n",
       "        text-align: right;\n",
       "    }\n",
       "</style>\n",
       "<table border=\"1\" class=\"dataframe\">\n",
       "  <thead>\n",
       "    <tr style=\"text-align: right;\">\n",
       "      <th></th>\n",
       "      <th>leaf_weight</th>\n",
       "    </tr>\n",
       "    <tr>\n",
       "      <th>img_name</th>\n",
       "      <th></th>\n",
       "    </tr>\n",
       "  </thead>\n",
       "  <tbody>\n",
       "    <tr>\n",
       "      <th>CASE25_01.png</th>\n",
       "      <td>157.091</td>\n",
       "    </tr>\n",
       "    <tr>\n",
       "      <th>CASE25_02.png</th>\n",
       "      <td>179.448</td>\n",
       "    </tr>\n",
       "    <tr>\n",
       "      <th>CASE25_03.png</th>\n",
       "      <td>201.426</td>\n",
       "    </tr>\n",
       "    <tr>\n",
       "      <th>CASE25_04.png</th>\n",
       "      <td>215.627</td>\n",
       "    </tr>\n",
       "    <tr>\n",
       "      <th>CASE25_05.png</th>\n",
       "      <td>223.540</td>\n",
       "    </tr>\n",
       "  </tbody>\n",
       "</table>\n",
       "</div>"
      ],
      "text/plain": [
       "               leaf_weight\n",
       "img_name                  \n",
       "CASE25_01.png      157.091\n",
       "CASE25_02.png      179.448\n",
       "CASE25_03.png      201.426\n",
       "CASE25_04.png      215.627\n",
       "CASE25_05.png      223.540"
      ]
     },
     "execution_count": 3,
     "metadata": {},
     "output_type": "execute_result"
    }
   ],
   "source": [
    "label_df.head()"
   ]
  },
  {
   "cell_type": "code",
   "execution_count": 4,
   "id": "d5d6193d",
   "metadata": {},
   "outputs": [],
   "source": [
    "label_df = label_df.sort_values(by='img_name', axis=0)\n",
    "masks.sort()"
   ]
  },
  {
   "cell_type": "code",
   "execution_count": 5,
   "id": "94a38709",
   "metadata": {
    "scrolled": true
   },
   "outputs": [
    {
     "data": {
      "text/html": [
       "<div>\n",
       "<style scoped>\n",
       "    .dataframe tbody tr th:only-of-type {\n",
       "        vertical-align: middle;\n",
       "    }\n",
       "\n",
       "    .dataframe tbody tr th {\n",
       "        vertical-align: top;\n",
       "    }\n",
       "\n",
       "    .dataframe thead th {\n",
       "        text-align: right;\n",
       "    }\n",
       "</style>\n",
       "<table border=\"1\" class=\"dataframe\">\n",
       "  <thead>\n",
       "    <tr style=\"text-align: right;\">\n",
       "      <th></th>\n",
       "      <th>leaf_weight</th>\n",
       "    </tr>\n",
       "    <tr>\n",
       "      <th>img_name</th>\n",
       "      <th></th>\n",
       "    </tr>\n",
       "  </thead>\n",
       "  <tbody>\n",
       "    <tr>\n",
       "      <th>CASE01_01.png</th>\n",
       "      <td>49.193</td>\n",
       "    </tr>\n",
       "    <tr>\n",
       "      <th>CASE01_02.png</th>\n",
       "      <td>59.764</td>\n",
       "    </tr>\n",
       "    <tr>\n",
       "      <th>CASE01_03.png</th>\n",
       "      <td>72.209</td>\n",
       "    </tr>\n",
       "    <tr>\n",
       "      <th>CASE01_04.png</th>\n",
       "      <td>85.737</td>\n",
       "    </tr>\n",
       "    <tr>\n",
       "      <th>CASE01_05.png</th>\n",
       "      <td>102.537</td>\n",
       "    </tr>\n",
       "  </tbody>\n",
       "</table>\n",
       "</div>"
      ],
      "text/plain": [
       "               leaf_weight\n",
       "img_name                  \n",
       "CASE01_01.png       49.193\n",
       "CASE01_02.png       59.764\n",
       "CASE01_03.png       72.209\n",
       "CASE01_04.png       85.737\n",
       "CASE01_05.png      102.537"
      ]
     },
     "execution_count": 5,
     "metadata": {},
     "output_type": "execute_result"
    }
   ],
   "source": [
    "label_df.head()"
   ]
  },
  {
   "cell_type": "code",
   "execution_count": 46,
   "id": "08f08790",
   "metadata": {},
   "outputs": [],
   "source": [
    "pixels = []\n",
    "\n",
    "for mask in masks :\n",
    "    path = os.path.join(masks_dir, mask)\n",
    "    img = cv2.imread(path)\n",
    "    \n",
    "    # non zero pixel 수 계산\n",
    "    pix = np.count_nonzero(img)\n",
    "    pixels.append(pix)\n",
    "    \n",
    "label_df['pixels'] = pixels"
   ]
  },
  {
   "cell_type": "code",
   "execution_count": 47,
   "id": "adae52cd",
   "metadata": {
    "scrolled": true
   },
   "outputs": [
    {
     "data": {
      "text/html": [
       "<div>\n",
       "<style scoped>\n",
       "    .dataframe tbody tr th:only-of-type {\n",
       "        vertical-align: middle;\n",
       "    }\n",
       "\n",
       "    .dataframe tbody tr th {\n",
       "        vertical-align: top;\n",
       "    }\n",
       "\n",
       "    .dataframe thead th {\n",
       "        text-align: right;\n",
       "    }\n",
       "</style>\n",
       "<table border=\"1\" class=\"dataframe\">\n",
       "  <thead>\n",
       "    <tr style=\"text-align: right;\">\n",
       "      <th></th>\n",
       "      <th>leaf_weight</th>\n",
       "      <th>pixels</th>\n",
       "    </tr>\n",
       "    <tr>\n",
       "      <th>img_name</th>\n",
       "      <th></th>\n",
       "      <th></th>\n",
       "    </tr>\n",
       "  </thead>\n",
       "  <tbody>\n",
       "    <tr>\n",
       "      <th>CASE01_01.png</th>\n",
       "      <td>49.193</td>\n",
       "      <td>19827</td>\n",
       "    </tr>\n",
       "    <tr>\n",
       "      <th>CASE01_02.png</th>\n",
       "      <td>59.764</td>\n",
       "      <td>23790</td>\n",
       "    </tr>\n",
       "    <tr>\n",
       "      <th>CASE01_03.png</th>\n",
       "      <td>72.209</td>\n",
       "      <td>28659</td>\n",
       "    </tr>\n",
       "    <tr>\n",
       "      <th>CASE01_04.png</th>\n",
       "      <td>85.737</td>\n",
       "      <td>33729</td>\n",
       "    </tr>\n",
       "    <tr>\n",
       "      <th>CASE01_05.png</th>\n",
       "      <td>102.537</td>\n",
       "      <td>38553</td>\n",
       "    </tr>\n",
       "  </tbody>\n",
       "</table>\n",
       "</div>"
      ],
      "text/plain": [
       "               leaf_weight  pixels\n",
       "img_name                          \n",
       "CASE01_01.png       49.193   19827\n",
       "CASE01_02.png       59.764   23790\n",
       "CASE01_03.png       72.209   28659\n",
       "CASE01_04.png       85.737   33729\n",
       "CASE01_05.png      102.537   38553"
      ]
     },
     "execution_count": 47,
     "metadata": {},
     "output_type": "execute_result"
    }
   ],
   "source": [
    "label_df.head()"
   ]
  },
  {
   "cell_type": "code",
   "execution_count": 48,
   "id": "12e12acd",
   "metadata": {},
   "outputs": [],
   "source": [
    "label_df.to_csv('./pixels_num.csv')"
   ]
  },
  {
   "cell_type": "code",
   "execution_count": 27,
   "id": "d10c3306",
   "metadata": {
    "scrolled": true
   },
   "outputs": [],
   "source": [
    "x_data = label_df['pixels'].values\n",
    "x_data = x_data.reshape(-1,1)\n",
    "y_data = label_df['leaf_weight'].values\n",
    "y_data = y_data.reshape(-1,1)"
   ]
  },
  {
   "cell_type": "code",
   "execution_count": 28,
   "id": "13f5dab1",
   "metadata": {},
   "outputs": [],
   "source": [
    "from sklearn.preprocessing import MinMaxScaler\n",
    "\n",
    "scaler_x = MinMaxScaler()\n",
    "scaler_y = MinMaxScaler()\n",
    "\n",
    "scaler_x.fit(x_data)\n",
    "scaler_y.fit(y_data)\n",
    "\n",
    "scaled_x = scaler_x.transform(x_data)\n",
    "scaled_y = scaler_y.transform(y_data)"
   ]
  },
  {
   "cell_type": "code",
   "execution_count": 29,
   "id": "5928ae04",
   "metadata": {},
   "outputs": [
    {
     "data": {
      "text/plain": [
       "(1592, 1)"
      ]
     },
     "execution_count": 29,
     "metadata": {},
     "output_type": "execute_result"
    }
   ],
   "source": [
    "scaled_x.shape"
   ]
  },
  {
   "cell_type": "code",
   "execution_count": 30,
   "id": "ce6cb6ae",
   "metadata": {
    "scrolled": true
   },
   "outputs": [
    {
     "data": {
      "text/plain": [
       "(1592, 1)"
      ]
     },
     "execution_count": 30,
     "metadata": {},
     "output_type": "execute_result"
    }
   ],
   "source": [
    "scaled_y.shape"
   ]
  },
  {
   "cell_type": "code",
   "execution_count": 50,
   "id": "ece18ef0",
   "metadata": {},
   "outputs": [
    {
     "name": "stdout",
     "output_type": "stream",
     "text": [
      "Model: \"sequential_2\"\n",
      "_________________________________________________________________\n",
      "Layer (type)                 Output Shape              Param #   \n",
      "=================================================================\n",
      "dense_6 (Dense)              (None, 1)                 2         \n",
      "=================================================================\n",
      "Total params: 2\n",
      "Trainable params: 2\n",
      "Non-trainable params: 0\n",
      "_________________________________________________________________\n"
     ]
    }
   ],
   "source": [
    "from tensorflow.keras.models import Sequential\n",
    "from tensorflow.keras.layers import Dense \n",
    "from tensorflow.keras.optimizers import Adam,SGD\n",
    "# model = Sequential([\n",
    "#     Dense(64, activation='relu', input_shape=(1,)),\n",
    "#     Dense(64, activation='relu'),\n",
    "#     Dense(1)\n",
    "# ])\n",
    "model = Sequential()\n",
    "model.add(Dense(input_dim=1, units=1, activation='linear', use_bias=True))\n",
    "\n",
    "model.summary()"
   ]
  },
  {
   "cell_type": "code",
   "execution_count": 66,
   "id": "ba314bda",
   "metadata": {
    "scrolled": true
   },
   "outputs": [],
   "source": [
    "LEARNING_RATE = 1e-4\n",
    "model.compile(loss='mse',\n",
    "             optimizer=SGD(learning_rate=LEARNING_RATE),\n",
    "             metrics=['mse'])\n",
    "\n",
    "history = model.fit(scaled_x,\n",
    "                    scaled_y,\n",
    "                   epochs=5000,\n",
    "                   verbose=0,\n",
    "                   validation_split=0.2)"
   ]
  },
  {
   "cell_type": "code",
   "execution_count": 67,
   "id": "408eb357",
   "metadata": {
    "scrolled": true
   },
   "outputs": [
    {
     "ename": "ValueError",
     "evalue": "x and y must have same first dimension, but have shapes (30000,) and (5000,)",
     "output_type": "error",
     "traceback": [
      "\u001b[0;31m---------------------------------------------------------------------------\u001b[0m",
      "\u001b[0;31mValueError\u001b[0m                                Traceback (most recent call last)",
      "Input \u001b[0;32mIn [67]\u001b[0m, in \u001b[0;36m<cell line: 12>\u001b[0;34m()\u001b[0m\n\u001b[1;32m     10\u001b[0m fig \u001b[38;5;241m=\u001b[39m plt\u001b[38;5;241m.\u001b[39mfigure(figsize\u001b[38;5;241m=\u001b[39m(\u001b[38;5;241m15\u001b[39m,\u001b[38;5;241m8\u001b[39m))\n\u001b[1;32m     11\u001b[0m ax1\u001b[38;5;241m=\u001b[39m fig\u001b[38;5;241m.\u001b[39madd_subplot(\u001b[38;5;241m1\u001b[39m,\u001b[38;5;241m2\u001b[39m,\u001b[38;5;241m1\u001b[39m)\n\u001b[0;32m---> 12\u001b[0m \u001b[43max1\u001b[49m\u001b[38;5;241;43m.\u001b[39;49m\u001b[43mplot\u001b[49m\u001b[43m(\u001b[49m\u001b[43mepochs\u001b[49m\u001b[43m,\u001b[49m\u001b[43m \u001b[49m\u001b[43mloss\u001b[49m\u001b[43m,\u001b[49m\u001b[43m \u001b[49m\u001b[43mlabel\u001b[49m\u001b[38;5;241;43m=\u001b[39;49m\u001b[38;5;124;43m'\u001b[39;49m\u001b[38;5;124;43mTraining loss\u001b[39;49m\u001b[38;5;124;43m'\u001b[39;49m\u001b[43m)\u001b[49m\n\u001b[1;32m     13\u001b[0m ax1\u001b[38;5;241m.\u001b[39mplot(epochs, val_loss, label\u001b[38;5;241m=\u001b[39m\u001b[38;5;124m'\u001b[39m\u001b[38;5;124mValidation loss\u001b[39m\u001b[38;5;124m'\u001b[39m)\n\u001b[1;32m     14\u001b[0m ax1\u001b[38;5;241m.\u001b[39mset_title(\u001b[38;5;124m'\u001b[39m\u001b[38;5;124mTraining and Validation loss\u001b[39m\u001b[38;5;124m'\u001b[39m)\n",
      "File \u001b[0;32m/home/ubuntu/anaconda3/envs/machine/lib/python3.8/site-packages/matplotlib/axes/_axes.py:1632\u001b[0m, in \u001b[0;36mAxes.plot\u001b[0;34m(self, scalex, scaley, data, *args, **kwargs)\u001b[0m\n\u001b[1;32m   1390\u001b[0m \u001b[38;5;124;03m\"\"\"\u001b[39;00m\n\u001b[1;32m   1391\u001b[0m \u001b[38;5;124;03mPlot y versus x as lines and/or markers.\u001b[39;00m\n\u001b[1;32m   1392\u001b[0m \n\u001b[0;32m   (...)\u001b[0m\n\u001b[1;32m   1629\u001b[0m \u001b[38;5;124;03m(``'green'``) or hex strings (``'#008000'``).\u001b[39;00m\n\u001b[1;32m   1630\u001b[0m \u001b[38;5;124;03m\"\"\"\u001b[39;00m\n\u001b[1;32m   1631\u001b[0m kwargs \u001b[38;5;241m=\u001b[39m cbook\u001b[38;5;241m.\u001b[39mnormalize_kwargs(kwargs, mlines\u001b[38;5;241m.\u001b[39mLine2D)\n\u001b[0;32m-> 1632\u001b[0m lines \u001b[38;5;241m=\u001b[39m [\u001b[38;5;241m*\u001b[39m\u001b[38;5;28mself\u001b[39m\u001b[38;5;241m.\u001b[39m_get_lines(\u001b[38;5;241m*\u001b[39margs, data\u001b[38;5;241m=\u001b[39mdata, \u001b[38;5;241m*\u001b[39m\u001b[38;5;241m*\u001b[39mkwargs)]\n\u001b[1;32m   1633\u001b[0m \u001b[38;5;28;01mfor\u001b[39;00m line \u001b[38;5;129;01min\u001b[39;00m lines:\n\u001b[1;32m   1634\u001b[0m     \u001b[38;5;28mself\u001b[39m\u001b[38;5;241m.\u001b[39madd_line(line)\n",
      "File \u001b[0;32m/home/ubuntu/anaconda3/envs/machine/lib/python3.8/site-packages/matplotlib/axes/_base.py:312\u001b[0m, in \u001b[0;36m_process_plot_var_args.__call__\u001b[0;34m(self, data, *args, **kwargs)\u001b[0m\n\u001b[1;32m    310\u001b[0m     this \u001b[38;5;241m+\u001b[39m\u001b[38;5;241m=\u001b[39m args[\u001b[38;5;241m0\u001b[39m],\n\u001b[1;32m    311\u001b[0m     args \u001b[38;5;241m=\u001b[39m args[\u001b[38;5;241m1\u001b[39m:]\n\u001b[0;32m--> 312\u001b[0m \u001b[38;5;28;01myield from\u001b[39;00m \u001b[38;5;28;43mself\u001b[39;49m\u001b[38;5;241;43m.\u001b[39;49m\u001b[43m_plot_args\u001b[49m\u001b[43m(\u001b[49m\u001b[43mthis\u001b[49m\u001b[43m,\u001b[49m\u001b[43m \u001b[49m\u001b[43mkwargs\u001b[49m\u001b[43m)\u001b[49m\n",
      "File \u001b[0;32m/home/ubuntu/anaconda3/envs/machine/lib/python3.8/site-packages/matplotlib/axes/_base.py:498\u001b[0m, in \u001b[0;36m_process_plot_var_args._plot_args\u001b[0;34m(self, tup, kwargs, return_kwargs)\u001b[0m\n\u001b[1;32m    495\u001b[0m     \u001b[38;5;28mself\u001b[39m\u001b[38;5;241m.\u001b[39maxes\u001b[38;5;241m.\u001b[39myaxis\u001b[38;5;241m.\u001b[39mupdate_units(y)\n\u001b[1;32m    497\u001b[0m \u001b[38;5;28;01mif\u001b[39;00m x\u001b[38;5;241m.\u001b[39mshape[\u001b[38;5;241m0\u001b[39m] \u001b[38;5;241m!=\u001b[39m y\u001b[38;5;241m.\u001b[39mshape[\u001b[38;5;241m0\u001b[39m]:\n\u001b[0;32m--> 498\u001b[0m     \u001b[38;5;28;01mraise\u001b[39;00m \u001b[38;5;167;01mValueError\u001b[39;00m(\u001b[38;5;124mf\u001b[39m\u001b[38;5;124m\"\u001b[39m\u001b[38;5;124mx and y must have same first dimension, but \u001b[39m\u001b[38;5;124m\"\u001b[39m\n\u001b[1;32m    499\u001b[0m                      \u001b[38;5;124mf\u001b[39m\u001b[38;5;124m\"\u001b[39m\u001b[38;5;124mhave shapes \u001b[39m\u001b[38;5;132;01m{\u001b[39;00mx\u001b[38;5;241m.\u001b[39mshape\u001b[38;5;132;01m}\u001b[39;00m\u001b[38;5;124m and \u001b[39m\u001b[38;5;132;01m{\u001b[39;00my\u001b[38;5;241m.\u001b[39mshape\u001b[38;5;132;01m}\u001b[39;00m\u001b[38;5;124m\"\u001b[39m)\n\u001b[1;32m    500\u001b[0m \u001b[38;5;28;01mif\u001b[39;00m x\u001b[38;5;241m.\u001b[39mndim \u001b[38;5;241m>\u001b[39m \u001b[38;5;241m2\u001b[39m \u001b[38;5;129;01mor\u001b[39;00m y\u001b[38;5;241m.\u001b[39mndim \u001b[38;5;241m>\u001b[39m \u001b[38;5;241m2\u001b[39m:\n\u001b[1;32m    501\u001b[0m     \u001b[38;5;28;01mraise\u001b[39;00m \u001b[38;5;167;01mValueError\u001b[39;00m(\u001b[38;5;124mf\u001b[39m\u001b[38;5;124m\"\u001b[39m\u001b[38;5;124mx and y can be no greater than 2D, but have \u001b[39m\u001b[38;5;124m\"\u001b[39m\n\u001b[1;32m    502\u001b[0m                      \u001b[38;5;124mf\u001b[39m\u001b[38;5;124m\"\u001b[39m\u001b[38;5;124mshapes \u001b[39m\u001b[38;5;132;01m{\u001b[39;00mx\u001b[38;5;241m.\u001b[39mshape\u001b[38;5;132;01m}\u001b[39;00m\u001b[38;5;124m and \u001b[39m\u001b[38;5;132;01m{\u001b[39;00my\u001b[38;5;241m.\u001b[39mshape\u001b[38;5;132;01m}\u001b[39;00m\u001b[38;5;124m\"\u001b[39m)\n",
      "\u001b[0;31mValueError\u001b[0m: x and y must have same first dimension, but have shapes (30000,) and (5000,)"
     ]
    },
    {
     "data": {
      "image/png": "[encoded data removed]",
      "text/plain": [
       "<Figure size 1080x576 with 1 Axes>"
      ]
     },
     "metadata": {
      "needs_background": "light"
     },
     "output_type": "display_data"
    }
   ],
   "source": [
    "EPOCHS = 30000\n",
    "\n",
    "loss = history.history['loss']\n",
    "val_loss = history.history['val_loss']\n",
    "acc = history.history['mse']\n",
    "val_acc = history.history['val_mse']\n",
    "\n",
    "epochs = range(EPOCHS)\n",
    "\n",
    "fig = plt.figure(figsize=(15,8))\n",
    "ax1= fig.add_subplot(1,2,1)\n",
    "ax1.plot(epochs, loss, label='Training loss')\n",
    "ax1.plot(epochs, val_loss, label='Validation loss')\n",
    "ax1.set_title('Training and Validation loss')\n",
    "ax1.set_xlabel('Epoch')\n",
    "ax1.set_ylabel('Loss Value')\n",
    "ax1.legend()\n",
    "\n",
    "\n",
    "ax2= fig.add_subplot(1,2,2)\n",
    "ax2.plot(epochs, acc, label='Training MSE')\n",
    "ax2.plot(epochs, val_acc, label='Validation MSE')\n",
    "ax2.set_title('Training and Validation MSE')\n",
    "ax2.set_xlabel('Epoch')\n",
    "ax2.legend()\n",
    "\n",
    "\n",
    "plt.show()"
   ]
  },
  {
   "cell_type": "markdown",
   "id": "5876643f",
   "metadata": {},
   "source": [
    "---"
   ]
  },
  {
   "cell_type": "code",
   "execution_count": 14,
   "id": "4298e2e9",
   "metadata": {
    "scrolled": false
   },
   "outputs": [
    {
     "data": {
      "text/plain": [
       "LinearRegression()"
      ]
     },
     "execution_count": 14,
     "metadata": {},
     "output_type": "execute_result"
    }
   ],
   "source": [
    "from sklearn.linear_model import LinearRegression\n",
    "\n",
    "lr = LinearRegression()\n",
    "\n",
    "lr.fit(x_data,y_data)"
   ]
  },
  {
   "cell_type": "code",
   "execution_count": 16,
   "id": "7f2beca6",
   "metadata": {},
   "outputs": [],
   "source": [
    "pred = lr.predict(x_data)"
   ]
  },
  {
   "cell_type": "code",
   "execution_count": 18,
   "id": "6711cfba",
   "metadata": {},
   "outputs": [
    {
     "data": {
      "image/png": "[encoded data removed]",
      "text/plain": [
       "<Figure size 432x288 with 1 Axes>"
      ]
     },
     "metadata": {
      "needs_background": "light"
     },
     "output_type": "display_data"
    }
   ],
   "source": [
    "plt.scatter(x_data.squeeze(), y_data)\n",
    "plt.plot(x_data.squeeze(), pred, 'r')\n",
    "plt.show()"
   ]
  },
  {
   "cell_type": "markdown",
   "id": "e7670e8e",
   "metadata": {},
   "source": [
    "# TEST IMAGES\n"
   ]
  },
  {
   "cell_type": "code",
   "execution_count": null,
   "id": "b6dc46dc",
   "metadata": {},
   "outputs": [],
   "source": [
    "import cv2\n",
    "import matplotlib.pyplot as plt\n",
    "import os\n",
    "from PIL import Image\n",
    "import numpy as np\n",
    "import pandas as pd\n",
    "from glob import glob\n",
    "from tqdm.auto import tqdm\n",
    "\n",
    "import tensorflow as tf\n",
    "import tensorflow.keras as keras\n",
    "from tensorflow.data import Dataset\n",
    "from tensorflow.keras.optimizers import Adam\n",
    "from tensorflow.keras.layers import Conv2D, BatchNormalization, Activation, MaxPool2D, Conv2DTranspose, Concatenate, Input\n",
    "from tensorflow.keras.models import Model\n",
    "\n",
    "import albumentations as A\n",
    "AUTOTUNE = tf.data.experimental.AUTOTUNE"
   ]
  },
  {
   "cell_type": "code",
   "execution_count": null,
   "id": "a45b4b8d",
   "metadata": {},
   "outputs": [],
   "source": [
    "def get_data(data_dir):\n",
    "    # get image path\n",
    "    img_path = os.listdir(data_dir)\n",
    "    try :\n",
    "        img_path.remove('.ipynb_checkpoints')\n",
    "    except:\n",
    "        pass\n",
    "    img_path_list = [os.path.join(data_dir, x) for x in img_path]\n",
    "    img_path_list = sorted(img_path_list)\n",
    "    return img_path_list  # img 들의 경로를 리스트로 리턴\n",
    "\n",
    "def load_test_img_numpy(img_dir, target_size) :\n",
    "    img = cv2.imread(img_dir)\n",
    "    img = cv2.resize(img, dsize=target_size)\n",
    "    img = img.astype(np.float32) / 255.0\n",
    "    return img\n",
    "\n",
    "def create_test_dataset(img_dir, target_size, batch_size=None) :\n",
    "    x_img_dir = get_data(img_dir)\n",
    "    file_name = [x.split('/')[-1][:-4] for x in x_img_dir]\n",
    "    \n",
    "    x_img = []\n",
    "\n",
    "    for i in tqdm(x_img_dir,\n",
    "                     total=len(x_img_dir),\n",
    "                     position=0,\n",
    "                     leave=True):\n",
    "        img = load_test_img_numpy(i, target_size)\n",
    "        x_img.append(img)\n",
    "\n",
    "    dataset = Dataset.from_tensor_slices(x_img)\n",
    "    \n",
    "    if batch_size is not None :\n",
    "        dataset = dataset.batch(batch_size, drop_remainder=True).repeat()\n",
    "       \n",
    "    return dataset, file_name\n",
    "\n",
    "def step(num) :\n",
    "    if num < 0.5 :\n",
    "        return 0\n",
    "    else :\n",
    "        return 1\n",
    "step_func = np.vectorize(step)\n",
    "\n",
    "def transform_and_save(predicted_images, save_dir, file_names) :\n",
    "    transformed = []\n",
    "    \n",
    "    for img, name in tqdm(zip(predicted_images, file_names),\n",
    "                   total=len(predicted_images)):\n",
    "        image = step_func(img)\n",
    "        transformed.append(image)\n",
    "        cv2.imwrite(os.path.join(save_dir, name+'.png'), image)\n",
    "    print('save done!')"
   ]
  },
  {
   "cell_type": "code",
   "execution_count": null,
   "id": "acdc337f",
   "metadata": {},
   "outputs": [],
   "source": [
    "x_test_dir = './data/test/image'\n",
    "PRED_BATCHSIZE = 10\n",
    "\n",
    "test_dataset, file_names = \\\n",
    "create_test_dataset(x_test_dir, (IMAGE_SIZE, IMAGE_SIZE), PRED_BATCHSIZE)"
   ]
  },
  {
   "cell_type": "code",
   "execution_count": null,
   "id": "2e992351",
   "metadata": {},
   "outputs": [],
   "source": [
    "from tensorflow.keras.models import load_model\n",
    "model = load_model('./Model_Save/segmentation_epoch3.h5')"
   ]
  },
  {
   "cell_type": "code",
   "execution_count": null,
   "id": "41bbfc77",
   "metadata": {},
   "outputs": [],
   "source": [
    "STEPS = len(get_data(x_test_dir)) / PRED_BATCHSIZE # 460 // 10\n",
    "\n",
    "prediction = model.predict(test_dataset,\n",
    "                          batch_size = PRED_BATCHSIZE,\n",
    "                          steps=STEPS)"
   ]
  },
  {
   "cell_type": "code",
   "execution_count": null,
   "id": "630dc49d",
   "metadata": {},
   "outputs": [],
   "source": [
    "y_test_dir = './data/test/test image annot'\n",
    "transform_and_save(prediction, y_test_dir, file_names)"
   ]
  }
 ],
 "metadata": {
  "kernelspec": {
   "display_name": "Python [conda env:machine] *",
   "language": "python",
   "name": "conda-env-machine-py"
  },
  "language_info": {
   "codemirror_mode": {
    "name": "ipython",
    "version": 3
   },
   "file_extension": ".py",
   "mimetype": "text/x-python",
   "name": "python",
   "nbconvert_exporter": "python",
   "pygments_lexer": "ipython3",
   "version": "3.8.13"
  }
 },
 "nbformat": 4,
 "nbformat_minor": 5
}

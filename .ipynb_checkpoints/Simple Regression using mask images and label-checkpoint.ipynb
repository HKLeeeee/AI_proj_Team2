{
 "cells": [
  {
   "cell_type": "code",
   "execution_count": 2,
   "id": "73d3f48b",
   "metadata": {},
   "outputs": [],
   "source": [
    "import numpy as np\n",
    "import pandas as pd\n",
    "import tensorflow as tf\n",
    "import matplotlib.pyplot as plt\n",
    "from sklearn.preprocessing import MinMaxScaler\n",
    "from sklearn.model_selection import train_test_split\n",
    "import os"
   ]
  },
  {
   "cell_type": "code",
   "execution_count": 5,
   "id": "f1a3c809",
   "metadata": {},
   "outputs": [],
   "source": [
    "masks_dir = './data/masks'\n",
    "label_data = './data/labels.csv'\n",
    "masks = os.listdir(masks_dir)\n",
    "label_df = pd.read_csv(label_data)"
   ]
  },
  {
   "cell_type": "code",
   "execution_count": 8,
   "id": "aa4113c3",
   "metadata": {},
   "outputs": [],
   "source": [
    "label_df['img_name'] = label_df['img_name'].str.split('.').str[0]\n",
    "masks = list(map(lambda x : x.split('.')[0], masks))\n",
    "for i,m in enumerate(masks) :\n",
    "    if len(m) < 1 :\n",
    "        del masks[i]"
   ]
  },
  {
   "cell_type": "code",
   "execution_count": 27,
   "id": "d5d6193d",
   "metadata": {},
   "outputs": [],
   "source": [
    "label_df = label_df[np.isin(label_df['img_name'], masks)]\n",
    "label_df = df.sort_values(by=['img_name'], axis=0)\n",
    "masks.sort()"
   ]
  },
  {
   "cell_type": "code",
   "execution_count": 29,
   "id": "fceb31c7",
   "metadata": {},
   "outputs": [
    {
     "data": {
      "text/plain": [
       "'./data/masks/CASE01_01'"
      ]
     },
     "execution_count": 29,
     "metadata": {},
     "output_type": "execute_result"
    }
   ],
   "source": []
  },
  {
   "cell_type": "code",
   "execution_count": 37,
   "id": "9648155d",
   "metadata": {},
   "outputs": [
    {
     "data": {
      "text/plain": [
       "<matplotlib.image.AxesImage at 0x7fd791776310>"
      ]
     },
     "execution_count": 37,
     "metadata": {},
     "output_type": "execute_result"
    },
    {
     "data": {
      "image/png": "[encoded data removed]",
      "text/plain": [
       "<Figure size 432x288 with 1 Axes>"
      ]
     },
     "metadata": {
      "needs_background": "light"
     },
     "output_type": "display_data"
    }
   ],
   "source": [
    "img = plt.imread(os.path.join(masks_dir, masks[0]+'.png'))\n",
    "plt.imshow(img[:,:,:1])"
   ]
  },
  {
   "cell_type": "code",
   "execution_count": 39,
   "id": "caadb211",
   "metadata": {},
   "outputs": [
    {
     "data": {
      "text/plain": [
       "array([[[0.26666668],\n",
       "        [0.26666668],\n",
       "        [0.26666668],\n",
       "        ...,\n",
       "        [0.26666668],\n",
       "        [0.26666668],\n",
       "        [0.26666668]],\n",
       "\n",
       "       [[0.26666668],\n",
       "        [0.26666668],\n",
       "        [0.26666668],\n",
       "        ...,\n",
       "        [0.26666668],\n",
       "        [0.26666668],\n",
       "        [0.26666668]],\n",
       "\n",
       "       [[0.26666668],\n",
       "        [0.26666668],\n",
       "        [0.26666668],\n",
       "        ...,\n",
       "        [0.26666668],\n",
       "        [0.26666668],\n",
       "        [0.26666668]],\n",
       "\n",
       "       ...,\n",
       "\n",
       "       [[0.26666668],\n",
       "        [0.26666668],\n",
       "        [0.26666668],\n",
       "        ...,\n",
       "        [0.26666668],\n",
       "        [0.26666668],\n",
       "        [0.26666668]],\n",
       "\n",
       "       [[0.26666668],\n",
       "        [0.26666668],\n",
       "        [0.26666668],\n",
       "        ...,\n",
       "        [0.26666668],\n",
       "        [0.26666668],\n",
       "        [0.26666668]],\n",
       "\n",
       "       [[0.26666668],\n",
       "        [0.26666668],\n",
       "        [0.26666668],\n",
       "        ...,\n",
       "        [0.26666668],\n",
       "        [0.26666668],\n",
       "        [0.26666668]]], dtype=float32)"
      ]
     },
     "execution_count": 39,
     "metadata": {},
     "output_type": "execute_result"
    }
   ],
   "source": [
    "img[:,:,:1]"
   ]
  },
  {
   "cell_type": "code",
   "execution_count": 36,
   "id": "44491e70",
   "metadata": {},
   "outputs": [
    {
     "data": {
      "text/plain": [
       "(2464, 3280, 4)"
      ]
     },
     "execution_count": 36,
     "metadata": {},
     "output_type": "execute_result"
    }
   ],
   "source": [
    "img = plt.imread(os.path.join(masks_dir, masks[100]+'.png'))\n",
    "img.shape"
   ]
  },
  {
   "cell_type": "code",
   "execution_count": 41,
   "id": "e5dc80d9",
   "metadata": {},
   "outputs": [
    {
     "data": {
      "text/plain": [
       "array([[[0.26666668, 0.00392157, 0.32941177, 1.        ],\n",
       "        [0.26666668, 0.00392157, 0.32941177, 1.        ],\n",
       "        [0.26666668, 0.00392157, 0.32941177, 1.        ],\n",
       "        ...,\n",
       "        [0.26666668, 0.00392157, 0.32941177, 1.        ],\n",
       "        [0.26666668, 0.00392157, 0.32941177, 1.        ],\n",
       "        [0.26666668, 0.00392157, 0.32941177, 1.        ]],\n",
       "\n",
       "       [[0.26666668, 0.00392157, 0.32941177, 1.        ],\n",
       "        [0.26666668, 0.00392157, 0.32941177, 1.        ],\n",
       "        [0.26666668, 0.00392157, 0.32941177, 1.        ],\n",
       "        ...,\n",
       "        [0.26666668, 0.00392157, 0.32941177, 1.        ],\n",
       "        [0.26666668, 0.00392157, 0.32941177, 1.        ],\n",
       "        [0.26666668, 0.00392157, 0.32941177, 1.        ]],\n",
       "\n",
       "       [[0.26666668, 0.00392157, 0.32941177, 1.        ],\n",
       "        [0.26666668, 0.00392157, 0.32941177, 1.        ],\n",
       "        [0.26666668, 0.00392157, 0.32941177, 1.        ],\n",
       "        ...,\n",
       "        [0.26666668, 0.00392157, 0.32941177, 1.        ],\n",
       "        [0.26666668, 0.00392157, 0.32941177, 1.        ],\n",
       "        [0.26666668, 0.00392157, 0.32941177, 1.        ]],\n",
       "\n",
       "       ...,\n",
       "\n",
       "       [[0.26666668, 0.00392157, 0.32941177, 1.        ],\n",
       "        [0.26666668, 0.00392157, 0.32941177, 1.        ],\n",
       "        [0.26666668, 0.00392157, 0.32941177, 1.        ],\n",
       "        ...,\n",
       "        [0.26666668, 0.00392157, 0.32941177, 1.        ],\n",
       "        [0.26666668, 0.00392157, 0.32941177, 1.        ],\n",
       "        [0.26666668, 0.00392157, 0.32941177, 1.        ]],\n",
       "\n",
       "       [[0.26666668, 0.00392157, 0.32941177, 1.        ],\n",
       "        [0.26666668, 0.00392157, 0.32941177, 1.        ],\n",
       "        [0.26666668, 0.00392157, 0.32941177, 1.        ],\n",
       "        ...,\n",
       "        [0.26666668, 0.00392157, 0.32941177, 1.        ],\n",
       "        [0.26666668, 0.00392157, 0.32941177, 1.        ],\n",
       "        [0.26666668, 0.00392157, 0.32941177, 1.        ]],\n",
       "\n",
       "       [[0.26666668, 0.00392157, 0.32941177, 1.        ],\n",
       "        [0.26666668, 0.00392157, 0.32941177, 1.        ],\n",
       "        [0.26666668, 0.00392157, 0.32941177, 1.        ],\n",
       "        ...,\n",
       "        [0.26666668, 0.00392157, 0.32941177, 1.        ],\n",
       "        [0.26666668, 0.00392157, 0.32941177, 1.        ],\n",
       "        [0.26666668, 0.00392157, 0.32941177, 1.        ]]], dtype=float32)"
      ]
     },
     "execution_count": 41,
     "metadata": {},
     "output_type": "execute_result"
    }
   ],
   "source": [
    "img"
   ]
  },
  {
   "cell_type": "code",
   "execution_count": 42,
   "id": "24ceb611",
   "metadata": {},
   "outputs": [
    {
     "data": {
      "text/plain": [
       "numpy.ndarray"
      ]
     },
     "execution_count": 42,
     "metadata": {},
     "output_type": "execute_result"
    }
   ],
   "source": [
    "type(img)"
   ]
  },
  {
   "cell_type": "code",
   "execution_count": 51,
   "id": "2cff3ad8",
   "metadata": {},
   "outputs": [
    {
     "data": {
      "text/plain": [
       "array([[ True,  True,  True, ...,  True,  True,  True],\n",
       "       [ True,  True,  True, ...,  True,  True,  True],\n",
       "       [ True,  True,  True, ...,  True,  True,  True],\n",
       "       ...,\n",
       "       [ True,  True,  True, ...,  True,  True,  True],\n",
       "       [ True,  True,  True, ...,  True,  True,  True],\n",
       "       [ True,  True,  True, ...,  True,  True,  True]])"
      ]
     },
     "execution_count": 51,
     "metadata": {},
     "output_type": "execute_result"
    }
   ],
   "source": [
    "img[..., 1] == img[:,:,1]"
   ]
  },
  {
   "cell_type": "code",
   "execution_count": 46,
   "id": "3e0d1b9b",
   "metadata": {
    "scrolled": true
   },
   "outputs": [
    {
     "data": {
      "text/plain": [
       "(2464, 3280, 4)"
      ]
     },
     "execution_count": 46,
     "metadata": {},
     "output_type": "execute_result"
    }
   ],
   "source": [
    "img.shape"
   ]
  },
  {
   "cell_type": "code",
   "execution_count": 49,
   "id": "09a7f117",
   "metadata": {},
   "outputs": [
    {
     "data": {
      "text/plain": [
       "(2464, 3280)"
      ]
     },
     "execution_count": 49,
     "metadata": {},
     "output_type": "execute_result"
    }
   ],
   "source": [
    "img[:,:,,0].shape"
   ]
  },
  {
   "cell_type": "code",
   "execution_count": null,
   "id": "adae52cd",
   "metadata": {},
   "outputs": [],
   "source": []
  }
 ],
 "metadata": {
  "kernelspec": {
   "display_name": "Python [conda env:competition] *",
   "language": "python",
   "name": "conda-env-competition-py"
  },
  "language_info": {
   "codemirror_mode": {
    "name": "ipython",
    "version": 3
   },
   "file_extension": ".py",
   "mimetype": "text/x-python",
   "name": "python",
   "nbconvert_exporter": "python",
   "pygments_lexer": "ipython3",
   "version": "3.7.9"
  }
 },
 "nbformat": 4,
 "nbformat_minor": 5
}

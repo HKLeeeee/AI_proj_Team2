{
 "cells": [
  {
   "cell_type": "code",
   "execution_count": 2,
   "id": "7ea2c86c",
   "metadata": {},
   "outputs": [],
   "source": [
    "import cv2\n",
    "import matplotlib.pyplot as plt\n",
    "import os\n",
    "from PIL import Image\n",
    "import numpy as np\n",
    "import pandas as pd\n",
    "from glob import glob\n",
    "import random\n",
    "from tqdm.auto import tqdm\n",
    "\n",
    "import tensorflow as tf\n",
    "import tensorflow.keras as keras\n",
    "\n",
    "import albumentations as A\n"
   ]
  },
  {
   "cell_type": "code",
   "execution_count": 4,
   "id": "3a13c238",
   "metadata": {},
   "outputs": [],
   "source": [
    "##### 경로 설정 ######\n",
    "\n",
    "DATA_DIR = './data/segmentation'\n",
    "\n",
    "x_train_dir = os.path.join(DATA_DIR, 'train')\n",
    "y_train_dir = os.path.join(DATA_DIR, 'trainannot')\n",
    "\n",
    "x_valid_dir = os.path.join(DATA_DIR, 'valid')\n",
    "y_valid_dir = os.path.join(DATA_DIR, 'validannot')\n",
    "\n",
    "x_test_dir = os.path.join(DATA_DIR, 'test')\n",
    "y_test_dir = os.path.join(DATA_DIR, 'testannot')\n"
   ]
  },
  {
   "cell_type": "markdown",
   "id": "3a9d88e6",
   "metadata": {},
   "source": [
    "- [Data augmentation Tensorflow Docs](https://www.tensorflow.org/tutorials/images/data_augmentation?hl=ko)\n",
    "- [EfficientNetb3 Docs](https://www.tensorflow.org/api_docs/python/tf/keras/applications/efficientnet/EfficientNetB3)\n",
    "- [blog](https://hwiyong.tistory.com/397)\n",
    "- [ImageDataGenerator](https://www.tensorflow.org/api_docs/python/tf/keras/preprocessing/image/ImageDataGenerator)\n",
    "- [Albumentations Docs for segmentation](https://albumentations.ai/docs/getting_started/mask_augmentation/)\n",
    "- [tensorlfow data pipeline bulid](https://www.tensorflow.org/guide/data?hl=ko)"
   ]
  },
  {
   "cell_type": "code",
   "execution_count": null,
   "id": "932806ad",
   "metadata": {},
   "outputs": [],
   "source": []
  }
 ],
 "metadata": {
  "kernelspec": {
   "display_name": "Python [conda env:competition] *",
   "language": "python",
   "name": "conda-env-competition-py"
  },
  "language_info": {
   "codemirror_mode": {
    "name": "ipython",
    "version": 3
   },
   "file_extension": ".py",
   "mimetype": "text/x-python",
   "name": "python",
   "nbconvert_exporter": "python",
   "pygments_lexer": "ipython3",
   "version": "3.7.9"
  }
 },
 "nbformat": 4,
 "nbformat_minor": 5
}
